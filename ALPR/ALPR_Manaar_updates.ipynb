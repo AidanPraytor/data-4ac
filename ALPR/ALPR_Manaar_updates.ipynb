{
 "cells": [
  {
   "cell_type": "markdown",
   "id": "33449c1e",
   "metadata": {
    "id": "33449c1e"
   },
   "source": [
    "# License Plate Recognition Surveillance in Oakland"
   ]
  },
  {
   "cell_type": "markdown",
   "id": "5f89fcaf",
   "metadata": {
    "id": "5f89fcaf"
   },
   "source": [
    "## 1. Introduction"
   ]
  },
  {
   "cell_type": "markdown",
   "id": "2b23e6ce",
   "metadata": {
    "id": "2b23e6ce"
   },
   "source": [
    "**In this assignment, we will be working with Automated License Plate Reader (ALPR) data from the Oakland, CA Police Department.**\n",
    "\n",
    "The data we will be using in this assignment has previously been used in Data 8 to teach a lesson about privacy. In that lesson, students were introduced to Oakland ALPR data and used the data to track the whereabouts of a former Mayor of Oakland. Students thus considered some of the privacy concerns that ALPR data raise, including giving those with access to the data the ability to determine where people live, work, and what they do in their free time. One of the conclusions of the privacy lecture was that data collected for one purpose (such as to “fight crime”) can reveal a lot more than initially intended. **We carry this same objective over to this new assignment, in which we aim to introduce you to the social and historical contexts of Automated License Plate Reader data, and how the collection and use of this data distributes risks among different population groups unevenly.**"
   ]
  },
  {
   "cell_type": "markdown",
   "id": "f4294f70",
   "metadata": {
    "id": "f4294f70"
   },
   "source": [
    "### A. Background"
   ]
  },
  {
   "cell_type": "markdown",
   "id": "561ce04c",
   "metadata": {
    "id": "561ce04c"
   },
   "source": [
    "\n",
    "\n",
    "Automated License Plate Readers, which are usually mounted on police cars, capture digital license plate data and images for law enforcement purposes (Policy Manual). In particular, the Oakland Police Department writes in their ALPR policy manual that the data can be used for “identifying stolen or wanted vehicles, stolen license plates and missing persons. It may also be used to gather information related to active warrants, suspect interdiction and stolen property recovery” (Policy Manual). As of 2015, Oakland PD operated 33 license plate readers, each of which can scan up to 60 license plates per second (Ars Technica). Thus, Oakland PD stores millions of records, of which only a small portion are associated with a criminal investigation (ACLU). While Oakland PD says that its data collection and storage procedures adhere to privacy rights, including purging unused data after 6 months and restricting the sharing of data, it is crucial to note that millions of Oakland PD license plate records are available online – this is how we found the data for this assignment (Policy Manual). In addition, while the Supreme Court has ruled that cars on public roads do not have a reasonable expectation of privacy, it is important to remember that “reasonable suspicion or probable cause is not required before using an ALPR to scan license plates or collect data” (Policy Manual).  "
   ]
  },
  {
   "cell_type": "markdown",
   "id": "79b5cb54",
   "metadata": {
    "id": "79b5cb54"
   },
   "source": [
    "### B. Introductory Questions"
   ]
  },
  {
   "cell_type": "markdown",
   "id": "a5439f59",
   "metadata": {
    "id": "a5439f59"
   },
   "source": [
    "**Q0a:** What is one reason that Oakland PD gives for collecting ALPR data? "
   ]
  },
  {
   "cell_type": "markdown",
   "id": "f7818168",
   "metadata": {
    "id": "f7818168"
   },
   "source": [
    "*Answer here*"
   ]
  },
  {
   "cell_type": "markdown",
   "id": "2fcb02b2",
   "metadata": {
    "id": "2fcb02b2"
   },
   "source": [
    "**Q0b:** What is one drawback to collecting and using ALPR data?"
   ]
  },
  {
   "cell_type": "markdown",
   "id": "4f20b6e1",
   "metadata": {
    "id": "4f20b6e1"
   },
   "source": [
    "*Answer here*"
   ]
  },
  {
   "cell_type": "markdown",
   "id": "b50ff072",
   "metadata": {
    "id": "b50ff072"
   },
   "source": [
    "## 2. ALPR Data"
   ]
  },
  {
   "cell_type": "code",
   "execution_count": 1,
   "id": "1yofLTXQ9DX0",
   "metadata": {
    "colab": {
     "base_uri": "https://localhost:8080/"
    },
    "executionInfo": {
     "elapsed": 25868,
     "status": "ok",
     "timestamp": 1669684349187,
     "user": {
      "displayName": "Janet Torres",
      "userId": "13024228812197515564"
     },
     "user_tz": 480
    },
    "id": "1yofLTXQ9DX0",
    "outputId": "ed3db5f0-227b-433c-aeea-f9fad4f216e9"
   },
   "outputs": [
    {
     "name": "stdout",
     "output_type": "stream",
     "text": [
      "\u001b[1;31mE: \u001b[0mCould not open lock file /var/lib/dpkg/lock-frontend - open (13: Permission denied)\u001b[0m\n",
      "\u001b[1;31mE: \u001b[0mUnable to acquire the dpkg frontend lock (/var/lib/dpkg/lock-frontend), are you root?\u001b[0m\n",
      "Requirement already satisfied: rtree in /opt/conda/lib/python3.9/site-packages (0.9.7)\n",
      "Requirement already satisfied: geopandas in /opt/conda/lib/python3.9/site-packages (0.10.2)\n",
      "Requirement already satisfied: shapely>=1.6 in /opt/conda/lib/python3.9/site-packages (from geopandas) (1.8.2)\n",
      "Requirement already satisfied: pyproj>=2.2.0 in /opt/conda/lib/python3.9/site-packages (from geopandas) (3.3.1)\n",
      "Requirement already satisfied: pandas>=0.25.0 in /opt/conda/lib/python3.9/site-packages (from geopandas) (1.3.5)\n",
      "Requirement already satisfied: fiona>=1.8 in /opt/conda/lib/python3.9/site-packages (from geopandas) (1.8.22)\n",
      "Requirement already satisfied: six>=1.7 in /opt/conda/lib/python3.9/site-packages (from fiona>=1.8->geopandas) (1.16.0)\n",
      "Requirement already satisfied: certifi in /opt/conda/lib/python3.9/site-packages (from fiona>=1.8->geopandas) (2021.10.8)\n",
      "Requirement already satisfied: cligj>=0.5 in /opt/conda/lib/python3.9/site-packages (from fiona>=1.8->geopandas) (0.7.2)\n",
      "Requirement already satisfied: click-plugins>=1.0 in /opt/conda/lib/python3.9/site-packages (from fiona>=1.8->geopandas) (1.1.1)\n",
      "Requirement already satisfied: click>=4.0 in /opt/conda/lib/python3.9/site-packages (from fiona>=1.8->geopandas) (8.0.4)\n",
      "Requirement already satisfied: setuptools in /opt/conda/lib/python3.9/site-packages (from fiona>=1.8->geopandas) (58.2.0)\n",
      "Requirement already satisfied: munch in /opt/conda/lib/python3.9/site-packages (from fiona>=1.8->geopandas) (2.5.0)\n",
      "Requirement already satisfied: attrs>=17 in /opt/conda/lib/python3.9/site-packages (from fiona>=1.8->geopandas) (19.3.0)\n",
      "Requirement already satisfied: python-dateutil>=2.7.3 in /opt/conda/lib/python3.9/site-packages (from pandas>=0.25.0->geopandas) (2.8.0)\n",
      "Requirement already satisfied: pytz>=2017.3 in /opt/conda/lib/python3.9/site-packages (from pandas>=0.25.0->geopandas) (2021.1)\n",
      "Requirement already satisfied: numpy>=1.17.3 in /opt/conda/lib/python3.9/site-packages (from pandas>=0.25.0->geopandas) (1.21.6)\n",
      "Requirement already satisfied: folium in /opt/conda/lib/python3.9/site-packages (0.12.1)\n",
      "Requirement already satisfied: numpy in /opt/conda/lib/python3.9/site-packages (from folium) (1.21.6)\n",
      "Requirement already satisfied: requests in /opt/conda/lib/python3.9/site-packages (from folium) (2.26.0)\n",
      "Requirement already satisfied: branca>=0.3.0 in /opt/conda/lib/python3.9/site-packages (from folium) (0.6.0)\n",
      "Requirement already satisfied: jinja2>=2.9 in /opt/conda/lib/python3.9/site-packages (from folium) (3.1.2)\n",
      "Requirement already satisfied: MarkupSafe>=2.0 in /opt/conda/lib/python3.9/site-packages (from jinja2>=2.9->folium) (2.1.1)\n",
      "Requirement already satisfied: certifi>=2017.4.17 in /opt/conda/lib/python3.9/site-packages (from requests->folium) (2021.10.8)\n",
      "Requirement already satisfied: urllib3<1.27,>=1.21.1 in /opt/conda/lib/python3.9/site-packages (from requests->folium) (1.26.7)\n",
      "Requirement already satisfied: idna<4,>=2.5 in /opt/conda/lib/python3.9/site-packages (from requests->folium) (3.1)\n",
      "Requirement already satisfied: charset-normalizer~=2.0.0 in /opt/conda/lib/python3.9/site-packages (from requests->folium) (2.0.0)\n"
     ]
    }
   ],
   "source": [
    "!apt install libspatialindex-dev;\n",
    "!pip install rtree;\n",
    "!pip install geopandas;\n",
    "!pip install folium;"
   ]
  },
  {
   "cell_type": "code",
   "execution_count": 1,
   "id": "6501da81",
   "metadata": {
    "executionInfo": {
     "elapsed": 559,
     "status": "ok",
     "timestamp": 1669684393010,
     "user": {
      "displayName": "Janet Torres",
      "userId": "13024228812197515564"
     },
     "user_tz": 480
    },
    "id": "6501da81"
   },
   "outputs": [],
   "source": [
    "import warnings\n",
    "warnings.filterwarnings('ignore')\n",
    "\n",
    "from datascience import *\n",
    "import pandas as pd\n",
    "import geopandas as gpd\n",
    "import numpy as np\n",
    "import matplotlib.pyplot as plt\n",
    "import folium\n",
    "\n",
    "from sklearn.preprocessing import normalize\n",
    "\n",
    "%matplotlib inline\n",
    "plt.style.use('fivethirtyeight')"
   ]
  },
  {
   "cell_type": "code",
   "execution_count": 3,
   "id": "A-FjWSujKecM",
   "metadata": {
    "colab": {
     "base_uri": "https://localhost:8080/"
    },
    "executionInfo": {
     "elapsed": 22672,
     "status": "ok",
     "timestamp": 1669684424808,
     "user": {
      "displayName": "Janet Torres",
      "userId": "13024228812197515564"
     },
     "user_tz": 480
    },
    "id": "A-FjWSujKecM",
    "outputId": "6ae73ae1-9d83-4d8e-8004-f85e8b09fdba"
   },
   "outputs": [],
   "source": [
    "from google.colab import drive\n",
    "drive.mount('/content/drive')"
   ]
  },
  {
   "cell_type": "markdown",
   "id": "64f7f9ff",
   "metadata": {
    "id": "64f7f9ff"
   },
   "source": [
    "All available ALPR data can be found [here](https://data.oaklandca.gov/browse?q=alpr&sortBy=relevance). We are working with data from (4/1/14 - 5/31/14). This is what was recent when we it was downloaded for Data 8. While the data is not the most recent now, you can see how the OPD policy of deleting data after 6 months can be circumvented by private parties accessing and storing the data seperately from the city's databases."
   ]
  },
  {
   "cell_type": "code",
   "execution_count": 3,
   "id": "cfb584c7",
   "metadata": {
    "colab": {
     "base_uri": "https://localhost:8080/",
     "height": 392
    },
    "executionInfo": {
     "elapsed": 3113,
     "status": "ok",
     "timestamp": 1669684427914,
     "user": {
      "displayName": "Janet Torres",
      "userId": "13024228812197515564"
     },
     "user_tz": 480
    },
    "id": "cfb584c7",
    "outputId": "1982cba2-8d7b-4e42-9a3d-9b09e30db216",
    "scrolled": false
   },
   "outputs": [],
   "source": [
    "alpr = Table().read_table(\"/content/drive/MyDrive/Colab Notebooks/ALPR/lprs-data.csv\")\n",
    "alpr"
   ]
  },
  {
   "cell_type": "markdown",
   "id": "cfcd1e3e",
   "metadata": {
    "id": "cfcd1e3e"
   },
   "source": [
    "**Q1**: What can we learn from the table `alpr`? What do the columns represent, and what do the rows represent?"
   ]
  },
  {
   "cell_type": "markdown",
   "id": "d735e742",
   "metadata": {
    "id": "d735e742"
   },
   "source": [
    "*Answer here*"
   ]
  },
  {
   "cell_type": "markdown",
   "id": "83cfd9a0",
   "metadata": {
    "id": "83cfd9a0"
   },
   "source": [
    "**Q2**: How many license plate readings are in our data from 4/1/14 - 5/31/14? follow-up... "
   ]
  },
  {
   "cell_type": "markdown",
   "id": "6813ad71",
   "metadata": {
    "id": "6813ad71"
   },
   "source": [
    "*Answer here*"
   ]
  },
  {
   "cell_type": "markdown",
   "id": "a31360f4",
   "metadata": {
    "id": "a31360f4"
   },
   "source": []
  },
  {
   "cell_type": "markdown",
   "id": "a4fbd1b2",
   "metadata": {
    "id": "a4fbd1b2"
   },
   "source": [
    "# **Cleaning and preparing our data** \n",
    "\n",
    "The ALPR data contains some useful attributes for visualizing and analyzing. \n",
    "As a first step in cleaning `alpr`We would like to relabel our columns to make them easier to work with and sort the ALPR data by Timestamp in chronological order. We also need to split our location into seperate latitude and longitude columns so that we can leverage spatial libraries. \n",
    "\n",
    "Consider the following column names in our final result: 'Plate', 'Timestamp', 'Latitude', and 'Longitude'."
   ]
  },
  {
   "cell_type": "code",
   "execution_count": 3,
   "id": "bd4db08e",
   "metadata": {
    "executionInfo": {
     "elapsed": 10,
     "status": "ok",
     "timestamp": 1669684427915,
     "user": {
      "displayName": "Janet Torres",
      "userId": "13024228812197515564"
     },
     "user_tz": 480
    },
    "id": "bd4db08e"
   },
   "outputs": [],
   "source": [
    "def getlatitude(s):\n",
    "    before, after = s.split(',') # Break it into two parts\n",
    "    latstring = before[1:] # Get rid of the annoying '('\n",
    "    return float(latstring) # Convert the string to a number\n",
    "def getlongitude(s):\n",
    "    before, after = s.split(',') # Break it into two parts\n",
    "    longstring = after[1:-1] # Get rid of the ' ' and the ')'\n",
    "    return float(longstring) # Convert the string to a number"
   ]
  },
  {
   "cell_type": "code",
   "execution_count": 4,
   "id": "a1728754",
   "metadata": {
    "executionInfo": {
     "elapsed": 1150,
     "status": "ok",
     "timestamp": 1669684429057,
     "user": {
      "displayName": "Janet Torres",
      "userId": "13024228812197515564"
     },
     "user_tz": 480
    },
    "id": "a1728754"
   },
   "outputs": [],
   "source": [
    "# Relabel columns \n",
    "alpr = alpr.relabeled(\"red_VRM\", \"Plate\").relabeled(\"red_Timestamp\", \"Timestamp\")\n",
    "\n",
    "# Split Location to 'Latitude' and 'Longitude' columns\n",
    "alpr = alpr.with_columns(\"Latitude\", alpr.apply(getlatitude, \"Location 1\"), \"Longitude\", alpr.apply(getlongitude, \"Location 1\")).drop(\"Location 1\")\n",
    "\n",
    "# Sort the LPRS data by Timestamp in chronological order\n",
    "alpr = alpr.sort(\"Timestamp\", descending=False)"
   ]
  },
  {
   "cell_type": "code",
   "execution_count": 5,
   "id": "7f19d9ba",
   "metadata": {
    "colab": {
     "base_uri": "https://localhost:8080/",
     "height": 392
    },
    "executionInfo": {
     "elapsed": 6,
     "status": "ok",
     "timestamp": 1669667951836,
     "user": {
      "displayName": "Janet Torres",
      "userId": "13024228812197515564"
     },
     "user_tz": 480
    },
    "id": "7f19d9ba",
    "outputId": "bb0ed2d7-6b51-4019-ac44-69e6c873aadc",
    "scrolled": false
   },
   "outputs": [
    {
     "data": {
      "text/html": [
       "<table border=\"1\" class=\"dataframe\">\n",
       "    <thead>\n",
       "        <tr>\n",
       "            <th>Plate</th> <th>Timestamp</th> <th>Latitude</th> <th>Longitude</th>\n",
       "        </tr>\n",
       "    </thead>\n",
       "    <tbody>\n",
       "        <tr>\n",
       "            <td>6LWL396</td> <td>04/01/2014 01:00:00 PM</td> <td>37.8048 </td> <td>-122.251 </td>\n",
       "        </tr>\n",
       "        <tr>\n",
       "            <td>4DGR470</td> <td>04/01/2014 01:00:00 PM</td> <td>37.7938 </td> <td>-122.253 </td>\n",
       "        </tr>\n",
       "        <tr>\n",
       "            <td>6RIP575</td> <td>04/01/2014 01:00:00 PM</td> <td>37.8047 </td> <td>-122.251 </td>\n",
       "        </tr>\n",
       "        <tr>\n",
       "            <td>4ZDX994</td> <td>04/01/2014 01:00:00 PM</td> <td>37.8046 </td> <td>-122.251 </td>\n",
       "        </tr>\n",
       "        <tr>\n",
       "            <td>6XJW220</td> <td>04/01/2014 01:00:00 PM</td> <td>37.8046 </td> <td>-122.251 </td>\n",
       "        </tr>\n",
       "        <tr>\n",
       "            <td>6J44213</td> <td>04/01/2014 01:00:00 PM</td> <td>37.8042 </td> <td>-122.252 </td>\n",
       "        </tr>\n",
       "        <tr>\n",
       "            <td>6B03075</td> <td>04/01/2014 01:00:00 PM</td> <td>37.8042 </td> <td>-122.252 </td>\n",
       "        </tr>\n",
       "        <tr>\n",
       "            <td>4PKP608</td> <td>04/01/2014 01:00:00 PM</td> <td>37.794  </td> <td>-122.255 </td>\n",
       "        </tr>\n",
       "        <tr>\n",
       "            <td>4RPB940</td> <td>04/01/2014 01:00:00 PM</td> <td>37.7939 </td> <td>-122.255 </td>\n",
       "        </tr>\n",
       "        <tr>\n",
       "            <td>5MBD011</td> <td>04/01/2014 01:00:00 PM</td> <td>37.7921 </td> <td>-122.248 </td>\n",
       "        </tr>\n",
       "    </tbody>\n",
       "</table>\n",
       "<p>... (328572 rows omitted)</p>"
      ],
      "text/plain": [
       "Plate   | Timestamp              | Latitude | Longitude\n",
       "6LWL396 | 04/01/2014 01:00:00 PM | 37.8048  | -122.251\n",
       "4DGR470 | 04/01/2014 01:00:00 PM | 37.7938  | -122.253\n",
       "6RIP575 | 04/01/2014 01:00:00 PM | 37.8047  | -122.251\n",
       "4ZDX994 | 04/01/2014 01:00:00 PM | 37.8046  | -122.251\n",
       "6XJW220 | 04/01/2014 01:00:00 PM | 37.8046  | -122.251\n",
       "6J44213 | 04/01/2014 01:00:00 PM | 37.8042  | -122.252\n",
       "6B03075 | 04/01/2014 01:00:00 PM | 37.8042  | -122.252\n",
       "4PKP608 | 04/01/2014 01:00:00 PM | 37.794   | -122.255\n",
       "4RPB940 | 04/01/2014 01:00:00 PM | 37.7939  | -122.255\n",
       "5MBD011 | 04/01/2014 01:00:00 PM | 37.7921  | -122.248\n",
       "... (328572 rows omitted)"
      ]
     },
     "execution_count": 5,
     "metadata": {},
     "output_type": "execute_result"
    }
   ],
   "source": [
    "alpr"
   ]
  },
  {
   "cell_type": "markdown",
   "id": "0d1e4c06",
   "metadata": {
    "id": "0d1e4c06"
   },
   "source": [
    "## 3. Exploratory Data Analysis on ALPR Data"
   ]
  },
  {
   "cell_type": "markdown",
   "id": "328616d5",
   "metadata": {
    "id": "328616d5"
   },
   "source": [
    "### Distributions"
   ]
  },
  {
   "cell_type": "code",
   "execution_count": 6,
   "id": "6e76291e",
   "metadata": {
    "executionInfo": {
     "elapsed": 19921,
     "status": "ok",
     "timestamp": 1669685174665,
     "user": {
      "displayName": "Janet Torres",
      "userId": "13024228812197515564"
     },
     "user_tz": 480
    },
    "id": "6e76291e"
   },
   "outputs": [],
   "source": [
    "plate_counts = alpr.group(\"Plate\").sort(\"count\", descending=True).relabel(\"count\", \"times seen\")"
   ]
  },
  {
   "cell_type": "code",
   "execution_count": 7,
   "id": "8a9028fc",
   "metadata": {
    "colab": {
     "base_uri": "https://localhost:8080/",
     "height": 392
    },
    "executionInfo": {
     "elapsed": 270,
     "status": "ok",
     "timestamp": 1669685270281,
     "user": {
      "displayName": "Janet Torres",
      "userId": "13024228812197515564"
     },
     "user_tz": 480
    },
    "id": "8a9028fc",
    "outputId": "0d859c3c-d611-43bc-8fbe-5ad5d5f44a70",
    "scrolled": true
   },
   "outputs": [
    {
     "data": {
      "text/html": [
       "<table border=\"1\" class=\"dataframe\">\n",
       "    <thead>\n",
       "        <tr>\n",
       "            <th>Plate</th> <th>times seen</th>\n",
       "        </tr>\n",
       "    </thead>\n",
       "    <tbody>\n",
       "        <tr>\n",
       "            <td>L7IAB  </td> <td>98        </td>\n",
       "        </tr>\n",
       "        <tr>\n",
       "            <td>1426010</td> <td>86        </td>\n",
       "        </tr>\n",
       "        <tr>\n",
       "            <td>1426174</td> <td>75        </td>\n",
       "        </tr>\n",
       "        <tr>\n",
       "            <td>1426006</td> <td>63        </td>\n",
       "        </tr>\n",
       "        <tr>\n",
       "            <td>1328327</td> <td>62        </td>\n",
       "        </tr>\n",
       "        <tr>\n",
       "            <td>1426032</td> <td>59        </td>\n",
       "        </tr>\n",
       "        <tr>\n",
       "            <td>PARKING</td> <td>53        </td>\n",
       "        </tr>\n",
       "        <tr>\n",
       "            <td>1275270</td> <td>52        </td>\n",
       "        </tr>\n",
       "        <tr>\n",
       "            <td>4EKC358</td> <td>51        </td>\n",
       "        </tr>\n",
       "        <tr>\n",
       "            <td>1426202</td> <td>50        </td>\n",
       "        </tr>\n",
       "    </tbody>\n",
       "</table>\n",
       "<p>... (181761 rows omitted)</p>"
      ],
      "text/plain": [
       "Plate   | times seen\n",
       "L7IAB   | 98\n",
       "1426010 | 86\n",
       "1426174 | 75\n",
       "1426006 | 63\n",
       "1328327 | 62\n",
       "1426032 | 59\n",
       "PARKING | 53\n",
       "1275270 | 52\n",
       "4EKC358 | 51\n",
       "1426202 | 50\n",
       "... (181761 rows omitted)"
      ]
     },
     "execution_count": 7,
     "metadata": {},
     "output_type": "execute_result"
    }
   ],
   "source": [
    "plate_counts"
   ]
  },
  {
   "cell_type": "code",
   "execution_count": 8,
   "id": "7a37fb8e",
   "metadata": {
    "colab": {
     "base_uri": "https://localhost:8080/",
     "height": 301
    },
    "executionInfo": {
     "elapsed": 239,
     "status": "ok",
     "timestamp": 1669667967436,
     "user": {
      "displayName": "Janet Torres",
      "userId": "13024228812197515564"
     },
     "user_tz": 480
    },
    "id": "7a37fb8e",
    "outputId": "c9d98eb8-0c83-4d9a-e97c-d33515bc62e1"
   },
   "outputs": [
    {
     "data": {
      "image/png": "[encoded data removed]",
      "text/plain": [
       "<Figure size 600x400 with 1 Axes>"
      ]
     },
     "metadata": {},
     "output_type": "display_data"
    }
   ],
   "source": [
    "plate_counts.hist('times seen', bins=np.arange(0, 10, 1))"
   ]
  },
  {
   "cell_type": "code",
   "execution_count": 34,
   "id": "QJRVheEe-GDx",
   "metadata": {
    "colab": {
     "base_uri": "https://localhost:8080/",
     "height": 165
    },
    "executionInfo": {
     "elapsed": 273,
     "status": "error",
     "timestamp": 1669687605625,
     "user": {
      "displayName": "Janet Torres",
      "userId": "13024228812197515564"
     },
     "user_tz": 480
    },
    "id": "QJRVheEe-GDx",
    "outputId": "c8bcd512-7ae5-4641-a852-e35afb4d3950"
   },
   "outputs": [
    {
     "ename": "TypeError",
     "evalue": "ignored",
     "output_type": "error",
     "traceback": [
      "\u001b[0;31m---------------------------------------------------------------------------\u001b[0m",
      "\u001b[0;31mTypeError\u001b[0m                                 Traceback (most recent call last)",
      "\u001b[0;32m<ipython-input-34-58e7c0456875>\u001b[0m in \u001b[0;36m<module>\u001b[0;34m\u001b[0m\n\u001b[0;32m----> 1\u001b[0;31m \u001b[0mplate_counts\u001b[0m\u001b[0;34m.\u001b[0m\u001b[0mboxplot\u001b[0m\u001b[0;34m(\u001b[0m\u001b[0;34m'times seen'\u001b[0m\u001b[0;34m)\u001b[0m\u001b[0;34m\u001b[0m\u001b[0;34m\u001b[0m\u001b[0m\n\u001b[0m",
      "\u001b[0;31mTypeError\u001b[0m: boxplot() takes 1 positional argument but 2 were given"
     ]
    }
   ],
   "source": [
    "plate_counts.boxplot('times seen') #doesnt work"
   ]
  },
  {
   "cell_type": "code",
   "execution_count": 9,
   "id": "ba9b36c1",
   "metadata": {
    "id": "ba9b36c1",
    "scrolled": true
   },
   "outputs": [],
   "source": [
    "plate_counts_above_10 = plate_counts.where(\"times seen\", are.above_or_equal_to(10)).num_rows"
   ]
  },
  {
   "cell_type": "code",
   "execution_count": 10,
   "id": "dbf7d929",
   "metadata": {
    "colab": {
     "base_uri": "https://localhost:8080/"
    },
    "executionInfo": {
     "elapsed": 7,
     "status": "ok",
     "timestamp": 1669667968728,
     "user": {
      "displayName": "Janet Torres",
      "userId": "13024228812197515564"
     },
     "user_tz": 480
    },
    "id": "dbf7d929",
    "outputId": "a6020d3c-5c65-40d3-9aca-02bcb6ccde10"
   },
   "outputs": [
    {
     "data": {
      "text/plain": [
       "2117"
      ]
     },
     "execution_count": 10,
     "metadata": {},
     "output_type": "execute_result"
    }
   ],
   "source": [
    "plate_counts_above_10"
   ]
  },
  {
   "cell_type": "markdown",
   "id": "1c45d37f",
   "metadata": {
    "id": "1c45d37f"
   },
   "source": [
    "**Q:** Can we compare plate counts for each unique plate to the number of registered vehicles in Oakland? What are the implications of this result? What is the gap between these two pieces of information?"
   ]
  },
  {
   "cell_type": "code",
   "execution_count": 11,
   "id": "fa4fd0cb",
   "metadata": {
    "scrolled": true
   },
   "outputs": [
    {
     "data": {
      "text/html": [
       "<table border=\"1\" class=\"dataframe\">\n",
       "    <thead>\n",
       "        <tr>\n",
       "            <th>Plate</th> <th>Timestamp</th> <th>Latitude</th> <th>Longitude</th> <th>times seen</th>\n",
       "        </tr>\n",
       "    </thead>\n",
       "    <tbody>\n",
       "        <tr>\n",
       "            <td>0008ZH1</td> <td>04/02/2014 11:46:00 PM</td> <td>37.8041 </td> <td>-122.299 </td> <td>3         </td>\n",
       "        </tr>\n",
       "        <tr>\n",
       "            <td>0008ZH1</td> <td>05/11/2014 09:45:00 PM</td> <td>37.8046 </td> <td>-122.299 </td> <td>3         </td>\n",
       "        </tr>\n",
       "        <tr>\n",
       "            <td>0008ZH1</td> <td>05/20/2014 09:48:00 PM</td> <td>37.8041 </td> <td>-122.299 </td> <td>3         </td>\n",
       "        </tr>\n",
       "        <tr>\n",
       "            <td>00096B1</td> <td>04/14/2014 09:02:00 AM</td> <td>37.7905 </td> <td>-122.218 </td> <td>1         </td>\n",
       "        </tr>\n",
       "        <tr>\n",
       "            <td>000CA  </td> <td>04/10/2014 11:24:00 PM</td> <td>37.7895 </td> <td>-122.245 </td> <td>5         </td>\n",
       "        </tr>\n",
       "        <tr>\n",
       "            <td>000CA  </td> <td>04/28/2014 11:04:00 AM</td> <td>37.7898 </td> <td>-122.244 </td> <td>5         </td>\n",
       "        </tr>\n",
       "        <tr>\n",
       "            <td>000CA  </td> <td>04/28/2014 11:08:00 AM</td> <td>37.7896 </td> <td>-122.245 </td> <td>5         </td>\n",
       "        </tr>\n",
       "        <tr>\n",
       "            <td>000CA  </td> <td>05/06/2014 08:34:00 AM</td> <td>37.7872 </td> <td>-122.239 </td> <td>5         </td>\n",
       "        </tr>\n",
       "        <tr>\n",
       "            <td>000CA  </td> <td>05/28/2014 04:59:00 PM</td> <td>37.8116 </td> <td>-122.266 </td> <td>5         </td>\n",
       "        </tr>\n",
       "        <tr>\n",
       "            <td>000EK  </td> <td>04/06/2014 01:41:00 PM</td> <td>37.8035 </td> <td>-122.234 </td> <td>1         </td>\n",
       "        </tr>\n",
       "    </tbody>\n",
       "</table>\n",
       "<p>... (328572 rows omitted)</p>"
      ],
      "text/plain": [
       "<IPython.core.display.HTML object>"
      ]
     },
     "metadata": {},
     "output_type": "display_data"
    }
   ],
   "source": [
    "#Append time seen count to alpr object already in ALPR object, why have multiple objects instead of filtering ALPR?5\n",
    "alpr = alpr.join(\"Plate\", plate_counts, \"Plate\")\n",
    "alpr.show(10)"
   ]
  },
  {
   "cell_type": "code",
   "execution_count": 12,
   "id": "704e8cff",
   "metadata": {},
   "outputs": [
    {
     "data": {
      "text/html": [
       "<table border=\"1\" class=\"dataframe\">\n",
       "    <thead>\n",
       "        <tr>\n",
       "            <th>Plate</th> <th>Timestamp</th> <th>Latitude</th> <th>Longitude</th> <th>times seen</th>\n",
       "        </tr>\n",
       "    </thead>\n",
       "    <tbody>\n",
       "        <tr>\n",
       "            <td>3BEF704</td> <td>04/01/2014 01:00:00 PM</td> <td>37.7918 </td> <td>-122.248 </td> <td>1         </td>\n",
       "        </tr>\n",
       "        <tr>\n",
       "            <td>3WSX024</td> <td>04/01/2014 01:00:00 PM</td> <td>37.7932 </td> <td>-122.254 </td> <td>1         </td>\n",
       "        </tr>\n",
       "        <tr>\n",
       "            <td>3ZZA909</td> <td>04/01/2014 01:00:00 PM</td> <td>37.8028 </td> <td>-122.254 </td> <td>4         </td>\n",
       "        </tr>\n",
       "        <tr>\n",
       "            <td>4CXP907</td> <td>04/01/2014 01:00:00 PM</td> <td>37.8013 </td> <td>-122.254 </td> <td>1         </td>\n",
       "        </tr>\n",
       "        <tr>\n",
       "            <td>4DGR470</td> <td>04/01/2014 01:00:00 PM</td> <td>37.7938 </td> <td>-122.253 </td> <td>6         </td>\n",
       "        </tr>\n",
       "        <tr>\n",
       "            <td>4NEZ422</td> <td>04/01/2014 01:00:00 PM</td> <td>37.8018 </td> <td>-122.254 </td> <td>1         </td>\n",
       "        </tr>\n",
       "        <tr>\n",
       "            <td>4PKP608</td> <td>04/01/2014 01:00:00 PM</td> <td>37.794  </td> <td>-122.255 </td> <td>3         </td>\n",
       "        </tr>\n",
       "        <tr>\n",
       "            <td>4RPB940</td> <td>04/01/2014 01:00:00 PM</td> <td>37.7939 </td> <td>-122.255 </td> <td>2         </td>\n",
       "        </tr>\n",
       "        <tr>\n",
       "            <td>4ZDX994</td> <td>04/01/2014 01:00:00 PM</td> <td>37.8046 </td> <td>-122.251 </td> <td>14        </td>\n",
       "        </tr>\n",
       "        <tr>\n",
       "            <td>5KZH517</td> <td>04/01/2014 01:00:00 PM</td> <td>37.7933 </td> <td>-122.254 </td> <td>1         </td>\n",
       "        </tr>\n",
       "    </tbody>\n",
       "</table>\n",
       "<p>... (328572 rows omitted)</p>"
      ],
      "text/plain": [
       "<IPython.core.display.HTML object>"
      ]
     },
     "metadata": {},
     "output_type": "display_data"
    }
   ],
   "source": [
    "alpr.sort(\"Timestamp\").show(10)"
   ]
  },
  {
   "cell_type": "markdown",
   "id": "84ebd776",
   "metadata": {
    "id": "84ebd776"
   },
   "source": [
    "### Maps \n",
    "\n",
    "Most visualizations in data science are about seeing values in a statistically meaningful way. When your data has the added dimension of space, you can display this complexity using maps. As a visualization, mapped data brings the meaning of place into the conversationtion. Since people usually have an attachment to certain places and an understanding of the world that includes a spatial component, maps can be a great way to make data more interesting and meaningful. Many phenomenon are spatial by nature, giving it spatial context can help.  \n",
    "\n",
    "There are non-spatial libraries you can use to plot latitude and longitude as x and y on an axis but for the most part you want to use a spatial libray for ease of use and added functionality. We will use the folium package because it has a lot of neat functions that make exploration easy. \n",
    "\n",
    "The first step to using a spatial library is to make your dataset a spatial object. We can use 'type()' to see what kind of object our data is currently. We first opened it using the datascience notebook.  \n",
    "\n",
    "Lets use some maps to visualize the data. First, let's take a look at the first 1000 readings, starting on 4/01/2014.\n",
    "\n",
    "The following are functions we use to display maps. You are not required to learn how to use them, but the docstring explains the workings."
   ]
  },
  {
   "cell_type": "markdown",
   "id": "0016f93d",
   "metadata": {
    "id": "0016f93d"
   },
   "source": [
    "It can be helpful to look at your data the way the computer sees it before modeling a social phenomenon with a geographic component\n",
    "\n",
    "**Q:** The Open Data Portal the city of Oakland uses has a [visualization tool](https://data.oaklandca.gov/d/mqhr-9st7/visualization). Visit the page, Did you find this tool helpful? what additional functionalities would you want from this tool?"
   ]
  },
  {
   "cell_type": "markdown",
   "id": "_SiLW_4bjTGz",
   "metadata": {
    "id": "_SiLW_4bjTGz"
   },
   "source": []
  },
  {
   "cell_type": "markdown",
   "id": "d4TyzXRjSh5p",
   "metadata": {
    "id": "d4TyzXRjSh5p"
   },
   "source": [
    "Before we can bring our data into a GIS (Geographic Information System)\n",
    "in python we need to make sure it is a spatial object that the library can recognize. We can use 'type()' to see what kind of object our data is."
   ]
  },
  {
   "cell_type": "code",
   "execution_count": 13,
   "id": "KC4c18jzT3Lr",
   "metadata": {
    "colab": {
     "base_uri": "https://localhost:8080/"
    },
    "executionInfo": {
     "elapsed": 5,
     "status": "ok",
     "timestamp": 1669685345554,
     "user": {
      "displayName": "Janet Torres",
      "userId": "13024228812197515564"
     },
     "user_tz": 480
    },
    "id": "KC4c18jzT3Lr",
    "outputId": "0db47987-52ef-43a8-8a6a-15cc85928cf1"
   },
   "outputs": [
    {
     "data": {
      "text/plain": [
       "datascience.tables.Table"
      ]
     },
     "execution_count": 13,
     "metadata": {},
     "output_type": "execute_result"
    }
   ],
   "source": [
    "type(alpr)"
   ]
  },
  {
   "cell_type": "markdown",
   "id": "PH100SXPVA0l",
   "metadata": {
    "id": "PH100SXPVA0l"
   },
   "source": [
    "Our data has the spatial markers, Latitude and longitude, that we can use to map it. However, it is not a spatial object. Luckily it is easy to turn a datascience table into a pandas dataframe that Geopandas can recognize. Notice the part of code that specifies EPSG. This is a guess, usually the metadata tells you what coordinate referencing system (CRS) was used to collect the day, this is a critical part of metadata since there are many CRS types. The data portal fails to list the CRS used; most public data is in a general web mercator system frequently used with web maps. It is also known as epsg 4326. Folium also requires spatial objects to have a specified CRS."
   ]
  },
  {
   "cell_type": "code",
   "execution_count": 16,
   "id": "XO2bWg9FYHi6",
   "metadata": {
    "executionInfo": {
     "elapsed": 7,
     "status": "ok",
     "timestamp": 1669685345841,
     "user": {
      "displayName": "Janet Torres",
      "userId": "13024228812197515564"
     },
     "user_tz": 480
    },
    "id": "XO2bWg9FYHi6"
   },
   "outputs": [],
   "source": [
    "#this converts our datascience table into a pandas dataframe that we can then turn to a geopandas geodataframe\n",
    "table_df = alpr.to_df()"
   ]
  },
  {
   "cell_type": "code",
   "execution_count": 17,
   "id": "PWj4sk2Ay8cw",
   "metadata": {
    "executionInfo": {
     "elapsed": 7,
     "status": "ok",
     "timestamp": 1669685345842,
     "user": {
      "displayName": "Janet Torres",
      "userId": "13024228812197515564"
     },
     "user_tz": 480
    },
    "id": "PWj4sk2Ay8cw"
   },
   "outputs": [],
   "source": [
    "# storing this dataframe in a csv file\n",
    "#table_df.to_csv('/content/alpr.csv', index = None)"
   ]
  },
  {
   "cell_type": "code",
   "execution_count": 18,
   "id": "zurl2tiHVfcy",
   "metadata": {
    "executionInfo": {
     "elapsed": 13483,
     "status": "ok",
     "timestamp": 1669685359319,
     "user": {
      "displayName": "Janet Torres",
      "userId": "13024228812197515564"
     },
     "user_tz": 480
    },
    "id": "zurl2tiHVfcy"
   },
   "outputs": [],
   "source": [
    "#this converts our pandas dataframe into a Geopandas one\n",
    "alprgs = gpd.GeoDataFrame(\n",
    "    table_df, geometry=gpd.points_from_xy(table_df.Longitude, table_df.Latitude, crs = 'EPSG:4326'))"
   ]
  },
  {
   "cell_type": "code",
   "execution_count": 19,
   "id": "-ZK5lUm7M4S7",
   "metadata": {
    "executionInfo": {
     "elapsed": 237,
     "status": "ok",
     "timestamp": 1669688696585,
     "user": {
      "displayName": "Janet Torres",
      "userId": "13024228812197515564"
     },
     "user_tz": 480
    },
    "id": "-ZK5lUm7M4S7"
   },
   "outputs": [],
   "source": [
    "from folium.plugins import HeatMap"
   ]
  },
  {
   "cell_type": "code",
   "execution_count": null,
   "id": "104fe3ca",
   "metadata": {
    "colab": {
     "base_uri": "https://localhost:8080/",
     "height": 493,
     "output_embedded_package_id": "1SZ3koWhq3dhn2oybYeOvRq5A_8UwtvZP"
    },
    "executionInfo": {
     "elapsed": 53877,
     "status": "ok",
     "timestamp": 1669688769147,
     "user": {
      "displayName": "Janet Torres",
      "userId": "13024228812197515564"
     },
     "user_tz": 480
    },
    "id": "104fe3ca",
    "outputId": "5231015a-1283-48de-93fc-800ee066f618"
   },
   "outputs": [],
   "source": [
    "\n",
    "#Define coordinates of where we want to center our map\n",
    "bay_coords = [37.871545, -122.260807]\n",
    "\n",
    "#Create the map\n",
    "my_map = folium.Map(\n",
    "    location = bay_coords,\n",
    "    tiles='Stamen Toner',\n",
    "    zoom_start = 5)\n",
    "    \n",
    "points = folium.features.GeoJson(alprgs)\n",
    "my_map.add_child(folium.plugins.FastMarkerCluster(alprgs[['Latitude', 'Longitude']].values.tolist()))\n",
    "\n",
    "#Display the map may not be needed \n",
    "display(my_map)\n",
    "\n",
    "#to save the map, perhaps for embedding in a website or presentation, you could use this code\n",
    "#my_map.save(\"save_file.html\")"
   ]
  },
  {
   "cell_type": "markdown",
   "id": "xABSRuexuxYk",
   "metadata": {
    "id": "xABSRuexuxYk"
   },
   "source": [
    "/// **Q:** Ooops! Seems like there is a data point that is an outlier due to an incorrect recording. An invalid recording could have implications on our analysis and conclusions. Let's take a look into this. ///\n",
    "What could be causing points to show up in a different place? Since the map is showing LAtitude and longitude, we should look at those data columns to check for a problem first. \n",
    "Sometimes data can be mapped in a different location because"
   ]
  },
  {
   "cell_type": "code",
   "execution_count": 20,
   "id": "72bffd03",
   "metadata": {},
   "outputs": [
    {
     "data": {
      "text/plain": [
       "(328582, 6)"
      ]
     },
     "execution_count": 20,
     "metadata": {},
     "output_type": "execute_result"
    }
   ],
   "source": [
    "table_df.shape"
   ]
  },
  {
   "cell_type": "code",
   "execution_count": 21,
   "id": "7UparPAVq2Ky",
   "metadata": {
    "executionInfo": {
     "elapsed": 14,
     "status": "ok",
     "timestamp": 1669685412558,
     "user": {
      "displayName": "Janet Torres",
      "userId": "13024228812197515564"
     },
     "user_tz": 480
    },
    "id": "7UparPAVq2Ky"
   },
   "outputs": [
    {
     "data": {
      "text/html": [
       "<div>\n",
       "<style scoped>\n",
       "    .dataframe tbody tr th:only-of-type {\n",
       "        vertical-align: middle;\n",
       "    }\n",
       "\n",
       "    .dataframe tbody tr th {\n",
       "        vertical-align: top;\n",
       "    }\n",
       "\n",
       "    .dataframe thead th {\n",
       "        text-align: right;\n",
       "    }\n",
       "</style>\n",
       "<table border=\"1\" class=\"dataframe\">\n",
       "  <thead>\n",
       "    <tr style=\"text-align: right;\">\n",
       "      <th></th>\n",
       "      <th>Plate</th>\n",
       "      <th>Timestamp</th>\n",
       "      <th>Latitude</th>\n",
       "      <th>Longitude</th>\n",
       "      <th>times seen</th>\n",
       "      <th>geometry</th>\n",
       "    </tr>\n",
       "  </thead>\n",
       "  <tbody>\n",
       "    <tr>\n",
       "      <th>0</th>\n",
       "      <td>0008ZH1</td>\n",
       "      <td>04/02/2014 11:46:00 PM</td>\n",
       "      <td>37.804058</td>\n",
       "      <td>-122.298815</td>\n",
       "      <td>3</td>\n",
       "      <td>POINT (-122.29882 37.80406)</td>\n",
       "    </tr>\n",
       "    <tr>\n",
       "      <th>1</th>\n",
       "      <td>0008ZH1</td>\n",
       "      <td>05/11/2014 09:45:00 PM</td>\n",
       "      <td>37.804645</td>\n",
       "      <td>-122.298615</td>\n",
       "      <td>3</td>\n",
       "      <td>POINT (-122.29861 37.80465)</td>\n",
       "    </tr>\n",
       "    <tr>\n",
       "      <th>2</th>\n",
       "      <td>0008ZH1</td>\n",
       "      <td>05/20/2014 09:48:00 PM</td>\n",
       "      <td>37.804123</td>\n",
       "      <td>-122.298743</td>\n",
       "      <td>3</td>\n",
       "      <td>POINT (-122.29874 37.80412)</td>\n",
       "    </tr>\n",
       "    <tr>\n",
       "      <th>3</th>\n",
       "      <td>00096B1</td>\n",
       "      <td>04/14/2014 09:02:00 AM</td>\n",
       "      <td>37.790526</td>\n",
       "      <td>-122.217785</td>\n",
       "      <td>1</td>\n",
       "      <td>POINT (-122.21779 37.79053)</td>\n",
       "    </tr>\n",
       "    <tr>\n",
       "      <th>4</th>\n",
       "      <td>000CA</td>\n",
       "      <td>04/10/2014 11:24:00 PM</td>\n",
       "      <td>37.789458</td>\n",
       "      <td>-122.244765</td>\n",
       "      <td>5</td>\n",
       "      <td>POINT (-122.24477 37.78946)</td>\n",
       "    </tr>\n",
       "  </tbody>\n",
       "</table>\n",
       "</div>"
      ],
      "text/plain": [
       "     Plate               Timestamp   Latitude   Longitude  times seen  \\\n",
       "0  0008ZH1  04/02/2014 11:46:00 PM  37.804058 -122.298815           3   \n",
       "1  0008ZH1  05/11/2014 09:45:00 PM  37.804645 -122.298615           3   \n",
       "2  0008ZH1  05/20/2014 09:48:00 PM  37.804123 -122.298743           3   \n",
       "3  00096B1  04/14/2014 09:02:00 AM  37.790526 -122.217785           1   \n",
       "4    000CA  04/10/2014 11:24:00 PM  37.789458 -122.244765           5   \n",
       "\n",
       "                      geometry  \n",
       "0  POINT (-122.29882 37.80406)  \n",
       "1  POINT (-122.29861 37.80465)  \n",
       "2  POINT (-122.29874 37.80412)  \n",
       "3  POINT (-122.21779 37.79053)  \n",
       "4  POINT (-122.24477 37.78946)  "
      ]
     },
     "execution_count": 21,
     "metadata": {},
     "output_type": "execute_result"
    }
   ],
   "source": [
    "#Find and delete lat long that == 0 for ALPR\n",
    "table_df = table_df[(table_df[\"Latitude\"] != 0) & (table_df[\"Longitude\"] != 0)]\n",
    "table_df.head(5)"
   ]
  },
  {
   "cell_type": "code",
   "execution_count": 22,
   "id": "5d7604a0",
   "metadata": {},
   "outputs": [
    {
     "data": {
      "text/plain": [
       "(328151, 6)"
      ]
     },
     "execution_count": 22,
     "metadata": {},
     "output_type": "execute_result"
    }
   ],
   "source": [
    "table_df.shape"
   ]
  },
  {
   "cell_type": "markdown",
   "id": "f3458c8f",
   "metadata": {
    "id": "f3458c8f"
   },
   "source": [
    "## 4. Exploratory Data Analysis on Census Data"
   ]
  },
  {
   "cell_type": "markdown",
   "id": "e673f33a",
   "metadata": {
    "id": "e673f33a"
   },
   "source": [
    "In addition to ALPR data, we will be using census tract data for the City of Oakland in this assignment. Census tracts are “small, relatively permanent statistical subdivisions of a county” that contain an average of 4,000 inhabitants (census.gov). Census tracts are updated once every ten years. Depending on population changes within census tracts, they may be split or merged during this process. However, census tracts are designed to be relatively permanent over time, and any changes are documented so that data can be compared from decade to decade. Local constituents are also invited to participate in the drawing of census tracts through the Participant Statistical Areas Program. Many different types of data are collected by census tract, including demographic data (e.g. race/ethnicity, age), socioeconomic data (e.g. poverty and unemployment rates), education data, biometric data (e.g. asthma rates, low birth rate rates), and environmental data (e.g. pollution and traffic levels). We will be working with some of this data to analyze relationships between police surveillance and characteristics of census tracts.\n",
    "\n",
    "**INCLUDE BLURB ON CENSUS TRACTS**"
   ]
  },
  {
   "cell_type": "code",
   "execution_count": 39,
   "id": "oCPAQZ1oBugu",
   "metadata": {
    "colab": {
     "base_uri": "https://localhost:8080/",
     "height": 1000
    },
    "executionInfo": {
     "elapsed": 268,
     "status": "ok",
     "timestamp": 1669692590013,
     "user": {
      "displayName": "Janet Torres",
      "userId": "13024228812197515564"
     },
     "user_tz": 480
    },
    "id": "oCPAQZ1oBugu",
    "outputId": "d8c90f88-88fe-4fdd-ad0e-5b01ffe1e00e"
   },
   "outputs": [
    {
     "data": {
      "text/html": [
       "\n",
       "  <div id=\"df-459b20e3-4671-4cca-967d-c474ebee0fc6\">\n",
       "    <div class=\"colab-df-container\">\n",
       "      <div>\n",
       "<style scoped>\n",
       "    .dataframe tbody tr th:only-of-type {\n",
       "        vertical-align: middle;\n",
       "    }\n",
       "\n",
       "    .dataframe tbody tr th {\n",
       "        vertical-align: top;\n",
       "    }\n",
       "\n",
       "    .dataframe thead th {\n",
       "        text-align: right;\n",
       "    }\n",
       "</style>\n",
       "<table border=\"1\" class=\"dataframe\">\n",
       "  <thead>\n",
       "    <tr style=\"text-align: right;\">\n",
       "      <th></th>\n",
       "      <th>STATEFP</th>\n",
       "      <th>COUNTYFP</th>\n",
       "      <th>TRACTCE</th>\n",
       "      <th>GEOID</th>\n",
       "      <th>NAME</th>\n",
       "      <th>NAMELSAD</th>\n",
       "      <th>MTFCC</th>\n",
       "      <th>FUNCSTAT</th>\n",
       "      <th>ALAND</th>\n",
       "      <th>AWATER</th>\n",
       "      <th>INTPTLAT</th>\n",
       "      <th>INTPTLON</th>\n",
       "      <th>geometry</th>\n",
       "    </tr>\n",
       "  </thead>\n",
       "  <tbody>\n",
       "    <tr>\n",
       "      <th>0</th>\n",
       "      <td>06</td>\n",
       "      <td>001</td>\n",
       "      <td>441402</td>\n",
       "      <td>06001441402</td>\n",
       "      <td>4414.02</td>\n",
       "      <td>Census Tract 4414.02</td>\n",
       "      <td>G5020</td>\n",
       "      <td>S</td>\n",
       "      <td>1634514</td>\n",
       "      <td>0</td>\n",
       "      <td>+37.5823793</td>\n",
       "      <td>-122.0398730</td>\n",
       "      <td>POLYGON ((-122.05035 37.58349, -122.05019 37.5...</td>\n",
       "    </tr>\n",
       "    <tr>\n",
       "      <th>1</th>\n",
       "      <td>06</td>\n",
       "      <td>001</td>\n",
       "      <td>441501</td>\n",
       "      <td>06001441501</td>\n",
       "      <td>4415.01</td>\n",
       "      <td>Census Tract 4415.01</td>\n",
       "      <td>G5020</td>\n",
       "      <td>S</td>\n",
       "      <td>2625003</td>\n",
       "      <td>0</td>\n",
       "      <td>+37.5699748</td>\n",
       "      <td>-122.0724418</td>\n",
       "      <td>POLYGON ((-122.08961 37.56211, -122.08955 37.5...</td>\n",
       "    </tr>\n",
       "    <tr>\n",
       "      <th>2</th>\n",
       "      <td>06</td>\n",
       "      <td>001</td>\n",
       "      <td>441521</td>\n",
       "      <td>06001441521</td>\n",
       "      <td>4415.21</td>\n",
       "      <td>Census Tract 4415.21</td>\n",
       "      <td>G5020</td>\n",
       "      <td>S</td>\n",
       "      <td>1711300</td>\n",
       "      <td>0</td>\n",
       "      <td>+37.5729300</td>\n",
       "      <td>-122.0532584</td>\n",
       "      <td>POLYGON ((-122.06266 37.57135, -122.06229 37.5...</td>\n",
       "    </tr>\n",
       "    <tr>\n",
       "      <th>3</th>\n",
       "      <td>06</td>\n",
       "      <td>001</td>\n",
       "      <td>441522</td>\n",
       "      <td>06001441522</td>\n",
       "      <td>4415.22</td>\n",
       "      <td>Census Tract 4415.22</td>\n",
       "      <td>G5020</td>\n",
       "      <td>S</td>\n",
       "      <td>1307234</td>\n",
       "      <td>0</td>\n",
       "      <td>+37.5845594</td>\n",
       "      <td>-122.0572546</td>\n",
       "      <td>POLYGON ((-122.06428 37.58679, -122.06340 37.5...</td>\n",
       "    </tr>\n",
       "    <tr>\n",
       "      <th>4</th>\n",
       "      <td>06</td>\n",
       "      <td>001</td>\n",
       "      <td>441601</td>\n",
       "      <td>06001441601</td>\n",
       "      <td>4416.01</td>\n",
       "      <td>Census Tract 4416.01</td>\n",
       "      <td>G5020</td>\n",
       "      <td>S</td>\n",
       "      <td>1291645</td>\n",
       "      <td>0</td>\n",
       "      <td>+37.5635007</td>\n",
       "      <td>-122.0305372</td>\n",
       "      <td>POLYGON ((-122.03851 37.56341, -122.03845 37.5...</td>\n",
       "    </tr>\n",
       "    <tr>\n",
       "      <th>...</th>\n",
       "      <td>...</td>\n",
       "      <td>...</td>\n",
       "      <td>...</td>\n",
       "      <td>...</td>\n",
       "      <td>...</td>\n",
       "      <td>...</td>\n",
       "      <td>...</td>\n",
       "      <td>...</td>\n",
       "      <td>...</td>\n",
       "      <td>...</td>\n",
       "      <td>...</td>\n",
       "      <td>...</td>\n",
       "      <td>...</td>\n",
       "    </tr>\n",
       "    <tr>\n",
       "      <th>356</th>\n",
       "      <td>06</td>\n",
       "      <td>001</td>\n",
       "      <td>442900</td>\n",
       "      <td>06001442900</td>\n",
       "      <td>4429</td>\n",
       "      <td>Census Tract 4429</td>\n",
       "      <td>G5020</td>\n",
       "      <td>S</td>\n",
       "      <td>2066523</td>\n",
       "      <td>0</td>\n",
       "      <td>+37.5184093</td>\n",
       "      <td>-121.9748369</td>\n",
       "      <td>POLYGON ((-121.98773 37.52248, -121.98765 37.5...</td>\n",
       "    </tr>\n",
       "    <tr>\n",
       "      <th>357</th>\n",
       "      <td>06</td>\n",
       "      <td>001</td>\n",
       "      <td>443001</td>\n",
       "      <td>06001443001</td>\n",
       "      <td>4430.01</td>\n",
       "      <td>Census Tract 4430.01</td>\n",
       "      <td>G5020</td>\n",
       "      <td>S</td>\n",
       "      <td>768730</td>\n",
       "      <td>0</td>\n",
       "      <td>+37.5184218</td>\n",
       "      <td>-121.9515237</td>\n",
       "      <td>POLYGON ((-121.95760 37.52392, -121.95745 37.5...</td>\n",
       "    </tr>\n",
       "    <tr>\n",
       "      <th>358</th>\n",
       "      <td>06</td>\n",
       "      <td>001</td>\n",
       "      <td>443002</td>\n",
       "      <td>06001443002</td>\n",
       "      <td>4430.02</td>\n",
       "      <td>Census Tract 4430.02</td>\n",
       "      <td>G5020</td>\n",
       "      <td>S</td>\n",
       "      <td>1580323</td>\n",
       "      <td>0</td>\n",
       "      <td>+37.5168344</td>\n",
       "      <td>-121.9605916</td>\n",
       "      <td>POLYGON ((-121.96900 37.52248, -121.96885 37.5...</td>\n",
       "    </tr>\n",
       "    <tr>\n",
       "      <th>359</th>\n",
       "      <td>06</td>\n",
       "      <td>001</td>\n",
       "      <td>443102</td>\n",
       "      <td>06001443102</td>\n",
       "      <td>4431.02</td>\n",
       "      <td>Census Tract 4431.02</td>\n",
       "      <td>G5020</td>\n",
       "      <td>S</td>\n",
       "      <td>2367415</td>\n",
       "      <td>0</td>\n",
       "      <td>+37.5072245</td>\n",
       "      <td>-121.9271486</td>\n",
       "      <td>POLYGON ((-121.93952 37.51476, -121.93926 37.5...</td>\n",
       "    </tr>\n",
       "    <tr>\n",
       "      <th>360</th>\n",
       "      <td>06</td>\n",
       "      <td>001</td>\n",
       "      <td>443301</td>\n",
       "      <td>06001443301</td>\n",
       "      <td>4433.01</td>\n",
       "      <td>Census Tract 4433.01</td>\n",
       "      <td>G5020</td>\n",
       "      <td>S</td>\n",
       "      <td>1577680</td>\n",
       "      <td>0</td>\n",
       "      <td>+37.4707325</td>\n",
       "      <td>-121.9129556</td>\n",
       "      <td>POLYGON ((-121.92094 37.47505, -121.92092 37.4...</td>\n",
       "    </tr>\n",
       "  </tbody>\n",
       "</table>\n",
       "<p>361 rows × 13 columns</p>\n",
       "</div>\n",
       "      <button class=\"colab-df-convert\" onclick=\"convertToInteractive('df-459b20e3-4671-4cca-967d-c474ebee0fc6')\"\n",
       "              title=\"Convert this dataframe to an interactive table.\"\n",
       "              style=\"display:none;\">\n",
       "        \n",
       "  <svg xmlns=\"http://www.w3.org/2000/svg\" height=\"24px\"viewBox=\"0 0 24 24\"\n",
       "       width=\"24px\">\n",
       "    <path d=\"M0 0h24v24H0V0z\" fill=\"none\"/>\n",
       "    <path d=\"M18.56 5.44l.94 2.06.94-2.06 2.06-.94-2.06-.94-.94-2.06-.94 2.06-2.06.94zm-11 1L8.5 8.5l.94-2.06 2.06-.94-2.06-.94L8.5 2.5l-.94 2.06-2.06.94zm10 10l.94 2.06.94-2.06 2.06-.94-2.06-.94-.94-2.06-.94 2.06-2.06.94z\"/><path d=\"M17.41 7.96l-1.37-1.37c-.4-.4-.92-.59-1.43-.59-.52 0-1.04.2-1.43.59L10.3 9.45l-7.72 7.72c-.78.78-.78 2.05 0 2.83L4 21.41c.39.39.9.59 1.41.59.51 0 1.02-.2 1.41-.59l7.78-7.78 2.81-2.81c.8-.78.8-2.07 0-2.86zM5.41 20L4 18.59l7.72-7.72 1.47 1.35L5.41 20z\"/>\n",
       "  </svg>\n",
       "      </button>\n",
       "      \n",
       "  <style>\n",
       "    .colab-df-container {\n",
       "      display:flex;\n",
       "      flex-wrap:wrap;\n",
       "      gap: 12px;\n",
       "    }\n",
       "\n",
       "    .colab-df-convert {\n",
       "      background-color: #E8F0FE;\n",
       "      border: none;\n",
       "      border-radius: 50%;\n",
       "      cursor: pointer;\n",
       "      display: none;\n",
       "      fill: #1967D2;\n",
       "      height: 32px;\n",
       "      padding: 0 0 0 0;\n",
       "      width: 32px;\n",
       "    }\n",
       "\n",
       "    .colab-df-convert:hover {\n",
       "      background-color: #E2EBFA;\n",
       "      box-shadow: 0px 1px 2px rgba(60, 64, 67, 0.3), 0px 1px 3px 1px rgba(60, 64, 67, 0.15);\n",
       "      fill: #174EA6;\n",
       "    }\n",
       "\n",
       "    [theme=dark] .colab-df-convert {\n",
       "      background-color: #3B4455;\n",
       "      fill: #D2E3FC;\n",
       "    }\n",
       "\n",
       "    [theme=dark] .colab-df-convert:hover {\n",
       "      background-color: #434B5C;\n",
       "      box-shadow: 0px 1px 3px 1px rgba(0, 0, 0, 0.15);\n",
       "      filter: drop-shadow(0px 1px 2px rgba(0, 0, 0, 0.3));\n",
       "      fill: #FFFFFF;\n",
       "    }\n",
       "  </style>\n",
       "\n",
       "      <script>\n",
       "        const buttonEl =\n",
       "          document.querySelector('#df-459b20e3-4671-4cca-967d-c474ebee0fc6 button.colab-df-convert');\n",
       "        buttonEl.style.display =\n",
       "          google.colab.kernel.accessAllowed ? 'block' : 'none';\n",
       "\n",
       "        async function convertToInteractive(key) {\n",
       "          const element = document.querySelector('#df-459b20e3-4671-4cca-967d-c474ebee0fc6');\n",
       "          const dataTable =\n",
       "            await google.colab.kernel.invokeFunction('convertToInteractive',\n",
       "                                                     [key], {});\n",
       "          if (!dataTable) return;\n",
       "\n",
       "          const docLinkHtml = 'Like what you see? Visit the ' +\n",
       "            '<a target=\"_blank\" href=https://colab.research.google.com/notebooks/data_table.ipynb>data table notebook</a>'\n",
       "            + ' to learn more about interactive tables.';\n",
       "          element.innerHTML = '';\n",
       "          dataTable['output_type'] = 'display_data';\n",
       "          await google.colab.output.renderOutput(dataTable, element);\n",
       "          const docLink = document.createElement('div');\n",
       "          docLink.innerHTML = docLinkHtml;\n",
       "          element.appendChild(docLink);\n",
       "        }\n",
       "      </script>\n",
       "    </div>\n",
       "  </div>\n",
       "  "
      ],
      "text/plain": [
       "    STATEFP COUNTYFP TRACTCE        GEOID     NAME              NAMELSAD  \\\n",
       "0        06      001  441402  06001441402  4414.02  Census Tract 4414.02   \n",
       "1        06      001  441501  06001441501  4415.01  Census Tract 4415.01   \n",
       "2        06      001  441521  06001441521  4415.21  Census Tract 4415.21   \n",
       "3        06      001  441522  06001441522  4415.22  Census Tract 4415.22   \n",
       "4        06      001  441601  06001441601  4416.01  Census Tract 4416.01   \n",
       "..      ...      ...     ...          ...      ...                   ...   \n",
       "356      06      001  442900  06001442900     4429     Census Tract 4429   \n",
       "357      06      001  443001  06001443001  4430.01  Census Tract 4430.01   \n",
       "358      06      001  443002  06001443002  4430.02  Census Tract 4430.02   \n",
       "359      06      001  443102  06001443102  4431.02  Census Tract 4431.02   \n",
       "360      06      001  443301  06001443301  4433.01  Census Tract 4433.01   \n",
       "\n",
       "     MTFCC FUNCSTAT    ALAND  AWATER     INTPTLAT      INTPTLON  \\\n",
       "0    G5020        S  1634514       0  +37.5823793  -122.0398730   \n",
       "1    G5020        S  2625003       0  +37.5699748  -122.0724418   \n",
       "2    G5020        S  1711300       0  +37.5729300  -122.0532584   \n",
       "3    G5020        S  1307234       0  +37.5845594  -122.0572546   \n",
       "4    G5020        S  1291645       0  +37.5635007  -122.0305372   \n",
       "..     ...      ...      ...     ...          ...           ...   \n",
       "356  G5020        S  2066523       0  +37.5184093  -121.9748369   \n",
       "357  G5020        S   768730       0  +37.5184218  -121.9515237   \n",
       "358  G5020        S  1580323       0  +37.5168344  -121.9605916   \n",
       "359  G5020        S  2367415       0  +37.5072245  -121.9271486   \n",
       "360  G5020        S  1577680       0  +37.4707325  -121.9129556   \n",
       "\n",
       "                                              geometry  \n",
       "0    POLYGON ((-122.05035 37.58349, -122.05019 37.5...  \n",
       "1    POLYGON ((-122.08961 37.56211, -122.08955 37.5...  \n",
       "2    POLYGON ((-122.06266 37.57135, -122.06229 37.5...  \n",
       "3    POLYGON ((-122.06428 37.58679, -122.06340 37.5...  \n",
       "4    POLYGON ((-122.03851 37.56341, -122.03845 37.5...  \n",
       "..                                                 ...  \n",
       "356  POLYGON ((-121.98773 37.52248, -121.98765 37.5...  \n",
       "357  POLYGON ((-121.95760 37.52392, -121.95745 37.5...  \n",
       "358  POLYGON ((-121.96900 37.52248, -121.96885 37.5...  \n",
       "359  POLYGON ((-121.93952 37.51476, -121.93926 37.5...  \n",
       "360  POLYGON ((-121.92094 37.47505, -121.92092 37.4...  \n",
       "\n",
       "[361 rows x 13 columns]"
      ]
     },
     "execution_count": 39,
     "metadata": {},
     "output_type": "execute_result"
    }
   ],
   "source": [
    "#use geopandas to read in the shapefile that contains the polygons representing census tracts\n",
    "tracts = gpd.read_file(\"/content/drive/MyDrive/Colab Notebooks/ALPR/Alameda_CTracts.shp\")\n",
    "tracts"
   ]
  },
  {
   "cell_type": "markdown",
   "id": "803e5891",
   "metadata": {
    "id": "803e5891"
   },
   "source": [
    "Here is a dictionary with a description of all of the features available in our census data. It is a subset of the California Environmental Protection Agency (CalEPA) CalEnviroScreen project... You can find the original data [here]().\n",
    "\n",
    "<br/>\n",
    "\n",
    "|Feature|Description|\n",
    "|---|---|\n",
    "|Census Tract|\tCensus Tract ID from 2010 Census|\n",
    "|Total Population|\t2019 ACS population estimates in census tracts|\n",
    "|California County|\tCalifornia county that the census tract falls within|\n",
    "|ZIP|\tPostal ZIP Code that the census tract falls within|\n",
    "|Longitude|\tLongitude of the centroid of the census tract|\n",
    "|Latitude|\tLatitude of the centroid of the census tract|\n",
    "|Traffic| Traffic density, in vehicle-kilometers per hour per road length, within 150 meters of the census tract boundary | \n",
    "|Children < 10 years (%)|\t2019 ACS population estimates of the percent per census tract of children under 10 years old|\n",
    "|Pop 10-64 years (%)|\t2019 ACS population estimates of the percent per census tract of people between 10 and 64 years old|\n",
    "|Elderly > 64 years (%)|\t2019 ACS population estimates of the percent per census tract of elderly 65 years and older|\n",
    "|Hispanic or Latino (%)|\t2019 ACS population estimates of the percent per census tract of those who identify as Hispanic or Latino|\n",
    "|White (%)|\t2019 ACS population estimates of the percent per census tract of those who identify as non-Hispanic White|\n",
    "|African American or Black (%)|\t2019 ACS population estimates of the percent per census tract of those who identify as non-Hispanic African American or Black|\n",
    "|Native American (%)|\t2019 ACS population estimates of the percent per census tract of those who identify as non-Hispanic Native American|\n",
    "|Asian American or Pacific Islander (%)|\t2019 ACS population estimates of the percent per census tract of those who identify as non-Hispanic Asian or Pacific Islander|\n",
    "|Other/Multiple (%)|\t2019 ACS population estimates of the percent per census tract of those who identify as non-Hispanic \"other\" or as multiple races|"
   ]
  },
  {
   "cell_type": "markdown",
   "id": "1c31d005",
   "metadata": {
    "id": "1c31d005"
   },
   "source": [
    "**Q3a:** What are three types of data collected per census tract and why might it be helpful to keep track of this data per census tract?"
   ]
  },
  {
   "cell_type": "markdown",
   "id": "adbeabe9",
   "metadata": {
    "id": "adbeabe9"
   },
   "source": [
    "*Answer here*"
   ]
  },
  {
   "cell_type": "markdown",
   "id": "7234ec65",
   "metadata": {
    "id": "7234ec65"
   },
   "source": [
    "Now let's load in the data..."
   ]
  },
  {
   "cell_type": "code",
   "execution_count": 42,
   "id": "ef55f0f9",
   "metadata": {
    "colab": {
     "base_uri": "https://localhost:8080/",
     "height": 392
    },
    "executionInfo": {
     "elapsed": 909,
     "status": "ok",
     "timestamp": 1669694483620,
     "user": {
      "displayName": "Janet Torres",
      "userId": "13024228812197515564"
     },
     "user_tz": 480
    },
    "id": "ef55f0f9",
    "outputId": "cd0d4a51-2438-4908-ff97-5acbe3c87bf4",
    "scrolled": false
   },
   "outputs": [
    {
     "data": {
      "text/html": [
       "<table border=\"1\" class=\"dataframe\">\n",
       "    <thead>\n",
       "        <tr>\n",
       "            <th>Census Tract</th> <th>California County</th> <th>ZIP</th> <th>Approximate Location</th> <th>Longitude</th> <th>Latitude</th> <th>Traffic</th>\n",
       "        </tr>\n",
       "    </thead>\n",
       "    <tbody>\n",
       "        <tr>\n",
       "            <td>6019001100  </td> <td>Fresno           </td> <td>93706</td> <td>Fresno                           </td> <td>-119.782 </td> <td>36.7097 </td> <td>1037.1 </td>\n",
       "        </tr>\n",
       "        <tr>\n",
       "            <td>6077000700  </td> <td>San Joaquin      </td> <td>95206</td> <td>Stockton                         </td> <td>-121.288 </td> <td>37.9432 </td> <td>856.396</td>\n",
       "        </tr>\n",
       "        <tr>\n",
       "            <td>6037204920  </td> <td>Los Angeles      </td> <td>90023</td> <td>Los Angeles                      </td> <td>-118.197 </td> <td>34.0175 </td> <td>2522.62</td>\n",
       "        </tr>\n",
       "        <tr>\n",
       "            <td>6019000700  </td> <td>Fresno           </td> <td>93706</td> <td>Fresno                           </td> <td>-119.828 </td> <td>36.7345 </td> <td>690.502</td>\n",
       "        </tr>\n",
       "        <tr>\n",
       "            <td>6019000200  </td> <td>Fresno           </td> <td>93706</td> <td>Fresno                           </td> <td>-119.806 </td> <td>36.7355 </td> <td>909.651</td>\n",
       "        </tr>\n",
       "        <tr>\n",
       "            <td>6037542402  </td> <td>Los Angeles      </td> <td>90221</td> <td>Compton                          </td> <td>-118.212 </td> <td>33.882  </td> <td>1480.52</td>\n",
       "        </tr>\n",
       "        <tr>\n",
       "            <td>6019001000  </td> <td>Fresno           </td> <td>93706</td> <td>Fresno                           </td> <td>-119.804 </td> <td>36.6978 </td> <td>243.272</td>\n",
       "        </tr>\n",
       "        <tr>\n",
       "            <td>6037543202  </td> <td>Los Angeles      </td> <td>90220</td> <td>Compton                          </td> <td>-118.23  </td> <td>33.8799 </td> <td>1575.35</td>\n",
       "        </tr>\n",
       "        <tr>\n",
       "            <td>6019001202  </td> <td>Fresno           </td> <td>93725</td> <td>Unincorporated Fresno County area</td> <td>-119.741 </td> <td>36.7027 </td> <td>438.594</td>\n",
       "        </tr>\n",
       "        <tr>\n",
       "            <td>6077000100  </td> <td>San Joaquin      </td> <td>95202</td> <td>Stockton                         </td> <td>-121.285 </td> <td>37.954  </td> <td>287.456</td>\n",
       "        </tr>\n",
       "    </tbody>\n",
       "</table>\n",
       "<p>... (8025 rows omitted)</p>"
      ],
      "text/plain": [
       "Census Tract | California County | ZIP   | Approximate Location              | Longitude | Latitude | Traffic\n",
       "6019001100   | Fresno            | 93706 | Fresno                            | -119.782  | 36.7097  | 1037.1\n",
       "6077000700   | San Joaquin       | 95206 | Stockton                          | -121.288  | 37.9432  | 856.396\n",
       "6037204920   | Los Angeles       | 90023 | Los Angeles                       | -118.197  | 34.0175  | 2522.62\n",
       "6019000700   | Fresno            | 93706 | Fresno                            | -119.828  | 36.7345  | 690.502\n",
       "6019000200   | Fresno            | 93706 | Fresno                            | -119.806  | 36.7355  | 909.651\n",
       "6037542402   | Los Angeles       | 90221 | Compton                           | -118.212  | 33.882   | 1480.52\n",
       "6019001000   | Fresno            | 93706 | Fresno                            | -119.804  | 36.6978  | 243.272\n",
       "6037543202   | Los Angeles       | 90220 | Compton                           | -118.23   | 33.8799  | 1575.35\n",
       "6019001202   | Fresno            | 93725 | Unincorporated Fresno County area | -119.741  | 36.7027  | 438.594\n",
       "6077000100   | San Joaquin       | 95202 | Stockton                          | -121.285  | 37.954   | 287.456\n",
       "... (8025 rows omitted)"
      ]
     },
     "execution_count": 42,
     "metadata": {},
     "output_type": "execute_result"
    }
   ],
   "source": [
    "indicators = Table().read_table(\"/content/drive/MyDrive/Colab Notebooks/ALPR/indicators.csv\")\n",
    "indicators"
   ]
  },
  {
   "cell_type": "code",
   "execution_count": 43,
   "id": "5feb4f6c",
   "metadata": {
    "colab": {
     "base_uri": "https://localhost:8080/",
     "height": 464
    },
    "executionInfo": {
     "elapsed": 644,
     "status": "ok",
     "timestamp": 1669694487338,
     "user": {
      "displayName": "Janet Torres",
      "userId": "13024228812197515564"
     },
     "user_tz": 480
    },
    "id": "5feb4f6c",
    "outputId": "864eb916-ed28-4bf4-b7cd-ce7f81c3e2b7",
    "scrolled": false
   },
   "outputs": [
    {
     "data": {
      "text/html": [
       "<table border=\"1\" class=\"dataframe\">\n",
       "    <thead>\n",
       "        <tr>\n",
       "            <th>Census Tract</th> <th>Total Population</th> <th>Children < 10 years (%)</th> <th>Pop 10-64 years (%)</th> <th>Elderly > 64 years (%)</th> <th>Hispanic (%)</th> <th>White (%)</th> <th>African American (%)</th> <th>Native American (%)</th> <th>Asian American (%)</th> <th>Other/Multiple (%)</th>\n",
       "        </tr>\n",
       "    </thead>\n",
       "    <tbody>\n",
       "        <tr>\n",
       "            <td>6001400100  </td> <td>3120            </td> <td>7.82                   </td> <td>66.12              </td> <td>26.06                 </td> <td>3.78        </td> <td>74.26    </td> <td>3.43                </td> <td>0                  </td> <td>12.53             </td> <td>5.99              </td>\n",
       "        </tr>\n",
       "        <tr>\n",
       "            <td>6001400200  </td> <td>2007            </td> <td>10.46                  </td> <td>66.32              </td> <td>23.22                 </td> <td>8.67        </td> <td>73.49    </td> <td>2.59                </td> <td>0.2                </td> <td>8.52              </td> <td>6.53              </td>\n",
       "        </tr>\n",
       "        <tr>\n",
       "            <td>6001400300  </td> <td>5051            </td> <td>11.42                  </td> <td>73.04              </td> <td>15.54                 </td> <td>6.95        </td> <td>67.99    </td> <td>9.09                </td> <td>0                  </td> <td>12.14             </td> <td>3.84              </td>\n",
       "        </tr>\n",
       "        <tr>\n",
       "            <td>6001400400  </td> <td>4007            </td> <td>9.38                   </td> <td>78.79              </td> <td>11.83                 </td> <td>12.1        </td> <td>63.74    </td> <td>6.64                </td> <td>0.87               </td> <td>10.48             </td> <td>6.16              </td>\n",
       "        </tr>\n",
       "        <tr>\n",
       "            <td>6001400500  </td> <td>4124            </td> <td>9.12                   </td> <td>81.96              </td> <td>8.92                  </td> <td>9.46        </td> <td>45.44    </td> <td>21.39               </td> <td>0                  </td> <td>11.34             </td> <td>12.37             </td>\n",
       "        </tr>\n",
       "        <tr>\n",
       "            <td>6001400600  </td> <td>1745            </td> <td>9.97                   </td> <td>81.43              </td> <td>8.6                   </td> <td>7.51        </td> <td>49.28    </td> <td>20.52               </td> <td>0.17               </td> <td>10.54             </td> <td>11.98             </td>\n",
       "        </tr>\n",
       "        <tr>\n",
       "            <td>6001400700  </td> <td>5128            </td> <td>7.62                   </td> <td>82.45              </td> <td>9.93                  </td> <td>19.38       </td> <td>38.28    </td> <td>28.24               </td> <td>0                  </td> <td>6.42              </td> <td>7.68              </td>\n",
       "        </tr>\n",
       "        <tr>\n",
       "            <td>6001400800  </td> <td>4069            </td> <td>9.04                   </td> <td>81.52              </td> <td>9.44                  </td> <td>10.62       </td> <td>43.55    </td> <td>23.27               </td> <td>0.2                </td> <td>15.19             </td> <td>7.18              </td>\n",
       "        </tr>\n",
       "        <tr>\n",
       "            <td>6001400900  </td> <td>2471            </td> <td>11.17                  </td> <td>79.81              </td> <td>9.02                  </td> <td>15.82       </td> <td>41.64    </td> <td>28.77               </td> <td>2.47               </td> <td>4.09              </td> <td>7.2               </td>\n",
       "        </tr>\n",
       "        <tr>\n",
       "            <td>6001401000  </td> <td>6133            </td> <td>9.96                   </td> <td>80.61              </td> <td>9.42                  </td> <td>18.72       </td> <td>33.44    </td> <td>30.36               </td> <td>0                  </td> <td>8.27              </td> <td>9.21              </td>\n",
       "        </tr>\n",
       "    </tbody>\n",
       "</table>\n",
       "<p>... (8025 rows omitted)</p>"
      ],
      "text/plain": [
       "Census Tract | Total Population | Children < 10 years (%) | Pop 10-64 years (%) | Elderly > 64 years (%) | Hispanic (%) | White (%) | African American (%) | Native American (%) | Asian American (%) | Other/Multiple (%)\n",
       "6001400100   | 3120             | 7.82                    | 66.12               | 26.06                  | 3.78         | 74.26     | 3.43                 | 0                   | 12.53              | 5.99\n",
       "6001400200   | 2007             | 10.46                   | 66.32               | 23.22                  | 8.67         | 73.49     | 2.59                 | 0.2                 | 8.52               | 6.53\n",
       "6001400300   | 5051             | 11.42                   | 73.04               | 15.54                  | 6.95         | 67.99     | 9.09                 | 0                   | 12.14              | 3.84\n",
       "6001400400   | 4007             | 9.38                    | 78.79               | 11.83                  | 12.1         | 63.74     | 6.64                 | 0.87                | 10.48              | 6.16\n",
       "6001400500   | 4124             | 9.12                    | 81.96               | 8.92                   | 9.46         | 45.44     | 21.39                | 0                   | 11.34              | 12.37\n",
       "6001400600   | 1745             | 9.97                    | 81.43               | 8.6                    | 7.51         | 49.28     | 20.52                | 0.17                | 10.54              | 11.98\n",
       "6001400700   | 5128             | 7.62                    | 82.45               | 9.93                   | 19.38        | 38.28     | 28.24                | 0                   | 6.42               | 7.68\n",
       "6001400800   | 4069             | 9.04                    | 81.52               | 9.44                   | 10.62        | 43.55     | 23.27                | 0.2                 | 15.19              | 7.18\n",
       "6001400900   | 2471             | 11.17                   | 79.81               | 9.02                   | 15.82        | 41.64     | 28.77                | 2.47                | 4.09               | 7.2\n",
       "6001401000   | 6133             | 9.96                    | 80.61               | 9.42                   | 18.72        | 33.44     | 30.36                | 0                   | 8.27               | 9.21\n",
       "... (8025 rows omitted)"
      ]
     },
     "execution_count": 43,
     "metadata": {},
     "output_type": "execute_result"
    }
   ],
   "source": [
    "demographics = Table().read_table(\"/content/drive/MyDrive/Colab Notebooks/ALPR/demographics.csv\")\n",
    "demographics"
   ]
  },
  {
   "cell_type": "markdown",
   "id": "bea92a62",
   "metadata": {
    "id": "bea92a62"
   },
   "source": [
    "Let's take a look at Oakland and join our data."
   ]
  },
  {
   "cell_type": "code",
   "execution_count": 44,
   "id": "ddc8bf78",
   "metadata": {
    "executionInfo": {
     "elapsed": 4,
     "status": "ok",
     "timestamp": 1669694489743,
     "user": {
      "displayName": "Janet Torres",
      "userId": "13024228812197515564"
     },
     "user_tz": 480
    },
    "id": "ddc8bf78"
   },
   "outputs": [],
   "source": [
    "oakland_indicators = indicators.where(\"Approximate Location\", are.equal_to(\"Oakland\"))"
   ]
  },
  {
   "cell_type": "code",
   "execution_count": 45,
   "id": "6f6a8e9e",
   "metadata": {
    "executionInfo": {
     "elapsed": 671,
     "status": "ok",
     "timestamp": 1669694491847,
     "user": {
      "displayName": "Janet Torres",
      "userId": "13024228812197515564"
     },
     "user_tz": 480
    },
    "id": "6f6a8e9e"
   },
   "outputs": [],
   "source": [
    "oakland = oakland_indicators.join(\"Census Tract\", demographics)"
   ]
  },
  {
   "cell_type": "code",
   "execution_count": 48,
   "id": "aeca57a7",
   "metadata": {
    "colab": {
     "base_uri": "https://localhost:8080/",
     "height": 540
    },
    "executionInfo": {
     "elapsed": 260,
     "status": "ok",
     "timestamp": 1669697304919,
     "user": {
      "displayName": "Janet Torres",
      "userId": "13024228812197515564"
     },
     "user_tz": 480
    },
    "id": "aeca57a7",
    "outputId": "67442d63-fcf6-4af3-878e-ac1ef36edcf6",
    "scrolled": false
   },
   "outputs": [
    {
     "data": {
      "text/html": [
       "\n",
       "  <div id=\"df-b48bf2c0-ac6e-4d90-b865-9577e3e54770\">\n",
       "    <div class=\"colab-df-container\">\n",
       "      <div>\n",
       "<style scoped>\n",
       "    .dataframe tbody tr th:only-of-type {\n",
       "        vertical-align: middle;\n",
       "    }\n",
       "\n",
       "    .dataframe tbody tr th {\n",
       "        vertical-align: top;\n",
       "    }\n",
       "\n",
       "    .dataframe thead th {\n",
       "        text-align: right;\n",
       "    }\n",
       "</style>\n",
       "<table border=\"1\" class=\"dataframe\">\n",
       "  <thead>\n",
       "    <tr style=\"text-align: right;\">\n",
       "      <th></th>\n",
       "      <th>Census Tract</th>\n",
       "      <th>California County</th>\n",
       "      <th>ZIP</th>\n",
       "      <th>Approximate Location</th>\n",
       "      <th>Longitude</th>\n",
       "      <th>Latitude</th>\n",
       "      <th>Traffic</th>\n",
       "      <th>Total Population</th>\n",
       "      <th>Children &lt; 10 years (%)</th>\n",
       "      <th>Pop 10-64 years (%)</th>\n",
       "      <th>Elderly &gt; 64 years (%)</th>\n",
       "      <th>Hispanic (%)</th>\n",
       "      <th>White (%)</th>\n",
       "      <th>African American (%)</th>\n",
       "      <th>Native American (%)</th>\n",
       "      <th>Asian American (%)</th>\n",
       "      <th>Other/Multiple (%)</th>\n",
       "    </tr>\n",
       "  </thead>\n",
       "  <tbody>\n",
       "    <tr>\n",
       "      <th>0</th>\n",
       "      <td>6001400100</td>\n",
       "      <td>Alameda</td>\n",
       "      <td>94704</td>\n",
       "      <td>Oakland</td>\n",
       "      <td>-122.231903</td>\n",
       "      <td>37.867595</td>\n",
       "      <td>965.946167</td>\n",
       "      <td>3120</td>\n",
       "      <td>7.82</td>\n",
       "      <td>66.12</td>\n",
       "      <td>26.06</td>\n",
       "      <td>3.78</td>\n",
       "      <td>74.26</td>\n",
       "      <td>3.43</td>\n",
       "      <td>0.00</td>\n",
       "      <td>12.53</td>\n",
       "      <td>5.99</td>\n",
       "    </tr>\n",
       "    <tr>\n",
       "      <th>1</th>\n",
       "      <td>6001400200</td>\n",
       "      <td>Alameda</td>\n",
       "      <td>94618</td>\n",
       "      <td>Oakland</td>\n",
       "      <td>-122.249576</td>\n",
       "      <td>37.848171</td>\n",
       "      <td>716.822539</td>\n",
       "      <td>2007</td>\n",
       "      <td>10.46</td>\n",
       "      <td>66.32</td>\n",
       "      <td>23.22</td>\n",
       "      <td>8.67</td>\n",
       "      <td>73.49</td>\n",
       "      <td>2.59</td>\n",
       "      <td>0.20</td>\n",
       "      <td>8.52</td>\n",
       "      <td>6.53</td>\n",
       "    </tr>\n",
       "    <tr>\n",
       "      <th>2</th>\n",
       "      <td>6001400300</td>\n",
       "      <td>Alameda</td>\n",
       "      <td>94618</td>\n",
       "      <td>Oakland</td>\n",
       "      <td>-122.254436</td>\n",
       "      <td>37.840598</td>\n",
       "      <td>776.490765</td>\n",
       "      <td>5051</td>\n",
       "      <td>11.42</td>\n",
       "      <td>73.04</td>\n",
       "      <td>15.54</td>\n",
       "      <td>6.95</td>\n",
       "      <td>67.99</td>\n",
       "      <td>9.09</td>\n",
       "      <td>0.00</td>\n",
       "      <td>12.14</td>\n",
       "      <td>3.84</td>\n",
       "    </tr>\n",
       "    <tr>\n",
       "      <th>3</th>\n",
       "      <td>6001400400</td>\n",
       "      <td>Alameda</td>\n",
       "      <td>94609</td>\n",
       "      <td>Oakland</td>\n",
       "      <td>-122.257463</td>\n",
       "      <td>37.848211</td>\n",
       "      <td>721.542801</td>\n",
       "      <td>4007</td>\n",
       "      <td>9.38</td>\n",
       "      <td>78.79</td>\n",
       "      <td>11.83</td>\n",
       "      <td>12.10</td>\n",
       "      <td>63.74</td>\n",
       "      <td>6.64</td>\n",
       "      <td>0.87</td>\n",
       "      <td>10.48</td>\n",
       "      <td>6.16</td>\n",
       "    </tr>\n",
       "    <tr>\n",
       "      <th>4</th>\n",
       "      <td>6001400500</td>\n",
       "      <td>Alameda</td>\n",
       "      <td>94609</td>\n",
       "      <td>Oakland</td>\n",
       "      <td>-122.264745</td>\n",
       "      <td>37.848517</td>\n",
       "      <td>862.266860</td>\n",
       "      <td>4124</td>\n",
       "      <td>9.12</td>\n",
       "      <td>81.96</td>\n",
       "      <td>8.92</td>\n",
       "      <td>9.46</td>\n",
       "      <td>45.44</td>\n",
       "      <td>21.39</td>\n",
       "      <td>0.00</td>\n",
       "      <td>11.34</td>\n",
       "      <td>12.37</td>\n",
       "    </tr>\n",
       "    <tr>\n",
       "      <th>...</th>\n",
       "      <td>...</td>\n",
       "      <td>...</td>\n",
       "      <td>...</td>\n",
       "      <td>...</td>\n",
       "      <td>...</td>\n",
       "      <td>...</td>\n",
       "      <td>...</td>\n",
       "      <td>...</td>\n",
       "      <td>...</td>\n",
       "      <td>...</td>\n",
       "      <td>...</td>\n",
       "      <td>...</td>\n",
       "      <td>...</td>\n",
       "      <td>...</td>\n",
       "      <td>...</td>\n",
       "      <td>...</td>\n",
       "      <td>...</td>\n",
       "    </tr>\n",
       "    <tr>\n",
       "      <th>108</th>\n",
       "      <td>6001410400</td>\n",
       "      <td>Alameda</td>\n",
       "      <td>94603</td>\n",
       "      <td>Oakland</td>\n",
       "      <td>-122.162174</td>\n",
       "      <td>37.740816</td>\n",
       "      <td>423.727424</td>\n",
       "      <td>4477</td>\n",
       "      <td>11.32</td>\n",
       "      <td>77.06</td>\n",
       "      <td>11.61</td>\n",
       "      <td>47.71</td>\n",
       "      <td>6.39</td>\n",
       "      <td>33.62</td>\n",
       "      <td>0.27</td>\n",
       "      <td>10.10</td>\n",
       "      <td>1.92</td>\n",
       "    </tr>\n",
       "    <tr>\n",
       "      <th>109</th>\n",
       "      <td>6001410500</td>\n",
       "      <td>Alameda</td>\n",
       "      <td>94607</td>\n",
       "      <td>Oakland</td>\n",
       "      <td>-122.288956</td>\n",
       "      <td>37.810020</td>\n",
       "      <td>530.110309</td>\n",
       "      <td>2705</td>\n",
       "      <td>16.67</td>\n",
       "      <td>75.60</td>\n",
       "      <td>7.73</td>\n",
       "      <td>9.83</td>\n",
       "      <td>14.90</td>\n",
       "      <td>61.07</td>\n",
       "      <td>0.26</td>\n",
       "      <td>11.76</td>\n",
       "      <td>2.18</td>\n",
       "    </tr>\n",
       "    <tr>\n",
       "      <th>110</th>\n",
       "      <td>6001981900</td>\n",
       "      <td>Alameda</td>\n",
       "      <td>94607</td>\n",
       "      <td>Oakland</td>\n",
       "      <td>-122.319896</td>\n",
       "      <td>37.803357</td>\n",
       "      <td>1118.257880</td>\n",
       "      <td>58</td>\n",
       "      <td>0.00</td>\n",
       "      <td>100.00</td>\n",
       "      <td>0.00</td>\n",
       "      <td>13.79</td>\n",
       "      <td>86.21</td>\n",
       "      <td>0.00</td>\n",
       "      <td>0.00</td>\n",
       "      <td>0.00</td>\n",
       "      <td>0.00</td>\n",
       "    </tr>\n",
       "    <tr>\n",
       "      <th>111</th>\n",
       "      <td>6001982000</td>\n",
       "      <td>Alameda</td>\n",
       "      <td>94607</td>\n",
       "      <td>Oakland</td>\n",
       "      <td>-122.294396</td>\n",
       "      <td>37.796126</td>\n",
       "      <td>968.596270</td>\n",
       "      <td>63</td>\n",
       "      <td>22.22</td>\n",
       "      <td>77.78</td>\n",
       "      <td>0.00</td>\n",
       "      <td>12.70</td>\n",
       "      <td>15.87</td>\n",
       "      <td>36.51</td>\n",
       "      <td>3.17</td>\n",
       "      <td>31.75</td>\n",
       "      <td>0.00</td>\n",
       "    </tr>\n",
       "    <tr>\n",
       "      <th>112</th>\n",
       "      <td>6001983200</td>\n",
       "      <td>Alameda</td>\n",
       "      <td>94607</td>\n",
       "      <td>Oakland</td>\n",
       "      <td>-122.277268</td>\n",
       "      <td>37.795946</td>\n",
       "      <td>1796.642270</td>\n",
       "      <td>583</td>\n",
       "      <td>2.57</td>\n",
       "      <td>85.59</td>\n",
       "      <td>11.84</td>\n",
       "      <td>8.06</td>\n",
       "      <td>52.83</td>\n",
       "      <td>9.09</td>\n",
       "      <td>1.54</td>\n",
       "      <td>24.18</td>\n",
       "      <td>4.29</td>\n",
       "    </tr>\n",
       "  </tbody>\n",
       "</table>\n",
       "<p>113 rows × 17 columns</p>\n",
       "</div>\n",
       "      <button class=\"colab-df-convert\" onclick=\"convertToInteractive('df-b48bf2c0-ac6e-4d90-b865-9577e3e54770')\"\n",
       "              title=\"Convert this dataframe to an interactive table.\"\n",
       "              style=\"display:none;\">\n",
       "        \n",
       "  <svg xmlns=\"http://www.w3.org/2000/svg\" height=\"24px\"viewBox=\"0 0 24 24\"\n",
       "       width=\"24px\">\n",
       "    <path d=\"M0 0h24v24H0V0z\" fill=\"none\"/>\n",
       "    <path d=\"M18.56 5.44l.94 2.06.94-2.06 2.06-.94-2.06-.94-.94-2.06-.94 2.06-2.06.94zm-11 1L8.5 8.5l.94-2.06 2.06-.94-2.06-.94L8.5 2.5l-.94 2.06-2.06.94zm10 10l.94 2.06.94-2.06 2.06-.94-2.06-.94-.94-2.06-.94 2.06-2.06.94z\"/><path d=\"M17.41 7.96l-1.37-1.37c-.4-.4-.92-.59-1.43-.59-.52 0-1.04.2-1.43.59L10.3 9.45l-7.72 7.72c-.78.78-.78 2.05 0 2.83L4 21.41c.39.39.9.59 1.41.59.51 0 1.02-.2 1.41-.59l7.78-7.78 2.81-2.81c.8-.78.8-2.07 0-2.86zM5.41 20L4 18.59l7.72-7.72 1.47 1.35L5.41 20z\"/>\n",
       "  </svg>\n",
       "      </button>\n",
       "      \n",
       "  <style>\n",
       "    .colab-df-container {\n",
       "      display:flex;\n",
       "      flex-wrap:wrap;\n",
       "      gap: 12px;\n",
       "    }\n",
       "\n",
       "    .colab-df-convert {\n",
       "      background-color: #E8F0FE;\n",
       "      border: none;\n",
       "      border-radius: 50%;\n",
       "      cursor: pointer;\n",
       "      display: none;\n",
       "      fill: #1967D2;\n",
       "      height: 32px;\n",
       "      padding: 0 0 0 0;\n",
       "      width: 32px;\n",
       "    }\n",
       "\n",
       "    .colab-df-convert:hover {\n",
       "      background-color: #E2EBFA;\n",
       "      box-shadow: 0px 1px 2px rgba(60, 64, 67, 0.3), 0px 1px 3px 1px rgba(60, 64, 67, 0.15);\n",
       "      fill: #174EA6;\n",
       "    }\n",
       "\n",
       "    [theme=dark] .colab-df-convert {\n",
       "      background-color: #3B4455;\n",
       "      fill: #D2E3FC;\n",
       "    }\n",
       "\n",
       "    [theme=dark] .colab-df-convert:hover {\n",
       "      background-color: #434B5C;\n",
       "      box-shadow: 0px 1px 3px 1px rgba(0, 0, 0, 0.15);\n",
       "      filter: drop-shadow(0px 1px 2px rgba(0, 0, 0, 0.3));\n",
       "      fill: #FFFFFF;\n",
       "    }\n",
       "  </style>\n",
       "\n",
       "      <script>\n",
       "        const buttonEl =\n",
       "          document.querySelector('#df-b48bf2c0-ac6e-4d90-b865-9577e3e54770 button.colab-df-convert');\n",
       "        buttonEl.style.display =\n",
       "          google.colab.kernel.accessAllowed ? 'block' : 'none';\n",
       "\n",
       "        async function convertToInteractive(key) {\n",
       "          const element = document.querySelector('#df-b48bf2c0-ac6e-4d90-b865-9577e3e54770');\n",
       "          const dataTable =\n",
       "            await google.colab.kernel.invokeFunction('convertToInteractive',\n",
       "                                                     [key], {});\n",
       "          if (!dataTable) return;\n",
       "\n",
       "          const docLinkHtml = 'Like what you see? Visit the ' +\n",
       "            '<a target=\"_blank\" href=https://colab.research.google.com/notebooks/data_table.ipynb>data table notebook</a>'\n",
       "            + ' to learn more about interactive tables.';\n",
       "          element.innerHTML = '';\n",
       "          dataTable['output_type'] = 'display_data';\n",
       "          await google.colab.output.renderOutput(dataTable, element);\n",
       "          const docLink = document.createElement('div');\n",
       "          docLink.innerHTML = docLinkHtml;\n",
       "          element.appendChild(docLink);\n",
       "        }\n",
       "      </script>\n",
       "    </div>\n",
       "  </div>\n",
       "  "
      ],
      "text/plain": [
       "     Census Tract California County    ZIP Approximate Location   Longitude  \\\n",
       "0      6001400100          Alameda   94704              Oakland -122.231903   \n",
       "1      6001400200          Alameda   94618              Oakland -122.249576   \n",
       "2      6001400300          Alameda   94618              Oakland -122.254436   \n",
       "3      6001400400          Alameda   94609              Oakland -122.257463   \n",
       "4      6001400500          Alameda   94609              Oakland -122.264745   \n",
       "..            ...               ...    ...                  ...         ...   \n",
       "108    6001410400          Alameda   94603              Oakland -122.162174   \n",
       "109    6001410500          Alameda   94607              Oakland -122.288956   \n",
       "110    6001981900          Alameda   94607              Oakland -122.319896   \n",
       "111    6001982000          Alameda   94607              Oakland -122.294396   \n",
       "112    6001983200          Alameda   94607              Oakland -122.277268   \n",
       "\n",
       "      Latitude      Traffic  Total Population  Children < 10 years (%)  \\\n",
       "0    37.867595   965.946167              3120                     7.82   \n",
       "1    37.848171   716.822539              2007                    10.46   \n",
       "2    37.840598   776.490765              5051                    11.42   \n",
       "3    37.848211   721.542801              4007                     9.38   \n",
       "4    37.848517   862.266860              4124                     9.12   \n",
       "..         ...          ...               ...                      ...   \n",
       "108  37.740816   423.727424              4477                    11.32   \n",
       "109  37.810020   530.110309              2705                    16.67   \n",
       "110  37.803357  1118.257880                58                     0.00   \n",
       "111  37.796126   968.596270                63                    22.22   \n",
       "112  37.795946  1796.642270               583                     2.57   \n",
       "\n",
       "     Pop 10-64 years (%)  Elderly > 64 years (%)  Hispanic (%)  White (%)  \\\n",
       "0                  66.12                   26.06          3.78      74.26   \n",
       "1                  66.32                   23.22          8.67      73.49   \n",
       "2                  73.04                   15.54          6.95      67.99   \n",
       "3                  78.79                   11.83         12.10      63.74   \n",
       "4                  81.96                    8.92          9.46      45.44   \n",
       "..                   ...                     ...           ...        ...   \n",
       "108                77.06                   11.61         47.71       6.39   \n",
       "109                75.60                    7.73          9.83      14.90   \n",
       "110               100.00                    0.00         13.79      86.21   \n",
       "111                77.78                    0.00         12.70      15.87   \n",
       "112                85.59                   11.84          8.06      52.83   \n",
       "\n",
       "     African American (%)  Native American (%)  Asian American (%)  \\\n",
       "0                    3.43                 0.00               12.53   \n",
       "1                    2.59                 0.20                8.52   \n",
       "2                    9.09                 0.00               12.14   \n",
       "3                    6.64                 0.87               10.48   \n",
       "4                   21.39                 0.00               11.34   \n",
       "..                    ...                  ...                 ...   \n",
       "108                 33.62                 0.27               10.10   \n",
       "109                 61.07                 0.26               11.76   \n",
       "110                  0.00                 0.00                0.00   \n",
       "111                 36.51                 3.17               31.75   \n",
       "112                  9.09                 1.54               24.18   \n",
       "\n",
       "     Other/Multiple (%)  \n",
       "0                  5.99  \n",
       "1                  6.53  \n",
       "2                  3.84  \n",
       "3                  6.16  \n",
       "4                 12.37  \n",
       "..                  ...  \n",
       "108                1.92  \n",
       "109                2.18  \n",
       "110                0.00  \n",
       "111                0.00  \n",
       "112                4.29  \n",
       "\n",
       "[113 rows x 17 columns]"
      ]
     },
     "execution_count": 48,
     "metadata": {},
     "output_type": "execute_result"
    }
   ],
   "source": [
    "oakland"
   ]
  },
  {
   "cell_type": "markdown",
   "id": "e2ac3096",
   "metadata": {
    "id": "e2ac3096"
   },
   "source": [
    "### Analysis"
   ]
  },
  {
   "cell_type": "markdown",
   "id": "121064ad",
   "metadata": {
    "id": "121064ad"
   },
   "source": [
    "Before moving onto a spatial analysis of our data, let's first get an understanding of the distributions and associations with visualizations."
   ]
  },
  {
   "cell_type": "code",
   "execution_count": null,
   "id": "0a892e4e",
   "metadata": {
    "colab": {
     "base_uri": "https://localhost:8080/",
     "height": 302
    },
    "executionInfo": {
     "elapsed": 11,
     "status": "ok",
     "timestamp": 1669668042404,
     "user": {
      "displayName": "Janet Torres",
      "userId": "13024228812197515564"
     },
     "user_tz": 480
    },
    "id": "0a892e4e",
    "outputId": "edde6916-3b98-4398-810a-4c238bdb18b1",
    "scrolled": true
   },
   "outputs": [
    {
     "data": {
      "image/png": "[encoded data removed]",
      "text/plain": [
       "<Figure size 432x288 with 1 Axes>"
      ]
     },
     "metadata": {},
     "output_type": "display_data"
    }
   ],
   "source": [
    "oakland.hist(\"Total Population\", bins=np.arange(0, 8000, 500))"
   ]
  },
  {
   "cell_type": "markdown",
   "id": "39e8fcf3",
   "metadata": {
    "id": "39e8fcf3"
   },
   "source": [
    "Q: Looking back at the definition of census tracts, does the distribution of total population make sense? Why or why not?\n",
    "Hint: The histogram is using each tract as an observation."
   ]
  },
  {
   "cell_type": "code",
   "execution_count": null,
   "id": "6bae1d7a",
   "metadata": {
    "colab": {
     "base_uri": "https://localhost:8080/",
     "height": 301
    },
    "executionInfo": {
     "elapsed": 11,
     "status": "ok",
     "timestamp": 1669668042404,
     "user": {
      "displayName": "Janet Torres",
      "userId": "13024228812197515564"
     },
     "user_tz": 480
    },
    "id": "6bae1d7a",
    "outputId": "2b30fde4-22fe-4334-8c6a-c5395b2d3ba3",
    "scrolled": true
   },
   "outputs": [
    {
     "data": {
      "image/png": "[encoded data removed]",
      "text/plain": [
       "<Figure size 432x288 with 1 Axes>"
      ]
     },
     "metadata": {},
     "output_type": "display_data"
    }
   ],
   "source": [
    "oakland.hist(\"Traffic\")"
   ]
  },
  {
   "cell_type": "markdown",
   "id": "64c2b46f",
   "metadata": {
    "id": "64c2b46f"
   },
   "source": [
    "*Connect to definition of traffic, and why we may be seeing this distribution. Additionally, why might oakland see such a distribution?*"
   ]
  },
  {
   "cell_type": "code",
   "execution_count": null,
   "id": "bb9db028",
   "metadata": {
    "colab": {
     "base_uri": "https://localhost:8080/",
     "height": 285
    },
    "executionInfo": {
     "elapsed": 10,
     "status": "ok",
     "timestamp": 1669668042404,
     "user": {
      "displayName": "Janet Torres",
      "userId": "13024228812197515564"
     },
     "user_tz": 480
    },
    "id": "bb9db028",
    "outputId": "bb4ebf81-5b01-4d4f-acf4-e6e77996b519",
    "scrolled": false
   },
   "outputs": [
    {
     "data": {
      "image/png": "[encoded data removed]",
      "text/plain": [
       "<Figure size 432x288 with 1 Axes>"
      ]
     },
     "metadata": {},
     "output_type": "display_data"
    }
   ],
   "source": [
    "oakland.hist(\"Hispanic (%)\", \"White (%)\", bins=np.arange(0, 100, 10))"
   ]
  },
  {
   "cell_type": "markdown",
   "id": "0a8a0743",
   "metadata": {
    "id": "0a8a0743"
   },
   "source": [
    "### Spatial Analysis"
   ]
  },
  {
   "cell_type": "markdown",
   "id": "X7YHzCigS_b2",
   "metadata": {
    "id": "X7YHzCigS_b2"
   },
   "source": [
    "By layering spatial data together we are creating a model of the real world. As the data scientist you \n",
    "\n",
    "\n",
    "SOMETHING ABOUT SPATIAL DATA\n",
    "Predictive crime models, some additional resources \n",
    "\n",
    "\n",
    "---\n",
    "\n"
   ]
  },
  {
   "cell_type": "code",
   "execution_count": null,
   "id": "CRhK-3i7S-Wd",
   "metadata": {
    "id": "CRhK-3i7S-Wd"
   },
   "outputs": [],
   "source": [
    "#use geopandas to read in the shapefile that contains the polygons representing census tracts\n",
    "tracts = gpd.read_file(\"/content/drive/MyDrive/Colab Notebooks/ALPR/Alameda_CTracts.shp\")"
   ]
  },
  {
   "cell_type": "code",
   "execution_count": 57,
   "id": "HdlxSA2CiMCs",
   "metadata": {
    "colab": {
     "base_uri": "https://localhost:8080/"
    },
    "executionInfo": {
     "elapsed": 263,
     "status": "ok",
     "timestamp": 1669703464198,
     "user": {
      "displayName": "Janet Torres",
      "userId": "13024228812197515564"
     },
     "user_tz": 480
    },
    "id": "HdlxSA2CiMCs",
    "outputId": "d55f0482-5e5f-44ce-8798-61ace7aeb2d3"
   },
   "outputs": [
    {
     "data": {
      "text/plain": [
       "STATEFP       object\n",
       "COUNTYFP      object\n",
       "TRACTCE       object\n",
       "GEOID         object\n",
       "NAME          object\n",
       "NAMELSAD      object\n",
       "MTFCC         object\n",
       "FUNCSTAT      object\n",
       "ALAND          int64\n",
       "AWATER         int64\n",
       "INTPTLAT      object\n",
       "INTPTLON      object\n",
       "geometry    geometry\n",
       "dtype: object"
      ]
     },
     "execution_count": 57,
     "metadata": {},
     "output_type": "execute_result"
    }
   ],
   "source": [
    "tracts.dtypes"
   ]
  },
  {
   "cell_type": "markdown",
   "id": "RT-RLKEBfnyJ",
   "metadata": {
    "id": "RT-RLKEBfnyJ"
   },
   "source": [
    "This dataset includes only the polygons for 2010 census tracts. To visialize the data collected for these tracts we will have to join the table to the polygons using the tract ID."
   ]
  },
  {
   "cell_type": "code",
   "execution_count": 54,
   "id": "wf6p1kMOi06d",
   "metadata": {
    "executionInfo": {
     "elapsed": 232,
     "status": "ok",
     "timestamp": 1669701246857,
     "user": {
      "displayName": "Janet Torres",
      "userId": "13024228812197515564"
     },
     "user_tz": 480
    },
    "id": "wf6p1kMOi06d"
   },
   "outputs": [],
   "source": [
    "#column names must match could switch either\n",
    "oak = oakland.to_df()"
   ]
  },
  {
   "cell_type": "code",
   "execution_count": 65,
   "id": "d18yjRxuuhl-",
   "metadata": {
    "executionInfo": {
     "elapsed": 605,
     "status": "ok",
     "timestamp": 1669704998150,
     "user": {
      "displayName": "Janet Torres",
      "userId": "13024228812197515564"
     },
     "user_tz": 480
    },
    "id": "d18yjRxuuhl-"
   },
   "outputs": [],
   "source": [
    "oak = oak.rename(columns={'Census Tract':'GEOID'})"
   ]
  },
  {
   "cell_type": "code",
   "execution_count": 61,
   "id": "OGsgGGttJuul",
   "metadata": {
    "colab": {
     "base_uri": "https://localhost:8080/"
    },
    "executionInfo": {
     "elapsed": 326,
     "status": "ok",
     "timestamp": 1669704649451,
     "user": {
      "displayName": "Janet Torres",
      "userId": "13024228812197515564"
     },
     "user_tz": 480
    },
    "id": "OGsgGGttJuul",
    "outputId": "fe4dd156-a5a4-4704-cb67-f2fce9c4ede3"
   },
   "outputs": [
    {
     "data": {
      "text/plain": [
       "pandas.core.frame.DataFrame"
      ]
     },
     "execution_count": 61,
     "metadata": {},
     "output_type": "execute_result"
    }
   ],
   "source": [
    "type(oak)"
   ]
  },
  {
   "cell_type": "code",
   "execution_count": 66,
   "id": "a4vh5guMKttO",
   "metadata": {
    "executionInfo": {
     "elapsed": 238,
     "status": "ok",
     "timestamp": 1669705003989,
     "user": {
      "displayName": "Janet Torres",
      "userId": "13024228812197515564"
     },
     "user_tz": 480
    },
    "id": "a4vh5guMKttO"
   },
   "outputs": [],
   "source": [
    "oak['GEOID'] = oak['GEOID'].astype('|S') # which will by default set the length to the max len it encounters\n"
   ]
  },
  {
   "cell_type": "code",
   "execution_count": 68,
   "id": "_qAsDyY3HNzn",
   "metadata": {
    "colab": {
     "base_uri": "https://localhost:8080/"
    },
    "executionInfo": {
     "elapsed": 547,
     "status": "ok",
     "timestamp": 1669705181012,
     "user": {
      "displayName": "Janet Torres",
      "userId": "13024228812197515564"
     },
     "user_tz": 480
    },
    "id": "_qAsDyY3HNzn",
    "outputId": "231863ed-2bd5-48ee-dd7b-3caebca4269d"
   },
   "outputs": [
    {
     "data": {
      "text/plain": [
       "0      False\n",
       "1      False\n",
       "2      False\n",
       "3      False\n",
       "4      False\n",
       "       ...  \n",
       "108    False\n",
       "109    False\n",
       "110    False\n",
       "111    False\n",
       "112    False\n",
       "Length: 113, dtype: bool"
      ]
     },
     "execution_count": 68,
     "metadata": {},
     "output_type": "execute_result"
    }
   ],
   "source": [
    "from pickle import FALSE\n",
    "oak.duplicated(subset='GEOID', keep = False)\n"
   ]
  },
  {
   "cell_type": "code",
   "execution_count": 56,
   "id": "EuwVXHe_ansd",
   "metadata": {
    "colab": {
     "base_uri": "https://localhost:8080/",
     "height": 328
    },
    "executionInfo": {
     "elapsed": 278,
     "status": "error",
     "timestamp": 1669702872998,
     "user": {
      "displayName": "Janet Torres",
      "userId": "13024228812197515564"
     },
     "user_tz": 480
    },
    "id": "EuwVXHe_ansd",
    "outputId": "f4e70196-80e5-4d1d-9b9f-6b49397a8acd"
   },
   "outputs": [
    {
     "ename": "AttributeError",
     "evalue": "ignored",
     "output_type": "error",
     "traceback": [
      "\u001b[0;31m---------------------------------------------------------------------------\u001b[0m",
      "\u001b[0;31mAttributeError\u001b[0m                            Traceback (most recent call last)",
      "\u001b[0;32m<ipython-input-56-f767fe0bde9b>\u001b[0m in \u001b[0;36m<module>\u001b[0;34m\u001b[0m\n\u001b[1;32m      1\u001b[0m \u001b[0;31m#add leading 0 to tabular data column to\u001b[0m\u001b[0;34m\u001b[0m\u001b[0;34m\u001b[0m\u001b[0;34m\u001b[0m\u001b[0m\n\u001b[0;32m----> 2\u001b[0;31m \u001b[0moak\u001b[0m \u001b[0;34m=\u001b[0m \u001b[0moak\u001b[0m\u001b[0;34m[\u001b[0m\u001b[0;34m\"Census Tract\"\u001b[0m\u001b[0;34m]\u001b[0m\u001b[0;34m.\u001b[0m\u001b[0mstr\u001b[0m\u001b[0;34m.\u001b[0m\u001b[0mzfill\u001b[0m\u001b[0;34m(\u001b[0m\u001b[0;36m11\u001b[0m\u001b[0;34m)\u001b[0m\u001b[0;34m\u001b[0m\u001b[0;34m\u001b[0m\u001b[0m\n\u001b[0m",
      "\u001b[0;32m/usr/local/lib/python3.7/dist-packages/pandas/core/generic.py\u001b[0m in \u001b[0;36m__getattr__\u001b[0;34m(self, name)\u001b[0m\n\u001b[1;32m   5485\u001b[0m         ):\n\u001b[1;32m   5486\u001b[0m             \u001b[0;32mreturn\u001b[0m \u001b[0mself\u001b[0m\u001b[0;34m[\u001b[0m\u001b[0mname\u001b[0m\u001b[0;34m]\u001b[0m\u001b[0;34m\u001b[0m\u001b[0;34m\u001b[0m\u001b[0m\n\u001b[0;32m-> 5487\u001b[0;31m         \u001b[0;32mreturn\u001b[0m \u001b[0mobject\u001b[0m\u001b[0;34m.\u001b[0m\u001b[0m__getattribute__\u001b[0m\u001b[0;34m(\u001b[0m\u001b[0mself\u001b[0m\u001b[0;34m,\u001b[0m \u001b[0mname\u001b[0m\u001b[0;34m)\u001b[0m\u001b[0;34m\u001b[0m\u001b[0;34m\u001b[0m\u001b[0m\n\u001b[0m\u001b[1;32m   5488\u001b[0m \u001b[0;34m\u001b[0m\u001b[0m\n\u001b[1;32m   5489\u001b[0m     \u001b[0;32mdef\u001b[0m \u001b[0m__setattr__\u001b[0m\u001b[0;34m(\u001b[0m\u001b[0mself\u001b[0m\u001b[0;34m,\u001b[0m \u001b[0mname\u001b[0m\u001b[0;34m:\u001b[0m \u001b[0mstr\u001b[0m\u001b[0;34m,\u001b[0m \u001b[0mvalue\u001b[0m\u001b[0;34m)\u001b[0m \u001b[0;34m->\u001b[0m \u001b[0;32mNone\u001b[0m\u001b[0;34m:\u001b[0m\u001b[0;34m\u001b[0m\u001b[0;34m\u001b[0m\u001b[0m\n",
      "\u001b[0;32m/usr/local/lib/python3.7/dist-packages/pandas/core/accessor.py\u001b[0m in \u001b[0;36m__get__\u001b[0;34m(self, obj, cls)\u001b[0m\n\u001b[1;32m    179\u001b[0m             \u001b[0;31m# we're accessing the attribute of the class, i.e., Dataset.geo\u001b[0m\u001b[0;34m\u001b[0m\u001b[0;34m\u001b[0m\u001b[0;34m\u001b[0m\u001b[0m\n\u001b[1;32m    180\u001b[0m             \u001b[0;32mreturn\u001b[0m \u001b[0mself\u001b[0m\u001b[0;34m.\u001b[0m\u001b[0m_accessor\u001b[0m\u001b[0;34m\u001b[0m\u001b[0;34m\u001b[0m\u001b[0m\n\u001b[0;32m--> 181\u001b[0;31m         \u001b[0maccessor_obj\u001b[0m \u001b[0;34m=\u001b[0m \u001b[0mself\u001b[0m\u001b[0;34m.\u001b[0m\u001b[0m_accessor\u001b[0m\u001b[0;34m(\u001b[0m\u001b[0mobj\u001b[0m\u001b[0;34m)\u001b[0m\u001b[0;34m\u001b[0m\u001b[0;34m\u001b[0m\u001b[0m\n\u001b[0m\u001b[1;32m    182\u001b[0m         \u001b[0;31m# Replace the property with the accessor object. Inspired by:\u001b[0m\u001b[0;34m\u001b[0m\u001b[0;34m\u001b[0m\u001b[0;34m\u001b[0m\u001b[0m\n\u001b[1;32m    183\u001b[0m         \u001b[0;31m# https://www.pydanny.com/cached-property.html\u001b[0m\u001b[0;34m\u001b[0m\u001b[0;34m\u001b[0m\u001b[0;34m\u001b[0m\u001b[0m\n",
      "\u001b[0;32m/usr/local/lib/python3.7/dist-packages/pandas/core/strings/accessor.py\u001b[0m in \u001b[0;36m__init__\u001b[0;34m(self, data)\u001b[0m\n\u001b[1;32m    166\u001b[0m         \u001b[0;32mfrom\u001b[0m \u001b[0mpandas\u001b[0m\u001b[0;34m.\u001b[0m\u001b[0mcore\u001b[0m\u001b[0;34m.\u001b[0m\u001b[0marrays\u001b[0m\u001b[0;34m.\u001b[0m\u001b[0mstring_\u001b[0m \u001b[0;32mimport\u001b[0m \u001b[0mStringDtype\u001b[0m\u001b[0;34m\u001b[0m\u001b[0;34m\u001b[0m\u001b[0m\n\u001b[1;32m    167\u001b[0m \u001b[0;34m\u001b[0m\u001b[0m\n\u001b[0;32m--> 168\u001b[0;31m         \u001b[0mself\u001b[0m\u001b[0;34m.\u001b[0m\u001b[0m_inferred_dtype\u001b[0m \u001b[0;34m=\u001b[0m \u001b[0mself\u001b[0m\u001b[0;34m.\u001b[0m\u001b[0m_validate\u001b[0m\u001b[0;34m(\u001b[0m\u001b[0mdata\u001b[0m\u001b[0;34m)\u001b[0m\u001b[0;34m\u001b[0m\u001b[0;34m\u001b[0m\u001b[0m\n\u001b[0m\u001b[1;32m    169\u001b[0m         \u001b[0mself\u001b[0m\u001b[0;34m.\u001b[0m\u001b[0m_is_categorical\u001b[0m \u001b[0;34m=\u001b[0m \u001b[0mis_categorical_dtype\u001b[0m\u001b[0;34m(\u001b[0m\u001b[0mdata\u001b[0m\u001b[0;34m.\u001b[0m\u001b[0mdtype\u001b[0m\u001b[0;34m)\u001b[0m\u001b[0;34m\u001b[0m\u001b[0;34m\u001b[0m\u001b[0m\n\u001b[1;32m    170\u001b[0m         \u001b[0mself\u001b[0m\u001b[0;34m.\u001b[0m\u001b[0m_is_string\u001b[0m \u001b[0;34m=\u001b[0m \u001b[0misinstance\u001b[0m\u001b[0;34m(\u001b[0m\u001b[0mdata\u001b[0m\u001b[0;34m.\u001b[0m\u001b[0mdtype\u001b[0m\u001b[0;34m,\u001b[0m \u001b[0mStringDtype\u001b[0m\u001b[0;34m)\u001b[0m\u001b[0;34m\u001b[0m\u001b[0;34m\u001b[0m\u001b[0m\n",
      "\u001b[0;32m/usr/local/lib/python3.7/dist-packages/pandas/core/strings/accessor.py\u001b[0m in \u001b[0;36m_validate\u001b[0;34m(data)\u001b[0m\n\u001b[1;32m    223\u001b[0m \u001b[0;34m\u001b[0m\u001b[0m\n\u001b[1;32m    224\u001b[0m         \u001b[0;32mif\u001b[0m \u001b[0minferred_dtype\u001b[0m \u001b[0;32mnot\u001b[0m \u001b[0;32min\u001b[0m \u001b[0mallowed_types\u001b[0m\u001b[0;34m:\u001b[0m\u001b[0;34m\u001b[0m\u001b[0;34m\u001b[0m\u001b[0m\n\u001b[0;32m--> 225\u001b[0;31m             \u001b[0;32mraise\u001b[0m \u001b[0mAttributeError\u001b[0m\u001b[0;34m(\u001b[0m\u001b[0;34m\"Can only use .str accessor with string values!\"\u001b[0m\u001b[0;34m)\u001b[0m\u001b[0;34m\u001b[0m\u001b[0;34m\u001b[0m\u001b[0m\n\u001b[0m\u001b[1;32m    226\u001b[0m         \u001b[0;32mreturn\u001b[0m \u001b[0minferred_dtype\u001b[0m\u001b[0;34m\u001b[0m\u001b[0;34m\u001b[0m\u001b[0m\n\u001b[1;32m    227\u001b[0m \u001b[0;34m\u001b[0m\u001b[0m\n",
      "\u001b[0;31mAttributeError\u001b[0m: Can only use .str accessor with string values!"
     ]
    }
   ],
   "source": [
    "#add leading 0 to tabular data column to, does not work\n",
    "\n",
    "#oak = oak[\"Census Tract\"].str.zfill(11)"
   ]
  },
  {
   "cell_type": "code",
   "execution_count": 69,
   "id": "wdxsanTKf92v",
   "metadata": {
    "executionInfo": {
     "elapsed": 350,
     "status": "ok",
     "timestamp": 1669705230307,
     "user": {
      "displayName": "Janet Torres",
      "userId": "13024228812197515564"
     },
     "user_tz": 480
    },
    "id": "wdxsanTKf92v"
   },
   "outputs": [],
   "source": [
    "# Merge with `merge` method on shared variable (Census tract):\n",
    "oak_shapes = tracts.merge(oak, on='GEOID')"
   ]
  },
  {
   "cell_type": "code",
   "execution_count": 70,
   "id": "aADhkX1eMO6l",
   "metadata": {
    "colab": {
     "base_uri": "https://localhost:8080/",
     "height": 195
    },
    "executionInfo": {
     "elapsed": 342,
     "status": "ok",
     "timestamp": 1669705304951,
     "user": {
      "displayName": "Janet Torres",
      "userId": "13024228812197515564"
     },
     "user_tz": 480
    },
    "id": "aADhkX1eMO6l",
    "outputId": "fc524e68-73dd-43fa-ecb5-4045a13675e6"
   },
   "outputs": [
    {
     "data": {
      "text/html": [
       "\n",
       "  <div id=\"df-a0977edb-a9fa-42d8-b0ce-bbef0e3cb20d\">\n",
       "    <div class=\"colab-df-container\">\n",
       "      <div>\n",
       "<style scoped>\n",
       "    .dataframe tbody tr th:only-of-type {\n",
       "        vertical-align: middle;\n",
       "    }\n",
       "\n",
       "    .dataframe tbody tr th {\n",
       "        vertical-align: top;\n",
       "    }\n",
       "\n",
       "    .dataframe thead th {\n",
       "        text-align: right;\n",
       "    }\n",
       "</style>\n",
       "<table border=\"1\" class=\"dataframe\">\n",
       "  <thead>\n",
       "    <tr style=\"text-align: right;\">\n",
       "      <th></th>\n",
       "      <th>STATEFP</th>\n",
       "      <th>COUNTYFP</th>\n",
       "      <th>TRACTCE</th>\n",
       "      <th>GEOID</th>\n",
       "      <th>NAME</th>\n",
       "      <th>NAMELSAD</th>\n",
       "      <th>MTFCC</th>\n",
       "      <th>FUNCSTAT</th>\n",
       "      <th>ALAND</th>\n",
       "      <th>AWATER</th>\n",
       "      <th>...</th>\n",
       "      <th>Total Population</th>\n",
       "      <th>Children &lt; 10 years (%)</th>\n",
       "      <th>Pop 10-64 years (%)</th>\n",
       "      <th>Elderly &gt; 64 years (%)</th>\n",
       "      <th>Hispanic (%)</th>\n",
       "      <th>White (%)</th>\n",
       "      <th>African American (%)</th>\n",
       "      <th>Native American (%)</th>\n",
       "      <th>Asian American (%)</th>\n",
       "      <th>Other/Multiple (%)</th>\n",
       "    </tr>\n",
       "  </thead>\n",
       "  <tbody>\n",
       "  </tbody>\n",
       "</table>\n",
       "<p>0 rows × 29 columns</p>\n",
       "</div>\n",
       "      <button class=\"colab-df-convert\" onclick=\"convertToInteractive('df-a0977edb-a9fa-42d8-b0ce-bbef0e3cb20d')\"\n",
       "              title=\"Convert this dataframe to an interactive table.\"\n",
       "              style=\"display:none;\">\n",
       "        \n",
       "  <svg xmlns=\"http://www.w3.org/2000/svg\" height=\"24px\"viewBox=\"0 0 24 24\"\n",
       "       width=\"24px\">\n",
       "    <path d=\"M0 0h24v24H0V0z\" fill=\"none\"/>\n",
       "    <path d=\"M18.56 5.44l.94 2.06.94-2.06 2.06-.94-2.06-.94-.94-2.06-.94 2.06-2.06.94zm-11 1L8.5 8.5l.94-2.06 2.06-.94-2.06-.94L8.5 2.5l-.94 2.06-2.06.94zm10 10l.94 2.06.94-2.06 2.06-.94-2.06-.94-.94-2.06-.94 2.06-2.06.94z\"/><path d=\"M17.41 7.96l-1.37-1.37c-.4-.4-.92-.59-1.43-.59-.52 0-1.04.2-1.43.59L10.3 9.45l-7.72 7.72c-.78.78-.78 2.05 0 2.83L4 21.41c.39.39.9.59 1.41.59.51 0 1.02-.2 1.41-.59l7.78-7.78 2.81-2.81c.8-.78.8-2.07 0-2.86zM5.41 20L4 18.59l7.72-7.72 1.47 1.35L5.41 20z\"/>\n",
       "  </svg>\n",
       "      </button>\n",
       "      \n",
       "  <style>\n",
       "    .colab-df-container {\n",
       "      display:flex;\n",
       "      flex-wrap:wrap;\n",
       "      gap: 12px;\n",
       "    }\n",
       "\n",
       "    .colab-df-convert {\n",
       "      background-color: #E8F0FE;\n",
       "      border: none;\n",
       "      border-radius: 50%;\n",
       "      cursor: pointer;\n",
       "      display: none;\n",
       "      fill: #1967D2;\n",
       "      height: 32px;\n",
       "      padding: 0 0 0 0;\n",
       "      width: 32px;\n",
       "    }\n",
       "\n",
       "    .colab-df-convert:hover {\n",
       "      background-color: #E2EBFA;\n",
       "      box-shadow: 0px 1px 2px rgba(60, 64, 67, 0.3), 0px 1px 3px 1px rgba(60, 64, 67, 0.15);\n",
       "      fill: #174EA6;\n",
       "    }\n",
       "\n",
       "    [theme=dark] .colab-df-convert {\n",
       "      background-color: #3B4455;\n",
       "      fill: #D2E3FC;\n",
       "    }\n",
       "\n",
       "    [theme=dark] .colab-df-convert:hover {\n",
       "      background-color: #434B5C;\n",
       "      box-shadow: 0px 1px 3px 1px rgba(0, 0, 0, 0.15);\n",
       "      filter: drop-shadow(0px 1px 2px rgba(0, 0, 0, 0.3));\n",
       "      fill: #FFFFFF;\n",
       "    }\n",
       "  </style>\n",
       "\n",
       "      <script>\n",
       "        const buttonEl =\n",
       "          document.querySelector('#df-a0977edb-a9fa-42d8-b0ce-bbef0e3cb20d button.colab-df-convert');\n",
       "        buttonEl.style.display =\n",
       "          google.colab.kernel.accessAllowed ? 'block' : 'none';\n",
       "\n",
       "        async function convertToInteractive(key) {\n",
       "          const element = document.querySelector('#df-a0977edb-a9fa-42d8-b0ce-bbef0e3cb20d');\n",
       "          const dataTable =\n",
       "            await google.colab.kernel.invokeFunction('convertToInteractive',\n",
       "                                                     [key], {});\n",
       "          if (!dataTable) return;\n",
       "\n",
       "          const docLinkHtml = 'Like what you see? Visit the ' +\n",
       "            '<a target=\"_blank\" href=https://colab.research.google.com/notebooks/data_table.ipynb>data table notebook</a>'\n",
       "            + ' to learn more about interactive tables.';\n",
       "          element.innerHTML = '';\n",
       "          dataTable['output_type'] = 'display_data';\n",
       "          await google.colab.output.renderOutput(dataTable, element);\n",
       "          const docLink = document.createElement('div');\n",
       "          docLink.innerHTML = docLinkHtml;\n",
       "          element.appendChild(docLink);\n",
       "        }\n",
       "      </script>\n",
       "    </div>\n",
       "  </div>\n",
       "  "
      ],
      "text/plain": [
       "Empty GeoDataFrame\n",
       "Columns: [STATEFP, COUNTYFP, TRACTCE, GEOID, NAME, NAMELSAD, MTFCC, FUNCSTAT, ALAND, AWATER, INTPTLAT, INTPTLON, geometry, California County, ZIP, Approximate Location, Longitude, Latitude, Traffic, Total Population, Children < 10 years (%), Pop 10-64 years (%), Elderly > 64 years (%), Hispanic (%), White (%), African American (%), Native American (%), Asian American (%), Other/Multiple (%)]\n",
       "Index: []\n",
       "\n",
       "[0 rows x 29 columns]"
      ]
     },
     "execution_count": 70,
     "metadata": {},
     "output_type": "execute_result"
    }
   ],
   "source": [
    "oak_shapes"
   ]
  },
  {
   "cell_type": "code",
   "execution_count": null,
   "id": "N_BfgUCsMmnS",
   "metadata": {
    "id": "N_BfgUCsMmnS"
   },
   "outputs": [],
   "source": []
  },
  {
   "cell_type": "markdown",
   "id": "5697d9b8",
   "metadata": {
    "id": "5697d9b8"
   },
   "source": []
  },
  {
   "cell_type": "code",
   "execution_count": null,
   "id": "4b64ceee",
   "metadata": {
    "id": "4b64ceee"
   },
   "outputs": [],
   "source": [
    "# Needs to get fixed... regardless, we don't expect students to understand this and we don't want them to. \n",
    "# The following are functions that add to the map functionality and expression.\n",
    "\n",
    "def get_colors_from_column(tbl, col, include_outliers=False):\n",
    "    \"\"\"Assigns each row of the input table to a color based on the value of its percentage column.\"\"\"\n",
    "    vmin = min(tbl.column(col))\n",
    "    vmax = max(tbl.column(col))\n",
    "\n",
    "    if include_outliers:\n",
    "        outlier_min_bound = vmin\n",
    "        outlier_max_bound = vmax\n",
    "    else:\n",
    "        q1 = np.percentile(tbl.column(col), 25)\n",
    "        q3 = np.percentile(tbl.column(col), 75)\n",
    "        IQR = q3 - q1\n",
    "        outlier_min_bound = max(vmin, q1 - 1.5 * IQR)\n",
    "        outlier_max_bound = min(vmax, q3 + 1.5 * IQR)\n",
    "        \n",
    "    colorbar_scale = list(np.linspace(outlier_min_bound, outlier_max_bound, 10))\n",
    "    scale_colors = ['#006100', '#3c8000', '#6ba100', '#a3c400', '#dfeb00', '#ffea00', '#ffbb00', '#ff9100', '#ff6200', '#ff2200']\n",
    "    \n",
    "    def assign_color(colors, cutoffs, datapoint):\n",
    "        \"\"\"Assigns a color to the input percent based on the data's distribution.\"\"\"\n",
    "        for i, cutoff in enumerate(cutoffs):\n",
    "            if cutoff >= datapoint:\n",
    "                return colors[i - 1] if i > 0 else colors[0]\n",
    "        return colors[-1]\n",
    "    \n",
    "    colors = [\"\"] * tbl.num_rows\n",
    "    for i, datapoint in enumerate(tbl.column(col)): \n",
    "        colors[i] = assign_color(scale_colors, colorbar_scale, datapoint)\n",
    "        \n",
    "    return colors"
   ]
  },
  {
   "cell_type": "code",
   "execution_count": null,
   "id": "374c66be",
   "metadata": {
    "id": "374c66be"
   },
   "outputs": [],
   "source": [
    "# Needs to be fixed... ideally clicking on a dot should present 'text' as shown in tbl line.\n",
    "# The idea is that the other features and information are present (e.g., population demographics, pop size).\n",
    "\n",
    "def map_feature(feature):\n",
    "    \n",
    "    colors = get_colors_from_column(oakland, feature, include_outliers=True) # Get colors based on percentiles\n",
    "    \n",
    "    # Note: normalize data then scale to increase\n",
    "    factor = np.linalg.norm(oakland.column(feature))\n",
    "    areas = (oakland.column(feature) / factor) * 10000\n",
    "    \n",
    "    tbl = oakland.select('Latitude', 'Longitude').with_columns('type', 'text', 'colors', colors, 'areas', areas)\n",
    "    \n",
    "    return tbl"
   ]
  },
  {
   "cell_type": "code",
   "execution_count": null,
   "id": "57d38f17",
   "metadata": {
    "id": "57d38f17",
    "scrolled": false
   },
   "outputs": [],
   "source": [
    "size_map(map_feature('Hispanic (%)'))"
   ]
  },
  {
   "cell_type": "code",
   "execution_count": null,
   "id": "a6857909",
   "metadata": {
    "id": "a6857909",
    "scrolled": false
   },
   "outputs": [],
   "source": [
    "size_map(map_feature('Traffic'))"
   ]
  },
  {
   "cell_type": "markdown",
   "id": "998acd20",
   "metadata": {
    "id": "998acd20"
   },
   "source": [
    "## 5. Intersectional Analysis"
   ]
  },
  {
   "cell_type": "markdown",
   "id": "DWuSSN8qPNng",
   "metadata": {
    "id": "DWuSSN8qPNng"
   },
   "source": []
  },
  {
   "cell_type": "markdown",
   "id": "92f3d8f8",
   "metadata": {
    "id": "92f3d8f8"
   },
   "source": [
    "An intersectional analysis between indicators, demographics, and space is important to..."
   ]
  },
  {
   "cell_type": "markdown",
   "id": "7158da2e",
   "metadata": {
    "id": "7158da2e"
   },
   "source": [
    "*INCLDUE MAPS HERE*"
   ]
  },
  {
   "cell_type": "markdown",
   "id": "bdbe57f7",
   "metadata": {
    "id": "bdbe57f7"
   },
   "source": [
    "**Q5a:** Which census tracts seem to be the most heavily surveilled? Which census tracts seem to be the least surveilled?"
   ]
  },
  {
   "cell_type": "markdown",
   "id": "95d4bb17",
   "metadata": {
    "id": "95d4bb17"
   },
   "source": [
    "*Answer here*"
   ]
  },
  {
   "cell_type": "markdown",
   "id": "f8a2e2ed",
   "metadata": {
    "id": "f8a2e2ed"
   },
   "source": [
    "**Q5b:** Take a look at the demographic data for the census tracts with high and low surveillance. Considering what you have learned about the history of surveillance on low-income, minority communities, do the patterns revealed by matching census tracts demographic data to the map surprise you? Why or why not?"
   ]
  },
  {
   "cell_type": "markdown",
   "id": "6788ed73",
   "metadata": {
    "id": "6788ed73"
   },
   "source": [
    "*Answer here*"
   ]
  },
  {
   "cell_type": "markdown",
   "id": "b80bcdf1",
   "metadata": {
    "id": "b80bcdf1"
   },
   "source": [
    "**Q5c:** How does the idea of ALPR data being used to help ‘fight crime’ connect with your findings from the map when race and class data are considered?"
   ]
  },
  {
   "cell_type": "markdown",
   "id": "b106b8f5",
   "metadata": {
    "id": "b106b8f5"
   },
   "source": [
    "*Answer here*"
   ]
  },
  {
   "cell_type": "markdown",
   "id": "fb25e667",
   "metadata": {
    "id": "fb25e667"
   },
   "source": [
    "## 6. Final Thoughts"
   ]
  },
  {
   "cell_type": "code",
   "execution_count": null,
   "id": "f86734cf",
   "metadata": {
    "id": "f86734cf"
   },
   "outputs": [],
   "source": []
  },
  {
   "cell_type": "code",
   "execution_count": null,
   "id": "db994466",
   "metadata": {
    "id": "db994466"
   },
   "outputs": [],
   "source": []
  },
  {
   "cell_type": "code",
   "execution_count": null,
   "id": "7a98dcaf",
   "metadata": {
    "id": "7a98dcaf"
   },
   "outputs": [],
   "source": []
  }
 ],
 "metadata": {
  "colab": {
   "provenance": []
  },
  "kernelspec": {
   "display_name": "Python 3 (ipykernel)",
   "language": "python",
   "name": "python3"
  },
  "language_info": {
   "codemirror_mode": {
    "name": "ipython",
    "version": 3
   },
   "file_extension": ".py",
   "mimetype": "text/x-python",
   "name": "python",
   "nbconvert_exporter": "python",
   "pygments_lexer": "ipython3",
   "version": "3.9.13"
  }
 },
 "nbformat": 4,
 "nbformat_minor": 5
}
