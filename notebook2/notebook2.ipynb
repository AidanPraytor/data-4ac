{
 "cells": [
  {
   "cell_type": "markdown",
   "metadata": {
    "#student": false
   },
   "source": [
    "# Notebook 2: Japanese-American Detainment During World War II\n",
    "\n",
    "Executive Order 9066 was signed and issued by President Franklin Roosevelt on February 19, 1942. This order gave the U.S. army authorization to evacuate any individual considered a threat to national security from designated military exclusion zones along the West Coast to internment camps further inland. The passing of this executive order began the process of funneling Japanese-Americans into intermediate assembly centers and finally permanent internment centers. \n",
    "\n",
    "By working through this notebook, you will be able to visualize the forced movement of Japanese-Americans, from the West Coast of the United States, to scattered detainment camps, and eventually to cities throughout the country.\n",
    "\n",
    "---\n",
    "\n",
    "### Table of Contents\n",
    "1. [Section 1: The Data Science Lifecycle](#dslifecycle)\n",
    "2. [Section 2: The Data](#data)\n",
    "3. [Section 3: Data Exploration and Visualization](#eda)\n",
    "4. [Section 4: Assembly Centers and Internment Centers](#section4)\n",
    "5. [Section 5: Mapping and Movement](#section5)\n",
    "\n",
    "**Dependencies**"
   ]
  },
  {
   "cell_type": "code",
   "execution_count": null,
   "metadata": {
    "#student": false
   },
   "outputs": [],
   "source": [
    "# Run this cell!\n",
    "from IPython.display import HTML\n",
    "import pandas as pd\n",
    "import numpy as np\n",
    "import matplotlib.pyplot as plt\n",
    "import seaborn as sns\n",
    "import folium\n",
    "import plotly.express as px\n",
    "import ipywidgets as widgets\n",
    "from ipywidgets import interact, interactive, fixed, interact_manual\n",
    "\n",
    "relocations_cities = pd.read_csv(\"data/RelocationDestinations_Cities_LL.csv\", error_bad_lines = False)"
   ]
  },
  {
   "cell_type": "markdown",
   "metadata": {
    "#student": false
   },
   "source": [
    "---\n",
    "\n",
    "## Section 1: The Data Science Lifecycle<a id='dslifecycle'></a>\n",
    "\n",
    "\n",
    "In data science, we utilize large and diverse datasets to make conclusions and predictions about the world we live in. Doing so involves a process called the data science lifecycle, which is a high-level description of the stages of work that data scientists perform as they work on a data science project. There are a number of data science lifecycles that people have developed and use to learn and practice data science. The lifecycle that we will be working with in DATA-4AC is a newly updated lifecycle that considers the human contexts and ethics of data at every stage. \n",
    "\n",
    "1. Conducting problem identification as questions or hypotheses\n",
    "2. Identifying data sources\n",
    "3. Conducting exploratory data analysis\n",
    "4. Statistical Modeling\n",
    "5. Using prediction and inference to draw conclusions\n",
    "6. Communication, Dissemination, and Decision\n",
    "\n",
    "<img src=\"images/dsethoslifecycle.png\" width=\"450\">\n",
    "Source: Data Science Ethos Lifecycle - for review\n",
    "\n",
    "This process is often iterated as new questions and problems emerge after the last step that enable data practitioners  to learn more about the characteristics and patterns of the world, which inturn informs the kinds of questions that are asked.\n",
    "\n",
    "In this notebook, we'll focus on step 3. We perform Exploratory Data Analysis (EDA) in order to uncover any underlying patterns or interesting features from the data. We'll enter the lifecycle in the second second step of the data science ethos life cycle since we have obtained data sources on the Japanese-American Detainment during the 1940's."
   ]
  },
  {
   "cell_type": "markdown",
   "metadata": {
    "cell_id": "00003-d8788f7f-97b3-4d3a-882e-04f016c8ca26"
   },
   "source": [
    "----\n",
    "\n",
    "## Section 2: Section 2: Data Discovery - What is our data? Where does it come from? What is in it? <a id='data'></a>\n",
    "\n",
    "\n",
    "We will be working with a dataset that was manually digitized from tables in \n",
    "*The Evacuated People: A Quantitative Description*, a report published by the War \n",
    "Relocation Authority (WRA) in 1946. The WRA was the government agency that oversaw the \n",
    "forced relocation of Japanese-Americans and was first established via Executive Order 9102 \n",
    "on March 18, 1942.  *The Evacuated People* contains statistics and more than 100 tables \n",
    "concerning the 120,313 Japanese Americans that were under the authority of the WRA. The WRA created the data as part of and in order to pursue its \"program\" of detaining Japanese-Americans.\n",
    "\n",
    "\n",
    "The tables in this report were transcribed  manually because the results from automatic scraping (using a computer program to extract the data) contained too many errors  (a person named [Cooper Thomas created the dataset](https://data.world/infinitecoop/japanese-internment-camps/) we will be using). Thus, there may still be some human error. The datasets include the populations of each camp by month, the relocation destinations of those who were incarcerated, and the Japanese-American population in the United States before and during the war. Take a look at the full dataset [here](https://data.world/infinitecoop/japanese-internment-camps/).\n",
    "\n",
    "The second dataset we're working with is from the story map \"Behind Barbed Wire,\" created by the Library of Congress. The data comes from newspapers that were produced by Japanese-American internees while they lived in the camps. Camp newspapers circulated administrative announcements, events, vital statistics, news from other camps, and other information about daily camp life. They also included [comics](https://www.loc.gov/resource/sn84024049/1942-11-18/ed-1/?sp=7), opinion pieces, job opportunities, and even results from baseball games. These newspapers helped maintain a sense of normalcy for their detained authors and readers, something that the WRA tables do not reflect. You can access the data and read about the newspapers [here](https://tinyurl.com/y4g5kq77).\n",
    "\n",
    "**Question 2a:** Considering the context in which a dataset was produced is critical to beginning to make sense of the human contexts and ethics of a data science project. In this notebook, we are using two datasets with very different contexts for our analysis. Take a moment to review the contexts of the two datasets. Who created each? What was the purpose for the creation of each? How was each dataset used? By whom? How might this context bear upon the data categories and values in each dataset? \n",
    "\n",
    "Hint: You can consider issues like comprehensibility or accuracy."
   ]
  },
  {
   "cell_type": "markdown",
   "metadata": {},
   "source": [
    "**Answer:** YOUR ANSWER HERE"
   ]
  },
  {
   "cell_type": "markdown",
   "metadata": {},
   "source": [
    "\n",
    "<img src=\"images/Posted_Japanese_American_Exclusion_Order.png\" width=\"450\">\n",
    "<center> This image is available from the United States Library of Congress's Prints and Photographs division.\n",
    "\n",
    "Below, we are loading in two datasets and doing a bit of data cleaning. The first dataset is from the manually transcribed WRA tables of the camp populations from each month and we are converting the data type of the `date` column into something easier for us to work with. The second dataset is from \"Behind Barbed Wire\" concerning the location of each internment camp and its maximum population. The maximum population is tweaked to change it to a number rather than a string."
   ]
  },
  {
   "cell_type": "code",
   "execution_count": null,
   "metadata": {
    "#student": false
   },
   "outputs": [],
   "source": [
    "pop_by_month = pd.read_csv(\"data/CampPopulationsByMonth.csv\", error_bad_lines = False, thousands = ',')\n",
    "pop_by_month['Date']= pd.to_datetime(pop_by_month['Date']) \n",
    "\n",
    "camps = pd.read_csv('data/BehindBarbedWire_StoryMap_InternmentCampLocationsMap_Data.csv', error_bad_lines = False)\n",
    "camps[\"Maximum Population\"] = camps[\"Maximum Population\"].str.replace(',', '')\n",
    "camps['Maximum Population'] = camps['Maximum Population'].astype(float)"
   ]
  },
  {
   "cell_type": "markdown",
   "metadata": {
    "#student": false
   },
   "source": [
    "We'll first look at the `pop_by_month` table, which has the population of each of the ten camps at the start of every month."
   ]
  },
  {
   "cell_type": "code",
   "execution_count": null,
   "metadata": {
    "#student": false
   },
   "outputs": [],
   "source": [
    "pop_by_month.head()"
   ]
  },
  {
   "cell_type": "markdown",
   "metadata": {
    "#student": false
   },
   "source": [
    "The `camps` table from \"Behind Barbed Wire\" contains the information on the internment camp's, name, city location, state location, latitude, longitude, opening date, closing date, and their maximum populations."
   ]
  },
  {
   "cell_type": "code",
   "execution_count": null,
   "metadata": {
    "#student": false
   },
   "outputs": [],
   "source": [
    "camps"
   ]
  },
  {
   "cell_type": "markdown",
   "metadata": {
    "#student": false
   },
   "source": [
    "The `assembly` table from \"Behind Barbed Wire\" contains the locations of each assembly center (city, state, latitude, and longitude), as well as the number of people that were processed through each one."
   ]
  },
  {
   "cell_type": "code",
   "execution_count": null,
   "metadata": {
    "#student": false
   },
   "outputs": [],
   "source": [
    "assembly = pd.read_csv('data/BehindBarbedWire_StoryMap_AssemblyCentersMap_Data.csv', error_bad_lines = False)\n",
    "assembly = assembly.dropna(subset=['Latitude', 'Longitude']).dropna(axis = 1)\n",
    "assembly['Number of People'] = assembly['Number of People'].astype(float)\n",
    "assembly"
   ]
  },
  {
   "cell_type": "markdown",
   "metadata": {
    "#student": false,
    "cell_id": "00011-65cb812e-55e0-45dd-bc32-f233d86cd6bd"
   },
   "source": [
    "The `population1940_1945` table contains a list of counties that Japanese Americans lived in in 1940 and 1945, collected by the WRA. An additional column calculates the percent that returned to the county that they were from."
   ]
  },
  {
   "cell_type": "code",
   "execution_count": null,
   "metadata": {
    "#student": false,
    "cell_id": "00012-9415e581-9a09-42aa-a235-f60f64149171"
   },
   "outputs": [],
   "source": [
    "population1940_1945 = pd.read_csv(\"data/JapaneseAmericanPopulation_1940_1945_LL.csv\", error_bad_lines = False)\n",
    "population1940_1945.head(10) # If you'd like to take a look at the entire dataset, add a # before the ."
   ]
  },
  {
   "cell_type": "markdown",
   "metadata": {
    "#student": false
   },
   "source": [
    "----\n",
    "## Section 3: Exploratory Data Analysis<a id='eda'></a>\n",
    "\n",
    "Now that we've obtained our data, we can try to find interesting properties of our datasets and make visualizations to ultimately understand our data better and the stories behind the data. Keep in mind the *granularity* of our datasets, i.e. the level of detail the data describes (how fine or coarse-grained is it?). The data we're working with is at the \"camp\" level and thus aren't looking further into the specific populations of Japanese Americans at these internment camps (for example, looking into the number of people who were employed by or studying within the UC system at the Tule Lake camp, or people with certain health conditions in each camp).\n",
    "\n",
    "\n",
    "**Question 3a:** What kinds of events, trends, or patterns might we be able to observe from data at this particular granularity?\n",
    "\n",
    "\n"
   ]
  },
  {
   "cell_type": "markdown",
   "metadata": {},
   "source": [
    "**Answer:** YOUR ANSWER HERE"
   ]
  },
  {
   "cell_type": "markdown",
   "metadata": {},
   "source": [
    "Sometimes numbers don't always add up. We have two separate tables with data about the internment camps; one by the WRA and one with numbers reported in the newspapers from each camp. Say we try to compare the maximum population of the Manzanar camps from both tables."
   ]
  },
  {
   "cell_type": "code",
   "execution_count": null,
   "metadata": {
    "#student": false
   },
   "outputs": [],
   "source": [
    "print('Maximum Population at Manzanar')\n",
    "pop_by_month_max = pop_by_month['Manzanar'].max()\n",
    "print('Population by Month Data (WRA):' ,  pop_by_month_max)\n",
    "\n",
    "camps_max = int(camps[camps['Internment Camp Name'] == 'Manzanar Relocation Center']['Maximum Population'])\n",
    "print('Camps Data (BBW):',  camps_max)"
   ]
  },
  {
   "cell_type": "markdown",
   "metadata": {
    "#student": false
   },
   "source": [
    "We see that the two numbers don't match up. The `pop_by_month` table says that the maximum population of Manzanar was 10,256, while the camps table says that the maximum was 10,046 people. While this isn't a huge difference, it's important to remember that there can be inconsistency of values among your datasets, and not to take any one dataset as complete and accurate. \n",
    "\n",
    "**Question 3b:** What factors might contribute to this inconsistency?"
   ]
  },
  {
   "cell_type": "markdown",
   "metadata": {},
   "source": [
    "**Answer:** YOUR ANSWER HERE"
   ]
  },
  {
   "cell_type": "markdown",
   "metadata": {},
   "source": [
    "Below, we create barplots to  compare the populations at each camp given by the two different data sets `pop_by_month` and `camps`. Selecting a camp in the dropdown menu will update the barplot and display the maximum populations reported from each dataset."
   ]
  },
  {
   "cell_type": "code",
   "execution_count": null,
   "metadata": {},
   "outputs": [],
   "source": [
    "location_dict = {'Topaz Relocation Center':'Topaz/Central Utah', \n",
    "                 'Poston Relocation Center':'Poston/Colorado River',\n",
    "                 'Gila River Relocation Center':'Gila River', \n",
    "                 'Granada Relocation Center': 'Granada', \n",
    "                 'Heart Mountain Relocation Center':'Heart Mountain', \n",
    "                 'Jerome Relocation Center':'Jerome', \n",
    "                 'Manzanar Relocation Center':'Manzanar',\n",
    "                 'Minidoka Relocation Center':'Minidoka', \n",
    "                 'Rohwer Relocation Center':'Rohwer', \n",
    "                 'Tule Lake Relocation Center':'Tule Lake'} \n",
    "def pop_diff(location):\n",
    "    plt.subplots(dpi=250)\n",
    "    sns.set(font_scale=.8)\n",
    "    pbm_max = pop_by_month[location_dict[location]].max()\n",
    "    camps_max = camps[camps['Internment Camp Name'] == location]['Maximum Population']\n",
    "    bar = sns.barplot(x =['camps df', 'pop_by_month df'], y=[camps_max, pbm_max]);\n",
    "    \n",
    "Location = interact(pop_diff, location=camps['Internment Camp Name'].values);"
   ]
  },
  {
   "cell_type": "markdown",
   "metadata": {},
   "source": [
    "**Question 3c:** Consider the visualization above. Identify a flaw (if any) and give a recommendation on how to improve it. Is there another type of visualization you can think of that can portray the differences in population?"
   ]
  },
  {
   "cell_type": "markdown",
   "metadata": {},
   "source": [
    "**Answer:** YOUR ANSWER HERE"
   ]
  },
  {
   "cell_type": "markdown",
   "metadata": {},
   "source": [
    "Next, we'll visualize the monthly population change of each camp using an overlaid line plot. Using an overlaid line plot can make it easier to identify any relationships that may exist in the data, and more generally if any events coincide with the population of each camp reported by the WRA."
   ]
  },
  {
   "cell_type": "code",
   "execution_count": null,
   "metadata": {
    "#student": false
   },
   "outputs": [],
   "source": [
    "pop_by_month2 = pop_by_month.drop(\"Total\", axis = 1)\n",
    "melted = pd.melt(pop_by_month2, id_vars = [\"Date\"], value_vars = pop_by_month2.columns[1:], var_name = 'Camp', value_name = \"Population\")\n",
    "fig = px.line(melted, x = 'Date', y = 'Population', color = 'Camp', title = 'Camp Populations by Month')\n",
    "fig.show();"
   ]
  },
  {
   "cell_type": "markdown",
   "metadata": {
    "#student": false
   },
   "source": [
    "The histogram above displays a general downwards trend that indicates a steady decrease in camp population over time. \n",
    "Aside from a handful of camps whose population increased between July of 1943 and July of 1944, all the camps follow this general trend. **Reseach reason behind the spike in population between 1943 & 1944?**"
   ]
  },
  {
   "cell_type": "markdown",
   "metadata": {},
   "source": [
    "Now we'll shift our focus from detention camp populations to the percentages of Japanese-Americans detained that returned to their original county. We can use a histogram to visualize the distribution of the percentages reported."
   ]
  },
  {
   "cell_type": "code",
   "execution_count": null,
   "metadata": {
    "#student": false
   },
   "outputs": [],
   "source": [
    "sns.distplot(population1940_1945['% returned'])\n",
    "plt.title(\"Percent Returned to Original County\");"
   ]
  },
  {
   "cell_type": "markdown",
   "metadata": {},
   "source": [
    "We can see that the bin that indicated 0% return to original location hold the most weight. This indicates that a vast majority of the individuals that were held in detention camps did not return to the location where they originally lived."
   ]
  },
  {
   "cell_type": "markdown",
   "metadata": {
    "#student": true
   },
   "source": [
    "\n",
    "**Question 3d**: Visualizations allow us to picture how the numbers change and find abnormalities in the data set. What are some abnormalities that you see in the first plot? What are some possible explanations for these abnormalities?"
   ]
  },
  {
   "cell_type": "markdown",
   "metadata": {
    "#student": true
   },
   "source": [
    "\n",
    "**Answer:** YOUR ANSWER HERE"
   ]
  },
  {
   "cell_type": "markdown",
   "metadata": {
    "#student": false
   },
   "source": [
    "---\n",
    "\n",
    "## Section 4: Assembly Centers and Internment Centers<a id='#section4'></a>\n",
    "\n",
    "In this section we will look at the trends in the relocation of detained Japanese-Americans. The maps below show how far people were forced to move from one location to another over the course of WWII. By creating a map from longitude and latitude data, we can better visualize locations and understand some aspects of Japanese-American detainments, such as on whose land Japanese-Americans were held in and the conditions that they suffered, and the places that Japanese-Americans across the West Coast came from and where they went afterwards.\n",
    "\n",
    "When a notice of \"evacuation\" was posted, families had to register at a control center and were issued a number, stripping families of their privacy and dignity. From there, families awaited their trip to the assembly centers and upon arrival, detainees recall two vivid images: \"walking to the camp between a cordon of armed guards, and first seeing the barbed wire and searchlights, the menacing symbols of a prison\" (*Personal Justice Denied*, 136).\n",
    "\n",
    "\n",
    "<img src=\"images/Luggage_Japanese_American_internment.png\" width=\"400\">\n",
    "\n",
    "<center> The luggage of the Japanese Americans who have arrived at a reception center.\n",
    "This image is available from the United States Library of Congress's Prints and Photographs division."
   ]
  },
  {
   "cell_type": "markdown",
   "metadata": {
    "#student": false
   },
   "source": [
    "### Assembly Centers\n",
    "Japanese Americans were uprooted from their homes and transported from assembly centers to detention camps all across the country. Assembly centers served as temporary detention centers for the detained to stop at before being transported to a permanent detention center. The map below displays the geological location of the assembly centers created after the passing of the Executive Order 9066.\n",
    "\n",
    "To zoom in and out on the map, press the + and - buttons or scroll up and down. Also, click on the blue marker to see the assembly center name. "
   ]
  },
  {
   "cell_type": "code",
   "execution_count": null,
   "metadata": {
    "#student": false
   },
   "outputs": [],
   "source": [
    "m = folium.Map(location=[36.733300, -100.766700], zoom_start=4)\n",
    "tooltip = 'Click me!'\n",
    "for i in range(0,len(assembly)):\n",
    "    folium.Marker(\n",
    "      location=(assembly.iloc[i]['Latitude'], assembly.iloc[i]['Longitude']),\n",
    "      popup=assembly.iloc[i]['Location'],\n",
    "      ).add_to(m)\n",
    "m"
   ]
  },
  {
   "cell_type": "markdown",
   "metadata": {},
   "source": [
    "### Detention Camps\n",
    "\n",
    "The map below shows the location of detention centers across the country. Notice that the detention centers are located further inland than assembly centers. This is because a majority of the Japanese-Americans that were held in detention camps were originally from the West Coast. After the order passed, these Japanese-Americans were relocated to nearby assembly centers as authorities prepared to relocate them to further detention centers."
   ]
  },
  {
   "cell_type": "code",
   "execution_count": null,
   "metadata": {
    "#student": false
   },
   "outputs": [],
   "source": [
    "m = folium.Map(location=[36.733300, -100.766700], zoom_start=4)\n",
    "tooltip = 'Click me!'\n",
    "for i in range(0,len(camps)):\n",
    "    folium.Marker(\n",
    "      location=(camps.iloc[i]['Latitude'], camps.iloc[i]['Longitude']),\n",
    "      popup=camps.iloc[i]['Internment Camp Name'],\n",
    "      ).add_to(m)\n",
    "m"
   ]
  },
  {
   "cell_type": "markdown",
   "metadata": {
    "#student": false
   },
   "source": [
    "---\n",
    "\n",
    "## Section 5: Mapping and Movement<a id='section5'></a>\n",
    "\n",
    "The abrupt forced relocation of countless Japanese-Americans during World War II resulted in a lasting change in the location of many of these Japanese-American families even after the war ended. During the relocation process many families were forced to quickly sell their possessions, businesses and land holdings. Those who did not, often came back to find their possessions gone and homes vandalized. As a result, many detainees that lived on the West Coast of the United States did not return to their previous homes after the war.\n",
    "\n",
    "<img src=\"images/Hayward_Friends_say_goodbye.png\" width=\"400\">\n",
    "<center> Neighbors in Hayward, California saying goodbye.\n",
    "    \n",
    "<center> This image is available from the United States Library of Congress's Prints and Photographs division.\n",
    "    "
   ]
  },
  {
   "cell_type": "markdown",
   "metadata": {},
   "source": [
    "### Location of Detainees Before Relocation\n",
    "\n",
    "The map below shows the population of each county at the start of World War II in 1940, just before the Executive Order 9066 in 1942. Japanese Americans were largely concentrated on the West Coast, with the largest population in Los Angeles.\n"
   ]
  },
  {
   "cell_type": "code",
   "execution_count": null,
   "metadata": {
    "#student": false
   },
   "outputs": [],
   "source": [
    "m = folium.Map(location=[36.733300, -100.766700], zoom_start=4)\n",
    "tooltip = 'Click me!'\n",
    "for i in range(0,len(population1940_1945)):\n",
    "    folium.Circle(\n",
    "      location = (population1940_1945.iloc[i]['Latitude'], population1940_1945.iloc[i]['Longitude']),\n",
    "      popup = population1940_1945.iloc[i]['County'],\n",
    "      radius = float(population1940_1945.iloc[i]['1940']) *12,\n",
    "      color = 'blue',\n",
    "      fill = True,\n",
    "      fill_color = 'crimson').add_to(m)\n",
    "m"
   ]
  },
  {
   "cell_type": "code",
   "execution_count": null,
   "metadata": {},
   "outputs": [],
   "source": [
    "m = folium.Map(location=[36.733300, -100.766700], zoom_start=4)\n",
    "tooltip = 'Click me!'\n",
    "\n",
    "def color(pop): \n",
    "    if pop in range(0,1000): \n",
    "        col = 'green'\n",
    "    elif pop in range(1001,4999): \n",
    "        col = 'blue'\n",
    "    elif pop in range(5000,10000): \n",
    "        col = 'orange'\n",
    "    else: \n",
    "        col='red'\n",
    "    return col \n",
    "\n",
    "population1940_1945['marker_color'] = [color(pop) for pop in population1940_1945['1940'].tolist()]\n",
    "\n",
    "for i in range(0,len(population1940_1945)):\n",
    "    folium.CircleMarker(\n",
    "        location = (population1940_1945.iloc[i]['Latitude'], population1940_1945.iloc[i]['Longitude']),\n",
    "        radius = 1,\n",
    "        popup = population1940_1945.iloc[i]['County'],\n",
    "        color = population1940_1945.iloc[i]['marker_color'],\n",
    "    ).add_to(m)\n",
    "m\n",
    "\n"
   ]
  },
  {
   "cell_type": "markdown",
   "metadata": {},
   "source": [
    "**Question 5a**:  The two visualizations above map the same data, but do so in two different ways. What are the differences between the two maps? What does each visualization draw attention to and what does it obscure?"
   ]
  },
  {
   "cell_type": "markdown",
   "metadata": {},
   "source": [
    "**Answer:** YOUR ANSWER HERE \n",
    "\n",
    "*Potential Answer: The first map indicates population by size of the circle where as the second map indicates by color. A disadvantage of the first map is that the circles begin to overlap and cloud the overall view of the map. An advantage of the first map is that it is very easy to tell where large populations lie on the map. A disadvantage of the second map is that one must consult the legend to understand what the map is displaying. An advantage of the second map is that each marker is clearly visible and they do not overlap.*"
   ]
  },
  {
   "cell_type": "markdown",
   "metadata": {
    "#student": false
   },
   "source": [
    "### Location of Detainees After the War\n",
    "\n",
    "This table shows the number of Japanese Americans in each county after the war. This data was self-reported by evacuees."
   ]
  },
  {
   "cell_type": "code",
   "execution_count": null,
   "metadata": {
    "#student": false
   },
   "outputs": [],
   "source": [
    "reloc_cities = pd.read_csv('data/RelocationDestinations_Cities_LL.csv', error_bad_lines = False)\n",
    "reloc_cities['People'] = reloc_cities['People'].astype(float)\n",
    "reloc_cities.head()"
   ]
  },
  {
   "cell_type": "markdown",
   "metadata": {
    "#student": false
   },
   "source": [
    "This table shows the number of Japanese-Americans in each county after the war. This data was self-reported by detainees.\n",
    "This map shows the cities that people relocated after the war. It allows us to visualize the extent people had to relocate from their original homes. We can see that a large population moved to the midwest (Chicago area) as well as the East Coast, Canada, and even Mexico City.\n"
   ]
  },
  {
   "cell_type": "code",
   "execution_count": null,
   "metadata": {
    "#student": false
   },
   "outputs": [],
   "source": [
    "m = folium.Map(location=[36.733300, -100.766700], zoom_start=4)\n",
    "tooltip = 'Click me!'\n",
    "for i in range(0,len(reloc_cities)):\n",
    "    folium.Circle(\n",
    "      location=(reloc_cities.iloc[i]['Latitude'], reloc_cities.iloc[i]['Longitude']),\n",
    "      popup=reloc_cities.iloc[i]['City'],\n",
    "      radius=reloc_cities.iloc[i]['People'] * 12,\n",
    "      color='blue',\n",
    "      fill=True,\n",
    "      fill_color='red').add_to(m)\n",
    "m"
   ]
  },
  {
   "cell_type": "markdown",
   "metadata": {},
   "source": [
    "**Question 5b**: As was mentioned above, this data is self reported by detainees. What effect does the fact that the data is self-reported have on the data collected and the conclusions made? "
   ]
  },
  {
   "cell_type": "markdown",
   "metadata": {},
   "source": [
    "**Answer:** YOUR ANSWER HERE\n",
    "\n",
    "*Potential Answer: The fact that the data is self reported indicates that the data might have an underlying bias due to the people who chose to report and those who did not. The data might not be representative of all the evacuees.*"
   ]
  },
  {
   "cell_type": "markdown",
   "metadata": {},
   "source": [
    "**Question 5c:** Given our work with the data and the context surrounding it (question 2a), what does it mean to be doing data analysis on these two datasets together? How is the context transformed through the act of your analysis?  "
   ]
  },
  {
   "cell_type": "markdown",
   "metadata": {},
   "source": [
    "**Answer:** YOUR ANSWER HERE"
   ]
  },
  {
   "cell_type": "markdown",
   "metadata": {
    "#student": false
   },
   "source": [
    "---\n",
    "Notebook developed by: Alleanna Clark, Aishah Mahmud, Monica Wilkinson\n",
    "\n",
    "Data Science Modules: http://data.berkeley.edu/education/modules\n"
   ]
  }
 ],
 "metadata": {
  "anaconda-cloud": {},
  "checksums": [
   "7d62f2d8fa9df9782dabafaf29f6be0b",
   "bf3feb850b5e1bd76ebcd7c07e4125a4",
   "9ccdd9fe0060bd3ab7328387f1a35413",
   "a22cdadfe7c74bd821ea894f242bab88",
   "3d3282284ee18c6a2fd069444fde3217",
   "c5063f438aba580d73b3fc8f015801be",
   "bb574c420b608257b5fc9f647c3eb81c",
   "2846119dbb959fc17c459eafab13dcb5",
   "e01f007aa5443efb9900bd44d13dd7c7",
   "b804469a98fe20f770090a7acc360a31",
   "a46e8d57f8644009ee6351df0927f2bf",
   "c9decc56cff48e3fd4fb28e48a7ba110",
   "1508a0313a4e1c0923287b9327cb6a80",
   "bdab940058951e88de397a485186a5de",
   "62c34e40515edab6c4225ccf15087052",
   "0fd80a084c06e3f7653144df829c2e3d",
   "5344dc57314f63d6ea2455f0c2a27d30",
   "6c521a0f63dbf362aaaf744085cf5b4d",
   "f7cbedf950e5a0393fa8414ec591073c",
   "690c6779b8184c6b3f7b44b28258a1c9",
   "a23b90f9b02415da624c64c700cd983c",
   "1a89c04b14ffca9f33ba99754b16bc05",
   "135645a8e6de40583293478107705afb",
   "4500e0043480e3b5ee091f37fa8c6f2b",
   "989ef4f9e0df1c73b2e59d8a21acdaa9",
   "e682d5808dd16a1e8e787c15da5093c0",
   "7a7210ab4f95ccb7a3ce5d78bb87b92b",
   "6fa6c6038ba08d3c2973c03c4f222cf3",
   "9efc314b65237d5d646e1b817372afc6",
   "6a1eee6a000db38bf48e3c7c8313c2ed",
   "99193259bf8cb447d9c11ef80a2d517a",
   "be412606d0ab971baafe92a2aceddabd",
   "1d93fa85a37e8a9a4ed56e0e42a5e388",
   "13c86accb3f14a7504c1443b3b85b17b",
   "8b8bd628f67be024162e121a028737d5",
   "deda54df303d85c87084d4c7934124f2",
   "343c55190c6e01f3a21869185435318b",
   "b9f9b50487bc24ced9e9be3181b107c8",
   "2c628b07d1bc8678a879f1b182dfea22",
   "40a3a18785bcf172b3f5bffc70e2204a",
   "1be47a1c3314182c8741fb78645afc4c",
   "1a4743083d499b807c0f310cf851dd3f",
   "9d45946f137dcbd9b0bb25635216ec88",
   "af1b20ba747adc76da8d13147e160754",
   "c45b863a08254980e2804d24899d6712",
   "659c5ba16081070bc38a02d0d963063f",
   "646d6bf77641e96b7cd5772a8d1a10ad",
   "6fa6c6038ba08d3c2973c03c4f222cf3",
   "4b7233c8a0f8c12db1a1fcd5a9b445fc",
   "6357eb980f2ec54eaebb96dc7e3e1f7b",
   "23b2e187b60113dbb89807ca8d37030a"
  ],
  "kernelspec": {
   "display_name": "Python 3",
   "language": "python",
   "name": "python3"
  },
  "language_info": {
   "codemirror_mode": {
    "name": "ipython",
    "version": 3
   },
   "file_extension": ".py",
   "mimetype": "text/x-python",
   "name": "python",
   "nbconvert_exporter": "python",
   "pygments_lexer": "ipython3",
   "version": "3.7.3"
  },
  "number_of_pagebreaks": 0
 },
 "nbformat": 4,
 "nbformat_minor": 4
}
