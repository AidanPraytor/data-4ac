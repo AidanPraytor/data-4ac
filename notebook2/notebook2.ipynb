{
 "cells": [
  {
   "cell_type": "markdown",
   "metadata": {
    "#student": false
   },
   "source": [
    "# Notebook 2: Japanese-American Detainment During World War II\n",
    "\n",
    "Executive Order 9066 was signed and issued by President Franklin Roosevelt on February 19, 1942. This order gave the U.S. army authorization to evacuate any individual considered a threat to national security from designated military exclusion zones along the West Coast to internment camps further inland. The passing of this executive order began the process of funneling Japanese-Americans into intermediate assembly centers and finally permanent internment centers. \n",
    "\n",
    "By working through this notebook, you will be able to visualize the forced movement of Japanese-Americans, from the West Coast of the United States, to scattered detainment camps, and eventually to cities throughout the country.\n",
    "\n",
    "### Learning Outcomes\n",
    "After completing this notebook, you will learn about:\n",
    "- The displacement of Japanese-Americans before and after detainment\n",
    "- Basic data cleaning and exploratory data analysis\n",
    "- Recognizing how data can restrict the types of analysis we can perform\n",
    "- Using different visualizations to discover traits about our data\n",
    "\n",
    "---\n",
    "\n",
    "### Table of Contents\n",
    "1. [Section 1: The Data Science Lifecycle](#dslifecycle)\n",
    "2. [Section 2: The Data](#data)\n",
    "3. [Section 3: Data Exploration and Visualization](#eda)\n",
    "4. [Section 4: Assembly Centers and Internment Centers](#section4)\n",
    "5. [Section 5: Mapping and Movement](#section5)\n",
    "\n",
    "**Dependencies**"
   ]
  },
  {
   "cell_type": "code",
   "execution_count": 3,
   "metadata": {
    "#student": false
   },
   "outputs": [],
   "source": [
    "# Run this cell!\n",
    "from IPython.display import HTML\n",
    "import pandas as pd\n",
    "import numpy as np\n",
    "import matplotlib.pyplot as plt\n",
    "import seaborn as sns\n",
    "import folium\n",
    "import plotly.express as px\n",
    "import ipywidgets as widgets\n",
    "from ipywidgets import interact, interactive, fixed, interact_manual\n",
    "\n",
    "relocations_cities = pd.read_csv(\"data/RelocationDestinations_Cities_LL.csv\", error_bad_lines = False)"
   ]
  },
  {
   "cell_type": "markdown",
   "metadata": {
    "#student": false
   },
   "source": [
    "---\n",
    "\n",
    "## Section 1: The Data Science Lifecycle<a id='dslifecycle'></a>\n",
    "\n",
    "\n",
    "In data science, we utilize large and diverse datasets to make conclusions and predictions about the world we live in. Doing so involves a process called the data science lifecycle, which is a high-level description of the stages of work that data scientists perform as they work on a data science project. There are a number of data science lifecycles that people have developed and use to learn and practice data science. The lifecycle that we will be working with in DATA-4AC is a newly updated lifecycle that considers the human contexts and ethics of data at every stage. \n",
    "\n",
    "\n",
    "<img src=\"images/dsethoslifecycle.png\" width=\"450\">\n",
    "\n",
    "This process is often iterated as new questions and problems emerge after the last step that enable data practitioners  to learn more about the characteristics and patterns of the world, which in turn informs the kinds of questions that are asked.\n",
    "\n",
    "In this notebook, we'll focus on stages 2 and 3. We'll first introduce the data sets used in this notebook and then take a deeper look into the data through exploratory data analysis (EDA). We perform EDA to uncover any patterns or features from the data and better understand the underlying structure. EDA can involve looking for outliers or anomalies, identifying important variables, and data visualization. "
   ]
  },
  {
   "cell_type": "markdown",
   "metadata": {
    "cell_id": "00003-d8788f7f-97b3-4d3a-882e-04f016c8ca26"
   },
   "source": [
    "----\n",
    "\n",
    "## Section 2: Data Discovery - What is our data? Where does it come from? What is in it? <a id='data'></a>\n",
    "\n",
    "\n",
    "We will be working with a dataset that was manually digitized from tables in \n",
    "*The Evacuated People: A Quantitative Description*, a report published by the War \n",
    "Relocation Authority (WRA) in 1946. The WRA was the government agency that oversaw the \n",
    "forced relocation of Japanese-Americans and was first established via Executive Order 9102 \n",
    "on March 18, 1942.  *The Evacuated People* contains statistics and more than 100 tables \n",
    "concerning the 120,313 Japanese Americans that were under the authority of the WRA. The WRA created the data as part of and in order to pursue its \"program\" of detaining Japanese-Americans.\n",
    "\n",
    "\n",
    "The tables in this report were transcribed  manually because the results from automatic scraping (using a computer program to extract the data) contained too many errors  (a person named [Cooper Thomas created the dataset](https://data.world/infinitecoop/japanese-internment-camps/) we will be using). Thus, there may still be some human error. The datasets include the populations of each camp by month, the relocation destinations of those who were incarcerated, and the Japanese-American population in the United States before and during the war. Take a look at the full dataset [here](https://data.world/infinitecoop/japanese-internment-camps/).\n",
    "\n",
    "The second dataset we're working with is from the story map \"Behind Barbed Wire,\" created by the Library of Congress. The data comes from newspapers that were produced by Japanese-American detainees while they lived in the camps. Camp newspapers circulated administrative announcements, events, vital statistics, news from other camps, and other information about daily camp life. They also included [comics](https://www.loc.gov/resource/sn84024049/1942-11-18/ed-1/?sp=7), opinion pieces, job opportunities, and even results from baseball games. These newspapers helped maintain a sense of normalcy for their detained authors and readers, something that the WRA tables do not reflect. You can access the data and read about the newspapers [here](https://tinyurl.com/y4g5kq77). \n",
    "Note that this dataset provides similar data, though not at the same scope as the data from the WRA report - we will discuss more in section 3. Data scientists will often use multiple data sets, combine them, analyze both in parallel, etc.\n",
    "\n",
    "**Question 2a:** Considering the context in which a dataset was produced is critical to beginning to make sense of the human contexts and ethics of a data science project. In this notebook, we are using two datasets with very different contexts for our analysis. Take a moment to review the contexts of the two datasets. Who created each? What was the purpose for the creation of each? How was each dataset used? By whom? How might this context bear upon the data categories and values in each dataset? \n",
    "\n",
    "Hint: You can consider issues like comprehensibility or accuracy."
   ]
  },
  {
   "cell_type": "markdown",
   "metadata": {},
   "source": [
    "**Answer:** YOUR ANSWER HERE"
   ]
  },
  {
   "cell_type": "markdown",
   "metadata": {},
   "source": [
    "\n",
    "<img src=\"images/Posted_Japanese_American_Exclusion_Order.png\" width=\"450\">\n",
    "<center> This image is available from the United States Library of Congress's Prints and Photographs division.\n",
    "\n",
    "Below, we are loading in two datasets and doing a bit of data cleaning. The first dataset is from the manually transcribed WRA tables of the camp populations from each month and we are converting the data type of the `date` column into something easier for us to work with. The second dataset is from \"Behind Barbed Wire\" concerning the location of each internment camp and its maximum population. The maximum population is tweaked to change it to a number rather than a string."
   ]
  },
  {
   "cell_type": "code",
   "execution_count": 4,
   "metadata": {
    "#student": false
   },
   "outputs": [],
   "source": [
    "pop_by_month = pd.read_csv(\"data/CampPopulationsByMonth.csv\", error_bad_lines = False, thousands = ',')\n",
    "pop_by_month['Date']= pd.to_datetime(pop_by_month['Date']) \n",
    "\n",
    "camps = pd.read_csv('data/BehindBarbedWire_StoryMap_InternmentCampLocationsMap_Data.csv', error_bad_lines = False)\n",
    "camps[\"Maximum Population\"] = camps[\"Maximum Population\"].str.replace(',', '')\n",
    "camps['Maximum Population'] = camps['Maximum Population'].astype(float)"
   ]
  },
  {
   "cell_type": "markdown",
   "metadata": {
    "#student": false
   },
   "source": [
    "We'll first look at the `pop_by_month` table, which has the population of each of the ten camps at the start of every month."
   ]
  },
  {
   "cell_type": "code",
   "execution_count": 5,
   "metadata": {
    "#student": false
   },
   "outputs": [
    {
     "data": {
      "text/html": [
       "<div>\n",
       "<style scoped>\n",
       "    .dataframe tbody tr th:only-of-type {\n",
       "        vertical-align: middle;\n",
       "    }\n",
       "\n",
       "    .dataframe tbody tr th {\n",
       "        vertical-align: top;\n",
       "    }\n",
       "\n",
       "    .dataframe thead th {\n",
       "        text-align: right;\n",
       "    }\n",
       "</style>\n",
       "<table border=\"1\" class=\"dataframe\">\n",
       "  <thead>\n",
       "    <tr style=\"text-align: right;\">\n",
       "      <th></th>\n",
       "      <th>Date</th>\n",
       "      <th>Total</th>\n",
       "      <th>Topaz/Central Utah</th>\n",
       "      <th>Poston/Colorado River</th>\n",
       "      <th>Gila River</th>\n",
       "      <th>Granada</th>\n",
       "      <th>Heart Mountain</th>\n",
       "      <th>Jerome</th>\n",
       "      <th>Manzanar</th>\n",
       "      <th>Minidoka</th>\n",
       "      <th>Rohwer</th>\n",
       "      <th>Tule Lake</th>\n",
       "    </tr>\n",
       "  </thead>\n",
       "  <tbody>\n",
       "    <tr>\n",
       "      <th>0</th>\n",
       "      <td>1942-06-01</td>\n",
       "      <td>17393</td>\n",
       "      <td>0</td>\n",
       "      <td>7281</td>\n",
       "      <td>0</td>\n",
       "      <td>0</td>\n",
       "      <td>0</td>\n",
       "      <td>0</td>\n",
       "      <td>9666</td>\n",
       "      <td>0</td>\n",
       "      <td>0</td>\n",
       "      <td>446</td>\n",
       "    </tr>\n",
       "    <tr>\n",
       "      <th>1</th>\n",
       "      <td>1942-07-01</td>\n",
       "      <td>27633</td>\n",
       "      <td>0</td>\n",
       "      <td>8755</td>\n",
       "      <td>0</td>\n",
       "      <td>0</td>\n",
       "      <td>0</td>\n",
       "      <td>0</td>\n",
       "      <td>9840</td>\n",
       "      <td>0</td>\n",
       "      <td>0</td>\n",
       "      <td>9038</td>\n",
       "    </tr>\n",
       "    <tr>\n",
       "      <th>2</th>\n",
       "      <td>1942-08-01</td>\n",
       "      <td>40316</td>\n",
       "      <td>0</td>\n",
       "      <td>13262</td>\n",
       "      <td>2106</td>\n",
       "      <td>0</td>\n",
       "      <td>0</td>\n",
       "      <td>0</td>\n",
       "      <td>9928</td>\n",
       "      <td>0</td>\n",
       "      <td>0</td>\n",
       "      <td>15020</td>\n",
       "    </tr>\n",
       "    <tr>\n",
       "      <th>3</th>\n",
       "      <td>1942-09-01</td>\n",
       "      <td>63031</td>\n",
       "      <td>0</td>\n",
       "      <td>17818</td>\n",
       "      <td>9150</td>\n",
       "      <td>212</td>\n",
       "      <td>5758</td>\n",
       "      <td>0</td>\n",
       "      <td>10072</td>\n",
       "      <td>4840</td>\n",
       "      <td>0</td>\n",
       "      <td>15181</td>\n",
       "    </tr>\n",
       "    <tr>\n",
       "      <th>4</th>\n",
       "      <td>1942-10-01</td>\n",
       "      <td>90499</td>\n",
       "      <td>5806</td>\n",
       "      <td>17847</td>\n",
       "      <td>11555</td>\n",
       "      <td>7480</td>\n",
       "      <td>10813</td>\n",
       "      <td>0</td>\n",
       "      <td>10256</td>\n",
       "      <td>9200</td>\n",
       "      <td>2265</td>\n",
       "      <td>15277</td>\n",
       "    </tr>\n",
       "  </tbody>\n",
       "</table>\n",
       "</div>"
      ],
      "text/plain": [
       "        Date  Total  Topaz/Central Utah  Poston/Colorado River  Gila River  \\\n",
       "0 1942-06-01  17393                   0                   7281           0   \n",
       "1 1942-07-01  27633                   0                   8755           0   \n",
       "2 1942-08-01  40316                   0                  13262        2106   \n",
       "3 1942-09-01  63031                   0                  17818        9150   \n",
       "4 1942-10-01  90499                5806                  17847       11555   \n",
       "\n",
       "   Granada  Heart Mountain  Jerome  Manzanar  Minidoka  Rohwer  Tule Lake  \n",
       "0        0               0       0      9666         0       0        446  \n",
       "1        0               0       0      9840         0       0       9038  \n",
       "2        0               0       0      9928         0       0      15020  \n",
       "3      212            5758       0     10072      4840       0      15181  \n",
       "4     7480           10813       0     10256      9200    2265      15277  "
      ]
     },
     "execution_count": 5,
     "metadata": {},
     "output_type": "execute_result"
    }
   ],
   "source": [
    "pop_by_month.head()"
   ]
  },
  {
   "cell_type": "markdown",
   "metadata": {
    "#student": false
   },
   "source": [
    "The `camps` table from \"Behind Barbed Wire\" contains the information on the internment camp's, name, city location, state location, latitude, longitude, opening date, closing date, and their maximum populations."
   ]
  },
  {
   "cell_type": "code",
   "execution_count": 6,
   "metadata": {
    "#student": false
   },
   "outputs": [
    {
     "data": {
      "text/html": [
       "<div>\n",
       "<style scoped>\n",
       "    .dataframe tbody tr th:only-of-type {\n",
       "        vertical-align: middle;\n",
       "    }\n",
       "\n",
       "    .dataframe tbody tr th {\n",
       "        vertical-align: top;\n",
       "    }\n",
       "\n",
       "    .dataframe thead th {\n",
       "        text-align: right;\n",
       "    }\n",
       "</style>\n",
       "<table border=\"1\" class=\"dataframe\">\n",
       "  <thead>\n",
       "    <tr style=\"text-align: right;\">\n",
       "      <th></th>\n",
       "      <th>Internment Camp Name</th>\n",
       "      <th>Location</th>\n",
       "      <th>State</th>\n",
       "      <th>Latitude</th>\n",
       "      <th>Longitude</th>\n",
       "      <th>Opened</th>\n",
       "      <th>Closed</th>\n",
       "      <th>Maximum Population</th>\n",
       "    </tr>\n",
       "  </thead>\n",
       "  <tbody>\n",
       "    <tr>\n",
       "      <th>0</th>\n",
       "      <td>Gila River Relocation Center</td>\n",
       "      <td>Rivers</td>\n",
       "      <td>Arizona</td>\n",
       "      <td>33.065083</td>\n",
       "      <td>-111.830528</td>\n",
       "      <td>20-Jul-42</td>\n",
       "      <td>16-Nov-45</td>\n",
       "      <td>13348.0</td>\n",
       "    </tr>\n",
       "    <tr>\n",
       "      <th>1</th>\n",
       "      <td>Poston Relocation Center</td>\n",
       "      <td>Parker</td>\n",
       "      <td>Arizona</td>\n",
       "      <td>33.987500</td>\n",
       "      <td>-114.401111</td>\n",
       "      <td>2-Jun-42</td>\n",
       "      <td>28-Nov-45</td>\n",
       "      <td>17814.0</td>\n",
       "    </tr>\n",
       "    <tr>\n",
       "      <th>2</th>\n",
       "      <td>Jerome Relocation Center</td>\n",
       "      <td>Denson</td>\n",
       "      <td>Arkansas</td>\n",
       "      <td>33.411667</td>\n",
       "      <td>-91.461111</td>\n",
       "      <td>6-Oct-42</td>\n",
       "      <td>30-Jun-44</td>\n",
       "      <td>8497.0</td>\n",
       "    </tr>\n",
       "    <tr>\n",
       "      <th>3</th>\n",
       "      <td>Rohwer Relocation Center</td>\n",
       "      <td>McGehee</td>\n",
       "      <td>Arkansas</td>\n",
       "      <td>33.766297</td>\n",
       "      <td>-91.280158</td>\n",
       "      <td>18-Sep-42</td>\n",
       "      <td>30-Nov-45</td>\n",
       "      <td>8475.0</td>\n",
       "    </tr>\n",
       "    <tr>\n",
       "      <th>4</th>\n",
       "      <td>Manzanar Relocation Center</td>\n",
       "      <td>Manzanar</td>\n",
       "      <td>California</td>\n",
       "      <td>36.728333</td>\n",
       "      <td>-118.154444</td>\n",
       "      <td>2-Jun-42</td>\n",
       "      <td>21-Nov-45</td>\n",
       "      <td>10046.0</td>\n",
       "    </tr>\n",
       "    <tr>\n",
       "      <th>5</th>\n",
       "      <td>Tule Lake Relocation Center</td>\n",
       "      <td>Newell</td>\n",
       "      <td>California</td>\n",
       "      <td>41.889444</td>\n",
       "      <td>-121.374722</td>\n",
       "      <td>27-May-42</td>\n",
       "      <td>20-Mar-46</td>\n",
       "      <td>18789.0</td>\n",
       "    </tr>\n",
       "    <tr>\n",
       "      <th>6</th>\n",
       "      <td>Granada Relocation Center</td>\n",
       "      <td>Amache</td>\n",
       "      <td>Colorado</td>\n",
       "      <td>38.049444</td>\n",
       "      <td>-102.328611</td>\n",
       "      <td>27-Aug-42</td>\n",
       "      <td>15-Oct-45</td>\n",
       "      <td>7318.0</td>\n",
       "    </tr>\n",
       "    <tr>\n",
       "      <th>7</th>\n",
       "      <td>Minidoka Relocation Center</td>\n",
       "      <td>Hunt</td>\n",
       "      <td>Idaho</td>\n",
       "      <td>42.679000</td>\n",
       "      <td>-114.244000</td>\n",
       "      <td>10-Aug-42</td>\n",
       "      <td>28-Oct-45</td>\n",
       "      <td>9397.0</td>\n",
       "    </tr>\n",
       "    <tr>\n",
       "      <th>8</th>\n",
       "      <td>Topaz Relocation Center</td>\n",
       "      <td>Topaz</td>\n",
       "      <td>Utah</td>\n",
       "      <td>39.418336</td>\n",
       "      <td>-112.708750</td>\n",
       "      <td>11-Sep-42</td>\n",
       "      <td>31-Oct-45</td>\n",
       "      <td>8130.0</td>\n",
       "    </tr>\n",
       "    <tr>\n",
       "      <th>9</th>\n",
       "      <td>Heart Mountain Relocation Center</td>\n",
       "      <td>Heart Mountain</td>\n",
       "      <td>Wyoming</td>\n",
       "      <td>44.671667</td>\n",
       "      <td>-108.946389</td>\n",
       "      <td>12-Aug-42</td>\n",
       "      <td>10-Nov-45</td>\n",
       "      <td>343.0</td>\n",
       "    </tr>\n",
       "  </tbody>\n",
       "</table>\n",
       "</div>"
      ],
      "text/plain": [
       "               Internment Camp Name        Location       State   Latitude  \\\n",
       "0      Gila River Relocation Center          Rivers     Arizona  33.065083   \n",
       "1          Poston Relocation Center          Parker     Arizona  33.987500   \n",
       "2          Jerome Relocation Center          Denson    Arkansas  33.411667   \n",
       "3          Rohwer Relocation Center         McGehee    Arkansas  33.766297   \n",
       "4        Manzanar Relocation Center        Manzanar  California  36.728333   \n",
       "5       Tule Lake Relocation Center          Newell  California  41.889444   \n",
       "6         Granada Relocation Center          Amache    Colorado  38.049444   \n",
       "7        Minidoka Relocation Center            Hunt       Idaho  42.679000   \n",
       "8           Topaz Relocation Center           Topaz        Utah  39.418336   \n",
       "9  Heart Mountain Relocation Center  Heart Mountain     Wyoming  44.671667   \n",
       "\n",
       "    Longitude     Opened     Closed  Maximum Population  \n",
       "0 -111.830528  20-Jul-42  16-Nov-45             13348.0  \n",
       "1 -114.401111   2-Jun-42  28-Nov-45             17814.0  \n",
       "2  -91.461111   6-Oct-42  30-Jun-44              8497.0  \n",
       "3  -91.280158  18-Sep-42  30-Nov-45              8475.0  \n",
       "4 -118.154444   2-Jun-42  21-Nov-45             10046.0  \n",
       "5 -121.374722  27-May-42  20-Mar-46             18789.0  \n",
       "6 -102.328611  27-Aug-42  15-Oct-45              7318.0  \n",
       "7 -114.244000  10-Aug-42  28-Oct-45              9397.0  \n",
       "8 -112.708750  11-Sep-42  31-Oct-45              8130.0  \n",
       "9 -108.946389  12-Aug-42  10-Nov-45               343.0  "
      ]
     },
     "execution_count": 6,
     "metadata": {},
     "output_type": "execute_result"
    }
   ],
   "source": [
    "camps"
   ]
  },
  {
   "cell_type": "markdown",
   "metadata": {
    "#student": false
   },
   "source": [
    "The `assembly` table from \"Behind Barbed Wire\" contains the locations of each assembly center (city, state, latitude, and longitude), as well as the number of people that were processed through each one."
   ]
  },
  {
   "cell_type": "code",
   "execution_count": null,
   "metadata": {
    "#student": false
   },
   "outputs": [],
   "source": [
    "assembly = pd.read_csv('data/BehindBarbedWire_StoryMap_AssemblyCentersMap_Data.csv', error_bad_lines = False)\n",
    "assembly = assembly.dropna(subset=['Latitude', 'Longitude']).dropna(axis = 1)\n",
    "assembly['Number of People'] = assembly['Number of People'].astype(float)\n",
    "assembly"
   ]
  },
  {
   "cell_type": "markdown",
   "metadata": {
    "#student": false,
    "cell_id": "00011-65cb812e-55e0-45dd-bc32-f233d86cd6bd"
   },
   "source": [
    "The `population1940_1945` table contains a list of counties that Japanese Americans lived in in 1940 and 1945, collected by the WRA. An additional column calculates the percent that returned to the county that they were from."
   ]
  },
  {
   "cell_type": "code",
   "execution_count": null,
   "metadata": {
    "#student": false,
    "cell_id": "00012-9415e581-9a09-42aa-a235-f60f64149171"
   },
   "outputs": [],
   "source": [
    "population1940_1945 = pd.read_csv(\"data/JapaneseAmericanPopulation_1940_1945_LL.csv\", error_bad_lines = False)\n",
    "population1940_1945.head(10) # If you'd like to take a look at the entire dataset, add a # before the ."
   ]
  },
  {
   "cell_type": "markdown",
   "metadata": {
    "#student": false
   },
   "source": [
    "----\n",
    "## Section 3: Exploratory Data Analysis<a id='eda'></a>\n",
    "\n",
    "Now that we've obtained our data, we can try to find interesting properties of our datasets and make visualizations to ultimately understand our data better and the stories behind the data. Keep in mind the *granularity* of our datasets, i.e. the level of detail the data describes (how fine or coarse-grained is it?). The data we're working with is at the \"camp\" level and thus aren't looking further into the specific populations of Japanese Americans at these internment camps (for example, looking into the number of people who were employed by or studying within the UC system at the Tule Lake camp, or people with certain health conditions in each camp).\n",
    "\n",
    "\n",
    "**Question 3a:** What kinds of events, trends, or patterns might we be able to observe from data at this particular granularity?\n",
    "\n",
    "\n"
   ]
  },
  {
   "cell_type": "markdown",
   "metadata": {},
   "source": [
    "**Answer:** YOUR ANSWER HERE"
   ]
  },
  {
   "cell_type": "markdown",
   "metadata": {},
   "source": [
    "Sometimes numbers don't always add up. We have two separate tables with data about the internment camps; one by the WRA and one with numbers reported in the newspapers from each camp. Say we try to compare the maximum population of the Manzanar camps from both tables."
   ]
  },
  {
   "cell_type": "code",
   "execution_count": null,
   "metadata": {
    "#student": false
   },
   "outputs": [],
   "source": [
    "print('Maximum Population at Manzanar')\n",
    "pop_by_month_max = pop_by_month['Manzanar'].max()\n",
    "print('Population by Month Data (WRA):' ,  pop_by_month_max)\n",
    "\n",
    "camps_max = int(camps[camps['Internment Camp Name'] == 'Manzanar Relocation Center']['Maximum Population'])\n",
    "print('Camps Data (BBW):',  camps_max)"
   ]
  },
  {
   "cell_type": "markdown",
   "metadata": {
    "#student": false
   },
   "source": [
    "We see that the two numbers don't match up. The `pop_by_month` table says that the maximum population of Manzanar was 10,256, while the camps table says that the maximum was 10,046 people. While this isn't a huge difference, it's important to remember that there can be inconsistency of values among your datasets, and not to take any one dataset as complete and accurate. \n",
    "\n",
    "**Question 3b:** What factors might contribute to this inconsistency?"
   ]
  },
  {
   "cell_type": "markdown",
   "metadata": {},
   "source": [
    "**Answer:** YOUR ANSWER HERE"
   ]
  },
  {
   "cell_type": "markdown",
   "metadata": {},
   "source": [
    "Below, we create barplots to  compare the populations at each camp given by the two different data sets `pop_by_month` and `camps`. Selecting a camp in the dropdown menu will update the barplot and display the maximum populations reported from each dataset."
   ]
  },
  {
   "cell_type": "code",
   "execution_count": 8,
   "metadata": {},
   "outputs": [
    {
     "data": {
      "image/png": "[encoded data removed]",
      "text/plain": [
       "<Figure size 1500x1000 with 1 Axes>"
      ]
     },
     "metadata": {
      "needs_background": "light"
     },
     "output_type": "display_data"
    }
   ],
   "source": [
    "location_dict = {'Topaz Relocation Center':'Topaz/Central Utah', \n",
    "                 'Poston Relocation Center':'Poston/Colorado River',\n",
    "                 'Gila River Relocation Center':'Gila River', \n",
    "                 'Granada Relocation Center': 'Granada', \n",
    "                 'Heart Mountain Relocation Center':'Heart Mountain', \n",
    "                 'Jerome Relocation Center':'Jerome', \n",
    "                 'Manzanar Relocation Center':'Manzanar',\n",
    "                 'Minidoka Relocation Center':'Minidoka', \n",
    "                 'Rohwer Relocation Center':'Rohwer', \n",
    "                 'Tule Lake Relocation Center':'Tule Lake'} \n",
    "def pop_diff(location):\n",
    "    plt.subplots(dpi=250)\n",
    "    sns.set(font_scale=.8)\n",
    "    pbm_max = pop_by_month[location_dict[location]].max()\n",
    "    camps_max = camps[camps['Internment Camp Name'] == location]['Maximum Population'][0]\n",
    "    bar = sns.barplot(x =['camps df', 'pop_by_month df'], y=[camps_max, pbm_max]);\n",
    "    \n",
    "Location = interact(pop_diff, location=camps['Internment Camp Name'].values);"
   ]
  },
  {
   "cell_type": "markdown",
   "metadata": {},
   "source": [
    "**Question 3c:** Consider the visualization above. Identify a flaw (if any) and give a recommendation on how to improve it. Is there another type of visualization you can think of that can portray the differences in population?"
   ]
  },
  {
   "cell_type": "markdown",
   "metadata": {},
   "source": [
    "**Answer:** YOUR ANSWER HERE"
   ]
  },
  {
   "cell_type": "markdown",
   "metadata": {},
   "source": [
    "Next, we'll visualize the monthly population change of each camp using an overlaid line plot. Using an overlaid line plot can make it easier to identify any relationships that may exist in the data, and more generally if any events coincide with the population of each camp reported by the WRA."
   ]
  },
  {
   "cell_type": "code",
   "execution_count": 9,
   "metadata": {
    "#student": false
   },
   "outputs": [
    {
     "data": {
      "application/vnd.plotly.v1+json": {
       "config": {
        "plotlyServerURL": "https://plot.ly"
       },
       "data": [
        {
         "hovertemplate": "Camp=Topaz/Central Utah<br>Date=%{x}<br>Population=%{y}<extra></extra>",
         "legendgroup": "Topaz/Central Utah",
         "line": {
          "color": "#636efa",
          "dash": "solid"
         },
         "mode": "lines",
         "name": "Topaz/Central Utah",
         "orientation": "v",
         "showlegend": true,
         "type": "scatter",
         "x": [
          "1942-06-01T00:00:00",
          "1942-07-01T00:00:00",
          "1942-08-01T00:00:00",
          "1942-09-01T00:00:00",
          "1942-10-01T00:00:00",
          "1942-11-01T00:00:00",
          "1942-12-01T00:00:00",
          "1943-01-01T00:00:00",
          "1943-02-01T00:00:00",
          "1943-03-01T00:00:00",
          "1943-04-01T00:00:00",
          "1943-05-01T00:00:00",
          "1943-06-01T00:00:00",
          "1943-07-01T00:00:00",
          "1943-08-01T00:00:00",
          "1943-09-01T00:00:00",
          "1943-10-01T00:00:00",
          "1943-11-01T00:00:00",
          "1943-12-01T00:00:00",
          "1944-01-01T00:00:00",
          "1944-02-01T00:00:00",
          "1944-03-01T00:00:00",
          "1944-04-01T00:00:00",
          "1944-05-01T00:00:00",
          "1944-06-01T00:00:00",
          "1944-07-01T00:00:00",
          "1944-08-01T00:00:00",
          "1944-09-01T00:00:00",
          "1944-10-01T00:00:00",
          "1944-11-01T00:00:00",
          "1944-12-01T00:00:00",
          "1945-01-01T00:00:00",
          "1945-02-01T00:00:00",
          "1945-03-01T00:00:00",
          "1945-04-01T00:00:00",
          "1945-05-01T00:00:00",
          "1945-06-01T00:00:00",
          "1945-07-01T00:00:00",
          "1945-08-01T00:00:00",
          "1945-09-01T00:00:00",
          "1945-10-01T00:00:00",
          "1945-11-01T00:00:00",
          "1945-12-01T00:00:00",
          "1946-01-01T00:00:00",
          "1946-02-01T00:00:00",
          "1946-03-01T00:00:00"
         ],
         "xaxis": "x",
         "y": [
          0,
          0,
          0,
          0,
          5806,
          8320,
          8294,
          8232,
          8214,
          8152,
          8332,
          8189,
          8018,
          7862,
          7809,
          7682,
          7608,
          7554,
          7585,
          7559,
          7438,
          7350,
          7227,
          7084,
          6879,
          6727,
          6621,
          6426,
          6280,
          6125,
          6026,
          5984,
          5883,
          5742,
          5589,
          5413,
          5165,
          4645,
          4176,
          3339,
          1899,
          0,
          0,
          0,
          0,
          0
         ],
         "yaxis": "y"
        },
        {
         "hovertemplate": "Camp=Poston/Colorado River<br>Date=%{x}<br>Population=%{y}<extra></extra>",
         "legendgroup": "Poston/Colorado River",
         "line": {
          "color": "#EF553B",
          "dash": "solid"
         },
         "mode": "lines",
         "name": "Poston/Colorado River",
         "orientation": "v",
         "showlegend": true,
         "type": "scatter",
         "x": [
          "1942-06-01T00:00:00",
          "1942-07-01T00:00:00",
          "1942-08-01T00:00:00",
          "1942-09-01T00:00:00",
          "1942-10-01T00:00:00",
          "1942-11-01T00:00:00",
          "1942-12-01T00:00:00",
          "1943-01-01T00:00:00",
          "1943-02-01T00:00:00",
          "1943-03-01T00:00:00",
          "1943-04-01T00:00:00",
          "1943-05-01T00:00:00",
          "1943-06-01T00:00:00",
          "1943-07-01T00:00:00",
          "1943-08-01T00:00:00",
          "1943-09-01T00:00:00",
          "1943-10-01T00:00:00",
          "1943-11-01T00:00:00",
          "1943-12-01T00:00:00",
          "1944-01-01T00:00:00",
          "1944-02-01T00:00:00",
          "1944-03-01T00:00:00",
          "1944-04-01T00:00:00",
          "1944-05-01T00:00:00",
          "1944-06-01T00:00:00",
          "1944-07-01T00:00:00",
          "1944-08-01T00:00:00",
          "1944-09-01T00:00:00",
          "1944-10-01T00:00:00",
          "1944-11-01T00:00:00",
          "1944-12-01T00:00:00",
          "1945-01-01T00:00:00",
          "1945-02-01T00:00:00",
          "1945-03-01T00:00:00",
          "1945-04-01T00:00:00",
          "1945-05-01T00:00:00",
          "1945-06-01T00:00:00",
          "1945-07-01T00:00:00",
          "1945-08-01T00:00:00",
          "1945-09-01T00:00:00",
          "1945-10-01T00:00:00",
          "1945-11-01T00:00:00",
          "1945-12-01T00:00:00",
          "1946-01-01T00:00:00",
          "1946-02-01T00:00:00",
          "1946-03-01T00:00:00"
         ],
         "xaxis": "x",
         "y": [
          7281,
          8755,
          13262,
          17818,
          17847,
          17877,
          17965,
          8039,
          18025,
          17984,
          17941,
          17741,
          17406,
          16995,
          16671,
          16279,
          16013,
          14470,
          14372,
          14295,
          14109,
          13876,
          13453,
          13241,
          13021,
          12725,
          12517,
          12152,
          12059,
          11881,
          11751,
          11710,
          11480,
          11251,
          10828,
          10421,
          9979,
          9386,
          8750,
          6828,
          2730,
          1088,
          0,
          0,
          0,
          0
         ],
         "yaxis": "y"
        },
        {
         "hovertemplate": "Camp=Gila River<br>Date=%{x}<br>Population=%{y}<extra></extra>",
         "legendgroup": "Gila River",
         "line": {
          "color": "#00cc96",
          "dash": "solid"
         },
         "mode": "lines",
         "name": "Gila River",
         "orientation": "v",
         "showlegend": true,
         "type": "scatter",
         "x": [
          "1942-06-01T00:00:00",
          "1942-07-01T00:00:00",
          "1942-08-01T00:00:00",
          "1942-09-01T00:00:00",
          "1942-10-01T00:00:00",
          "1942-11-01T00:00:00",
          "1942-12-01T00:00:00",
          "1943-01-01T00:00:00",
          "1943-02-01T00:00:00",
          "1943-03-01T00:00:00",
          "1943-04-01T00:00:00",
          "1943-05-01T00:00:00",
          "1943-06-01T00:00:00",
          "1943-07-01T00:00:00",
          "1943-08-01T00:00:00",
          "1943-09-01T00:00:00",
          "1943-10-01T00:00:00",
          "1943-11-01T00:00:00",
          "1943-12-01T00:00:00",
          "1944-01-01T00:00:00",
          "1944-02-01T00:00:00",
          "1944-03-01T00:00:00",
          "1944-04-01T00:00:00",
          "1944-05-01T00:00:00",
          "1944-06-01T00:00:00",
          "1944-07-01T00:00:00",
          "1944-08-01T00:00:00",
          "1944-09-01T00:00:00",
          "1944-10-01T00:00:00",
          "1944-11-01T00:00:00",
          "1944-12-01T00:00:00",
          "1945-01-01T00:00:00",
          "1945-02-01T00:00:00",
          "1945-03-01T00:00:00",
          "1945-04-01T00:00:00",
          "1945-05-01T00:00:00",
          "1945-06-01T00:00:00",
          "1945-07-01T00:00:00",
          "1945-08-01T00:00:00",
          "1945-09-01T00:00:00",
          "1945-10-01T00:00:00",
          "1945-11-01T00:00:00",
          "1945-12-01T00:00:00",
          "1946-01-01T00:00:00",
          "1946-02-01T00:00:00",
          "1946-03-01T00:00:00"
         ],
         "xaxis": "x",
         "y": [
          0,
          0,
          2106,
          9150,
          11555,
          13368,
          13368,
          13420,
          13411,
          13374,
          13372,
          13224,
          12954,
          12683,
          12542,
          12251,
          12056,
          10017,
          9898,
          9869,
          9800,
          9655,
          9419,
          9199,
          8788,
          10531,
          10291,
          9951,
          9651,
          9550,
          9534,
          9550,
          9432,
          9207,
          8988,
          8716,
          8319,
          7684,
          6765,
          5141,
          2760,
          754,
          0,
          0,
          0,
          0
         ],
         "yaxis": "y"
        },
        {
         "hovertemplate": "Camp=Granada<br>Date=%{x}<br>Population=%{y}<extra></extra>",
         "legendgroup": "Granada",
         "line": {
          "color": "#ab63fa",
          "dash": "solid"
         },
         "mode": "lines",
         "name": "Granada",
         "orientation": "v",
         "showlegend": true,
         "type": "scatter",
         "x": [
          "1942-06-01T00:00:00",
          "1942-07-01T00:00:00",
          "1942-08-01T00:00:00",
          "1942-09-01T00:00:00",
          "1942-10-01T00:00:00",
          "1942-11-01T00:00:00",
          "1942-12-01T00:00:00",
          "1943-01-01T00:00:00",
          "1943-02-01T00:00:00",
          "1943-03-01T00:00:00",
          "1943-04-01T00:00:00",
          "1943-05-01T00:00:00",
          "1943-06-01T00:00:00",
          "1943-07-01T00:00:00",
          "1943-08-01T00:00:00",
          "1943-09-01T00:00:00",
          "1943-10-01T00:00:00",
          "1943-11-01T00:00:00",
          "1943-12-01T00:00:00",
          "1944-01-01T00:00:00",
          "1944-02-01T00:00:00",
          "1944-03-01T00:00:00",
          "1944-04-01T00:00:00",
          "1944-05-01T00:00:00",
          "1944-06-01T00:00:00",
          "1944-07-01T00:00:00",
          "1944-08-01T00:00:00",
          "1944-09-01T00:00:00",
          "1944-10-01T00:00:00",
          "1944-11-01T00:00:00",
          "1944-12-01T00:00:00",
          "1945-01-01T00:00:00",
          "1945-02-01T00:00:00",
          "1945-03-01T00:00:00",
          "1945-04-01T00:00:00",
          "1945-05-01T00:00:00",
          "1945-06-01T00:00:00",
          "1945-07-01T00:00:00",
          "1945-08-01T00:00:00",
          "1945-09-01T00:00:00",
          "1945-10-01T00:00:00",
          "1945-11-01T00:00:00",
          "1945-12-01T00:00:00",
          "1946-01-01T00:00:00",
          "1946-02-01T00:00:00",
          "1946-03-01T00:00:00"
         ],
         "xaxis": "x",
         "y": [
          0,
          0,
          0,
          212,
          7480,
          7654,
          7651,
          7656,
          7622,
          7619,
          7476,
          7222,
          7016,
          6931,
          3876,
          6764,
          7494,
          7368,
          7393,
          7355,
          7176,
          6983,
          6786,
          6685,
          6424,
          6816,
          6664,
          6490,
          6403,
          6371,
          6311,
          6255,
          6177,
          6035,
          5805,
          5411,
          4980,
          4256,
          3758,
          3155,
          1379,
          0,
          0,
          0,
          0,
          0
         ],
         "yaxis": "y"
        },
        {
         "hovertemplate": "Camp=Heart Mountain<br>Date=%{x}<br>Population=%{y}<extra></extra>",
         "legendgroup": "Heart Mountain",
         "line": {
          "color": "#FFA15A",
          "dash": "solid"
         },
         "mode": "lines",
         "name": "Heart Mountain",
         "orientation": "v",
         "showlegend": true,
         "type": "scatter",
         "x": [
          "1942-06-01T00:00:00",
          "1942-07-01T00:00:00",
          "1942-08-01T00:00:00",
          "1942-09-01T00:00:00",
          "1942-10-01T00:00:00",
          "1942-11-01T00:00:00",
          "1942-12-01T00:00:00",
          "1943-01-01T00:00:00",
          "1943-02-01T00:00:00",
          "1943-03-01T00:00:00",
          "1943-04-01T00:00:00",
          "1943-05-01T00:00:00",
          "1943-06-01T00:00:00",
          "1943-07-01T00:00:00",
          "1943-08-01T00:00:00",
          "1943-09-01T00:00:00",
          "1943-10-01T00:00:00",
          "1943-11-01T00:00:00",
          "1943-12-01T00:00:00",
          "1944-01-01T00:00:00",
          "1944-02-01T00:00:00",
          "1944-03-01T00:00:00",
          "1944-04-01T00:00:00",
          "1944-05-01T00:00:00",
          "1944-06-01T00:00:00",
          "1944-07-01T00:00:00",
          "1944-08-01T00:00:00",
          "1944-09-01T00:00:00",
          "1944-10-01T00:00:00",
          "1944-11-01T00:00:00",
          "1944-12-01T00:00:00",
          "1945-01-01T00:00:00",
          "1945-02-01T00:00:00",
          "1945-03-01T00:00:00",
          "1945-04-01T00:00:00",
          "1945-05-01T00:00:00",
          "1945-06-01T00:00:00",
          "1945-07-01T00:00:00",
          "1945-08-01T00:00:00",
          "1945-09-01T00:00:00",
          "1945-10-01T00:00:00",
          "1945-11-01T00:00:00",
          "1945-12-01T00:00:00",
          "1946-01-01T00:00:00",
          "1946-02-01T00:00:00",
          "1946-03-01T00:00:00"
         ],
         "xaxis": "x",
         "y": [
          0,
          0,
          0,
          5758,
          10813,
          11107,
          11105,
          11062,
          11006,
          10959,
          10886,
          10724,
          10520,
          10307,
          10178,
          10073,
          10509,
          10426,
          10406,
          10388,
          10242,
          10112,
          9962,
          9760,
          9420,
          9712,
          9433,
          9241,
          9035,
          8886,
          8669,
          8537,
          8445,
          8213,
          7997,
          7556,
          7084,
          6325,
          5714,
          4611,
          3312,
          1156,
          0,
          0,
          0,
          0
         ],
         "yaxis": "y"
        },
        {
         "hovertemplate": "Camp=Jerome<br>Date=%{x}<br>Population=%{y}<extra></extra>",
         "legendgroup": "Jerome",
         "line": {
          "color": "#19d3f3",
          "dash": "solid"
         },
         "mode": "lines",
         "name": "Jerome",
         "orientation": "v",
         "showlegend": true,
         "type": "scatter",
         "x": [
          "1942-06-01T00:00:00",
          "1942-07-01T00:00:00",
          "1942-08-01T00:00:00",
          "1942-09-01T00:00:00",
          "1942-10-01T00:00:00",
          "1942-11-01T00:00:00",
          "1942-12-01T00:00:00",
          "1943-01-01T00:00:00",
          "1943-02-01T00:00:00",
          "1943-03-01T00:00:00",
          "1943-04-01T00:00:00",
          "1943-05-01T00:00:00",
          "1943-06-01T00:00:00",
          "1943-07-01T00:00:00",
          "1943-08-01T00:00:00",
          "1943-09-01T00:00:00",
          "1943-10-01T00:00:00",
          "1943-11-01T00:00:00",
          "1943-12-01T00:00:00",
          "1944-01-01T00:00:00",
          "1944-02-01T00:00:00",
          "1944-03-01T00:00:00",
          "1944-04-01T00:00:00",
          "1944-05-01T00:00:00",
          "1944-06-01T00:00:00",
          "1944-07-01T00:00:00",
          "1944-08-01T00:00:00",
          "1944-09-01T00:00:00",
          "1944-10-01T00:00:00",
          "1944-11-01T00:00:00",
          "1944-12-01T00:00:00",
          "1945-01-01T00:00:00",
          "1945-02-01T00:00:00",
          "1945-03-01T00:00:00",
          "1945-04-01T00:00:00",
          "1945-05-01T00:00:00",
          "1945-06-01T00:00:00",
          "1945-07-01T00:00:00",
          "1945-08-01T00:00:00",
          "1945-09-01T00:00:00",
          "1945-10-01T00:00:00",
          "1945-11-01T00:00:00",
          "1945-12-01T00:00:00",
          "1946-01-01T00:00:00",
          "1946-02-01T00:00:00",
          "1946-03-01T00:00:00"
         ],
         "xaxis": "x",
         "y": [
          0,
          0,
          0,
          0,
          0,
          7039,
          7925,
          7932,
          8354,
          8587,
          8526,
          8350,
          8182,
          7972,
          7808,
          7649,
          6899,
          6787,
          6726,
          6700,
          6632,
          6537,
          6529,
          6467,
          5601,
          4,
          4,
          4,
          3,
          3,
          3,
          3,
          2,
          2,
          0,
          0,
          0,
          0,
          0,
          0,
          0,
          0,
          0,
          0,
          0,
          0
         ],
         "yaxis": "y"
        },
        {
         "hovertemplate": "Camp=Manzanar<br>Date=%{x}<br>Population=%{y}<extra></extra>",
         "legendgroup": "Manzanar",
         "line": {
          "color": "#FF6692",
          "dash": "solid"
         },
         "mode": "lines",
         "name": "Manzanar",
         "orientation": "v",
         "showlegend": true,
         "type": "scatter",
         "x": [
          "1942-06-01T00:00:00",
          "1942-07-01T00:00:00",
          "1942-08-01T00:00:00",
          "1942-09-01T00:00:00",
          "1942-10-01T00:00:00",
          "1942-11-01T00:00:00",
          "1942-12-01T00:00:00",
          "1943-01-01T00:00:00",
          "1943-02-01T00:00:00",
          "1943-03-01T00:00:00",
          "1943-04-01T00:00:00",
          "1943-05-01T00:00:00",
          "1943-06-01T00:00:00",
          "1943-07-01T00:00:00",
          "1943-08-01T00:00:00",
          "1943-09-01T00:00:00",
          "1943-10-01T00:00:00",
          "1943-11-01T00:00:00",
          "1943-12-01T00:00:00",
          "1944-01-01T00:00:00",
          "1944-02-01T00:00:00",
          "1944-03-01T00:00:00",
          "1944-04-01T00:00:00",
          "1944-05-01T00:00:00",
          "1944-06-01T00:00:00",
          "1944-07-01T00:00:00",
          "1944-08-01T00:00:00",
          "1944-09-01T00:00:00",
          "1944-10-01T00:00:00",
          "1944-11-01T00:00:00",
          "1944-12-01T00:00:00",
          "1945-01-01T00:00:00",
          "1945-02-01T00:00:00",
          "1945-03-01T00:00:00",
          "1945-04-01T00:00:00",
          "1945-05-01T00:00:00",
          "1945-06-01T00:00:00",
          "1945-07-01T00:00:00",
          "1945-08-01T00:00:00",
          "1945-09-01T00:00:00",
          "1945-10-01T00:00:00",
          "1945-11-01T00:00:00",
          "1945-12-01T00:00:00",
          "1946-01-01T00:00:00",
          "1946-02-01T00:00:00",
          "1946-03-01T00:00:00"
         ],
         "xaxis": "x",
         "y": [
          9666,
          9840,
          9928,
          10072,
          10256,
          10181,
          10177,
          10121,
          10079,
          9796,
          9707,
          9496,
          9272,
          9197,
          9163,
          9105,
          9045,
          8701,
          8621,
          8643,
          8580,
          6655,
          6565,
          6456,
          6341,
          6232,
          6138,
          6057,
          5939,
          5836,
          5668,
          5588,
          5522,
          5435,
          5298,
          5030,
          4658,
          4248,
          3994,
          3552,
          2891,
          1146,
          0,
          0,
          0,
          0
         ],
         "yaxis": "y"
        },
        {
         "hovertemplate": "Camp=Minidoka<br>Date=%{x}<br>Population=%{y}<extra></extra>",
         "legendgroup": "Minidoka",
         "line": {
          "color": "#B6E880",
          "dash": "solid"
         },
         "mode": "lines",
         "name": "Minidoka",
         "orientation": "v",
         "showlegend": true,
         "type": "scatter",
         "x": [
          "1942-06-01T00:00:00",
          "1942-07-01T00:00:00",
          "1942-08-01T00:00:00",
          "1942-09-01T00:00:00",
          "1942-10-01T00:00:00",
          "1942-11-01T00:00:00",
          "1942-12-01T00:00:00",
          "1943-01-01T00:00:00",
          "1943-02-01T00:00:00",
          "1943-03-01T00:00:00",
          "1943-04-01T00:00:00",
          "1943-05-01T00:00:00",
          "1943-06-01T00:00:00",
          "1943-07-01T00:00:00",
          "1943-08-01T00:00:00",
          "1943-09-01T00:00:00",
          "1943-10-01T00:00:00",
          "1943-11-01T00:00:00",
          "1943-12-01T00:00:00",
          "1944-01-01T00:00:00",
          "1944-02-01T00:00:00",
          "1944-03-01T00:00:00",
          "1944-04-01T00:00:00",
          "1944-05-01T00:00:00",
          "1944-06-01T00:00:00",
          "1944-07-01T00:00:00",
          "1944-08-01T00:00:00",
          "1944-09-01T00:00:00",
          "1944-10-01T00:00:00",
          "1944-11-01T00:00:00",
          "1944-12-01T00:00:00",
          "1945-01-01T00:00:00",
          "1945-02-01T00:00:00",
          "1945-03-01T00:00:00",
          "1945-04-01T00:00:00",
          "1945-05-01T00:00:00",
          "1945-06-01T00:00:00",
          "1945-07-01T00:00:00",
          "1945-08-01T00:00:00",
          "1945-09-01T00:00:00",
          "1945-10-01T00:00:00",
          "1945-11-01T00:00:00",
          "1945-12-01T00:00:00",
          "1946-01-01T00:00:00",
          "1946-02-01T00:00:00",
          "1946-03-01T00:00:00"
         ],
         "xaxis": "x",
         "y": [
          0,
          0,
          0,
          4840,
          9200,
          9846,
          9849,
          9861,
          9814,
          9924,
          9772,
          9401,
          8989,
          8752,
          8556,
          8325,
          9530,
          9419,
          9492,
          9461,
          9374,
          9288,
          9027,
          8856,
          8514,
          8335,
          8160,
          8099,
          7972,
          7976,
          7867,
          7770,
          7574,
          7373,
          6851,
          6382,
          5615,
          4937,
          4330,
          3218,
          1482,
          0,
          0,
          0,
          0,
          0
         ],
         "yaxis": "y"
        },
        {
         "hovertemplate": "Camp=Rohwer<br>Date=%{x}<br>Population=%{y}<extra></extra>",
         "legendgroup": "Rohwer",
         "line": {
          "color": "#FF97FF",
          "dash": "solid"
         },
         "mode": "lines",
         "name": "Rohwer",
         "orientation": "v",
         "showlegend": true,
         "type": "scatter",
         "x": [
          "1942-06-01T00:00:00",
          "1942-07-01T00:00:00",
          "1942-08-01T00:00:00",
          "1942-09-01T00:00:00",
          "1942-10-01T00:00:00",
          "1942-11-01T00:00:00",
          "1942-12-01T00:00:00",
          "1943-01-01T00:00:00",
          "1943-02-01T00:00:00",
          "1943-03-01T00:00:00",
          "1943-04-01T00:00:00",
          "1943-05-01T00:00:00",
          "1943-06-01T00:00:00",
          "1943-07-01T00:00:00",
          "1943-08-01T00:00:00",
          "1943-09-01T00:00:00",
          "1943-10-01T00:00:00",
          "1943-11-01T00:00:00",
          "1943-12-01T00:00:00",
          "1944-01-01T00:00:00",
          "1944-02-01T00:00:00",
          "1944-03-01T00:00:00",
          "1944-04-01T00:00:00",
          "1944-05-01T00:00:00",
          "1944-06-01T00:00:00",
          "1944-07-01T00:00:00",
          "1944-08-01T00:00:00",
          "1944-09-01T00:00:00",
          "1944-10-01T00:00:00",
          "1944-11-01T00:00:00",
          "1944-12-01T00:00:00",
          "1945-01-01T00:00:00",
          "1945-02-01T00:00:00",
          "1945-03-01T00:00:00",
          "1945-04-01T00:00:00",
          "1945-05-01T00:00:00",
          "1945-06-01T00:00:00",
          "1945-07-01T00:00:00",
          "1945-08-01T00:00:00",
          "1945-09-01T00:00:00",
          "1945-10-01T00:00:00",
          "1945-11-01T00:00:00",
          "1945-12-01T00:00:00",
          "1946-01-01T00:00:00",
          "1946-02-01T00:00:00",
          "1946-03-01T00:00:00"
         ],
         "xaxis": "x",
         "y": [
          0,
          0,
          0,
          0,
          2265,
          8407,
          8515,
          8548,
          8538,
          8528,
          8478,
          8286,
          8061,
          7895,
          7781,
          7552,
          7123,
          6731,
          6676,
          6676,
          6600,
          6514,
          6375,
          6248,
          5479,
          7623,
          7279,
          6900,
          6764,
          6700,
          6689,
          6747,
          6697,
          6563,
          6339,
          5991,
          5447,
          4910,
          4098,
          3332,
          2175,
          1804,
          0,
          0,
          0,
          0
         ],
         "yaxis": "y"
        },
        {
         "hovertemplate": "Camp=Tule Lake<br>Date=%{x}<br>Population=%{y}<extra></extra>",
         "legendgroup": "Tule Lake",
         "line": {
          "color": "#FECB52",
          "dash": "solid"
         },
         "mode": "lines",
         "name": "Tule Lake",
         "orientation": "v",
         "showlegend": true,
         "type": "scatter",
         "x": [
          "1942-06-01T00:00:00",
          "1942-07-01T00:00:00",
          "1942-08-01T00:00:00",
          "1942-09-01T00:00:00",
          "1942-10-01T00:00:00",
          "1942-11-01T00:00:00",
          "1942-12-01T00:00:00",
          "1943-01-01T00:00:00",
          "1943-02-01T00:00:00",
          "1943-03-01T00:00:00",
          "1943-04-01T00:00:00",
          "1943-05-01T00:00:00",
          "1943-06-01T00:00:00",
          "1943-07-01T00:00:00",
          "1943-08-01T00:00:00",
          "1943-09-01T00:00:00",
          "1943-10-01T00:00:00",
          "1943-11-01T00:00:00",
          "1943-12-01T00:00:00",
          "1944-01-01T00:00:00",
          "1944-02-01T00:00:00",
          "1944-03-01T00:00:00",
          "1944-04-01T00:00:00",
          "1944-05-01T00:00:00",
          "1944-06-01T00:00:00",
          "1944-07-01T00:00:00",
          "1944-08-01T00:00:00",
          "1944-09-01T00:00:00",
          "1944-10-01T00:00:00",
          "1944-11-01T00:00:00",
          "1944-12-01T00:00:00",
          "1945-01-01T00:00:00",
          "1945-02-01T00:00:00",
          "1945-03-01T00:00:00",
          "1945-04-01T00:00:00",
          "1945-05-01T00:00:00",
          "1945-06-01T00:00:00",
          "1945-07-01T00:00:00",
          "1945-08-01T00:00:00",
          "1945-09-01T00:00:00",
          "1945-10-01T00:00:00",
          "1945-11-01T00:00:00",
          "1945-12-01T00:00:00",
          "1946-01-01T00:00:00",
          "1946-02-01T00:00:00",
          "1946-03-01T00:00:00"
         ],
         "xaxis": "x",
         "y": [
          446,
          9038,
          15020,
          15181,
          15277,
          15393,
          15311,
          15369,
          15274,
          15219,
          15124,
          15015,
          14828,
          14630,
          14484,
          14185,
          12183,
          16012,
          15671,
          15630,
          15625,
          17492,
          17580,
          16964,
          18652,
          18678,
          18709,
          18726,
          18728,
          18718,
          18770,
          18734,
          18593,
          17953,
          17864,
          17886,
          17879,
          17466,
          17366,
          17286,
          16740,
          15450,
          12628,
          7303,
          5046,
          2808
         ],
         "yaxis": "y"
        }
       ],
       "layout": {
        "legend": {
         "title": {
          "text": "Camp"
         },
         "tracegroupgap": 0
        },
        "template": {
         "data": {
          "bar": [
           {
            "error_x": {
             "color": "#2a3f5f"
            },
            "error_y": {
             "color": "#2a3f5f"
            },
            "marker": {
             "line": {
              "color": "#E5ECF6",
              "width": 0.5
             }
            },
            "type": "bar"
           }
          ],
          "barpolar": [
           {
            "marker": {
             "line": {
              "color": "#E5ECF6",
              "width": 0.5
             }
            },
            "type": "barpolar"
           }
          ],
          "carpet": [
           {
            "aaxis": {
             "endlinecolor": "#2a3f5f",
             "gridcolor": "white",
             "linecolor": "white",
             "minorgridcolor": "white",
             "startlinecolor": "#2a3f5f"
            },
            "baxis": {
             "endlinecolor": "#2a3f5f",
             "gridcolor": "white",
             "linecolor": "white",
             "minorgridcolor": "white",
             "startlinecolor": "#2a3f5f"
            },
            "type": "carpet"
           }
          ],
          "choropleth": [
           {
            "colorbar": {
             "outlinewidth": 0,
             "ticks": ""
            },
            "type": "choropleth"
           }
          ],
          "contour": [
           {
            "colorbar": {
             "outlinewidth": 0,
             "ticks": ""
            },
            "colorscale": [
             [
              0,
              "#0d0887"
             ],
             [
              0.1111111111111111,
              "#46039f"
             ],
             [
              0.2222222222222222,
              "#7201a8"
             ],
             [
              0.3333333333333333,
              "#9c179e"
             ],
             [
              0.4444444444444444,
              "#bd3786"
             ],
             [
              0.5555555555555556,
              "#d8576b"
             ],
             [
              0.6666666666666666,
              "#ed7953"
             ],
             [
              0.7777777777777778,
              "#fb9f3a"
             ],
             [
              0.8888888888888888,
              "#fdca26"
             ],
             [
              1,
              "#f0f921"
             ]
            ],
            "type": "contour"
           }
          ],
          "contourcarpet": [
           {
            "colorbar": {
             "outlinewidth": 0,
             "ticks": ""
            },
            "type": "contourcarpet"
           }
          ],
          "heatmap": [
           {
            "colorbar": {
             "outlinewidth": 0,
             "ticks": ""
            },
            "colorscale": [
             [
              0,
              "#0d0887"
             ],
             [
              0.1111111111111111,
              "#46039f"
             ],
             [
              0.2222222222222222,
              "#7201a8"
             ],
             [
              0.3333333333333333,
              "#9c179e"
             ],
             [
              0.4444444444444444,
              "#bd3786"
             ],
             [
              0.5555555555555556,
              "#d8576b"
             ],
             [
              0.6666666666666666,
              "#ed7953"
             ],
             [
              0.7777777777777778,
              "#fb9f3a"
             ],
             [
              0.8888888888888888,
              "#fdca26"
             ],
             [
              1,
              "#f0f921"
             ]
            ],
            "type": "heatmap"
           }
          ],
          "heatmapgl": [
           {
            "colorbar": {
             "outlinewidth": 0,
             "ticks": ""
            },
            "colorscale": [
             [
              0,
              "#0d0887"
             ],
             [
              0.1111111111111111,
              "#46039f"
             ],
             [
              0.2222222222222222,
              "#7201a8"
             ],
             [
              0.3333333333333333,
              "#9c179e"
             ],
             [
              0.4444444444444444,
              "#bd3786"
             ],
             [
              0.5555555555555556,
              "#d8576b"
             ],
             [
              0.6666666666666666,
              "#ed7953"
             ],
             [
              0.7777777777777778,
              "#fb9f3a"
             ],
             [
              0.8888888888888888,
              "#fdca26"
             ],
             [
              1,
              "#f0f921"
             ]
            ],
            "type": "heatmapgl"
           }
          ],
          "histogram": [
           {
            "marker": {
             "colorbar": {
              "outlinewidth": 0,
              "ticks": ""
             }
            },
            "type": "histogram"
           }
          ],
          "histogram2d": [
           {
            "colorbar": {
             "outlinewidth": 0,
             "ticks": ""
            },
            "colorscale": [
             [
              0,
              "#0d0887"
             ],
             [
              0.1111111111111111,
              "#46039f"
             ],
             [
              0.2222222222222222,
              "#7201a8"
             ],
             [
              0.3333333333333333,
              "#9c179e"
             ],
             [
              0.4444444444444444,
              "#bd3786"
             ],
             [
              0.5555555555555556,
              "#d8576b"
             ],
             [
              0.6666666666666666,
              "#ed7953"
             ],
             [
              0.7777777777777778,
              "#fb9f3a"
             ],
             [
              0.8888888888888888,
              "#fdca26"
             ],
             [
              1,
              "#f0f921"
             ]
            ],
            "type": "histogram2d"
           }
          ],
          "histogram2dcontour": [
           {
            "colorbar": {
             "outlinewidth": 0,
             "ticks": ""
            },
            "colorscale": [
             [
              0,
              "#0d0887"
             ],
             [
              0.1111111111111111,
              "#46039f"
             ],
             [
              0.2222222222222222,
              "#7201a8"
             ],
             [
              0.3333333333333333,
              "#9c179e"
             ],
             [
              0.4444444444444444,
              "#bd3786"
             ],
             [
              0.5555555555555556,
              "#d8576b"
             ],
             [
              0.6666666666666666,
              "#ed7953"
             ],
             [
              0.7777777777777778,
              "#fb9f3a"
             ],
             [
              0.8888888888888888,
              "#fdca26"
             ],
             [
              1,
              "#f0f921"
             ]
            ],
            "type": "histogram2dcontour"
           }
          ],
          "mesh3d": [
           {
            "colorbar": {
             "outlinewidth": 0,
             "ticks": ""
            },
            "type": "mesh3d"
           }
          ],
          "parcoords": [
           {
            "line": {
             "colorbar": {
              "outlinewidth": 0,
              "ticks": ""
             }
            },
            "type": "parcoords"
           }
          ],
          "pie": [
           {
            "automargin": true,
            "type": "pie"
           }
          ],
          "scatter": [
           {
            "marker": {
             "colorbar": {
              "outlinewidth": 0,
              "ticks": ""
             }
            },
            "type": "scatter"
           }
          ],
          "scatter3d": [
           {
            "line": {
             "colorbar": {
              "outlinewidth": 0,
              "ticks": ""
             }
            },
            "marker": {
             "colorbar": {
              "outlinewidth": 0,
              "ticks": ""
             }
            },
            "type": "scatter3d"
           }
          ],
          "scattercarpet": [
           {
            "marker": {
             "colorbar": {
              "outlinewidth": 0,
              "ticks": ""
             }
            },
            "type": "scattercarpet"
           }
          ],
          "scattergeo": [
           {
            "marker": {
             "colorbar": {
              "outlinewidth": 0,
              "ticks": ""
             }
            },
            "type": "scattergeo"
           }
          ],
          "scattergl": [
           {
            "marker": {
             "colorbar": {
              "outlinewidth": 0,
              "ticks": ""
             }
            },
            "type": "scattergl"
           }
          ],
          "scattermapbox": [
           {
            "marker": {
             "colorbar": {
              "outlinewidth": 0,
              "ticks": ""
             }
            },
            "type": "scattermapbox"
           }
          ],
          "scatterpolar": [
           {
            "marker": {
             "colorbar": {
              "outlinewidth": 0,
              "ticks": ""
             }
            },
            "type": "scatterpolar"
           }
          ],
          "scatterpolargl": [
           {
            "marker": {
             "colorbar": {
              "outlinewidth": 0,
              "ticks": ""
             }
            },
            "type": "scatterpolargl"
           }
          ],
          "scatterternary": [
           {
            "marker": {
             "colorbar": {
              "outlinewidth": 0,
              "ticks": ""
             }
            },
            "type": "scatterternary"
           }
          ],
          "surface": [
           {
            "colorbar": {
             "outlinewidth": 0,
             "ticks": ""
            },
            "colorscale": [
             [
              0,
              "#0d0887"
             ],
             [
              0.1111111111111111,
              "#46039f"
             ],
             [
              0.2222222222222222,
              "#7201a8"
             ],
             [
              0.3333333333333333,
              "#9c179e"
             ],
             [
              0.4444444444444444,
              "#bd3786"
             ],
             [
              0.5555555555555556,
              "#d8576b"
             ],
             [
              0.6666666666666666,
              "#ed7953"
             ],
             [
              0.7777777777777778,
              "#fb9f3a"
             ],
             [
              0.8888888888888888,
              "#fdca26"
             ],
             [
              1,
              "#f0f921"
             ]
            ],
            "type": "surface"
           }
          ],
          "table": [
           {
            "cells": {
             "fill": {
              "color": "#EBF0F8"
             },
             "line": {
              "color": "white"
             }
            },
            "header": {
             "fill": {
              "color": "#C8D4E3"
             },
             "line": {
              "color": "white"
             }
            },
            "type": "table"
           }
          ]
         },
         "layout": {
          "annotationdefaults": {
           "arrowcolor": "#2a3f5f",
           "arrowhead": 0,
           "arrowwidth": 1
          },
          "coloraxis": {
           "colorbar": {
            "outlinewidth": 0,
            "ticks": ""
           }
          },
          "colorscale": {
           "diverging": [
            [
             0,
             "#8e0152"
            ],
            [
             0.1,
             "#c51b7d"
            ],
            [
             0.2,
             "#de77ae"
            ],
            [
             0.3,
             "#f1b6da"
            ],
            [
             0.4,
             "#fde0ef"
            ],
            [
             0.5,
             "#f7f7f7"
            ],
            [
             0.6,
             "#e6f5d0"
            ],
            [
             0.7,
             "#b8e186"
            ],
            [
             0.8,
             "#7fbc41"
            ],
            [
             0.9,
             "#4d9221"
            ],
            [
             1,
             "#276419"
            ]
           ],
           "sequential": [
            [
             0,
             "#0d0887"
            ],
            [
             0.1111111111111111,
             "#46039f"
            ],
            [
             0.2222222222222222,
             "#7201a8"
            ],
            [
             0.3333333333333333,
             "#9c179e"
            ],
            [
             0.4444444444444444,
             "#bd3786"
            ],
            [
             0.5555555555555556,
             "#d8576b"
            ],
            [
             0.6666666666666666,
             "#ed7953"
            ],
            [
             0.7777777777777778,
             "#fb9f3a"
            ],
            [
             0.8888888888888888,
             "#fdca26"
            ],
            [
             1,
             "#f0f921"
            ]
           ],
           "sequentialminus": [
            [
             0,
             "#0d0887"
            ],
            [
             0.1111111111111111,
             "#46039f"
            ],
            [
             0.2222222222222222,
             "#7201a8"
            ],
            [
             0.3333333333333333,
             "#9c179e"
            ],
            [
             0.4444444444444444,
             "#bd3786"
            ],
            [
             0.5555555555555556,
             "#d8576b"
            ],
            [
             0.6666666666666666,
             "#ed7953"
            ],
            [
             0.7777777777777778,
             "#fb9f3a"
            ],
            [
             0.8888888888888888,
             "#fdca26"
            ],
            [
             1,
             "#f0f921"
            ]
           ]
          },
          "colorway": [
           "#636efa",
           "#EF553B",
           "#00cc96",
           "#ab63fa",
           "#FFA15A",
           "#19d3f3",
           "#FF6692",
           "#B6E880",
           "#FF97FF",
           "#FECB52"
          ],
          "font": {
           "color": "#2a3f5f"
          },
          "geo": {
           "bgcolor": "white",
           "lakecolor": "white",
           "landcolor": "#E5ECF6",
           "showlakes": true,
           "showland": true,
           "subunitcolor": "white"
          },
          "hoverlabel": {
           "align": "left"
          },
          "hovermode": "closest",
          "mapbox": {
           "style": "light"
          },
          "paper_bgcolor": "white",
          "plot_bgcolor": "#E5ECF6",
          "polar": {
           "angularaxis": {
            "gridcolor": "white",
            "linecolor": "white",
            "ticks": ""
           },
           "bgcolor": "#E5ECF6",
           "radialaxis": {
            "gridcolor": "white",
            "linecolor": "white",
            "ticks": ""
           }
          },
          "scene": {
           "xaxis": {
            "backgroundcolor": "#E5ECF6",
            "gridcolor": "white",
            "gridwidth": 2,
            "linecolor": "white",
            "showbackground": true,
            "ticks": "",
            "zerolinecolor": "white"
           },
           "yaxis": {
            "backgroundcolor": "#E5ECF6",
            "gridcolor": "white",
            "gridwidth": 2,
            "linecolor": "white",
            "showbackground": true,
            "ticks": "",
            "zerolinecolor": "white"
           },
           "zaxis": {
            "backgroundcolor": "#E5ECF6",
            "gridcolor": "white",
            "gridwidth": 2,
            "linecolor": "white",
            "showbackground": true,
            "ticks": "",
            "zerolinecolor": "white"
           }
          },
          "shapedefaults": {
           "line": {
            "color": "#2a3f5f"
           }
          },
          "ternary": {
           "aaxis": {
            "gridcolor": "white",
            "linecolor": "white",
            "ticks": ""
           },
           "baxis": {
            "gridcolor": "white",
            "linecolor": "white",
            "ticks": ""
           },
           "bgcolor": "#E5ECF6",
           "caxis": {
            "gridcolor": "white",
            "linecolor": "white",
            "ticks": ""
           }
          },
          "title": {
           "x": 0.05
          },
          "xaxis": {
           "automargin": true,
           "gridcolor": "white",
           "linecolor": "white",
           "ticks": "",
           "title": {
            "standoff": 15
           },
           "zerolinecolor": "white",
           "zerolinewidth": 2
          },
          "yaxis": {
           "automargin": true,
           "gridcolor": "white",
           "linecolor": "white",
           "ticks": "",
           "title": {
            "standoff": 15
           },
           "zerolinecolor": "white",
           "zerolinewidth": 2
          }
         }
        },
        "title": {
         "text": "Camp Populations by Month"
        },
        "xaxis": {
         "anchor": "y",
         "domain": [
          0,
          1
         ],
         "title": {
          "text": "Date"
         }
        },
        "yaxis": {
         "anchor": "x",
         "domain": [
          0,
          1
         ],
         "title": {
          "text": "Population"
         }
        }
       }
      },
      "text/html": [
       "<div>                            <div id=\"b1efebe8-f6c1-46b4-b74a-498a67466b0f\" class=\"plotly-graph-div\" style=\"height:525px; width:100%;\"></div>            <script type=\"text/javascript\">                require([\"plotly\"], function(Plotly) {                    window.PLOTLYENV=window.PLOTLYENV || {};                                    if (document.getElementById(\"b1efebe8-f6c1-46b4-b74a-498a67466b0f\")) {                    Plotly.newPlot(                        \"b1efebe8-f6c1-46b4-b74a-498a67466b0f\",                        [{\"hovertemplate\": \"Camp=Topaz/Central Utah<br>Date=%{x}<br>Population=%{y}<extra></extra>\", \"legendgroup\": \"Topaz/Central Utah\", \"line\": {\"color\": \"#636efa\", \"dash\": \"solid\"}, \"mode\": \"lines\", \"name\": \"Topaz/Central Utah\", \"orientation\": \"v\", \"showlegend\": true, \"type\": \"scatter\", \"x\": [\"1942-06-01T00:00:00\", \"1942-07-01T00:00:00\", \"1942-08-01T00:00:00\", \"1942-09-01T00:00:00\", \"1942-10-01T00:00:00\", \"1942-11-01T00:00:00\", \"1942-12-01T00:00:00\", \"1943-01-01T00:00:00\", \"1943-02-01T00:00:00\", \"1943-03-01T00:00:00\", \"1943-04-01T00:00:00\", \"1943-05-01T00:00:00\", \"1943-06-01T00:00:00\", \"1943-07-01T00:00:00\", \"1943-08-01T00:00:00\", \"1943-09-01T00:00:00\", \"1943-10-01T00:00:00\", \"1943-11-01T00:00:00\", \"1943-12-01T00:00:00\", \"1944-01-01T00:00:00\", \"1944-02-01T00:00:00\", \"1944-03-01T00:00:00\", \"1944-04-01T00:00:00\", \"1944-05-01T00:00:00\", \"1944-06-01T00:00:00\", \"1944-07-01T00:00:00\", \"1944-08-01T00:00:00\", \"1944-09-01T00:00:00\", \"1944-10-01T00:00:00\", \"1944-11-01T00:00:00\", \"1944-12-01T00:00:00\", \"1945-01-01T00:00:00\", \"1945-02-01T00:00:00\", \"1945-03-01T00:00:00\", \"1945-04-01T00:00:00\", \"1945-05-01T00:00:00\", \"1945-06-01T00:00:00\", \"1945-07-01T00:00:00\", \"1945-08-01T00:00:00\", \"1945-09-01T00:00:00\", \"1945-10-01T00:00:00\", \"1945-11-01T00:00:00\", \"1945-12-01T00:00:00\", \"1946-01-01T00:00:00\", \"1946-02-01T00:00:00\", \"1946-03-01T00:00:00\"], \"xaxis\": \"x\", \"y\": [0, 0, 0, 0, 5806, 8320, 8294, 8232, 8214, 8152, 8332, 8189, 8018, 7862, 7809, 7682, 7608, 7554, 7585, 7559, 7438, 7350, 7227, 7084, 6879, 6727, 6621, 6426, 6280, 6125, 6026, 5984, 5883, 5742, 5589, 5413, 5165, 4645, 4176, 3339, 1899, 0, 0, 0, 0, 0], \"yaxis\": \"y\"}, {\"hovertemplate\": \"Camp=Poston/Colorado River<br>Date=%{x}<br>Population=%{y}<extra></extra>\", \"legendgroup\": \"Poston/Colorado River\", \"line\": {\"color\": \"#EF553B\", \"dash\": \"solid\"}, \"mode\": \"lines\", \"name\": \"Poston/Colorado River\", \"orientation\": \"v\", \"showlegend\": true, \"type\": \"scatter\", \"x\": [\"1942-06-01T00:00:00\", \"1942-07-01T00:00:00\", \"1942-08-01T00:00:00\", \"1942-09-01T00:00:00\", \"1942-10-01T00:00:00\", \"1942-11-01T00:00:00\", \"1942-12-01T00:00:00\", \"1943-01-01T00:00:00\", \"1943-02-01T00:00:00\", \"1943-03-01T00:00:00\", \"1943-04-01T00:00:00\", \"1943-05-01T00:00:00\", \"1943-06-01T00:00:00\", \"1943-07-01T00:00:00\", \"1943-08-01T00:00:00\", \"1943-09-01T00:00:00\", \"1943-10-01T00:00:00\", \"1943-11-01T00:00:00\", \"1943-12-01T00:00:00\", \"1944-01-01T00:00:00\", \"1944-02-01T00:00:00\", \"1944-03-01T00:00:00\", \"1944-04-01T00:00:00\", \"1944-05-01T00:00:00\", \"1944-06-01T00:00:00\", \"1944-07-01T00:00:00\", \"1944-08-01T00:00:00\", \"1944-09-01T00:00:00\", \"1944-10-01T00:00:00\", \"1944-11-01T00:00:00\", \"1944-12-01T00:00:00\", \"1945-01-01T00:00:00\", \"1945-02-01T00:00:00\", \"1945-03-01T00:00:00\", \"1945-04-01T00:00:00\", \"1945-05-01T00:00:00\", \"1945-06-01T00:00:00\", \"1945-07-01T00:00:00\", \"1945-08-01T00:00:00\", \"1945-09-01T00:00:00\", \"1945-10-01T00:00:00\", \"1945-11-01T00:00:00\", \"1945-12-01T00:00:00\", \"1946-01-01T00:00:00\", \"1946-02-01T00:00:00\", \"1946-03-01T00:00:00\"], \"xaxis\": \"x\", \"y\": [7281, 8755, 13262, 17818, 17847, 17877, 17965, 8039, 18025, 17984, 17941, 17741, 17406, 16995, 16671, 16279, 16013, 14470, 14372, 14295, 14109, 13876, 13453, 13241, 13021, 12725, 12517, 12152, 12059, 11881, 11751, 11710, 11480, 11251, 10828, 10421, 9979, 9386, 8750, 6828, 2730, 1088, 0, 0, 0, 0], \"yaxis\": \"y\"}, {\"hovertemplate\": \"Camp=Gila River<br>Date=%{x}<br>Population=%{y}<extra></extra>\", \"legendgroup\": \"Gila River\", \"line\": {\"color\": \"#00cc96\", \"dash\": \"solid\"}, \"mode\": \"lines\", \"name\": \"Gila River\", \"orientation\": \"v\", \"showlegend\": true, \"type\": \"scatter\", \"x\": [\"1942-06-01T00:00:00\", \"1942-07-01T00:00:00\", \"1942-08-01T00:00:00\", \"1942-09-01T00:00:00\", \"1942-10-01T00:00:00\", \"1942-11-01T00:00:00\", \"1942-12-01T00:00:00\", \"1943-01-01T00:00:00\", \"1943-02-01T00:00:00\", \"1943-03-01T00:00:00\", \"1943-04-01T00:00:00\", \"1943-05-01T00:00:00\", \"1943-06-01T00:00:00\", \"1943-07-01T00:00:00\", \"1943-08-01T00:00:00\", \"1943-09-01T00:00:00\", \"1943-10-01T00:00:00\", \"1943-11-01T00:00:00\", \"1943-12-01T00:00:00\", \"1944-01-01T00:00:00\", \"1944-02-01T00:00:00\", \"1944-03-01T00:00:00\", \"1944-04-01T00:00:00\", \"1944-05-01T00:00:00\", \"1944-06-01T00:00:00\", \"1944-07-01T00:00:00\", \"1944-08-01T00:00:00\", \"1944-09-01T00:00:00\", \"1944-10-01T00:00:00\", \"1944-11-01T00:00:00\", \"1944-12-01T00:00:00\", \"1945-01-01T00:00:00\", \"1945-02-01T00:00:00\", \"1945-03-01T00:00:00\", \"1945-04-01T00:00:00\", \"1945-05-01T00:00:00\", \"1945-06-01T00:00:00\", \"1945-07-01T00:00:00\", \"1945-08-01T00:00:00\", \"1945-09-01T00:00:00\", \"1945-10-01T00:00:00\", \"1945-11-01T00:00:00\", \"1945-12-01T00:00:00\", \"1946-01-01T00:00:00\", \"1946-02-01T00:00:00\", \"1946-03-01T00:00:00\"], \"xaxis\": \"x\", \"y\": [0, 0, 2106, 9150, 11555, 13368, 13368, 13420, 13411, 13374, 13372, 13224, 12954, 12683, 12542, 12251, 12056, 10017, 9898, 9869, 9800, 9655, 9419, 9199, 8788, 10531, 10291, 9951, 9651, 9550, 9534, 9550, 9432, 9207, 8988, 8716, 8319, 7684, 6765, 5141, 2760, 754, 0, 0, 0, 0], \"yaxis\": \"y\"}, {\"hovertemplate\": \"Camp=Granada<br>Date=%{x}<br>Population=%{y}<extra></extra>\", \"legendgroup\": \"Granada\", \"line\": {\"color\": \"#ab63fa\", \"dash\": \"solid\"}, \"mode\": \"lines\", \"name\": \"Granada\", \"orientation\": \"v\", \"showlegend\": true, \"type\": \"scatter\", \"x\": [\"1942-06-01T00:00:00\", \"1942-07-01T00:00:00\", \"1942-08-01T00:00:00\", \"1942-09-01T00:00:00\", \"1942-10-01T00:00:00\", \"1942-11-01T00:00:00\", \"1942-12-01T00:00:00\", \"1943-01-01T00:00:00\", \"1943-02-01T00:00:00\", \"1943-03-01T00:00:00\", \"1943-04-01T00:00:00\", \"1943-05-01T00:00:00\", \"1943-06-01T00:00:00\", \"1943-07-01T00:00:00\", \"1943-08-01T00:00:00\", \"1943-09-01T00:00:00\", \"1943-10-01T00:00:00\", \"1943-11-01T00:00:00\", \"1943-12-01T00:00:00\", \"1944-01-01T00:00:00\", \"1944-02-01T00:00:00\", \"1944-03-01T00:00:00\", \"1944-04-01T00:00:00\", \"1944-05-01T00:00:00\", \"1944-06-01T00:00:00\", \"1944-07-01T00:00:00\", \"1944-08-01T00:00:00\", \"1944-09-01T00:00:00\", \"1944-10-01T00:00:00\", \"1944-11-01T00:00:00\", \"1944-12-01T00:00:00\", \"1945-01-01T00:00:00\", \"1945-02-01T00:00:00\", \"1945-03-01T00:00:00\", \"1945-04-01T00:00:00\", \"1945-05-01T00:00:00\", \"1945-06-01T00:00:00\", \"1945-07-01T00:00:00\", \"1945-08-01T00:00:00\", \"1945-09-01T00:00:00\", \"1945-10-01T00:00:00\", \"1945-11-01T00:00:00\", \"1945-12-01T00:00:00\", \"1946-01-01T00:00:00\", \"1946-02-01T00:00:00\", \"1946-03-01T00:00:00\"], \"xaxis\": \"x\", \"y\": [0, 0, 0, 212, 7480, 7654, 7651, 7656, 7622, 7619, 7476, 7222, 7016, 6931, 3876, 6764, 7494, 7368, 7393, 7355, 7176, 6983, 6786, 6685, 6424, 6816, 6664, 6490, 6403, 6371, 6311, 6255, 6177, 6035, 5805, 5411, 4980, 4256, 3758, 3155, 1379, 0, 0, 0, 0, 0], \"yaxis\": \"y\"}, {\"hovertemplate\": \"Camp=Heart Mountain<br>Date=%{x}<br>Population=%{y}<extra></extra>\", \"legendgroup\": \"Heart Mountain\", \"line\": {\"color\": \"#FFA15A\", \"dash\": \"solid\"}, \"mode\": \"lines\", \"name\": \"Heart Mountain\", \"orientation\": \"v\", \"showlegend\": true, \"type\": \"scatter\", \"x\": [\"1942-06-01T00:00:00\", \"1942-07-01T00:00:00\", \"1942-08-01T00:00:00\", \"1942-09-01T00:00:00\", \"1942-10-01T00:00:00\", \"1942-11-01T00:00:00\", \"1942-12-01T00:00:00\", \"1943-01-01T00:00:00\", \"1943-02-01T00:00:00\", \"1943-03-01T00:00:00\", \"1943-04-01T00:00:00\", \"1943-05-01T00:00:00\", \"1943-06-01T00:00:00\", \"1943-07-01T00:00:00\", \"1943-08-01T00:00:00\", \"1943-09-01T00:00:00\", \"1943-10-01T00:00:00\", \"1943-11-01T00:00:00\", \"1943-12-01T00:00:00\", \"1944-01-01T00:00:00\", \"1944-02-01T00:00:00\", \"1944-03-01T00:00:00\", \"1944-04-01T00:00:00\", \"1944-05-01T00:00:00\", \"1944-06-01T00:00:00\", \"1944-07-01T00:00:00\", \"1944-08-01T00:00:00\", \"1944-09-01T00:00:00\", \"1944-10-01T00:00:00\", \"1944-11-01T00:00:00\", \"1944-12-01T00:00:00\", \"1945-01-01T00:00:00\", \"1945-02-01T00:00:00\", \"1945-03-01T00:00:00\", \"1945-04-01T00:00:00\", \"1945-05-01T00:00:00\", \"1945-06-01T00:00:00\", \"1945-07-01T00:00:00\", \"1945-08-01T00:00:00\", \"1945-09-01T00:00:00\", \"1945-10-01T00:00:00\", \"1945-11-01T00:00:00\", \"1945-12-01T00:00:00\", \"1946-01-01T00:00:00\", \"1946-02-01T00:00:00\", \"1946-03-01T00:00:00\"], \"xaxis\": \"x\", \"y\": [0, 0, 0, 5758, 10813, 11107, 11105, 11062, 11006, 10959, 10886, 10724, 10520, 10307, 10178, 10073, 10509, 10426, 10406, 10388, 10242, 10112, 9962, 9760, 9420, 9712, 9433, 9241, 9035, 8886, 8669, 8537, 8445, 8213, 7997, 7556, 7084, 6325, 5714, 4611, 3312, 1156, 0, 0, 0, 0], \"yaxis\": \"y\"}, {\"hovertemplate\": \"Camp=Jerome<br>Date=%{x}<br>Population=%{y}<extra></extra>\", \"legendgroup\": \"Jerome\", \"line\": {\"color\": \"#19d3f3\", \"dash\": \"solid\"}, \"mode\": \"lines\", \"name\": \"Jerome\", \"orientation\": \"v\", \"showlegend\": true, \"type\": \"scatter\", \"x\": [\"1942-06-01T00:00:00\", \"1942-07-01T00:00:00\", \"1942-08-01T00:00:00\", \"1942-09-01T00:00:00\", \"1942-10-01T00:00:00\", \"1942-11-01T00:00:00\", \"1942-12-01T00:00:00\", \"1943-01-01T00:00:00\", \"1943-02-01T00:00:00\", \"1943-03-01T00:00:00\", \"1943-04-01T00:00:00\", \"1943-05-01T00:00:00\", \"1943-06-01T00:00:00\", \"1943-07-01T00:00:00\", \"1943-08-01T00:00:00\", \"1943-09-01T00:00:00\", \"1943-10-01T00:00:00\", \"1943-11-01T00:00:00\", \"1943-12-01T00:00:00\", \"1944-01-01T00:00:00\", \"1944-02-01T00:00:00\", \"1944-03-01T00:00:00\", \"1944-04-01T00:00:00\", \"1944-05-01T00:00:00\", \"1944-06-01T00:00:00\", \"1944-07-01T00:00:00\", \"1944-08-01T00:00:00\", \"1944-09-01T00:00:00\", \"1944-10-01T00:00:00\", \"1944-11-01T00:00:00\", \"1944-12-01T00:00:00\", \"1945-01-01T00:00:00\", \"1945-02-01T00:00:00\", \"1945-03-01T00:00:00\", \"1945-04-01T00:00:00\", \"1945-05-01T00:00:00\", \"1945-06-01T00:00:00\", \"1945-07-01T00:00:00\", \"1945-08-01T00:00:00\", \"1945-09-01T00:00:00\", \"1945-10-01T00:00:00\", \"1945-11-01T00:00:00\", \"1945-12-01T00:00:00\", \"1946-01-01T00:00:00\", \"1946-02-01T00:00:00\", \"1946-03-01T00:00:00\"], \"xaxis\": \"x\", \"y\": [0, 0, 0, 0, 0, 7039, 7925, 7932, 8354, 8587, 8526, 8350, 8182, 7972, 7808, 7649, 6899, 6787, 6726, 6700, 6632, 6537, 6529, 6467, 5601, 4, 4, 4, 3, 3, 3, 3, 2, 2, 0, 0, 0, 0, 0, 0, 0, 0, 0, 0, 0, 0], \"yaxis\": \"y\"}, {\"hovertemplate\": \"Camp=Manzanar<br>Date=%{x}<br>Population=%{y}<extra></extra>\", \"legendgroup\": \"Manzanar\", \"line\": {\"color\": \"#FF6692\", \"dash\": \"solid\"}, \"mode\": \"lines\", \"name\": \"Manzanar\", \"orientation\": \"v\", \"showlegend\": true, \"type\": \"scatter\", \"x\": [\"1942-06-01T00:00:00\", \"1942-07-01T00:00:00\", \"1942-08-01T00:00:00\", \"1942-09-01T00:00:00\", \"1942-10-01T00:00:00\", \"1942-11-01T00:00:00\", \"1942-12-01T00:00:00\", \"1943-01-01T00:00:00\", \"1943-02-01T00:00:00\", \"1943-03-01T00:00:00\", \"1943-04-01T00:00:00\", \"1943-05-01T00:00:00\", \"1943-06-01T00:00:00\", \"1943-07-01T00:00:00\", \"1943-08-01T00:00:00\", \"1943-09-01T00:00:00\", \"1943-10-01T00:00:00\", \"1943-11-01T00:00:00\", \"1943-12-01T00:00:00\", \"1944-01-01T00:00:00\", \"1944-02-01T00:00:00\", \"1944-03-01T00:00:00\", \"1944-04-01T00:00:00\", \"1944-05-01T00:00:00\", \"1944-06-01T00:00:00\", \"1944-07-01T00:00:00\", \"1944-08-01T00:00:00\", \"1944-09-01T00:00:00\", \"1944-10-01T00:00:00\", \"1944-11-01T00:00:00\", \"1944-12-01T00:00:00\", \"1945-01-01T00:00:00\", \"1945-02-01T00:00:00\", \"1945-03-01T00:00:00\", \"1945-04-01T00:00:00\", \"1945-05-01T00:00:00\", \"1945-06-01T00:00:00\", \"1945-07-01T00:00:00\", \"1945-08-01T00:00:00\", \"1945-09-01T00:00:00\", \"1945-10-01T00:00:00\", \"1945-11-01T00:00:00\", \"1945-12-01T00:00:00\", \"1946-01-01T00:00:00\", \"1946-02-01T00:00:00\", \"1946-03-01T00:00:00\"], \"xaxis\": \"x\", \"y\": [9666, 9840, 9928, 10072, 10256, 10181, 10177, 10121, 10079, 9796, 9707, 9496, 9272, 9197, 9163, 9105, 9045, 8701, 8621, 8643, 8580, 6655, 6565, 6456, 6341, 6232, 6138, 6057, 5939, 5836, 5668, 5588, 5522, 5435, 5298, 5030, 4658, 4248, 3994, 3552, 2891, 1146, 0, 0, 0, 0], \"yaxis\": \"y\"}, {\"hovertemplate\": \"Camp=Minidoka<br>Date=%{x}<br>Population=%{y}<extra></extra>\", \"legendgroup\": \"Minidoka\", \"line\": {\"color\": \"#B6E880\", \"dash\": \"solid\"}, \"mode\": \"lines\", \"name\": \"Minidoka\", \"orientation\": \"v\", \"showlegend\": true, \"type\": \"scatter\", \"x\": [\"1942-06-01T00:00:00\", \"1942-07-01T00:00:00\", \"1942-08-01T00:00:00\", \"1942-09-01T00:00:00\", \"1942-10-01T00:00:00\", \"1942-11-01T00:00:00\", \"1942-12-01T00:00:00\", \"1943-01-01T00:00:00\", \"1943-02-01T00:00:00\", \"1943-03-01T00:00:00\", \"1943-04-01T00:00:00\", \"1943-05-01T00:00:00\", \"1943-06-01T00:00:00\", \"1943-07-01T00:00:00\", \"1943-08-01T00:00:00\", \"1943-09-01T00:00:00\", \"1943-10-01T00:00:00\", \"1943-11-01T00:00:00\", \"1943-12-01T00:00:00\", \"1944-01-01T00:00:00\", \"1944-02-01T00:00:00\", \"1944-03-01T00:00:00\", \"1944-04-01T00:00:00\", \"1944-05-01T00:00:00\", \"1944-06-01T00:00:00\", \"1944-07-01T00:00:00\", \"1944-08-01T00:00:00\", \"1944-09-01T00:00:00\", \"1944-10-01T00:00:00\", \"1944-11-01T00:00:00\", \"1944-12-01T00:00:00\", \"1945-01-01T00:00:00\", \"1945-02-01T00:00:00\", \"1945-03-01T00:00:00\", \"1945-04-01T00:00:00\", \"1945-05-01T00:00:00\", \"1945-06-01T00:00:00\", \"1945-07-01T00:00:00\", \"1945-08-01T00:00:00\", \"1945-09-01T00:00:00\", \"1945-10-01T00:00:00\", \"1945-11-01T00:00:00\", \"1945-12-01T00:00:00\", \"1946-01-01T00:00:00\", \"1946-02-01T00:00:00\", \"1946-03-01T00:00:00\"], \"xaxis\": \"x\", \"y\": [0, 0, 0, 4840, 9200, 9846, 9849, 9861, 9814, 9924, 9772, 9401, 8989, 8752, 8556, 8325, 9530, 9419, 9492, 9461, 9374, 9288, 9027, 8856, 8514, 8335, 8160, 8099, 7972, 7976, 7867, 7770, 7574, 7373, 6851, 6382, 5615, 4937, 4330, 3218, 1482, 0, 0, 0, 0, 0], \"yaxis\": \"y\"}, {\"hovertemplate\": \"Camp=Rohwer<br>Date=%{x}<br>Population=%{y}<extra></extra>\", \"legendgroup\": \"Rohwer\", \"line\": {\"color\": \"#FF97FF\", \"dash\": \"solid\"}, \"mode\": \"lines\", \"name\": \"Rohwer\", \"orientation\": \"v\", \"showlegend\": true, \"type\": \"scatter\", \"x\": [\"1942-06-01T00:00:00\", \"1942-07-01T00:00:00\", \"1942-08-01T00:00:00\", \"1942-09-01T00:00:00\", \"1942-10-01T00:00:00\", \"1942-11-01T00:00:00\", \"1942-12-01T00:00:00\", \"1943-01-01T00:00:00\", \"1943-02-01T00:00:00\", \"1943-03-01T00:00:00\", \"1943-04-01T00:00:00\", \"1943-05-01T00:00:00\", \"1943-06-01T00:00:00\", \"1943-07-01T00:00:00\", \"1943-08-01T00:00:00\", \"1943-09-01T00:00:00\", \"1943-10-01T00:00:00\", \"1943-11-01T00:00:00\", \"1943-12-01T00:00:00\", \"1944-01-01T00:00:00\", \"1944-02-01T00:00:00\", \"1944-03-01T00:00:00\", \"1944-04-01T00:00:00\", \"1944-05-01T00:00:00\", \"1944-06-01T00:00:00\", \"1944-07-01T00:00:00\", \"1944-08-01T00:00:00\", \"1944-09-01T00:00:00\", \"1944-10-01T00:00:00\", \"1944-11-01T00:00:00\", \"1944-12-01T00:00:00\", \"1945-01-01T00:00:00\", \"1945-02-01T00:00:00\", \"1945-03-01T00:00:00\", \"1945-04-01T00:00:00\", \"1945-05-01T00:00:00\", \"1945-06-01T00:00:00\", \"1945-07-01T00:00:00\", \"1945-08-01T00:00:00\", \"1945-09-01T00:00:00\", \"1945-10-01T00:00:00\", \"1945-11-01T00:00:00\", \"1945-12-01T00:00:00\", \"1946-01-01T00:00:00\", \"1946-02-01T00:00:00\", \"1946-03-01T00:00:00\"], \"xaxis\": \"x\", \"y\": [0, 0, 0, 0, 2265, 8407, 8515, 8548, 8538, 8528, 8478, 8286, 8061, 7895, 7781, 7552, 7123, 6731, 6676, 6676, 6600, 6514, 6375, 6248, 5479, 7623, 7279, 6900, 6764, 6700, 6689, 6747, 6697, 6563, 6339, 5991, 5447, 4910, 4098, 3332, 2175, 1804, 0, 0, 0, 0], \"yaxis\": \"y\"}, {\"hovertemplate\": \"Camp=Tule Lake<br>Date=%{x}<br>Population=%{y}<extra></extra>\", \"legendgroup\": \"Tule Lake\", \"line\": {\"color\": \"#FECB52\", \"dash\": \"solid\"}, \"mode\": \"lines\", \"name\": \"Tule Lake\", \"orientation\": \"v\", \"showlegend\": true, \"type\": \"scatter\", \"x\": [\"1942-06-01T00:00:00\", \"1942-07-01T00:00:00\", \"1942-08-01T00:00:00\", \"1942-09-01T00:00:00\", \"1942-10-01T00:00:00\", \"1942-11-01T00:00:00\", \"1942-12-01T00:00:00\", \"1943-01-01T00:00:00\", \"1943-02-01T00:00:00\", \"1943-03-01T00:00:00\", \"1943-04-01T00:00:00\", \"1943-05-01T00:00:00\", \"1943-06-01T00:00:00\", \"1943-07-01T00:00:00\", \"1943-08-01T00:00:00\", \"1943-09-01T00:00:00\", \"1943-10-01T00:00:00\", \"1943-11-01T00:00:00\", \"1943-12-01T00:00:00\", \"1944-01-01T00:00:00\", \"1944-02-01T00:00:00\", \"1944-03-01T00:00:00\", \"1944-04-01T00:00:00\", \"1944-05-01T00:00:00\", \"1944-06-01T00:00:00\", \"1944-07-01T00:00:00\", \"1944-08-01T00:00:00\", \"1944-09-01T00:00:00\", \"1944-10-01T00:00:00\", \"1944-11-01T00:00:00\", \"1944-12-01T00:00:00\", \"1945-01-01T00:00:00\", \"1945-02-01T00:00:00\", \"1945-03-01T00:00:00\", \"1945-04-01T00:00:00\", \"1945-05-01T00:00:00\", \"1945-06-01T00:00:00\", \"1945-07-01T00:00:00\", \"1945-08-01T00:00:00\", \"1945-09-01T00:00:00\", \"1945-10-01T00:00:00\", \"1945-11-01T00:00:00\", \"1945-12-01T00:00:00\", \"1946-01-01T00:00:00\", \"1946-02-01T00:00:00\", \"1946-03-01T00:00:00\"], \"xaxis\": \"x\", \"y\": [446, 9038, 15020, 15181, 15277, 15393, 15311, 15369, 15274, 15219, 15124, 15015, 14828, 14630, 14484, 14185, 12183, 16012, 15671, 15630, 15625, 17492, 17580, 16964, 18652, 18678, 18709, 18726, 18728, 18718, 18770, 18734, 18593, 17953, 17864, 17886, 17879, 17466, 17366, 17286, 16740, 15450, 12628, 7303, 5046, 2808], \"yaxis\": \"y\"}],                        {\"legend\": {\"title\": {\"text\": \"Camp\"}, \"tracegroupgap\": 0}, \"template\": {\"data\": {\"bar\": [{\"error_x\": {\"color\": \"#2a3f5f\"}, \"error_y\": {\"color\": \"#2a3f5f\"}, \"marker\": {\"line\": {\"color\": \"#E5ECF6\", \"width\": 0.5}}, \"type\": \"bar\"}], \"barpolar\": [{\"marker\": {\"line\": {\"color\": \"#E5ECF6\", \"width\": 0.5}}, \"type\": \"barpolar\"}], \"carpet\": [{\"aaxis\": {\"endlinecolor\": \"#2a3f5f\", \"gridcolor\": \"white\", \"linecolor\": \"white\", \"minorgridcolor\": \"white\", \"startlinecolor\": \"#2a3f5f\"}, \"baxis\": {\"endlinecolor\": \"#2a3f5f\", \"gridcolor\": \"white\", \"linecolor\": \"white\", \"minorgridcolor\": \"white\", \"startlinecolor\": \"#2a3f5f\"}, \"type\": \"carpet\"}], \"choropleth\": [{\"colorbar\": {\"outlinewidth\": 0, \"ticks\": \"\"}, \"type\": \"choropleth\"}], \"contour\": [{\"colorbar\": {\"outlinewidth\": 0, \"ticks\": \"\"}, \"colorscale\": [[0.0, \"#0d0887\"], [0.1111111111111111, \"#46039f\"], [0.2222222222222222, \"#7201a8\"], [0.3333333333333333, \"#9c179e\"], [0.4444444444444444, \"#bd3786\"], [0.5555555555555556, \"#d8576b\"], [0.6666666666666666, \"#ed7953\"], [0.7777777777777778, \"#fb9f3a\"], [0.8888888888888888, \"#fdca26\"], [1.0, \"#f0f921\"]], \"type\": \"contour\"}], \"contourcarpet\": [{\"colorbar\": {\"outlinewidth\": 0, \"ticks\": \"\"}, \"type\": \"contourcarpet\"}], \"heatmap\": [{\"colorbar\": {\"outlinewidth\": 0, \"ticks\": \"\"}, \"colorscale\": [[0.0, \"#0d0887\"], [0.1111111111111111, \"#46039f\"], [0.2222222222222222, \"#7201a8\"], [0.3333333333333333, \"#9c179e\"], [0.4444444444444444, \"#bd3786\"], [0.5555555555555556, \"#d8576b\"], [0.6666666666666666, \"#ed7953\"], [0.7777777777777778, \"#fb9f3a\"], [0.8888888888888888, \"#fdca26\"], [1.0, \"#f0f921\"]], \"type\": \"heatmap\"}], \"heatmapgl\": [{\"colorbar\": {\"outlinewidth\": 0, \"ticks\": \"\"}, \"colorscale\": [[0.0, \"#0d0887\"], [0.1111111111111111, \"#46039f\"], [0.2222222222222222, \"#7201a8\"], [0.3333333333333333, \"#9c179e\"], [0.4444444444444444, \"#bd3786\"], [0.5555555555555556, \"#d8576b\"], [0.6666666666666666, \"#ed7953\"], [0.7777777777777778, \"#fb9f3a\"], [0.8888888888888888, \"#fdca26\"], [1.0, \"#f0f921\"]], \"type\": \"heatmapgl\"}], \"histogram\": [{\"marker\": {\"colorbar\": {\"outlinewidth\": 0, \"ticks\": \"\"}}, \"type\": \"histogram\"}], \"histogram2d\": [{\"colorbar\": {\"outlinewidth\": 0, \"ticks\": \"\"}, \"colorscale\": [[0.0, \"#0d0887\"], [0.1111111111111111, \"#46039f\"], [0.2222222222222222, \"#7201a8\"], [0.3333333333333333, \"#9c179e\"], [0.4444444444444444, \"#bd3786\"], [0.5555555555555556, \"#d8576b\"], [0.6666666666666666, \"#ed7953\"], [0.7777777777777778, \"#fb9f3a\"], [0.8888888888888888, \"#fdca26\"], [1.0, \"#f0f921\"]], \"type\": \"histogram2d\"}], \"histogram2dcontour\": [{\"colorbar\": {\"outlinewidth\": 0, \"ticks\": \"\"}, \"colorscale\": [[0.0, \"#0d0887\"], [0.1111111111111111, \"#46039f\"], [0.2222222222222222, \"#7201a8\"], [0.3333333333333333, \"#9c179e\"], [0.4444444444444444, \"#bd3786\"], [0.5555555555555556, \"#d8576b\"], [0.6666666666666666, \"#ed7953\"], [0.7777777777777778, \"#fb9f3a\"], [0.8888888888888888, \"#fdca26\"], [1.0, \"#f0f921\"]], \"type\": \"histogram2dcontour\"}], \"mesh3d\": [{\"colorbar\": {\"outlinewidth\": 0, \"ticks\": \"\"}, \"type\": \"mesh3d\"}], \"parcoords\": [{\"line\": {\"colorbar\": {\"outlinewidth\": 0, \"ticks\": \"\"}}, \"type\": \"parcoords\"}], \"pie\": [{\"automargin\": true, \"type\": \"pie\"}], \"scatter\": [{\"marker\": {\"colorbar\": {\"outlinewidth\": 0, \"ticks\": \"\"}}, \"type\": \"scatter\"}], \"scatter3d\": [{\"line\": {\"colorbar\": {\"outlinewidth\": 0, \"ticks\": \"\"}}, \"marker\": {\"colorbar\": {\"outlinewidth\": 0, \"ticks\": \"\"}}, \"type\": \"scatter3d\"}], \"scattercarpet\": [{\"marker\": {\"colorbar\": {\"outlinewidth\": 0, \"ticks\": \"\"}}, \"type\": \"scattercarpet\"}], \"scattergeo\": [{\"marker\": {\"colorbar\": {\"outlinewidth\": 0, \"ticks\": \"\"}}, \"type\": \"scattergeo\"}], \"scattergl\": [{\"marker\": {\"colorbar\": {\"outlinewidth\": 0, \"ticks\": \"\"}}, \"type\": \"scattergl\"}], \"scattermapbox\": [{\"marker\": {\"colorbar\": {\"outlinewidth\": 0, \"ticks\": \"\"}}, \"type\": \"scattermapbox\"}], \"scatterpolar\": [{\"marker\": {\"colorbar\": {\"outlinewidth\": 0, \"ticks\": \"\"}}, \"type\": \"scatterpolar\"}], \"scatterpolargl\": [{\"marker\": {\"colorbar\": {\"outlinewidth\": 0, \"ticks\": \"\"}}, \"type\": \"scatterpolargl\"}], \"scatterternary\": [{\"marker\": {\"colorbar\": {\"outlinewidth\": 0, \"ticks\": \"\"}}, \"type\": \"scatterternary\"}], \"surface\": [{\"colorbar\": {\"outlinewidth\": 0, \"ticks\": \"\"}, \"colorscale\": [[0.0, \"#0d0887\"], [0.1111111111111111, \"#46039f\"], [0.2222222222222222, \"#7201a8\"], [0.3333333333333333, \"#9c179e\"], [0.4444444444444444, \"#bd3786\"], [0.5555555555555556, \"#d8576b\"], [0.6666666666666666, \"#ed7953\"], [0.7777777777777778, \"#fb9f3a\"], [0.8888888888888888, \"#fdca26\"], [1.0, \"#f0f921\"]], \"type\": \"surface\"}], \"table\": [{\"cells\": {\"fill\": {\"color\": \"#EBF0F8\"}, \"line\": {\"color\": \"white\"}}, \"header\": {\"fill\": {\"color\": \"#C8D4E3\"}, \"line\": {\"color\": \"white\"}}, \"type\": \"table\"}]}, \"layout\": {\"annotationdefaults\": {\"arrowcolor\": \"#2a3f5f\", \"arrowhead\": 0, \"arrowwidth\": 1}, \"coloraxis\": {\"colorbar\": {\"outlinewidth\": 0, \"ticks\": \"\"}}, \"colorscale\": {\"diverging\": [[0, \"#8e0152\"], [0.1, \"#c51b7d\"], [0.2, \"#de77ae\"], [0.3, \"#f1b6da\"], [0.4, \"#fde0ef\"], [0.5, \"#f7f7f7\"], [0.6, \"#e6f5d0\"], [0.7, \"#b8e186\"], [0.8, \"#7fbc41\"], [0.9, \"#4d9221\"], [1, \"#276419\"]], \"sequential\": [[0.0, \"#0d0887\"], [0.1111111111111111, \"#46039f\"], [0.2222222222222222, \"#7201a8\"], [0.3333333333333333, \"#9c179e\"], [0.4444444444444444, \"#bd3786\"], [0.5555555555555556, \"#d8576b\"], [0.6666666666666666, \"#ed7953\"], [0.7777777777777778, \"#fb9f3a\"], [0.8888888888888888, \"#fdca26\"], [1.0, \"#f0f921\"]], \"sequentialminus\": [[0.0, \"#0d0887\"], [0.1111111111111111, \"#46039f\"], [0.2222222222222222, \"#7201a8\"], [0.3333333333333333, \"#9c179e\"], [0.4444444444444444, \"#bd3786\"], [0.5555555555555556, \"#d8576b\"], [0.6666666666666666, \"#ed7953\"], [0.7777777777777778, \"#fb9f3a\"], [0.8888888888888888, \"#fdca26\"], [1.0, \"#f0f921\"]]}, \"colorway\": [\"#636efa\", \"#EF553B\", \"#00cc96\", \"#ab63fa\", \"#FFA15A\", \"#19d3f3\", \"#FF6692\", \"#B6E880\", \"#FF97FF\", \"#FECB52\"], \"font\": {\"color\": \"#2a3f5f\"}, \"geo\": {\"bgcolor\": \"white\", \"lakecolor\": \"white\", \"landcolor\": \"#E5ECF6\", \"showlakes\": true, \"showland\": true, \"subunitcolor\": \"white\"}, \"hoverlabel\": {\"align\": \"left\"}, \"hovermode\": \"closest\", \"mapbox\": {\"style\": \"light\"}, \"paper_bgcolor\": \"white\", \"plot_bgcolor\": \"#E5ECF6\", \"polar\": {\"angularaxis\": {\"gridcolor\": \"white\", \"linecolor\": \"white\", \"ticks\": \"\"}, \"bgcolor\": \"#E5ECF6\", \"radialaxis\": {\"gridcolor\": \"white\", \"linecolor\": \"white\", \"ticks\": \"\"}}, \"scene\": {\"xaxis\": {\"backgroundcolor\": \"#E5ECF6\", \"gridcolor\": \"white\", \"gridwidth\": 2, \"linecolor\": \"white\", \"showbackground\": true, \"ticks\": \"\", \"zerolinecolor\": \"white\"}, \"yaxis\": {\"backgroundcolor\": \"#E5ECF6\", \"gridcolor\": \"white\", \"gridwidth\": 2, \"linecolor\": \"white\", \"showbackground\": true, \"ticks\": \"\", \"zerolinecolor\": \"white\"}, \"zaxis\": {\"backgroundcolor\": \"#E5ECF6\", \"gridcolor\": \"white\", \"gridwidth\": 2, \"linecolor\": \"white\", \"showbackground\": true, \"ticks\": \"\", \"zerolinecolor\": \"white\"}}, \"shapedefaults\": {\"line\": {\"color\": \"#2a3f5f\"}}, \"ternary\": {\"aaxis\": {\"gridcolor\": \"white\", \"linecolor\": \"white\", \"ticks\": \"\"}, \"baxis\": {\"gridcolor\": \"white\", \"linecolor\": \"white\", \"ticks\": \"\"}, \"bgcolor\": \"#E5ECF6\", \"caxis\": {\"gridcolor\": \"white\", \"linecolor\": \"white\", \"ticks\": \"\"}}, \"title\": {\"x\": 0.05}, \"xaxis\": {\"automargin\": true, \"gridcolor\": \"white\", \"linecolor\": \"white\", \"ticks\": \"\", \"title\": {\"standoff\": 15}, \"zerolinecolor\": \"white\", \"zerolinewidth\": 2}, \"yaxis\": {\"automargin\": true, \"gridcolor\": \"white\", \"linecolor\": \"white\", \"ticks\": \"\", \"title\": {\"standoff\": 15}, \"zerolinecolor\": \"white\", \"zerolinewidth\": 2}}}, \"title\": {\"text\": \"Camp Populations by Month\"}, \"xaxis\": {\"anchor\": \"y\", \"domain\": [0.0, 1.0], \"title\": {\"text\": \"Date\"}}, \"yaxis\": {\"anchor\": \"x\", \"domain\": [0.0, 1.0], \"title\": {\"text\": \"Population\"}}},                        {\"responsive\": true}                    ).then(function(){\n",
       "                            \n",
       "var gd = document.getElementById('b1efebe8-f6c1-46b4-b74a-498a67466b0f');\n",
       "var x = new MutationObserver(function (mutations, observer) {{\n",
       "        var display = window.getComputedStyle(gd).display;\n",
       "        if (!display || display === 'none') {{\n",
       "            console.log([gd, 'removed!']);\n",
       "            Plotly.purge(gd);\n",
       "            observer.disconnect();\n",
       "        }}\n",
       "}});\n",
       "\n",
       "// Listen for the removal of the full notebook cells\n",
       "var notebookContainer = gd.closest('#notebook-container');\n",
       "if (notebookContainer) {{\n",
       "    x.observe(notebookContainer, {childList: true});\n",
       "}}\n",
       "\n",
       "// Listen for the clearing of the current output cell\n",
       "var outputEl = gd.closest('.output');\n",
       "if (outputEl) {{\n",
       "    x.observe(outputEl, {childList: true});\n",
       "}}\n",
       "\n",
       "                        })                };                });            </script>        </div>"
      ]
     },
     "metadata": {},
     "output_type": "display_data"
    }
   ],
   "source": [
    "pop_by_month2 = pop_by_month.drop(\"Total\", axis = 1)\n",
    "melted = pd.melt(pop_by_month2, id_vars = [\"Date\"], value_vars = pop_by_month2.columns[1:], var_name = 'Camp', value_name = \"Population\")\n",
    "fig = px.line(melted, x = 'Date', y = 'Population', color = 'Camp', title = 'Camp Populations by Month')\n",
    "fig.show();"
   ]
  },
  {
   "cell_type": "markdown",
   "metadata": {
    "#student": false
   },
   "source": [
    "**Question 3d:** What is happening to the camp populations in the line plot above? Do any camps stand out to you? What do you notice about the increases in population?"
   ]
  },
  {
   "cell_type": "markdown",
   "metadata": {},
   "source": [
    "**Answer:** YOUR ANSWER HERE"
   ]
  },
  {
   "cell_type": "markdown",
   "metadata": {},
   "source": [
    "The camp with the steadily increasing population after 1943 is Tule Lake, the largest detainment camp. On July 15, 1943, Tule Lake was designated as the segregation center because of its capacity and the number of individuals who were deemed \"disloyal\" by the WRA (the loyalty of detainees was conflated with their dissatisfaction with their treatment). Martial law was declared on November 14 at Tule Lake and it became a maximum-security, militarized center, with a curfew in place and almost all daily activities were brought to an end. \n",
    "\n",
    "As the segregation center, Tule Lake transferred \"loyal\" inmates to other WRA camps in exchange for \"disloyal\" inmates from other camps, though not all \"loyals\" wanted to leave. Overcrowding was a serious issue at Tule Lake: additional barracks were constructed for the 1,800 incoming inmates from Manzanar in early spring 1944, and even more arrived from other camps later that spring. Midway through 1944, the WRA stopped transferring detained Japanese-Americans to Tule Lake. (Can you see these changes reflected in the plot above?)\n",
    "\n",
    "Now we'll shift our focus from detention camp populations to the percentages of Japanese-Americans detained that returned to their original county. We can use a histogram to visualize the distribution of the percentages reported."
   ]
  },
  {
   "cell_type": "code",
   "execution_count": null,
   "metadata": {
    "#student": false
   },
   "outputs": [],
   "source": [
    "sns.distplot(population1940_1945['% returned'])\n",
    "plt.title(\"Percent Returned to Original County\");"
   ]
  },
  {
   "cell_type": "markdown",
   "metadata": {},
   "source": [
    "We can see that the bin that indicated 0% return to original location hold the most weight. This indicates that a vast majority of the individuals that were held in detention camps did not return to the location where they originally lived."
   ]
  },
  {
   "cell_type": "markdown",
   "metadata": {
    "#student": true
   },
   "source": [
    "**Question 3e**: Visualizations allow us to picture how the numbers change and find abnormalities in the data set. What are some abnormalities that you see in the first plot? What are some possible explanations for these abnormalities?"
   ]
  },
  {
   "cell_type": "markdown",
   "metadata": {
    "#student": true
   },
   "source": [
    "\n",
    "**Answer:** YOUR ANSWER HERE"
   ]
  },
  {
   "cell_type": "markdown",
   "metadata": {
    "#student": false
   },
   "source": [
    "---\n",
    "\n",
    "## Section 4: Assembly Centers and Internment Centers<a id='#section4'></a>\n",
    "\n",
    "In this section we will look at the trends in the relocation of detained Japanese-Americans. The maps below show how far people were forced to move from one location to another over the course of WWII. By creating a map from longitude and latitude data, we can better visualize locations and understand some aspects of Japanese-American detainments, such as on whose land Japanese-Americans were held in and the conditions that they suffered, and the places that Japanese-Americans across the West Coast came from and where they went afterwards.\n",
    "\n",
    "When a notice of \"evacuation\" was posted, families had to register at a control center and were issued a number, stripping families of their privacy and dignity. From there, families awaited their trip to the assembly centers and upon arrival, detainees recall two vivid images: \"walking to the camp between a cordon of armed guards, and first seeing the barbed wire and searchlights, the menacing symbols of a prison\" (*Personal Justice Denied*, 136).\n",
    "\n",
    "\n",
    "<img src=\"images/Luggage_Japanese_American_internment.png\" width=\"400\">\n",
    "\n",
    "<center> The luggage of the Japanese Americans who have arrived at a reception center.\n",
    "This image is available from the United States Library of Congress's Prints and Photographs division."
   ]
  },
  {
   "cell_type": "markdown",
   "metadata": {
    "#student": false
   },
   "source": [
    "### Assembly Centers\n",
    "Japanese Americans were uprooted from their homes and transported from assembly centers to detention camps all across the country. Assembly centers served as temporary detention centers for the detained to stop at before being transported to a permanent detention center. The map below displays the geological location of the assembly centers created after the passing of the Executive Order 9066.\n",
    "\n",
    "To zoom in and out on the map, press the + and - buttons or scroll up and down. Also, click on the blue marker to see the assembly center name. "
   ]
  },
  {
   "cell_type": "code",
   "execution_count": null,
   "metadata": {
    "#student": false
   },
   "outputs": [],
   "source": [
    "m = folium.Map(location=[36.733300, -100.766700], zoom_start=4)\n",
    "tooltip = 'Click me!'\n",
    "for i in range(0,len(assembly)):\n",
    "    folium.Marker(\n",
    "      location=(assembly.iloc[i]['Latitude'], assembly.iloc[i]['Longitude']),\n",
    "      popup=assembly.iloc[i]['Location'],\n",
    "      ).add_to(m)\n",
    "m"
   ]
  },
  {
   "cell_type": "markdown",
   "metadata": {},
   "source": [
    "### Detention Camps\n",
    "\n",
    "The map below shows the location of detention centers across the country. Notice that the detention centers are located further inland than assembly centers. This is because a majority of the Japanese-Americans that were held in detention camps were originally from the West Coast. After the order passed, these Japanese-Americans were relocated to nearby assembly centers as authorities prepared to relocate them to further detention centers."
   ]
  },
  {
   "cell_type": "code",
   "execution_count": null,
   "metadata": {
    "#student": false
   },
   "outputs": [],
   "source": [
    "m = folium.Map(location=[36.733300, -100.766700], zoom_start=4)\n",
    "tooltip = 'Click me!'\n",
    "for i in range(0,len(camps)):\n",
    "    folium.Marker(\n",
    "      location=(camps.iloc[i]['Latitude'], camps.iloc[i]['Longitude']),\n",
    "      popup=camps.iloc[i]['Internment Camp Name'],\n",
    "      ).add_to(m)\n",
    "m"
   ]
  },
  {
   "cell_type": "markdown",
   "metadata": {
    "#student": false
   },
   "source": [
    "---\n",
    "\n",
    "## Section 5: Mapping and Movement<a id='section5'></a>\n",
    "\n",
    "The abrupt forced relocation of countless Japanese-Americans during World War II resulted in a lasting change in the location of many of these Japanese-American families even after the war ended. During the relocation process many families were forced to quickly sell their possessions, businesses and land holdings. Those who did not, often came back to find their possessions gone and homes vandalized. As a result, many detainees that lived on the West Coast of the United States did not return to their previous homes after the war.\n",
    "\n",
    "<img src=\"images/Hayward_Friends_say_goodbye.png\" width=\"400\">\n",
    "<center> Neighbors in Hayward, California saying goodbye.\n",
    "    \n",
    "<center> This image is available from the United States Library of Congress's Prints and Photographs division.\n",
    "    "
   ]
  },
  {
   "cell_type": "markdown",
   "metadata": {},
   "source": [
    "### Location of Detainees Before Relocation\n",
    "\n",
    "The map below shows the population of each county at the start of World War II in 1940, just before the Executive Order 9066 in 1942. Japanese Americans were largely concentrated on the West Coast, with the largest population in Los Angeles.\n"
   ]
  },
  {
   "cell_type": "code",
   "execution_count": null,
   "metadata": {
    "#student": false
   },
   "outputs": [],
   "source": [
    "m = folium.Map(location=[36.733300, -100.766700], zoom_start=4)\n",
    "tooltip = 'Click me!'\n",
    "for i in range(0,len(population1940_1945)):\n",
    "    folium.Circle(\n",
    "      location = (population1940_1945.iloc[i]['Latitude'], population1940_1945.iloc[i]['Longitude']),\n",
    "      popup = population1940_1945.iloc[i]['County'],\n",
    "      radius = float(population1940_1945.iloc[i]['1940']) *12,\n",
    "      color = 'blue',\n",
    "      fill = True,\n",
    "      fill_color = 'crimson').add_to(m)\n",
    "m"
   ]
  },
  {
   "cell_type": "code",
   "execution_count": null,
   "metadata": {},
   "outputs": [],
   "source": [
    "m = folium.Map(location=[36.733300, -100.766700], zoom_start=4)\n",
    "tooltip = 'Click me!'\n",
    "\n",
    "def color(pop): \n",
    "    if pop in range(0,1000): \n",
    "        col = 'green'\n",
    "    elif pop in range(1001,4999): \n",
    "        col = 'blue'\n",
    "    elif pop in range(5000,10000): \n",
    "        col = 'orange'\n",
    "    else: \n",
    "        col='red'\n",
    "    return col \n",
    "\n",
    "population1940_1945['marker_color'] = [color(pop) for pop in population1940_1945['1940'].tolist()]\n",
    "\n",
    "for i in range(0,len(population1940_1945)):\n",
    "    folium.CircleMarker(\n",
    "        location = (population1940_1945.iloc[i]['Latitude'], population1940_1945.iloc[i]['Longitude']),\n",
    "        radius = 1,\n",
    "        popup = population1940_1945.iloc[i]['County'],\n",
    "        color = population1940_1945.iloc[i]['marker_color'],\n",
    "    ).add_to(m)\n",
    "m\n",
    "\n"
   ]
  },
  {
   "cell_type": "markdown",
   "metadata": {},
   "source": [
    "**Question 5a**:  The two visualizations above map the same data, but do so in two different ways. What are the differences between the two maps? What does each visualization draw attention to and what does it obscure?"
   ]
  },
  {
   "cell_type": "markdown",
   "metadata": {},
   "source": [
    "**Answer:** YOUR ANSWER HERE \n",
    "\n",
    "*Potential Answer: The first map indicates population by size of the circle where as the second map indicates by color. A disadvantage of the first map is that the circles begin to overlap and cloud the overall view of the map. An advantage of the first map is that it is very easy to tell where large populations lie on the map. A disadvantage of the second map is that one must consult the legend to understand what the map is displaying. An advantage of the second map is that each marker is clearly visible and they do not overlap.*"
   ]
  },
  {
   "cell_type": "markdown",
   "metadata": {
    "#student": false
   },
   "source": [
    "### Location of Detainees After the War\n",
    "\n",
    "This table shows the number of Japanese Americans in each county after the war. This data was self-reported by evacuees."
   ]
  },
  {
   "cell_type": "code",
   "execution_count": null,
   "metadata": {
    "#student": false
   },
   "outputs": [],
   "source": [
    "reloc_cities = pd.read_csv('data/RelocationDestinations_Cities_LL.csv', error_bad_lines = False)\n",
    "reloc_cities['People'] = reloc_cities['People'].astype(float)\n",
    "reloc_cities.head()"
   ]
  },
  {
   "cell_type": "markdown",
   "metadata": {
    "#student": false
   },
   "source": [
    "This table shows the number of Japanese-Americans in each county after the war. This data was self-reported by detainees.\n",
    "This map shows the cities that people relocated after the war. It allows us to visualize the extent people had to relocate from their original homes. We can see that a large population moved to the midwest (Chicago area) as well as the East Coast, Canada, and even Mexico City.\n"
   ]
  },
  {
   "cell_type": "code",
   "execution_count": null,
   "metadata": {
    "#student": false
   },
   "outputs": [],
   "source": [
    "m = folium.Map(location=[36.733300, -100.766700], zoom_start=4)\n",
    "tooltip = 'Click me!'\n",
    "for i in range(0,len(reloc_cities)):\n",
    "    folium.Circle(\n",
    "      location=(reloc_cities.iloc[i]['Latitude'], reloc_cities.iloc[i]['Longitude']),\n",
    "      popup=reloc_cities.iloc[i]['City'],\n",
    "      radius=reloc_cities.iloc[i]['People'] * 12,\n",
    "      color='blue',\n",
    "      fill=True,\n",
    "      fill_color='red').add_to(m)\n",
    "m"
   ]
  },
  {
   "cell_type": "markdown",
   "metadata": {},
   "source": [
    "**Question 5b**: As was mentioned above, this data is self reported by detainees. What effect does the fact that the data is self-reported have on the data collected and the conclusions made? "
   ]
  },
  {
   "cell_type": "markdown",
   "metadata": {},
   "source": [
    "**Answer:** YOUR ANSWER HERE\n",
    "\n",
    "*Potential Answer: The fact that the data is self reported indicates that the data might have an underlying bias due to the people who chose to report and those who did not. The data might not be representative of all the evacuees.*"
   ]
  },
  {
   "cell_type": "markdown",
   "metadata": {},
   "source": [
    "**Question 5c:** Given our work with the data and the context surrounding it (question 2a), what does it mean to be doing data analysis on these two datasets together? How is the context transformed through the act of your analysis?  "
   ]
  },
  {
   "cell_type": "markdown",
   "metadata": {},
   "source": [
    "**Answer:** YOUR ANSWER HERE"
   ]
  },
  {
   "cell_type": "markdown",
   "metadata": {
    "#student": false
   },
   "source": [
    "---\n"
   ]
  }
 ],
 "metadata": {
  "anaconda-cloud": {},
  "checksums": [
   "7d62f2d8fa9df9782dabafaf29f6be0b",
   "bf3feb850b5e1bd76ebcd7c07e4125a4",
   "9ccdd9fe0060bd3ab7328387f1a35413",
   "a22cdadfe7c74bd821ea894f242bab88",
   "3d3282284ee18c6a2fd069444fde3217",
   "c5063f438aba580d73b3fc8f015801be",
   "bb574c420b608257b5fc9f647c3eb81c",
   "2846119dbb959fc17c459eafab13dcb5",
   "e01f007aa5443efb9900bd44d13dd7c7",
   "b804469a98fe20f770090a7acc360a31",
   "a46e8d57f8644009ee6351df0927f2bf",
   "c9decc56cff48e3fd4fb28e48a7ba110",
   "1508a0313a4e1c0923287b9327cb6a80",
   "bdab940058951e88de397a485186a5de",
   "62c34e40515edab6c4225ccf15087052",
   "0fd80a084c06e3f7653144df829c2e3d",
   "5344dc57314f63d6ea2455f0c2a27d30",
   "6c521a0f63dbf362aaaf744085cf5b4d",
   "f7cbedf950e5a0393fa8414ec591073c",
   "690c6779b8184c6b3f7b44b28258a1c9",
   "a23b90f9b02415da624c64c700cd983c",
   "1a89c04b14ffca9f33ba99754b16bc05",
   "135645a8e6de40583293478107705afb",
   "4500e0043480e3b5ee091f37fa8c6f2b",
   "989ef4f9e0df1c73b2e59d8a21acdaa9",
   "e682d5808dd16a1e8e787c15da5093c0",
   "7a7210ab4f95ccb7a3ce5d78bb87b92b",
   "6fa6c6038ba08d3c2973c03c4f222cf3",
   "9efc314b65237d5d646e1b817372afc6",
   "6a1eee6a000db38bf48e3c7c8313c2ed",
   "99193259bf8cb447d9c11ef80a2d517a",
   "be412606d0ab971baafe92a2aceddabd",
   "1d93fa85a37e8a9a4ed56e0e42a5e388",
   "13c86accb3f14a7504c1443b3b85b17b",
   "8b8bd628f67be024162e121a028737d5",
   "deda54df303d85c87084d4c7934124f2",
   "343c55190c6e01f3a21869185435318b",
   "b9f9b50487bc24ced9e9be3181b107c8",
   "2c628b07d1bc8678a879f1b182dfea22",
   "40a3a18785bcf172b3f5bffc70e2204a",
   "1be47a1c3314182c8741fb78645afc4c",
   "1a4743083d499b807c0f310cf851dd3f",
   "9d45946f137dcbd9b0bb25635216ec88",
   "af1b20ba747adc76da8d13147e160754",
   "c45b863a08254980e2804d24899d6712",
   "659c5ba16081070bc38a02d0d963063f",
   "646d6bf77641e96b7cd5772a8d1a10ad",
   "6fa6c6038ba08d3c2973c03c4f222cf3",
   "4b7233c8a0f8c12db1a1fcd5a9b445fc",
   "6357eb980f2ec54eaebb96dc7e3e1f7b",
   "23b2e187b60113dbb89807ca8d37030a"
  ],
  "kernelspec": {
   "display_name": "Python 3",
   "language": "python",
   "name": "python3"
  },
  "language_info": {
   "codemirror_mode": {
    "name": "ipython",
    "version": 3
   },
   "file_extension": ".py",
   "mimetype": "text/x-python",
   "name": "python",
   "nbconvert_exporter": "python",
   "pygments_lexer": "ipython3",
   "version": "3.7.3"
  },
  "number_of_pagebreaks": 0
 },
 "nbformat": 4,
 "nbformat_minor": 4
}
