{
 "cells": [
  {
   "cell_type": "markdown",
   "metadata": {
    "#student": false
   },
   "source": [
    "# COLWRIT R4B The Japanese American Internment and its Legacy\n",
    "\n",
    "\n",
    "---\n",
    "\n",
    "### Professor Patricia Steenland\n",
    "\n",
    "This notebook will explore data from the camps and provide context and techniques to analize the forced relocation of Japanese Americans during the 1940s.\n",
    "\n",
    "*Estimated Time: 90 minutes*\n",
    "\n",
    "---\n",
    "\n",
    "### Topics Covered\n",
    "1. [Section 1: The Jupyter Notebook](#Section-1:-The-Jupyter-Notebook)\n",
    "2. [Section 2: Data Exploration and Visualization](#Section-2:-Data-Exploration-and-Visualization)\n",
    "3. [Section 3: Assembly Centers and Internment Centers](#Section-3:-Assembly-Centers-and-Internment-Centers)\n",
    "4. [Section 4: Mapping and Movement](#Section-4:-Mapping-and-Movement)\n",
    "\n",
    "\n",
    "---\n",
    "\n",
    "## Context <a id='data'></a>\n",
    "\n",
    "In this course, you've been studying the consequences of Japanese American internment. Through this data and subsequent analysis, you'll be able to visualize the forced movement of Japanese Americans, from the west coast, to scattered internment camps, and eventually to cities throughout the country. First, we need to learn how to use this notebook format, which is called a **Jupyter Notebook.**\n",
    "\n"
   ]
  },
  {
   "cell_type": "markdown",
   "metadata": {
    "#student": false
   },
   "source": [
    "\n",
    "## Section 1: The Jupyter Notebook\n",
    "\n",
    "First of all, note that this page is divided into what are called *cells*. You can navigate cells by clicking on them or by using the up and down arrows. Cells will be highlighted as you navigate them.\n",
    "\n",
    "### Text cells\n",
    "\n",
    "Text cells (like this one) can be edited by double-clicking on them. They're written in a simple format called [Markdown](http://daringfireball.net/projects/markdown/syntax) to add formatting and section headings.  You don't need to learn Markdown, but know the difference between Text Cells and Code Cells."
   ]
  },
  {
   "cell_type": "markdown",
   "metadata": {
    "#student": false
   },
   "source": [
    "### Code cells\n",
    "Other cells contain code in the Python 3 language. Don't worry -- we'll show you everything you need to know to succeed in this part of the class. \n",
    "\n",
    "The fundamental building block of Python code is an **expression**. Cells can contain multiple lines with multiple expressions.  We'll explain what exactly we mean by \"expressions\" in just a moment: first, let's learn how to \"run\" cells."
   ]
  },
  {
   "cell_type": "markdown",
   "metadata": {
    "#student": false
   },
   "source": [
    "### Running cells\n",
    "\n",
    "\"Running a cell\" is equivalent to pressing \"Enter\" on a calculator once you've typed in the expression you want to evaluate: it produces an **output**. When you run a text cell, it outputs clean, organized writing. When you run a code cell, it **computes** all of the expressions you want to evaluate, and can **output** the result of the computation.\n",
    "\n",
    "<p></p>\n",
    "\n",
    "<div class=\"alert alert-info\">\n",
    "To run the code in a code cell, first click on that cell to activate it.  It'll be highlighted with a little green or blue rectangle.  Next, you can either press the <code><b>▶|</b> Run </code> button above or press <b><code>Shift + Return</code></b> or <b><code>Shift + Enter</code></b>. This will run the current cell and select the next one.\n",
    "</div>\n",
    "\n",
    "Text cells are useful for taking notes and keeping your notebook organized, but your data analysis will be done in code cells. We will focus on code cells for the rest of the class.\n",
    "\n"
   ]
  },
  {
   "cell_type": "code",
   "execution_count": 83,
   "metadata": {
    "#student": false,
    "scrolled": true
   },
   "outputs": [
    {
     "name": "stdout",
     "output_type": "stream",
     "text": [
      "Hello world!\n"
     ]
    }
   ],
   "source": [
    "print(\"Hello world!\")"
   ]
  },
  {
   "cell_type": "code",
   "execution_count": 84,
   "metadata": {
    "#student": false
   },
   "outputs": [],
   "source": [
    "#This is a comment. It is put in code cells as a description or instructions and does not affect the code."
   ]
  },
  {
   "cell_type": "code",
   "execution_count": 106,
   "metadata": {
    "#student": false
   },
   "outputs": [],
   "source": [
    "# Just run this cell\n",
    "from IPython.display import HTML\n",
    "import pandas as pd\n",
    "import numpy as np\n",
    "import matplotlib.pyplot as plt\n",
    "import seaborn as sns\n",
    "import folium\n",
    "import plotly.express as px\n",
    "import ipywidgets as widgets\n",
    "from ipywidgets import interact, interactive, fixed, interact_manual\n",
    "pop_by_month = pd.read_csv(\"data/CampPopulationsByMonth.csv\", error_bad_lines = False, thousands = ',')\n",
    "population1940_1945 = pd.read_csv(\"data/JapaneseAmericanPopulation_1940_1945_LL.csv\", error_bad_lines = False)\n",
    "relocations_cities = pd.read_csv(\"data/RelocationDestinations_Cities_LL.csv\", error_bad_lines = False)\n",
    "assembly = pd.read_csv('data/BehindBarbedWire_StoryMap_AssemblyCentersMap_Data.csv', error_bad_lines = False)"
   ]
  },
  {
   "cell_type": "markdown",
   "metadata": {
    "#student": false
   },
   "source": [
    "---\n",
    "\n",
    "## The Data <a id='data'></a>\n",
    "\n",
    "\n",
    "In this section, we will be aiming to understand the data which is a crucial step in the data science life cycle. Understanding the data involves performing Exploratory Data Analysis (EDA) in order to understand patterns and trends occuring in the data. Specifically, this section will involve cleaning the data and understanding the conetxt of the data.\n",
    "\n",
    "In this notebook, you'll be working with a dataset that was manually digitized from tables in The Evacuated People: A Quantitative Description, a report published by the War Relocation Authority in 1946. The tables required manual transcription because the results from automatic scraping contained too many errors. Thus, there may still be some human error. The datasets included contain the populations of each camp by month, the relocation destinations of those who were incarcerated, and the Japanese American population in America before and throughout the war. Take a look at the full dataset <a href = https://data.world/infinitecoop/japanese-internment-camps/> here</a>.\n",
    "\n",
    "The second dataset we're working with is collected by the Library of Congress and comes from newspapers that were produced by Japanese-American internees while they lived in the camps. You can access the data and read about the newspapers <a href = https://tinyurl.com/y4g5kq77> here</a>.\n",
    "<img src=\"images/Posted_Japanese_American_Exclusion_Order.png\" width=\"450\">\n",
    "This image is available from the United States Library of Congress's Prints and Photographs division."
   ]
  },
  {
   "cell_type": "markdown",
   "metadata": {
    "#student": false
   },
   "source": [
    "The **pop_by_month** table has the population of each of the ten camps at the start of every month."
   ]
  },
  {
   "cell_type": "code",
   "execution_count": 86,
   "metadata": {
    "#student": false
   },
   "outputs": [],
   "source": [
    "#Loading and Reading the Data\n",
    "pop_by_month['Date']= pd.to_datetime(pop_by_month['Date']) \n",
    "camps = pd.read_csv('data/BehindBarbedWire_StoryMap_InternmentCampLocationsMap_Data.csv', error_bad_lines = False)\n",
    "camps[\"Maximum Population\"] = camps[\"Maximum Population\"].str.replace(',', '')\n",
    "camps['Maximum Population'] = camps['Maximum Population'].astype(float)"
   ]
  },
  {
   "cell_type": "code",
   "execution_count": 87,
   "metadata": {
    "#student": false
   },
   "outputs": [
    {
     "data": {
      "text/html": [
       "<div>\n",
       "<style scoped>\n",
       "    .dataframe tbody tr th:only-of-type {\n",
       "        vertical-align: middle;\n",
       "    }\n",
       "\n",
       "    .dataframe tbody tr th {\n",
       "        vertical-align: top;\n",
       "    }\n",
       "\n",
       "    .dataframe thead th {\n",
       "        text-align: right;\n",
       "    }\n",
       "</style>\n",
       "<table border=\"1\" class=\"dataframe\">\n",
       "  <thead>\n",
       "    <tr style=\"text-align: right;\">\n",
       "      <th></th>\n",
       "      <th>Date</th>\n",
       "      <th>Total</th>\n",
       "      <th>Topaz/Central Utah</th>\n",
       "      <th>Poston/Colorado River</th>\n",
       "      <th>Gila River</th>\n",
       "      <th>Granada</th>\n",
       "      <th>Heart Mountain</th>\n",
       "      <th>Jerome</th>\n",
       "      <th>Manzanar</th>\n",
       "      <th>Minidoka</th>\n",
       "      <th>Rohwer</th>\n",
       "      <th>Tule Lake</th>\n",
       "    </tr>\n",
       "  </thead>\n",
       "  <tbody>\n",
       "    <tr>\n",
       "      <th>0</th>\n",
       "      <td>1942-06-01</td>\n",
       "      <td>17393</td>\n",
       "      <td>0</td>\n",
       "      <td>7281</td>\n",
       "      <td>0</td>\n",
       "      <td>0</td>\n",
       "      <td>0</td>\n",
       "      <td>0</td>\n",
       "      <td>9666</td>\n",
       "      <td>0</td>\n",
       "      <td>0</td>\n",
       "      <td>446</td>\n",
       "    </tr>\n",
       "    <tr>\n",
       "      <th>1</th>\n",
       "      <td>1942-07-01</td>\n",
       "      <td>27633</td>\n",
       "      <td>0</td>\n",
       "      <td>8755</td>\n",
       "      <td>0</td>\n",
       "      <td>0</td>\n",
       "      <td>0</td>\n",
       "      <td>0</td>\n",
       "      <td>9840</td>\n",
       "      <td>0</td>\n",
       "      <td>0</td>\n",
       "      <td>9038</td>\n",
       "    </tr>\n",
       "    <tr>\n",
       "      <th>2</th>\n",
       "      <td>1942-08-01</td>\n",
       "      <td>40316</td>\n",
       "      <td>0</td>\n",
       "      <td>13262</td>\n",
       "      <td>2106</td>\n",
       "      <td>0</td>\n",
       "      <td>0</td>\n",
       "      <td>0</td>\n",
       "      <td>9928</td>\n",
       "      <td>0</td>\n",
       "      <td>0</td>\n",
       "      <td>15020</td>\n",
       "    </tr>\n",
       "    <tr>\n",
       "      <th>3</th>\n",
       "      <td>1942-09-01</td>\n",
       "      <td>63031</td>\n",
       "      <td>0</td>\n",
       "      <td>17818</td>\n",
       "      <td>9150</td>\n",
       "      <td>212</td>\n",
       "      <td>5758</td>\n",
       "      <td>0</td>\n",
       "      <td>10072</td>\n",
       "      <td>4840</td>\n",
       "      <td>0</td>\n",
       "      <td>15181</td>\n",
       "    </tr>\n",
       "    <tr>\n",
       "      <th>4</th>\n",
       "      <td>1942-10-01</td>\n",
       "      <td>90499</td>\n",
       "      <td>5806</td>\n",
       "      <td>17847</td>\n",
       "      <td>11555</td>\n",
       "      <td>7480</td>\n",
       "      <td>10813</td>\n",
       "      <td>0</td>\n",
       "      <td>10256</td>\n",
       "      <td>9200</td>\n",
       "      <td>2265</td>\n",
       "      <td>15277</td>\n",
       "    </tr>\n",
       "  </tbody>\n",
       "</table>\n",
       "</div>"
      ],
      "text/plain": [
       "        Date  Total  Topaz/Central Utah  Poston/Colorado River  Gila River  \\\n",
       "0 1942-06-01  17393                   0                   7281           0   \n",
       "1 1942-07-01  27633                   0                   8755           0   \n",
       "2 1942-08-01  40316                   0                  13262        2106   \n",
       "3 1942-09-01  63031                   0                  17818        9150   \n",
       "4 1942-10-01  90499                5806                  17847       11555   \n",
       "\n",
       "   Granada  Heart Mountain  Jerome  Manzanar  Minidoka  Rohwer  Tule Lake  \n",
       "0        0               0       0      9666         0       0        446  \n",
       "1        0               0       0      9840         0       0       9038  \n",
       "2        0               0       0      9928         0       0      15020  \n",
       "3      212            5758       0     10072      4840       0      15181  \n",
       "4     7480           10813       0     10256      9200    2265      15277  "
      ]
     },
     "execution_count": 87,
     "metadata": {},
     "output_type": "execute_result"
    }
   ],
   "source": [
    "pop_by_month.head()"
   ]
  },
  {
   "cell_type": "markdown",
   "metadata": {
    "#student": false
   },
   "source": [
    "The **camps** table by Behind the Barbed Wire has a list of the internment camps, their locations-- city, name, latitude, and longitude-- the dates of when they opened and closed, and their maximum populations."
   ]
  },
  {
   "cell_type": "code",
   "execution_count": 88,
   "metadata": {
    "#student": false,
    "scrolled": true
   },
   "outputs": [
    {
     "data": {
      "text/html": [
       "<div>\n",
       "<style scoped>\n",
       "    .dataframe tbody tr th:only-of-type {\n",
       "        vertical-align: middle;\n",
       "    }\n",
       "\n",
       "    .dataframe tbody tr th {\n",
       "        vertical-align: top;\n",
       "    }\n",
       "\n",
       "    .dataframe thead th {\n",
       "        text-align: right;\n",
       "    }\n",
       "</style>\n",
       "<table border=\"1\" class=\"dataframe\">\n",
       "  <thead>\n",
       "    <tr style=\"text-align: right;\">\n",
       "      <th></th>\n",
       "      <th>Internment Camp Name</th>\n",
       "      <th>Location</th>\n",
       "      <th>State</th>\n",
       "      <th>Latitude</th>\n",
       "      <th>Longitude</th>\n",
       "      <th>Opened</th>\n",
       "      <th>Closed</th>\n",
       "      <th>Maximum Population</th>\n",
       "    </tr>\n",
       "  </thead>\n",
       "  <tbody>\n",
       "    <tr>\n",
       "      <th>0</th>\n",
       "      <td>Gila River Relocation Center</td>\n",
       "      <td>Rivers</td>\n",
       "      <td>Arizona</td>\n",
       "      <td>33.065083</td>\n",
       "      <td>-111.830528</td>\n",
       "      <td>20-Jul-42</td>\n",
       "      <td>16-Nov-45</td>\n",
       "      <td>13348.0</td>\n",
       "    </tr>\n",
       "    <tr>\n",
       "      <th>1</th>\n",
       "      <td>Poston Relocation Center</td>\n",
       "      <td>Parker</td>\n",
       "      <td>Arizona</td>\n",
       "      <td>33.987500</td>\n",
       "      <td>-114.401111</td>\n",
       "      <td>2-Jun-42</td>\n",
       "      <td>28-Nov-45</td>\n",
       "      <td>17814.0</td>\n",
       "    </tr>\n",
       "    <tr>\n",
       "      <th>2</th>\n",
       "      <td>Jerome Relocation Center</td>\n",
       "      <td>Denson</td>\n",
       "      <td>Arkansas</td>\n",
       "      <td>33.411667</td>\n",
       "      <td>-91.461111</td>\n",
       "      <td>6-Oct-42</td>\n",
       "      <td>30-Jun-44</td>\n",
       "      <td>8497.0</td>\n",
       "    </tr>\n",
       "    <tr>\n",
       "      <th>3</th>\n",
       "      <td>Rohwer Relocation Center</td>\n",
       "      <td>McGehee</td>\n",
       "      <td>Arkansas</td>\n",
       "      <td>33.766297</td>\n",
       "      <td>-91.280158</td>\n",
       "      <td>18-Sep-42</td>\n",
       "      <td>30-Nov-45</td>\n",
       "      <td>8475.0</td>\n",
       "    </tr>\n",
       "    <tr>\n",
       "      <th>4</th>\n",
       "      <td>Manzanar Relocation Center</td>\n",
       "      <td>Manzanar</td>\n",
       "      <td>California</td>\n",
       "      <td>36.728333</td>\n",
       "      <td>-118.154444</td>\n",
       "      <td>2-Jun-42</td>\n",
       "      <td>21-Nov-45</td>\n",
       "      <td>10046.0</td>\n",
       "    </tr>\n",
       "    <tr>\n",
       "      <th>5</th>\n",
       "      <td>Tule Lake Relocation Center</td>\n",
       "      <td>Newell</td>\n",
       "      <td>California</td>\n",
       "      <td>41.889444</td>\n",
       "      <td>-121.374722</td>\n",
       "      <td>27-May-42</td>\n",
       "      <td>20-Mar-46</td>\n",
       "      <td>18789.0</td>\n",
       "    </tr>\n",
       "    <tr>\n",
       "      <th>6</th>\n",
       "      <td>Granada Relocation Center</td>\n",
       "      <td>Amache</td>\n",
       "      <td>Colorado</td>\n",
       "      <td>38.049444</td>\n",
       "      <td>-102.328611</td>\n",
       "      <td>27-Aug-42</td>\n",
       "      <td>15-Oct-45</td>\n",
       "      <td>7318.0</td>\n",
       "    </tr>\n",
       "    <tr>\n",
       "      <th>7</th>\n",
       "      <td>Minidoka Relocation Center</td>\n",
       "      <td>Hunt</td>\n",
       "      <td>Idaho</td>\n",
       "      <td>42.679000</td>\n",
       "      <td>-114.244000</td>\n",
       "      <td>10-Aug-42</td>\n",
       "      <td>28-Oct-45</td>\n",
       "      <td>9397.0</td>\n",
       "    </tr>\n",
       "    <tr>\n",
       "      <th>8</th>\n",
       "      <td>Topaz Relocation Center</td>\n",
       "      <td>Topaz</td>\n",
       "      <td>Utah</td>\n",
       "      <td>39.418336</td>\n",
       "      <td>-112.708750</td>\n",
       "      <td>11-Sep-42</td>\n",
       "      <td>31-Oct-45</td>\n",
       "      <td>8130.0</td>\n",
       "    </tr>\n",
       "    <tr>\n",
       "      <th>9</th>\n",
       "      <td>Heart Mountain Relocation Center</td>\n",
       "      <td>Heart Mountain</td>\n",
       "      <td>Wyoming</td>\n",
       "      <td>44.671667</td>\n",
       "      <td>-108.946389</td>\n",
       "      <td>12-Aug-42</td>\n",
       "      <td>10-Nov-45</td>\n",
       "      <td>343.0</td>\n",
       "    </tr>\n",
       "  </tbody>\n",
       "</table>\n",
       "</div>"
      ],
      "text/plain": [
       "               Internment Camp Name        Location       State   Latitude  \\\n",
       "0      Gila River Relocation Center          Rivers     Arizona  33.065083   \n",
       "1          Poston Relocation Center          Parker     Arizona  33.987500   \n",
       "2          Jerome Relocation Center          Denson    Arkansas  33.411667   \n",
       "3          Rohwer Relocation Center         McGehee    Arkansas  33.766297   \n",
       "4        Manzanar Relocation Center        Manzanar  California  36.728333   \n",
       "5       Tule Lake Relocation Center          Newell  California  41.889444   \n",
       "6         Granada Relocation Center          Amache    Colorado  38.049444   \n",
       "7        Minidoka Relocation Center            Hunt       Idaho  42.679000   \n",
       "8           Topaz Relocation Center           Topaz        Utah  39.418336   \n",
       "9  Heart Mountain Relocation Center  Heart Mountain     Wyoming  44.671667   \n",
       "\n",
       "    Longitude     Opened     Closed  Maximum Population  \n",
       "0 -111.830528  20-Jul-42  16-Nov-45             13348.0  \n",
       "1 -114.401111   2-Jun-42  28-Nov-45             17814.0  \n",
       "2  -91.461111   6-Oct-42  30-Jun-44              8497.0  \n",
       "3  -91.280158  18-Sep-42  30-Nov-45              8475.0  \n",
       "4 -118.154444   2-Jun-42  21-Nov-45             10046.0  \n",
       "5 -121.374722  27-May-42  20-Mar-46             18789.0  \n",
       "6 -102.328611  27-Aug-42  15-Oct-45              7318.0  \n",
       "7 -114.244000  10-Aug-42  28-Oct-45              9397.0  \n",
       "8 -112.708750  11-Sep-42  31-Oct-45              8130.0  \n",
       "9 -108.946389  12-Aug-42  10-Nov-45               343.0  "
      ]
     },
     "execution_count": 88,
     "metadata": {},
     "output_type": "execute_result"
    }
   ],
   "source": [
    "camps"
   ]
  },
  {
   "cell_type": "markdown",
   "metadata": {
    "#student": false
   },
   "source": [
    "The **assembly** table by Behind the Barbed Wire has the locations of each assembly center-- their city, state, latitude, and longitude--, as well as the number of people that were processed through each one."
   ]
  },
  {
   "cell_type": "code",
   "execution_count": 89,
   "metadata": {
    "#student": false
   },
   "outputs": [
    {
     "data": {
      "text/html": [
       "<div>\n",
       "<style scoped>\n",
       "    .dataframe tbody tr th:only-of-type {\n",
       "        vertical-align: middle;\n",
       "    }\n",
       "\n",
       "    .dataframe tbody tr th {\n",
       "        vertical-align: top;\n",
       "    }\n",
       "\n",
       "    .dataframe thead th {\n",
       "        text-align: right;\n",
       "    }\n",
       "</style>\n",
       "<table border=\"1\" class=\"dataframe\">\n",
       "  <thead>\n",
       "    <tr style=\"text-align: right;\">\n",
       "      <th></th>\n",
       "      <th>Location</th>\n",
       "      <th>State</th>\n",
       "      <th>Number of People</th>\n",
       "      <th>Latitude</th>\n",
       "      <th>Longitude</th>\n",
       "    </tr>\n",
       "  </thead>\n",
       "  <tbody>\n",
       "    <tr>\n",
       "      <th>0</th>\n",
       "      <td>Sacramento (Walerga)</td>\n",
       "      <td>California</td>\n",
       "      <td>4598.0</td>\n",
       "      <td>38.566700</td>\n",
       "      <td>-121.483300</td>\n",
       "    </tr>\n",
       "    <tr>\n",
       "      <th>2</th>\n",
       "      <td>Manzanar (Up to 6/1/42)</td>\n",
       "      <td>California</td>\n",
       "      <td>9564.0</td>\n",
       "      <td>36.728333</td>\n",
       "      <td>-118.154444</td>\n",
       "    </tr>\n",
       "    <tr>\n",
       "      <th>3</th>\n",
       "      <td>Fresno</td>\n",
       "      <td>California</td>\n",
       "      <td>5069.0</td>\n",
       "      <td>36.733300</td>\n",
       "      <td>-119.766700</td>\n",
       "    </tr>\n",
       "    <tr>\n",
       "      <th>4</th>\n",
       "      <td>Marysville (Arboga)</td>\n",
       "      <td>California</td>\n",
       "      <td>2406.0</td>\n",
       "      <td>39.050000</td>\n",
       "      <td>-121.550050</td>\n",
       "    </tr>\n",
       "    <tr>\n",
       "      <th>5</th>\n",
       "      <td>Mayer</td>\n",
       "      <td>Arizona</td>\n",
       "      <td>249.0</td>\n",
       "      <td>34.383300</td>\n",
       "      <td>-112.233300</td>\n",
       "    </tr>\n",
       "    <tr>\n",
       "      <th>6</th>\n",
       "      <td>Merced</td>\n",
       "      <td>California</td>\n",
       "      <td>4081.0</td>\n",
       "      <td>37.300000</td>\n",
       "      <td>-120.466700</td>\n",
       "    </tr>\n",
       "    <tr>\n",
       "      <th>7</th>\n",
       "      <td>Pinedale</td>\n",
       "      <td>California</td>\n",
       "      <td>4664.0</td>\n",
       "      <td>36.840000</td>\n",
       "      <td>-119.800000</td>\n",
       "    </tr>\n",
       "    <tr>\n",
       "      <th>8</th>\n",
       "      <td>Pomona</td>\n",
       "      <td>California</td>\n",
       "      <td>5272.0</td>\n",
       "      <td>34.050000</td>\n",
       "      <td>-117.750000</td>\n",
       "    </tr>\n",
       "    <tr>\n",
       "      <th>9</th>\n",
       "      <td>Portland (Pacific Int. Exposition Ground)</td>\n",
       "      <td>Oregon</td>\n",
       "      <td>3667.0</td>\n",
       "      <td>45.516700</td>\n",
       "      <td>-122.666700</td>\n",
       "    </tr>\n",
       "    <tr>\n",
       "      <th>10</th>\n",
       "      <td>Puyallup</td>\n",
       "      <td>Washington</td>\n",
       "      <td>7348.0</td>\n",
       "      <td>47.183300</td>\n",
       "      <td>-122.283300</td>\n",
       "    </tr>\n",
       "    <tr>\n",
       "      <th>11</th>\n",
       "      <td>Salinas</td>\n",
       "      <td>California</td>\n",
       "      <td>3555.0</td>\n",
       "      <td>36.666700</td>\n",
       "      <td>-121.650000</td>\n",
       "    </tr>\n",
       "    <tr>\n",
       "      <th>12</th>\n",
       "      <td>Santa Anita</td>\n",
       "      <td>California</td>\n",
       "      <td>18424.0</td>\n",
       "      <td>34.133300</td>\n",
       "      <td>-118.033300</td>\n",
       "    </tr>\n",
       "    <tr>\n",
       "      <th>13</th>\n",
       "      <td>Stockton</td>\n",
       "      <td>California</td>\n",
       "      <td>4178.0</td>\n",
       "      <td>37.950000</td>\n",
       "      <td>-121.283300</td>\n",
       "    </tr>\n",
       "    <tr>\n",
       "      <th>14</th>\n",
       "      <td>Tanforan</td>\n",
       "      <td>California</td>\n",
       "      <td>7694.0</td>\n",
       "      <td>37.616700</td>\n",
       "      <td>-122.400000</td>\n",
       "    </tr>\n",
       "    <tr>\n",
       "      <th>15</th>\n",
       "      <td>Tulare</td>\n",
       "      <td>California</td>\n",
       "      <td>4915.0</td>\n",
       "      <td>36.200000</td>\n",
       "      <td>-119.333300</td>\n",
       "    </tr>\n",
       "    <tr>\n",
       "      <th>16</th>\n",
       "      <td>Turlock</td>\n",
       "      <td>California</td>\n",
       "      <td>3553.0</td>\n",
       "      <td>37.483300</td>\n",
       "      <td>-120.833300</td>\n",
       "    </tr>\n",
       "  </tbody>\n",
       "</table>\n",
       "</div>"
      ],
      "text/plain": [
       "                                     Location       State  Number of People  \\\n",
       "0                        Sacramento (Walerga)  California            4598.0   \n",
       "2                     Manzanar (Up to 6/1/42)  California            9564.0   \n",
       "3                                      Fresno  California            5069.0   \n",
       "4                         Marysville (Arboga)  California            2406.0   \n",
       "5                                       Mayer     Arizona             249.0   \n",
       "6                                      Merced  California            4081.0   \n",
       "7                                    Pinedale  California            4664.0   \n",
       "8                                      Pomona  California            5272.0   \n",
       "9   Portland (Pacific Int. Exposition Ground)      Oregon            3667.0   \n",
       "10                                   Puyallup  Washington            7348.0   \n",
       "11                                    Salinas  California            3555.0   \n",
       "12                                Santa Anita  California           18424.0   \n",
       "13                                   Stockton  California            4178.0   \n",
       "14                                   Tanforan  California            7694.0   \n",
       "15                                     Tulare  California            4915.0   \n",
       "16                                    Turlock  California            3553.0   \n",
       "\n",
       "     Latitude   Longitude  \n",
       "0   38.566700 -121.483300  \n",
       "2   36.728333 -118.154444  \n",
       "3   36.733300 -119.766700  \n",
       "4   39.050000 -121.550050  \n",
       "5   34.383300 -112.233300  \n",
       "6   37.300000 -120.466700  \n",
       "7   36.840000 -119.800000  \n",
       "8   34.050000 -117.750000  \n",
       "9   45.516700 -122.666700  \n",
       "10  47.183300 -122.283300  \n",
       "11  36.666700 -121.650000  \n",
       "12  34.133300 -118.033300  \n",
       "13  37.950000 -121.283300  \n",
       "14  37.616700 -122.400000  \n",
       "15  36.200000 -119.333300  \n",
       "16  37.483300 -120.833300  "
      ]
     },
     "execution_count": 89,
     "metadata": {},
     "output_type": "execute_result"
    }
   ],
   "source": [
    "assembly = assembly.dropna(subset=['Latitude', 'Longitude']).dropna(axis = 1)\n",
    "assembly['Number of People'] = assembly['Number of People'].astype(float)\n",
    "assembly"
   ]
  },
  {
   "cell_type": "markdown",
   "metadata": {
    "#student": false
   },
   "source": [
    "The **population1940_1945** table has a list of counties that Japanese Americans lived in in 1940 and 1945. A separate column calculates the percent that returned to the county that they were from."
   ]
  },
  {
   "cell_type": "code",
   "execution_count": 90,
   "metadata": {
    "#student": false,
    "scrolled": false
   },
   "outputs": [
    {
     "data": {
      "text/html": [
       "<div>\n",
       "<style scoped>\n",
       "    .dataframe tbody tr th:only-of-type {\n",
       "        vertical-align: middle;\n",
       "    }\n",
       "\n",
       "    .dataframe tbody tr th {\n",
       "        vertical-align: top;\n",
       "    }\n",
       "\n",
       "    .dataframe thead th {\n",
       "        text-align: right;\n",
       "    }\n",
       "</style>\n",
       "<table border=\"1\" class=\"dataframe\">\n",
       "  <thead>\n",
       "    <tr style=\"text-align: right;\">\n",
       "      <th></th>\n",
       "      <th>County</th>\n",
       "      <th>State</th>\n",
       "      <th>1940</th>\n",
       "      <th>1945</th>\n",
       "      <th>% returned</th>\n",
       "      <th>Latitude</th>\n",
       "      <th>Longitude</th>\n",
       "    </tr>\n",
       "  </thead>\n",
       "  <tbody>\n",
       "    <tr>\n",
       "      <th>0</th>\n",
       "      <td>Alameda</td>\n",
       "      <td>CA</td>\n",
       "      <td>5167</td>\n",
       "      <td>2703</td>\n",
       "      <td>52.3</td>\n",
       "      <td>37.779872</td>\n",
       "      <td>-122.282185</td>\n",
       "    </tr>\n",
       "    <tr>\n",
       "      <th>1</th>\n",
       "      <td>Amador</td>\n",
       "      <td>CA</td>\n",
       "      <td>2</td>\n",
       "      <td>0</td>\n",
       "      <td>0.0</td>\n",
       "      <td>37.667910</td>\n",
       "      <td>-121.873914</td>\n",
       "    </tr>\n",
       "    <tr>\n",
       "      <th>2</th>\n",
       "      <td>Butte</td>\n",
       "      <td>CA</td>\n",
       "      <td>216</td>\n",
       "      <td>107</td>\n",
       "      <td>49.5</td>\n",
       "      <td>46.003823</td>\n",
       "      <td>-112.534777</td>\n",
       "    </tr>\n",
       "    <tr>\n",
       "      <th>3</th>\n",
       "      <td>Calaveras</td>\n",
       "      <td>CA</td>\n",
       "      <td>6</td>\n",
       "      <td>0</td>\n",
       "      <td>0.0</td>\n",
       "      <td>36.159706</td>\n",
       "      <td>-95.958341</td>\n",
       "    </tr>\n",
       "    <tr>\n",
       "      <th>4</th>\n",
       "      <td>Colusa</td>\n",
       "      <td>CA</td>\n",
       "      <td>155</td>\n",
       "      <td>48</td>\n",
       "      <td>31.0</td>\n",
       "      <td>39.214334</td>\n",
       "      <td>-122.009417</td>\n",
       "    </tr>\n",
       "  </tbody>\n",
       "</table>\n",
       "</div>"
      ],
      "text/plain": [
       "      County State  1940  1945  % returned   Latitude   Longitude\n",
       "0    Alameda    CA  5167  2703        52.3  37.779872 -122.282185\n",
       "1     Amador    CA     2     0         0.0  37.667910 -121.873914\n",
       "2      Butte    CA   216   107        49.5  46.003823 -112.534777\n",
       "3  Calaveras    CA     6     0         0.0  36.159706  -95.958341\n",
       "4     Colusa    CA   155    48        31.0  39.214334 -122.009417"
      ]
     },
     "execution_count": 90,
     "metadata": {},
     "output_type": "execute_result"
    }
   ],
   "source": [
    "population1940_1945.head()"
   ]
  },
  {
   "cell_type": "markdown",
   "metadata": {
    "#student": false
   },
   "source": [
    "# Section 2: Data Exploration and Visualization"
   ]
  },
  {
   "cell_type": "markdown",
   "metadata": {
    "#student": false
   },
   "source": [
    "In this second, we will also be performing a step in the data science life cycle, understanding the data. Specifically, we will be performing exploratory data analysis through data visualizations.\n",
    "\n",
    "Sometimes numbers don't always add up. We have two separate tables with data about the internment camps, collected by two separate organizations. Say we try to compare the maximum population of the Manzanar camps from both tables."
   ]
  },
  {
   "cell_type": "code",
   "execution_count": 105,
   "metadata": {
    "#student": false
   },
   "outputs": [
    {
     "name": "stdout",
     "output_type": "stream",
     "text": [
      "Camps Data: 10046\n",
      "Population by Month Data: 10256\n"
     ]
    }
   ],
   "source": [
    "pop_by_month_max = pop_by_month['Manzanar'].max()\n",
    "camps_max = int(camps[camps['Internment Camp Name'] == 'Manzanar Relocation Center']['Maximum Population'])\n",
    "print('Camps Data:',  camps_max)\n",
    "print('Population by Month Data:' ,  pop_by_month_max)\n",
    "#Are the two numbers equal?"
   ]
  },
  {
   "cell_type": "markdown",
   "metadata": {
    "#student": false
   },
   "source": [
    "The two numbers don't equal each other. The **pop_by_month** table says that the maximum population of Manzanar was 10,256, while the camps table says that the maximum was 10,046 people. While this isn't a huge difference, it's important to remember that there can be error in your datasets, and not to take any one dataset as complete and total fact. \n",
    "\n",
    "Below we use an interactive dropdown widget to help us compare the populations given by the two different data sets **pop_by_month** and **camps**. This widget compares the barplots for the maximum population in **pop_by_month** and **camps**. We can use the dropdown menu to view the different internment camps included in these two datasets."
   ]
  },
  {
   "cell_type": "code",
   "execution_count": 103,
   "metadata": {
    "scrolled": true
   },
   "outputs": [
    {
     "data": {
      "application/vnd.jupyter.widget-view+json": {
       "model_id": "ba195d9a605c4263aaa4e0c652b840e2",
       "version_major": 2,
       "version_minor": 0
      },
      "text/plain": [
       "interactive(children=(Dropdown(description='location', options=('Gila River Relocation Center', 'Poston Reloca…"
      ]
     },
     "metadata": {},
     "output_type": "display_data"
    }
   ],
   "source": [
    "location_dict = {'Topaz Relocation Center':'Topaz/Central Utah', \n",
    "                 'Poston Relocation Center':'Poston/Colorado River',\n",
    "                 'Gila River Relocation Center':'Gila River', \n",
    "                 'Granada Relocation Center': 'Granada', \n",
    "                 'Heart Mountain Relocation Center':'Heart Mountain', \n",
    "                 'Jerome Relocation Center':'Jerome', \n",
    "                 'Manzanar Relocation Center':'Manzanar',\n",
    "                 'Minidoka Relocation Center':'Minidoka', \n",
    "                 'Rohwer Relocation Center':'Rohwer', \n",
    "                 'Tule Lake Relocation Center':'Tule Lake'} \n",
    "def pop_diff(location):\n",
    "    plt.subplots(dpi=250)\n",
    "    sns.set(font_scale=.8)\n",
    "    pbm_max = pop_by_month[location_dict[location]].max()\n",
    "    camps_max = camps[camps['Internment Camp Name'] == location]['Maximum Population']\n",
    "    bar = sns.barplot(x =['camps df', 'pop_by_month df'], y=[camps_max, pbm_max]);\n",
    "    \n",
    "Location = interact(pop_diff, location=camps['Internment Camp Name'].values);"
   ]
  },
  {
   "cell_type": "markdown",
   "metadata": {},
   "source": [
    "Consider the visualization above. Identify its primary flaw (if any) and give a recommendation on how to improve this barplot."
   ]
  },
  {
   "cell_type": "markdown",
   "metadata": {},
   "source": [
    "**Answer:** YOUR ANSWER HERE"
   ]
  },
  {
   "cell_type": "markdown",
   "metadata": {
    "#student": false
   },
   "source": [
    "Now we can look at the data and start to see beyond the numbers. **This over-laid line plot compares the change in populations of the camps by month.** "
   ]
  },
  {
   "cell_type": "code",
   "execution_count": 70,
   "metadata": {
    "#student": false
   },
   "outputs": [
    {
     "data": {
      "application/vnd.plotly.v1+json": {
       "config": {
        "plotlyServerURL": "https://plot.ly"
       },
       "data": [
        {
         "hovertemplate": "Camp=Topaz/Central Utah<br>Date=%{x}<br>Population=%{y}<extra></extra>",
         "legendgroup": "Topaz/Central Utah",
         "line": {
          "color": "#636efa",
          "dash": "solid"
         },
         "mode": "lines",
         "name": "Topaz/Central Utah",
         "orientation": "v",
         "showlegend": true,
         "type": "scatter",
         "x": [
          "1942-06-01T00:00:00",
          "1942-07-01T00:00:00",
          "1942-08-01T00:00:00",
          "1942-09-01T00:00:00",
          "1942-10-01T00:00:00",
          "1942-11-01T00:00:00",
          "1942-12-01T00:00:00",
          "1943-01-01T00:00:00",
          "1943-02-01T00:00:00",
          "1943-03-01T00:00:00",
          "1943-04-01T00:00:00",
          "1943-05-01T00:00:00",
          "1943-06-01T00:00:00",
          "1943-07-01T00:00:00",
          "1943-08-01T00:00:00",
          "1943-09-01T00:00:00",
          "1943-10-01T00:00:00",
          "1943-11-01T00:00:00",
          "1943-12-01T00:00:00",
          "1944-01-01T00:00:00",
          "1944-02-01T00:00:00",
          "1944-03-01T00:00:00",
          "1944-04-01T00:00:00",
          "1944-05-01T00:00:00",
          "1944-06-01T00:00:00",
          "1944-07-01T00:00:00",
          "1944-08-01T00:00:00",
          "1944-09-01T00:00:00",
          "1944-10-01T00:00:00",
          "1944-11-01T00:00:00",
          "1944-12-01T00:00:00",
          "1945-01-01T00:00:00",
          "1945-02-01T00:00:00",
          "1945-03-01T00:00:00",
          "1945-04-01T00:00:00",
          "1945-05-01T00:00:00",
          "1945-06-01T00:00:00",
          "1945-07-01T00:00:00",
          "1945-08-01T00:00:00",
          "1945-09-01T00:00:00",
          "1945-10-01T00:00:00",
          "1945-11-01T00:00:00",
          "1945-12-01T00:00:00",
          "1946-01-01T00:00:00",
          "1946-02-01T00:00:00",
          "1946-03-01T00:00:00"
         ],
         "xaxis": "x",
         "y": [
          0,
          0,
          0,
          0,
          5806,
          8320,
          8294,
          8232,
          8214,
          8152,
          8332,
          8189,
          8018,
          7862,
          7809,
          7682,
          7608,
          7554,
          7585,
          7559,
          7438,
          7350,
          7227,
          7084,
          6879,
          6727,
          6621,
          6426,
          6280,
          6125,
          6026,
          5984,
          5883,
          5742,
          5589,
          5413,
          5165,
          4645,
          4176,
          3339,
          1899,
          0,
          0,
          0,
          0,
          0
         ],
         "yaxis": "y"
        },
        {
         "hovertemplate": "Camp=Poston/Colorado River<br>Date=%{x}<br>Population=%{y}<extra></extra>",
         "legendgroup": "Poston/Colorado River",
         "line": {
          "color": "#EF553B",
          "dash": "solid"
         },
         "mode": "lines",
         "name": "Poston/Colorado River",
         "orientation": "v",
         "showlegend": true,
         "type": "scatter",
         "x": [
          "1942-06-01T00:00:00",
          "1942-07-01T00:00:00",
          "1942-08-01T00:00:00",
          "1942-09-01T00:00:00",
          "1942-10-01T00:00:00",
          "1942-11-01T00:00:00",
          "1942-12-01T00:00:00",
          "1943-01-01T00:00:00",
          "1943-02-01T00:00:00",
          "1943-03-01T00:00:00",
          "1943-04-01T00:00:00",
          "1943-05-01T00:00:00",
          "1943-06-01T00:00:00",
          "1943-07-01T00:00:00",
          "1943-08-01T00:00:00",
          "1943-09-01T00:00:00",
          "1943-10-01T00:00:00",
          "1943-11-01T00:00:00",
          "1943-12-01T00:00:00",
          "1944-01-01T00:00:00",
          "1944-02-01T00:00:00",
          "1944-03-01T00:00:00",
          "1944-04-01T00:00:00",
          "1944-05-01T00:00:00",
          "1944-06-01T00:00:00",
          "1944-07-01T00:00:00",
          "1944-08-01T00:00:00",
          "1944-09-01T00:00:00",
          "1944-10-01T00:00:00",
          "1944-11-01T00:00:00",
          "1944-12-01T00:00:00",
          "1945-01-01T00:00:00",
          "1945-02-01T00:00:00",
          "1945-03-01T00:00:00",
          "1945-04-01T00:00:00",
          "1945-05-01T00:00:00",
          "1945-06-01T00:00:00",
          "1945-07-01T00:00:00",
          "1945-08-01T00:00:00",
          "1945-09-01T00:00:00",
          "1945-10-01T00:00:00",
          "1945-11-01T00:00:00",
          "1945-12-01T00:00:00",
          "1946-01-01T00:00:00",
          "1946-02-01T00:00:00",
          "1946-03-01T00:00:00"
         ],
         "xaxis": "x",
         "y": [
          7281,
          8755,
          13262,
          17818,
          17847,
          17877,
          17965,
          8039,
          18025,
          17984,
          17941,
          17741,
          17406,
          16995,
          16671,
          16279,
          16013,
          14470,
          14372,
          14295,
          14109,
          13876,
          13453,
          13241,
          13021,
          12725,
          12517,
          12152,
          12059,
          11881,
          11751,
          11710,
          11480,
          11251,
          10828,
          10421,
          9979,
          9386,
          8750,
          6828,
          2730,
          1088,
          0,
          0,
          0,
          0
         ],
         "yaxis": "y"
        },
        {
         "hovertemplate": "Camp=Gila River<br>Date=%{x}<br>Population=%{y}<extra></extra>",
         "legendgroup": "Gila River",
         "line": {
          "color": "#00cc96",
          "dash": "solid"
         },
         "mode": "lines",
         "name": "Gila River",
         "orientation": "v",
         "showlegend": true,
         "type": "scatter",
         "x": [
          "1942-06-01T00:00:00",
          "1942-07-01T00:00:00",
          "1942-08-01T00:00:00",
          "1942-09-01T00:00:00",
          "1942-10-01T00:00:00",
          "1942-11-01T00:00:00",
          "1942-12-01T00:00:00",
          "1943-01-01T00:00:00",
          "1943-02-01T00:00:00",
          "1943-03-01T00:00:00",
          "1943-04-01T00:00:00",
          "1943-05-01T00:00:00",
          "1943-06-01T00:00:00",
          "1943-07-01T00:00:00",
          "1943-08-01T00:00:00",
          "1943-09-01T00:00:00",
          "1943-10-01T00:00:00",
          "1943-11-01T00:00:00",
          "1943-12-01T00:00:00",
          "1944-01-01T00:00:00",
          "1944-02-01T00:00:00",
          "1944-03-01T00:00:00",
          "1944-04-01T00:00:00",
          "1944-05-01T00:00:00",
          "1944-06-01T00:00:00",
          "1944-07-01T00:00:00",
          "1944-08-01T00:00:00",
          "1944-09-01T00:00:00",
          "1944-10-01T00:00:00",
          "1944-11-01T00:00:00",
          "1944-12-01T00:00:00",
          "1945-01-01T00:00:00",
          "1945-02-01T00:00:00",
          "1945-03-01T00:00:00",
          "1945-04-01T00:00:00",
          "1945-05-01T00:00:00",
          "1945-06-01T00:00:00",
          "1945-07-01T00:00:00",
          "1945-08-01T00:00:00",
          "1945-09-01T00:00:00",
          "1945-10-01T00:00:00",
          "1945-11-01T00:00:00",
          "1945-12-01T00:00:00",
          "1946-01-01T00:00:00",
          "1946-02-01T00:00:00",
          "1946-03-01T00:00:00"
         ],
         "xaxis": "x",
         "y": [
          0,
          0,
          2106,
          9150,
          11555,
          13368,
          13368,
          13420,
          13411,
          13374,
          13372,
          13224,
          12954,
          12683,
          12542,
          12251,
          12056,
          10017,
          9898,
          9869,
          9800,
          9655,
          9419,
          9199,
          8788,
          10531,
          10291,
          9951,
          9651,
          9550,
          9534,
          9550,
          9432,
          9207,
          8988,
          8716,
          8319,
          7684,
          6765,
          5141,
          2760,
          754,
          0,
          0,
          0,
          0
         ],
         "yaxis": "y"
        },
        {
         "hovertemplate": "Camp=Granada<br>Date=%{x}<br>Population=%{y}<extra></extra>",
         "legendgroup": "Granada",
         "line": {
          "color": "#ab63fa",
          "dash": "solid"
         },
         "mode": "lines",
         "name": "Granada",
         "orientation": "v",
         "showlegend": true,
         "type": "scatter",
         "x": [
          "1942-06-01T00:00:00",
          "1942-07-01T00:00:00",
          "1942-08-01T00:00:00",
          "1942-09-01T00:00:00",
          "1942-10-01T00:00:00",
          "1942-11-01T00:00:00",
          "1942-12-01T00:00:00",
          "1943-01-01T00:00:00",
          "1943-02-01T00:00:00",
          "1943-03-01T00:00:00",
          "1943-04-01T00:00:00",
          "1943-05-01T00:00:00",
          "1943-06-01T00:00:00",
          "1943-07-01T00:00:00",
          "1943-08-01T00:00:00",
          "1943-09-01T00:00:00",
          "1943-10-01T00:00:00",
          "1943-11-01T00:00:00",
          "1943-12-01T00:00:00",
          "1944-01-01T00:00:00",
          "1944-02-01T00:00:00",
          "1944-03-01T00:00:00",
          "1944-04-01T00:00:00",
          "1944-05-01T00:00:00",
          "1944-06-01T00:00:00",
          "1944-07-01T00:00:00",
          "1944-08-01T00:00:00",
          "1944-09-01T00:00:00",
          "1944-10-01T00:00:00",
          "1944-11-01T00:00:00",
          "1944-12-01T00:00:00",
          "1945-01-01T00:00:00",
          "1945-02-01T00:00:00",
          "1945-03-01T00:00:00",
          "1945-04-01T00:00:00",
          "1945-05-01T00:00:00",
          "1945-06-01T00:00:00",
          "1945-07-01T00:00:00",
          "1945-08-01T00:00:00",
          "1945-09-01T00:00:00",
          "1945-10-01T00:00:00",
          "1945-11-01T00:00:00",
          "1945-12-01T00:00:00",
          "1946-01-01T00:00:00",
          "1946-02-01T00:00:00",
          "1946-03-01T00:00:00"
         ],
         "xaxis": "x",
         "y": [
          0,
          0,
          0,
          212,
          7480,
          7654,
          7651,
          7656,
          7622,
          7619,
          7476,
          7222,
          7016,
          6931,
          3876,
          6764,
          7494,
          7368,
          7393,
          7355,
          7176,
          6983,
          6786,
          6685,
          6424,
          6816,
          6664,
          6490,
          6403,
          6371,
          6311,
          6255,
          6177,
          6035,
          5805,
          5411,
          4980,
          4256,
          3758,
          3155,
          1379,
          0,
          0,
          0,
          0,
          0
         ],
         "yaxis": "y"
        },
        {
         "hovertemplate": "Camp=Heart Mountain<br>Date=%{x}<br>Population=%{y}<extra></extra>",
         "legendgroup": "Heart Mountain",
         "line": {
          "color": "#FFA15A",
          "dash": "solid"
         },
         "mode": "lines",
         "name": "Heart Mountain",
         "orientation": "v",
         "showlegend": true,
         "type": "scatter",
         "x": [
          "1942-06-01T00:00:00",
          "1942-07-01T00:00:00",
          "1942-08-01T00:00:00",
          "1942-09-01T00:00:00",
          "1942-10-01T00:00:00",
          "1942-11-01T00:00:00",
          "1942-12-01T00:00:00",
          "1943-01-01T00:00:00",
          "1943-02-01T00:00:00",
          "1943-03-01T00:00:00",
          "1943-04-01T00:00:00",
          "1943-05-01T00:00:00",
          "1943-06-01T00:00:00",
          "1943-07-01T00:00:00",
          "1943-08-01T00:00:00",
          "1943-09-01T00:00:00",
          "1943-10-01T00:00:00",
          "1943-11-01T00:00:00",
          "1943-12-01T00:00:00",
          "1944-01-01T00:00:00",
          "1944-02-01T00:00:00",
          "1944-03-01T00:00:00",
          "1944-04-01T00:00:00",
          "1944-05-01T00:00:00",
          "1944-06-01T00:00:00",
          "1944-07-01T00:00:00",
          "1944-08-01T00:00:00",
          "1944-09-01T00:00:00",
          "1944-10-01T00:00:00",
          "1944-11-01T00:00:00",
          "1944-12-01T00:00:00",
          "1945-01-01T00:00:00",
          "1945-02-01T00:00:00",
          "1945-03-01T00:00:00",
          "1945-04-01T00:00:00",
          "1945-05-01T00:00:00",
          "1945-06-01T00:00:00",
          "1945-07-01T00:00:00",
          "1945-08-01T00:00:00",
          "1945-09-01T00:00:00",
          "1945-10-01T00:00:00",
          "1945-11-01T00:00:00",
          "1945-12-01T00:00:00",
          "1946-01-01T00:00:00",
          "1946-02-01T00:00:00",
          "1946-03-01T00:00:00"
         ],
         "xaxis": "x",
         "y": [
          0,
          0,
          0,
          5758,
          10813,
          11107,
          11105,
          11062,
          11006,
          10959,
          10886,
          10724,
          10520,
          10307,
          10178,
          10073,
          10509,
          10426,
          10406,
          10388,
          10242,
          10112,
          9962,
          9760,
          9420,
          9712,
          9433,
          9241,
          9035,
          8886,
          8669,
          8537,
          8445,
          8213,
          7997,
          7556,
          7084,
          6325,
          5714,
          4611,
          3312,
          1156,
          0,
          0,
          0,
          0
         ],
         "yaxis": "y"
        },
        {
         "hovertemplate": "Camp=Jerome<br>Date=%{x}<br>Population=%{y}<extra></extra>",
         "legendgroup": "Jerome",
         "line": {
          "color": "#19d3f3",
          "dash": "solid"
         },
         "mode": "lines",
         "name": "Jerome",
         "orientation": "v",
         "showlegend": true,
         "type": "scatter",
         "x": [
          "1942-06-01T00:00:00",
          "1942-07-01T00:00:00",
          "1942-08-01T00:00:00",
          "1942-09-01T00:00:00",
          "1942-10-01T00:00:00",
          "1942-11-01T00:00:00",
          "1942-12-01T00:00:00",
          "1943-01-01T00:00:00",
          "1943-02-01T00:00:00",
          "1943-03-01T00:00:00",
          "1943-04-01T00:00:00",
          "1943-05-01T00:00:00",
          "1943-06-01T00:00:00",
          "1943-07-01T00:00:00",
          "1943-08-01T00:00:00",
          "1943-09-01T00:00:00",
          "1943-10-01T00:00:00",
          "1943-11-01T00:00:00",
          "1943-12-01T00:00:00",
          "1944-01-01T00:00:00",
          "1944-02-01T00:00:00",
          "1944-03-01T00:00:00",
          "1944-04-01T00:00:00",
          "1944-05-01T00:00:00",
          "1944-06-01T00:00:00",
          "1944-07-01T00:00:00",
          "1944-08-01T00:00:00",
          "1944-09-01T00:00:00",
          "1944-10-01T00:00:00",
          "1944-11-01T00:00:00",
          "1944-12-01T00:00:00",
          "1945-01-01T00:00:00",
          "1945-02-01T00:00:00",
          "1945-03-01T00:00:00",
          "1945-04-01T00:00:00",
          "1945-05-01T00:00:00",
          "1945-06-01T00:00:00",
          "1945-07-01T00:00:00",
          "1945-08-01T00:00:00",
          "1945-09-01T00:00:00",
          "1945-10-01T00:00:00",
          "1945-11-01T00:00:00",
          "1945-12-01T00:00:00",
          "1946-01-01T00:00:00",
          "1946-02-01T00:00:00",
          "1946-03-01T00:00:00"
         ],
         "xaxis": "x",
         "y": [
          0,
          0,
          0,
          0,
          0,
          7039,
          7925,
          7932,
          8354,
          8587,
          8526,
          8350,
          8182,
          7972,
          7808,
          7649,
          6899,
          6787,
          6726,
          6700,
          6632,
          6537,
          6529,
          6467,
          5601,
          4,
          4,
          4,
          3,
          3,
          3,
          3,
          2,
          2,
          0,
          0,
          0,
          0,
          0,
          0,
          0,
          0,
          0,
          0,
          0,
          0
         ],
         "yaxis": "y"
        },
        {
         "hovertemplate": "Camp=Manzanar<br>Date=%{x}<br>Population=%{y}<extra></extra>",
         "legendgroup": "Manzanar",
         "line": {
          "color": "#FF6692",
          "dash": "solid"
         },
         "mode": "lines",
         "name": "Manzanar",
         "orientation": "v",
         "showlegend": true,
         "type": "scatter",
         "x": [
          "1942-06-01T00:00:00",
          "1942-07-01T00:00:00",
          "1942-08-01T00:00:00",
          "1942-09-01T00:00:00",
          "1942-10-01T00:00:00",
          "1942-11-01T00:00:00",
          "1942-12-01T00:00:00",
          "1943-01-01T00:00:00",
          "1943-02-01T00:00:00",
          "1943-03-01T00:00:00",
          "1943-04-01T00:00:00",
          "1943-05-01T00:00:00",
          "1943-06-01T00:00:00",
          "1943-07-01T00:00:00",
          "1943-08-01T00:00:00",
          "1943-09-01T00:00:00",
          "1943-10-01T00:00:00",
          "1943-11-01T00:00:00",
          "1943-12-01T00:00:00",
          "1944-01-01T00:00:00",
          "1944-02-01T00:00:00",
          "1944-03-01T00:00:00",
          "1944-04-01T00:00:00",
          "1944-05-01T00:00:00",
          "1944-06-01T00:00:00",
          "1944-07-01T00:00:00",
          "1944-08-01T00:00:00",
          "1944-09-01T00:00:00",
          "1944-10-01T00:00:00",
          "1944-11-01T00:00:00",
          "1944-12-01T00:00:00",
          "1945-01-01T00:00:00",
          "1945-02-01T00:00:00",
          "1945-03-01T00:00:00",
          "1945-04-01T00:00:00",
          "1945-05-01T00:00:00",
          "1945-06-01T00:00:00",
          "1945-07-01T00:00:00",
          "1945-08-01T00:00:00",
          "1945-09-01T00:00:00",
          "1945-10-01T00:00:00",
          "1945-11-01T00:00:00",
          "1945-12-01T00:00:00",
          "1946-01-01T00:00:00",
          "1946-02-01T00:00:00",
          "1946-03-01T00:00:00"
         ],
         "xaxis": "x",
         "y": [
          9666,
          9840,
          9928,
          10072,
          10256,
          10181,
          10177,
          10121,
          10079,
          9796,
          9707,
          9496,
          9272,
          9197,
          9163,
          9105,
          9045,
          8701,
          8621,
          8643,
          8580,
          6655,
          6565,
          6456,
          6341,
          6232,
          6138,
          6057,
          5939,
          5836,
          5668,
          5588,
          5522,
          5435,
          5298,
          5030,
          4658,
          4248,
          3994,
          3552,
          2891,
          1146,
          0,
          0,
          0,
          0
         ],
         "yaxis": "y"
        },
        {
         "hovertemplate": "Camp=Minidoka<br>Date=%{x}<br>Population=%{y}<extra></extra>",
         "legendgroup": "Minidoka",
         "line": {
          "color": "#B6E880",
          "dash": "solid"
         },
         "mode": "lines",
         "name": "Minidoka",
         "orientation": "v",
         "showlegend": true,
         "type": "scatter",
         "x": [
          "1942-06-01T00:00:00",
          "1942-07-01T00:00:00",
          "1942-08-01T00:00:00",
          "1942-09-01T00:00:00",
          "1942-10-01T00:00:00",
          "1942-11-01T00:00:00",
          "1942-12-01T00:00:00",
          "1943-01-01T00:00:00",
          "1943-02-01T00:00:00",
          "1943-03-01T00:00:00",
          "1943-04-01T00:00:00",
          "1943-05-01T00:00:00",
          "1943-06-01T00:00:00",
          "1943-07-01T00:00:00",
          "1943-08-01T00:00:00",
          "1943-09-01T00:00:00",
          "1943-10-01T00:00:00",
          "1943-11-01T00:00:00",
          "1943-12-01T00:00:00",
          "1944-01-01T00:00:00",
          "1944-02-01T00:00:00",
          "1944-03-01T00:00:00",
          "1944-04-01T00:00:00",
          "1944-05-01T00:00:00",
          "1944-06-01T00:00:00",
          "1944-07-01T00:00:00",
          "1944-08-01T00:00:00",
          "1944-09-01T00:00:00",
          "1944-10-01T00:00:00",
          "1944-11-01T00:00:00",
          "1944-12-01T00:00:00",
          "1945-01-01T00:00:00",
          "1945-02-01T00:00:00",
          "1945-03-01T00:00:00",
          "1945-04-01T00:00:00",
          "1945-05-01T00:00:00",
          "1945-06-01T00:00:00",
          "1945-07-01T00:00:00",
          "1945-08-01T00:00:00",
          "1945-09-01T00:00:00",
          "1945-10-01T00:00:00",
          "1945-11-01T00:00:00",
          "1945-12-01T00:00:00",
          "1946-01-01T00:00:00",
          "1946-02-01T00:00:00",
          "1946-03-01T00:00:00"
         ],
         "xaxis": "x",
         "y": [
          0,
          0,
          0,
          4840,
          9200,
          9846,
          9849,
          9861,
          9814,
          9924,
          9772,
          9401,
          8989,
          8752,
          8556,
          8325,
          9530,
          9419,
          9492,
          9461,
          9374,
          9288,
          9027,
          8856,
          8514,
          8335,
          8160,
          8099,
          7972,
          7976,
          7867,
          7770,
          7574,
          7373,
          6851,
          6382,
          5615,
          4937,
          4330,
          3218,
          1482,
          0,
          0,
          0,
          0,
          0
         ],
         "yaxis": "y"
        },
        {
         "hovertemplate": "Camp=Rohwer<br>Date=%{x}<br>Population=%{y}<extra></extra>",
         "legendgroup": "Rohwer",
         "line": {
          "color": "#FF97FF",
          "dash": "solid"
         },
         "mode": "lines",
         "name": "Rohwer",
         "orientation": "v",
         "showlegend": true,
         "type": "scatter",
         "x": [
          "1942-06-01T00:00:00",
          "1942-07-01T00:00:00",
          "1942-08-01T00:00:00",
          "1942-09-01T00:00:00",
          "1942-10-01T00:00:00",
          "1942-11-01T00:00:00",
          "1942-12-01T00:00:00",
          "1943-01-01T00:00:00",
          "1943-02-01T00:00:00",
          "1943-03-01T00:00:00",
          "1943-04-01T00:00:00",
          "1943-05-01T00:00:00",
          "1943-06-01T00:00:00",
          "1943-07-01T00:00:00",
          "1943-08-01T00:00:00",
          "1943-09-01T00:00:00",
          "1943-10-01T00:00:00",
          "1943-11-01T00:00:00",
          "1943-12-01T00:00:00",
          "1944-01-01T00:00:00",
          "1944-02-01T00:00:00",
          "1944-03-01T00:00:00",
          "1944-04-01T00:00:00",
          "1944-05-01T00:00:00",
          "1944-06-01T00:00:00",
          "1944-07-01T00:00:00",
          "1944-08-01T00:00:00",
          "1944-09-01T00:00:00",
          "1944-10-01T00:00:00",
          "1944-11-01T00:00:00",
          "1944-12-01T00:00:00",
          "1945-01-01T00:00:00",
          "1945-02-01T00:00:00",
          "1945-03-01T00:00:00",
          "1945-04-01T00:00:00",
          "1945-05-01T00:00:00",
          "1945-06-01T00:00:00",
          "1945-07-01T00:00:00",
          "1945-08-01T00:00:00",
          "1945-09-01T00:00:00",
          "1945-10-01T00:00:00",
          "1945-11-01T00:00:00",
          "1945-12-01T00:00:00",
          "1946-01-01T00:00:00",
          "1946-02-01T00:00:00",
          "1946-03-01T00:00:00"
         ],
         "xaxis": "x",
         "y": [
          0,
          0,
          0,
          0,
          2265,
          8407,
          8515,
          8548,
          8538,
          8528,
          8478,
          8286,
          8061,
          7895,
          7781,
          7552,
          7123,
          6731,
          6676,
          6676,
          6600,
          6514,
          6375,
          6248,
          5479,
          7623,
          7279,
          6900,
          6764,
          6700,
          6689,
          6747,
          6697,
          6563,
          6339,
          5991,
          5447,
          4910,
          4098,
          3332,
          2175,
          1804,
          0,
          0,
          0,
          0
         ],
         "yaxis": "y"
        },
        {
         "hovertemplate": "Camp=Tule Lake<br>Date=%{x}<br>Population=%{y}<extra></extra>",
         "legendgroup": "Tule Lake",
         "line": {
          "color": "#FECB52",
          "dash": "solid"
         },
         "mode": "lines",
         "name": "Tule Lake",
         "orientation": "v",
         "showlegend": true,
         "type": "scatter",
         "x": [
          "1942-06-01T00:00:00",
          "1942-07-01T00:00:00",
          "1942-08-01T00:00:00",
          "1942-09-01T00:00:00",
          "1942-10-01T00:00:00",
          "1942-11-01T00:00:00",
          "1942-12-01T00:00:00",
          "1943-01-01T00:00:00",
          "1943-02-01T00:00:00",
          "1943-03-01T00:00:00",
          "1943-04-01T00:00:00",
          "1943-05-01T00:00:00",
          "1943-06-01T00:00:00",
          "1943-07-01T00:00:00",
          "1943-08-01T00:00:00",
          "1943-09-01T00:00:00",
          "1943-10-01T00:00:00",
          "1943-11-01T00:00:00",
          "1943-12-01T00:00:00",
          "1944-01-01T00:00:00",
          "1944-02-01T00:00:00",
          "1944-03-01T00:00:00",
          "1944-04-01T00:00:00",
          "1944-05-01T00:00:00",
          "1944-06-01T00:00:00",
          "1944-07-01T00:00:00",
          "1944-08-01T00:00:00",
          "1944-09-01T00:00:00",
          "1944-10-01T00:00:00",
          "1944-11-01T00:00:00",
          "1944-12-01T00:00:00",
          "1945-01-01T00:00:00",
          "1945-02-01T00:00:00",
          "1945-03-01T00:00:00",
          "1945-04-01T00:00:00",
          "1945-05-01T00:00:00",
          "1945-06-01T00:00:00",
          "1945-07-01T00:00:00",
          "1945-08-01T00:00:00",
          "1945-09-01T00:00:00",
          "1945-10-01T00:00:00",
          "1945-11-01T00:00:00",
          "1945-12-01T00:00:00",
          "1946-01-01T00:00:00",
          "1946-02-01T00:00:00",
          "1946-03-01T00:00:00"
         ],
         "xaxis": "x",
         "y": [
          446,
          9038,
          15020,
          15181,
          15277,
          15393,
          15311,
          15369,
          15274,
          15219,
          15124,
          15015,
          14828,
          14630,
          14484,
          14185,
          12183,
          16012,
          15671,
          15630,
          15625,
          17492,
          17580,
          16964,
          18652,
          18678,
          18709,
          18726,
          18728,
          18718,
          18770,
          18734,
          18593,
          17953,
          17864,
          17886,
          17879,
          17466,
          17366,
          17286,
          16740,
          15450,
          12628,
          7303,
          5046,
          2808
         ],
         "yaxis": "y"
        }
       ],
       "layout": {
        "legend": {
         "title": {
          "text": "Camp"
         },
         "tracegroupgap": 0
        },
        "template": {
         "data": {
          "bar": [
           {
            "error_x": {
             "color": "#2a3f5f"
            },
            "error_y": {
             "color": "#2a3f5f"
            },
            "marker": {
             "line": {
              "color": "#E5ECF6",
              "width": 0.5
             }
            },
            "type": "bar"
           }
          ],
          "barpolar": [
           {
            "marker": {
             "line": {
              "color": "#E5ECF6",
              "width": 0.5
             }
            },
            "type": "barpolar"
           }
          ],
          "carpet": [
           {
            "aaxis": {
             "endlinecolor": "#2a3f5f",
             "gridcolor": "white",
             "linecolor": "white",
             "minorgridcolor": "white",
             "startlinecolor": "#2a3f5f"
            },
            "baxis": {
             "endlinecolor": "#2a3f5f",
             "gridcolor": "white",
             "linecolor": "white",
             "minorgridcolor": "white",
             "startlinecolor": "#2a3f5f"
            },
            "type": "carpet"
           }
          ],
          "choropleth": [
           {
            "colorbar": {
             "outlinewidth": 0,
             "ticks": ""
            },
            "type": "choropleth"
           }
          ],
          "contour": [
           {
            "colorbar": {
             "outlinewidth": 0,
             "ticks": ""
            },
            "colorscale": [
             [
              0,
              "#0d0887"
             ],
             [
              0.1111111111111111,
              "#46039f"
             ],
             [
              0.2222222222222222,
              "#7201a8"
             ],
             [
              0.3333333333333333,
              "#9c179e"
             ],
             [
              0.4444444444444444,
              "#bd3786"
             ],
             [
              0.5555555555555556,
              "#d8576b"
             ],
             [
              0.6666666666666666,
              "#ed7953"
             ],
             [
              0.7777777777777778,
              "#fb9f3a"
             ],
             [
              0.8888888888888888,
              "#fdca26"
             ],
             [
              1,
              "#f0f921"
             ]
            ],
            "type": "contour"
           }
          ],
          "contourcarpet": [
           {
            "colorbar": {
             "outlinewidth": 0,
             "ticks": ""
            },
            "type": "contourcarpet"
           }
          ],
          "heatmap": [
           {
            "colorbar": {
             "outlinewidth": 0,
             "ticks": ""
            },
            "colorscale": [
             [
              0,
              "#0d0887"
             ],
             [
              0.1111111111111111,
              "#46039f"
             ],
             [
              0.2222222222222222,
              "#7201a8"
             ],
             [
              0.3333333333333333,
              "#9c179e"
             ],
             [
              0.4444444444444444,
              "#bd3786"
             ],
             [
              0.5555555555555556,
              "#d8576b"
             ],
             [
              0.6666666666666666,
              "#ed7953"
             ],
             [
              0.7777777777777778,
              "#fb9f3a"
             ],
             [
              0.8888888888888888,
              "#fdca26"
             ],
             [
              1,
              "#f0f921"
             ]
            ],
            "type": "heatmap"
           }
          ],
          "heatmapgl": [
           {
            "colorbar": {
             "outlinewidth": 0,
             "ticks": ""
            },
            "colorscale": [
             [
              0,
              "#0d0887"
             ],
             [
              0.1111111111111111,
              "#46039f"
             ],
             [
              0.2222222222222222,
              "#7201a8"
             ],
             [
              0.3333333333333333,
              "#9c179e"
             ],
             [
              0.4444444444444444,
              "#bd3786"
             ],
             [
              0.5555555555555556,
              "#d8576b"
             ],
             [
              0.6666666666666666,
              "#ed7953"
             ],
             [
              0.7777777777777778,
              "#fb9f3a"
             ],
             [
              0.8888888888888888,
              "#fdca26"
             ],
             [
              1,
              "#f0f921"
             ]
            ],
            "type": "heatmapgl"
           }
          ],
          "histogram": [
           {
            "marker": {
             "colorbar": {
              "outlinewidth": 0,
              "ticks": ""
             }
            },
            "type": "histogram"
           }
          ],
          "histogram2d": [
           {
            "colorbar": {
             "outlinewidth": 0,
             "ticks": ""
            },
            "colorscale": [
             [
              0,
              "#0d0887"
             ],
             [
              0.1111111111111111,
              "#46039f"
             ],
             [
              0.2222222222222222,
              "#7201a8"
             ],
             [
              0.3333333333333333,
              "#9c179e"
             ],
             [
              0.4444444444444444,
              "#bd3786"
             ],
             [
              0.5555555555555556,
              "#d8576b"
             ],
             [
              0.6666666666666666,
              "#ed7953"
             ],
             [
              0.7777777777777778,
              "#fb9f3a"
             ],
             [
              0.8888888888888888,
              "#fdca26"
             ],
             [
              1,
              "#f0f921"
             ]
            ],
            "type": "histogram2d"
           }
          ],
          "histogram2dcontour": [
           {
            "colorbar": {
             "outlinewidth": 0,
             "ticks": ""
            },
            "colorscale": [
             [
              0,
              "#0d0887"
             ],
             [
              0.1111111111111111,
              "#46039f"
             ],
             [
              0.2222222222222222,
              "#7201a8"
             ],
             [
              0.3333333333333333,
              "#9c179e"
             ],
             [
              0.4444444444444444,
              "#bd3786"
             ],
             [
              0.5555555555555556,
              "#d8576b"
             ],
             [
              0.6666666666666666,
              "#ed7953"
             ],
             [
              0.7777777777777778,
              "#fb9f3a"
             ],
             [
              0.8888888888888888,
              "#fdca26"
             ],
             [
              1,
              "#f0f921"
             ]
            ],
            "type": "histogram2dcontour"
           }
          ],
          "mesh3d": [
           {
            "colorbar": {
             "outlinewidth": 0,
             "ticks": ""
            },
            "type": "mesh3d"
           }
          ],
          "parcoords": [
           {
            "line": {
             "colorbar": {
              "outlinewidth": 0,
              "ticks": ""
             }
            },
            "type": "parcoords"
           }
          ],
          "pie": [
           {
            "automargin": true,
            "type": "pie"
           }
          ],
          "scatter": [
           {
            "marker": {
             "colorbar": {
              "outlinewidth": 0,
              "ticks": ""
             }
            },
            "type": "scatter"
           }
          ],
          "scatter3d": [
           {
            "line": {
             "colorbar": {
              "outlinewidth": 0,
              "ticks": ""
             }
            },
            "marker": {
             "colorbar": {
              "outlinewidth": 0,
              "ticks": ""
             }
            },
            "type": "scatter3d"
           }
          ],
          "scattercarpet": [
           {
            "marker": {
             "colorbar": {
              "outlinewidth": 0,
              "ticks": ""
             }
            },
            "type": "scattercarpet"
           }
          ],
          "scattergeo": [
           {
            "marker": {
             "colorbar": {
              "outlinewidth": 0,
              "ticks": ""
             }
            },
            "type": "scattergeo"
           }
          ],
          "scattergl": [
           {
            "marker": {
             "colorbar": {
              "outlinewidth": 0,
              "ticks": ""
             }
            },
            "type": "scattergl"
           }
          ],
          "scattermapbox": [
           {
            "marker": {
             "colorbar": {
              "outlinewidth": 0,
              "ticks": ""
             }
            },
            "type": "scattermapbox"
           }
          ],
          "scatterpolar": [
           {
            "marker": {
             "colorbar": {
              "outlinewidth": 0,
              "ticks": ""
             }
            },
            "type": "scatterpolar"
           }
          ],
          "scatterpolargl": [
           {
            "marker": {
             "colorbar": {
              "outlinewidth": 0,
              "ticks": ""
             }
            },
            "type": "scatterpolargl"
           }
          ],
          "scatterternary": [
           {
            "marker": {
             "colorbar": {
              "outlinewidth": 0,
              "ticks": ""
             }
            },
            "type": "scatterternary"
           }
          ],
          "surface": [
           {
            "colorbar": {
             "outlinewidth": 0,
             "ticks": ""
            },
            "colorscale": [
             [
              0,
              "#0d0887"
             ],
             [
              0.1111111111111111,
              "#46039f"
             ],
             [
              0.2222222222222222,
              "#7201a8"
             ],
             [
              0.3333333333333333,
              "#9c179e"
             ],
             [
              0.4444444444444444,
              "#bd3786"
             ],
             [
              0.5555555555555556,
              "#d8576b"
             ],
             [
              0.6666666666666666,
              "#ed7953"
             ],
             [
              0.7777777777777778,
              "#fb9f3a"
             ],
             [
              0.8888888888888888,
              "#fdca26"
             ],
             [
              1,
              "#f0f921"
             ]
            ],
            "type": "surface"
           }
          ],
          "table": [
           {
            "cells": {
             "fill": {
              "color": "#EBF0F8"
             },
             "line": {
              "color": "white"
             }
            },
            "header": {
             "fill": {
              "color": "#C8D4E3"
             },
             "line": {
              "color": "white"
             }
            },
            "type": "table"
           }
          ]
         },
         "layout": {
          "annotationdefaults": {
           "arrowcolor": "#2a3f5f",
           "arrowhead": 0,
           "arrowwidth": 1
          },
          "coloraxis": {
           "colorbar": {
            "outlinewidth": 0,
            "ticks": ""
           }
          },
          "colorscale": {
           "diverging": [
            [
             0,
             "#8e0152"
            ],
            [
             0.1,
             "#c51b7d"
            ],
            [
             0.2,
             "#de77ae"
            ],
            [
             0.3,
             "#f1b6da"
            ],
            [
             0.4,
             "#fde0ef"
            ],
            [
             0.5,
             "#f7f7f7"
            ],
            [
             0.6,
             "#e6f5d0"
            ],
            [
             0.7,
             "#b8e186"
            ],
            [
             0.8,
             "#7fbc41"
            ],
            [
             0.9,
             "#4d9221"
            ],
            [
             1,
             "#276419"
            ]
           ],
           "sequential": [
            [
             0,
             "#0d0887"
            ],
            [
             0.1111111111111111,
             "#46039f"
            ],
            [
             0.2222222222222222,
             "#7201a8"
            ],
            [
             0.3333333333333333,
             "#9c179e"
            ],
            [
             0.4444444444444444,
             "#bd3786"
            ],
            [
             0.5555555555555556,
             "#d8576b"
            ],
            [
             0.6666666666666666,
             "#ed7953"
            ],
            [
             0.7777777777777778,
             "#fb9f3a"
            ],
            [
             0.8888888888888888,
             "#fdca26"
            ],
            [
             1,
             "#f0f921"
            ]
           ],
           "sequentialminus": [
            [
             0,
             "#0d0887"
            ],
            [
             0.1111111111111111,
             "#46039f"
            ],
            [
             0.2222222222222222,
             "#7201a8"
            ],
            [
             0.3333333333333333,
             "#9c179e"
            ],
            [
             0.4444444444444444,
             "#bd3786"
            ],
            [
             0.5555555555555556,
             "#d8576b"
            ],
            [
             0.6666666666666666,
             "#ed7953"
            ],
            [
             0.7777777777777778,
             "#fb9f3a"
            ],
            [
             0.8888888888888888,
             "#fdca26"
            ],
            [
             1,
             "#f0f921"
            ]
           ]
          },
          "colorway": [
           "#636efa",
           "#EF553B",
           "#00cc96",
           "#ab63fa",
           "#FFA15A",
           "#19d3f3",
           "#FF6692",
           "#B6E880",
           "#FF97FF",
           "#FECB52"
          ],
          "font": {
           "color": "#2a3f5f"
          },
          "geo": {
           "bgcolor": "white",
           "lakecolor": "white",
           "landcolor": "#E5ECF6",
           "showlakes": true,
           "showland": true,
           "subunitcolor": "white"
          },
          "hoverlabel": {
           "align": "left"
          },
          "hovermode": "closest",
          "mapbox": {
           "style": "light"
          },
          "paper_bgcolor": "white",
          "plot_bgcolor": "#E5ECF6",
          "polar": {
           "angularaxis": {
            "gridcolor": "white",
            "linecolor": "white",
            "ticks": ""
           },
           "bgcolor": "#E5ECF6",
           "radialaxis": {
            "gridcolor": "white",
            "linecolor": "white",
            "ticks": ""
           }
          },
          "scene": {
           "xaxis": {
            "backgroundcolor": "#E5ECF6",
            "gridcolor": "white",
            "gridwidth": 2,
            "linecolor": "white",
            "showbackground": true,
            "ticks": "",
            "zerolinecolor": "white"
           },
           "yaxis": {
            "backgroundcolor": "#E5ECF6",
            "gridcolor": "white",
            "gridwidth": 2,
            "linecolor": "white",
            "showbackground": true,
            "ticks": "",
            "zerolinecolor": "white"
           },
           "zaxis": {
            "backgroundcolor": "#E5ECF6",
            "gridcolor": "white",
            "gridwidth": 2,
            "linecolor": "white",
            "showbackground": true,
            "ticks": "",
            "zerolinecolor": "white"
           }
          },
          "shapedefaults": {
           "line": {
            "color": "#2a3f5f"
           }
          },
          "ternary": {
           "aaxis": {
            "gridcolor": "white",
            "linecolor": "white",
            "ticks": ""
           },
           "baxis": {
            "gridcolor": "white",
            "linecolor": "white",
            "ticks": ""
           },
           "bgcolor": "#E5ECF6",
           "caxis": {
            "gridcolor": "white",
            "linecolor": "white",
            "ticks": ""
           }
          },
          "title": {
           "x": 0.05
          },
          "xaxis": {
           "automargin": true,
           "gridcolor": "white",
           "linecolor": "white",
           "ticks": "",
           "title": {
            "standoff": 15
           },
           "zerolinecolor": "white",
           "zerolinewidth": 2
          },
          "yaxis": {
           "automargin": true,
           "gridcolor": "white",
           "linecolor": "white",
           "ticks": "",
           "title": {
            "standoff": 15
           },
           "zerolinecolor": "white",
           "zerolinewidth": 2
          }
         }
        },
        "title": {
         "text": "Camp Populations by Month"
        },
        "xaxis": {
         "anchor": "y",
         "domain": [
          0,
          1
         ],
         "title": {
          "text": "Date"
         }
        },
        "yaxis": {
         "anchor": "x",
         "domain": [
          0,
          1
         ],
         "title": {
          "text": "Population"
         }
        }
       }
      },
      "text/html": [
       "<div>                            <div id=\"4b68b464-c35a-4b37-b7d7-5c36eba16131\" class=\"plotly-graph-div\" style=\"height:525px; width:100%;\"></div>            <script type=\"text/javascript\">                require([\"plotly\"], function(Plotly) {                    window.PLOTLYENV=window.PLOTLYENV || {};                                    if (document.getElementById(\"4b68b464-c35a-4b37-b7d7-5c36eba16131\")) {                    Plotly.newPlot(                        \"4b68b464-c35a-4b37-b7d7-5c36eba16131\",                        [{\"hovertemplate\": \"Camp=Topaz/Central Utah<br>Date=%{x}<br>Population=%{y}<extra></extra>\", \"legendgroup\": \"Topaz/Central Utah\", \"line\": {\"color\": \"#636efa\", \"dash\": \"solid\"}, \"mode\": \"lines\", \"name\": \"Topaz/Central Utah\", \"orientation\": \"v\", \"showlegend\": true, \"type\": \"scatter\", \"x\": [\"1942-06-01T00:00:00\", \"1942-07-01T00:00:00\", \"1942-08-01T00:00:00\", \"1942-09-01T00:00:00\", \"1942-10-01T00:00:00\", \"1942-11-01T00:00:00\", \"1942-12-01T00:00:00\", \"1943-01-01T00:00:00\", \"1943-02-01T00:00:00\", \"1943-03-01T00:00:00\", \"1943-04-01T00:00:00\", \"1943-05-01T00:00:00\", \"1943-06-01T00:00:00\", \"1943-07-01T00:00:00\", \"1943-08-01T00:00:00\", \"1943-09-01T00:00:00\", \"1943-10-01T00:00:00\", \"1943-11-01T00:00:00\", \"1943-12-01T00:00:00\", \"1944-01-01T00:00:00\", \"1944-02-01T00:00:00\", \"1944-03-01T00:00:00\", \"1944-04-01T00:00:00\", \"1944-05-01T00:00:00\", \"1944-06-01T00:00:00\", \"1944-07-01T00:00:00\", \"1944-08-01T00:00:00\", \"1944-09-01T00:00:00\", \"1944-10-01T00:00:00\", \"1944-11-01T00:00:00\", \"1944-12-01T00:00:00\", \"1945-01-01T00:00:00\", \"1945-02-01T00:00:00\", \"1945-03-01T00:00:00\", \"1945-04-01T00:00:00\", \"1945-05-01T00:00:00\", \"1945-06-01T00:00:00\", \"1945-07-01T00:00:00\", \"1945-08-01T00:00:00\", \"1945-09-01T00:00:00\", \"1945-10-01T00:00:00\", \"1945-11-01T00:00:00\", \"1945-12-01T00:00:00\", \"1946-01-01T00:00:00\", \"1946-02-01T00:00:00\", \"1946-03-01T00:00:00\"], \"xaxis\": \"x\", \"y\": [0, 0, 0, 0, 5806, 8320, 8294, 8232, 8214, 8152, 8332, 8189, 8018, 7862, 7809, 7682, 7608, 7554, 7585, 7559, 7438, 7350, 7227, 7084, 6879, 6727, 6621, 6426, 6280, 6125, 6026, 5984, 5883, 5742, 5589, 5413, 5165, 4645, 4176, 3339, 1899, 0, 0, 0, 0, 0], \"yaxis\": \"y\"}, {\"hovertemplate\": \"Camp=Poston/Colorado River<br>Date=%{x}<br>Population=%{y}<extra></extra>\", \"legendgroup\": \"Poston/Colorado River\", \"line\": {\"color\": \"#EF553B\", \"dash\": \"solid\"}, \"mode\": \"lines\", \"name\": \"Poston/Colorado River\", \"orientation\": \"v\", \"showlegend\": true, \"type\": \"scatter\", \"x\": [\"1942-06-01T00:00:00\", \"1942-07-01T00:00:00\", \"1942-08-01T00:00:00\", \"1942-09-01T00:00:00\", \"1942-10-01T00:00:00\", \"1942-11-01T00:00:00\", \"1942-12-01T00:00:00\", \"1943-01-01T00:00:00\", \"1943-02-01T00:00:00\", \"1943-03-01T00:00:00\", \"1943-04-01T00:00:00\", \"1943-05-01T00:00:00\", \"1943-06-01T00:00:00\", \"1943-07-01T00:00:00\", \"1943-08-01T00:00:00\", \"1943-09-01T00:00:00\", \"1943-10-01T00:00:00\", \"1943-11-01T00:00:00\", \"1943-12-01T00:00:00\", \"1944-01-01T00:00:00\", \"1944-02-01T00:00:00\", \"1944-03-01T00:00:00\", \"1944-04-01T00:00:00\", \"1944-05-01T00:00:00\", \"1944-06-01T00:00:00\", \"1944-07-01T00:00:00\", \"1944-08-01T00:00:00\", \"1944-09-01T00:00:00\", \"1944-10-01T00:00:00\", \"1944-11-01T00:00:00\", \"1944-12-01T00:00:00\", \"1945-01-01T00:00:00\", \"1945-02-01T00:00:00\", \"1945-03-01T00:00:00\", \"1945-04-01T00:00:00\", \"1945-05-01T00:00:00\", \"1945-06-01T00:00:00\", \"1945-07-01T00:00:00\", \"1945-08-01T00:00:00\", \"1945-09-01T00:00:00\", \"1945-10-01T00:00:00\", \"1945-11-01T00:00:00\", \"1945-12-01T00:00:00\", \"1946-01-01T00:00:00\", \"1946-02-01T00:00:00\", \"1946-03-01T00:00:00\"], \"xaxis\": \"x\", \"y\": [7281, 8755, 13262, 17818, 17847, 17877, 17965, 8039, 18025, 17984, 17941, 17741, 17406, 16995, 16671, 16279, 16013, 14470, 14372, 14295, 14109, 13876, 13453, 13241, 13021, 12725, 12517, 12152, 12059, 11881, 11751, 11710, 11480, 11251, 10828, 10421, 9979, 9386, 8750, 6828, 2730, 1088, 0, 0, 0, 0], \"yaxis\": \"y\"}, {\"hovertemplate\": \"Camp=Gila River<br>Date=%{x}<br>Population=%{y}<extra></extra>\", \"legendgroup\": \"Gila River\", \"line\": {\"color\": \"#00cc96\", \"dash\": \"solid\"}, \"mode\": \"lines\", \"name\": \"Gila River\", \"orientation\": \"v\", \"showlegend\": true, \"type\": \"scatter\", \"x\": [\"1942-06-01T00:00:00\", \"1942-07-01T00:00:00\", \"1942-08-01T00:00:00\", \"1942-09-01T00:00:00\", \"1942-10-01T00:00:00\", \"1942-11-01T00:00:00\", \"1942-12-01T00:00:00\", \"1943-01-01T00:00:00\", \"1943-02-01T00:00:00\", \"1943-03-01T00:00:00\", \"1943-04-01T00:00:00\", \"1943-05-01T00:00:00\", \"1943-06-01T00:00:00\", \"1943-07-01T00:00:00\", \"1943-08-01T00:00:00\", \"1943-09-01T00:00:00\", \"1943-10-01T00:00:00\", \"1943-11-01T00:00:00\", \"1943-12-01T00:00:00\", \"1944-01-01T00:00:00\", \"1944-02-01T00:00:00\", \"1944-03-01T00:00:00\", \"1944-04-01T00:00:00\", \"1944-05-01T00:00:00\", \"1944-06-01T00:00:00\", \"1944-07-01T00:00:00\", \"1944-08-01T00:00:00\", \"1944-09-01T00:00:00\", \"1944-10-01T00:00:00\", \"1944-11-01T00:00:00\", \"1944-12-01T00:00:00\", \"1945-01-01T00:00:00\", \"1945-02-01T00:00:00\", \"1945-03-01T00:00:00\", \"1945-04-01T00:00:00\", \"1945-05-01T00:00:00\", \"1945-06-01T00:00:00\", \"1945-07-01T00:00:00\", \"1945-08-01T00:00:00\", \"1945-09-01T00:00:00\", \"1945-10-01T00:00:00\", \"1945-11-01T00:00:00\", \"1945-12-01T00:00:00\", \"1946-01-01T00:00:00\", \"1946-02-01T00:00:00\", \"1946-03-01T00:00:00\"], \"xaxis\": \"x\", \"y\": [0, 0, 2106, 9150, 11555, 13368, 13368, 13420, 13411, 13374, 13372, 13224, 12954, 12683, 12542, 12251, 12056, 10017, 9898, 9869, 9800, 9655, 9419, 9199, 8788, 10531, 10291, 9951, 9651, 9550, 9534, 9550, 9432, 9207, 8988, 8716, 8319, 7684, 6765, 5141, 2760, 754, 0, 0, 0, 0], \"yaxis\": \"y\"}, {\"hovertemplate\": \"Camp=Granada<br>Date=%{x}<br>Population=%{y}<extra></extra>\", \"legendgroup\": \"Granada\", \"line\": {\"color\": \"#ab63fa\", \"dash\": \"solid\"}, \"mode\": \"lines\", \"name\": \"Granada\", \"orientation\": \"v\", \"showlegend\": true, \"type\": \"scatter\", \"x\": [\"1942-06-01T00:00:00\", \"1942-07-01T00:00:00\", \"1942-08-01T00:00:00\", \"1942-09-01T00:00:00\", \"1942-10-01T00:00:00\", \"1942-11-01T00:00:00\", \"1942-12-01T00:00:00\", \"1943-01-01T00:00:00\", \"1943-02-01T00:00:00\", \"1943-03-01T00:00:00\", \"1943-04-01T00:00:00\", \"1943-05-01T00:00:00\", \"1943-06-01T00:00:00\", \"1943-07-01T00:00:00\", \"1943-08-01T00:00:00\", \"1943-09-01T00:00:00\", \"1943-10-01T00:00:00\", \"1943-11-01T00:00:00\", \"1943-12-01T00:00:00\", \"1944-01-01T00:00:00\", \"1944-02-01T00:00:00\", \"1944-03-01T00:00:00\", \"1944-04-01T00:00:00\", \"1944-05-01T00:00:00\", \"1944-06-01T00:00:00\", \"1944-07-01T00:00:00\", \"1944-08-01T00:00:00\", \"1944-09-01T00:00:00\", \"1944-10-01T00:00:00\", \"1944-11-01T00:00:00\", \"1944-12-01T00:00:00\", \"1945-01-01T00:00:00\", \"1945-02-01T00:00:00\", \"1945-03-01T00:00:00\", \"1945-04-01T00:00:00\", \"1945-05-01T00:00:00\", \"1945-06-01T00:00:00\", \"1945-07-01T00:00:00\", \"1945-08-01T00:00:00\", \"1945-09-01T00:00:00\", \"1945-10-01T00:00:00\", \"1945-11-01T00:00:00\", \"1945-12-01T00:00:00\", \"1946-01-01T00:00:00\", \"1946-02-01T00:00:00\", \"1946-03-01T00:00:00\"], \"xaxis\": \"x\", \"y\": [0, 0, 0, 212, 7480, 7654, 7651, 7656, 7622, 7619, 7476, 7222, 7016, 6931, 3876, 6764, 7494, 7368, 7393, 7355, 7176, 6983, 6786, 6685, 6424, 6816, 6664, 6490, 6403, 6371, 6311, 6255, 6177, 6035, 5805, 5411, 4980, 4256, 3758, 3155, 1379, 0, 0, 0, 0, 0], \"yaxis\": \"y\"}, {\"hovertemplate\": \"Camp=Heart Mountain<br>Date=%{x}<br>Population=%{y}<extra></extra>\", \"legendgroup\": \"Heart Mountain\", \"line\": {\"color\": \"#FFA15A\", \"dash\": \"solid\"}, \"mode\": \"lines\", \"name\": \"Heart Mountain\", \"orientation\": \"v\", \"showlegend\": true, \"type\": \"scatter\", \"x\": [\"1942-06-01T00:00:00\", \"1942-07-01T00:00:00\", \"1942-08-01T00:00:00\", \"1942-09-01T00:00:00\", \"1942-10-01T00:00:00\", \"1942-11-01T00:00:00\", \"1942-12-01T00:00:00\", \"1943-01-01T00:00:00\", \"1943-02-01T00:00:00\", \"1943-03-01T00:00:00\", \"1943-04-01T00:00:00\", \"1943-05-01T00:00:00\", \"1943-06-01T00:00:00\", \"1943-07-01T00:00:00\", \"1943-08-01T00:00:00\", \"1943-09-01T00:00:00\", \"1943-10-01T00:00:00\", \"1943-11-01T00:00:00\", \"1943-12-01T00:00:00\", \"1944-01-01T00:00:00\", \"1944-02-01T00:00:00\", \"1944-03-01T00:00:00\", \"1944-04-01T00:00:00\", \"1944-05-01T00:00:00\", \"1944-06-01T00:00:00\", \"1944-07-01T00:00:00\", \"1944-08-01T00:00:00\", \"1944-09-01T00:00:00\", \"1944-10-01T00:00:00\", \"1944-11-01T00:00:00\", \"1944-12-01T00:00:00\", \"1945-01-01T00:00:00\", \"1945-02-01T00:00:00\", \"1945-03-01T00:00:00\", \"1945-04-01T00:00:00\", \"1945-05-01T00:00:00\", \"1945-06-01T00:00:00\", \"1945-07-01T00:00:00\", \"1945-08-01T00:00:00\", \"1945-09-01T00:00:00\", \"1945-10-01T00:00:00\", \"1945-11-01T00:00:00\", \"1945-12-01T00:00:00\", \"1946-01-01T00:00:00\", \"1946-02-01T00:00:00\", \"1946-03-01T00:00:00\"], \"xaxis\": \"x\", \"y\": [0, 0, 0, 5758, 10813, 11107, 11105, 11062, 11006, 10959, 10886, 10724, 10520, 10307, 10178, 10073, 10509, 10426, 10406, 10388, 10242, 10112, 9962, 9760, 9420, 9712, 9433, 9241, 9035, 8886, 8669, 8537, 8445, 8213, 7997, 7556, 7084, 6325, 5714, 4611, 3312, 1156, 0, 0, 0, 0], \"yaxis\": \"y\"}, {\"hovertemplate\": \"Camp=Jerome<br>Date=%{x}<br>Population=%{y}<extra></extra>\", \"legendgroup\": \"Jerome\", \"line\": {\"color\": \"#19d3f3\", \"dash\": \"solid\"}, \"mode\": \"lines\", \"name\": \"Jerome\", \"orientation\": \"v\", \"showlegend\": true, \"type\": \"scatter\", \"x\": [\"1942-06-01T00:00:00\", \"1942-07-01T00:00:00\", \"1942-08-01T00:00:00\", \"1942-09-01T00:00:00\", \"1942-10-01T00:00:00\", \"1942-11-01T00:00:00\", \"1942-12-01T00:00:00\", \"1943-01-01T00:00:00\", \"1943-02-01T00:00:00\", \"1943-03-01T00:00:00\", \"1943-04-01T00:00:00\", \"1943-05-01T00:00:00\", \"1943-06-01T00:00:00\", \"1943-07-01T00:00:00\", \"1943-08-01T00:00:00\", \"1943-09-01T00:00:00\", \"1943-10-01T00:00:00\", \"1943-11-01T00:00:00\", \"1943-12-01T00:00:00\", \"1944-01-01T00:00:00\", \"1944-02-01T00:00:00\", \"1944-03-01T00:00:00\", \"1944-04-01T00:00:00\", \"1944-05-01T00:00:00\", \"1944-06-01T00:00:00\", \"1944-07-01T00:00:00\", \"1944-08-01T00:00:00\", \"1944-09-01T00:00:00\", \"1944-10-01T00:00:00\", \"1944-11-01T00:00:00\", \"1944-12-01T00:00:00\", \"1945-01-01T00:00:00\", \"1945-02-01T00:00:00\", \"1945-03-01T00:00:00\", \"1945-04-01T00:00:00\", \"1945-05-01T00:00:00\", \"1945-06-01T00:00:00\", \"1945-07-01T00:00:00\", \"1945-08-01T00:00:00\", \"1945-09-01T00:00:00\", \"1945-10-01T00:00:00\", \"1945-11-01T00:00:00\", \"1945-12-01T00:00:00\", \"1946-01-01T00:00:00\", \"1946-02-01T00:00:00\", \"1946-03-01T00:00:00\"], \"xaxis\": \"x\", \"y\": [0, 0, 0, 0, 0, 7039, 7925, 7932, 8354, 8587, 8526, 8350, 8182, 7972, 7808, 7649, 6899, 6787, 6726, 6700, 6632, 6537, 6529, 6467, 5601, 4, 4, 4, 3, 3, 3, 3, 2, 2, 0, 0, 0, 0, 0, 0, 0, 0, 0, 0, 0, 0], \"yaxis\": \"y\"}, {\"hovertemplate\": \"Camp=Manzanar<br>Date=%{x}<br>Population=%{y}<extra></extra>\", \"legendgroup\": \"Manzanar\", \"line\": {\"color\": \"#FF6692\", \"dash\": \"solid\"}, \"mode\": \"lines\", \"name\": \"Manzanar\", \"orientation\": \"v\", \"showlegend\": true, \"type\": \"scatter\", \"x\": [\"1942-06-01T00:00:00\", \"1942-07-01T00:00:00\", \"1942-08-01T00:00:00\", \"1942-09-01T00:00:00\", \"1942-10-01T00:00:00\", \"1942-11-01T00:00:00\", \"1942-12-01T00:00:00\", \"1943-01-01T00:00:00\", \"1943-02-01T00:00:00\", \"1943-03-01T00:00:00\", \"1943-04-01T00:00:00\", \"1943-05-01T00:00:00\", \"1943-06-01T00:00:00\", \"1943-07-01T00:00:00\", \"1943-08-01T00:00:00\", \"1943-09-01T00:00:00\", \"1943-10-01T00:00:00\", \"1943-11-01T00:00:00\", \"1943-12-01T00:00:00\", \"1944-01-01T00:00:00\", \"1944-02-01T00:00:00\", \"1944-03-01T00:00:00\", \"1944-04-01T00:00:00\", \"1944-05-01T00:00:00\", \"1944-06-01T00:00:00\", \"1944-07-01T00:00:00\", \"1944-08-01T00:00:00\", \"1944-09-01T00:00:00\", \"1944-10-01T00:00:00\", \"1944-11-01T00:00:00\", \"1944-12-01T00:00:00\", \"1945-01-01T00:00:00\", \"1945-02-01T00:00:00\", \"1945-03-01T00:00:00\", \"1945-04-01T00:00:00\", \"1945-05-01T00:00:00\", \"1945-06-01T00:00:00\", \"1945-07-01T00:00:00\", \"1945-08-01T00:00:00\", \"1945-09-01T00:00:00\", \"1945-10-01T00:00:00\", \"1945-11-01T00:00:00\", \"1945-12-01T00:00:00\", \"1946-01-01T00:00:00\", \"1946-02-01T00:00:00\", \"1946-03-01T00:00:00\"], \"xaxis\": \"x\", \"y\": [9666, 9840, 9928, 10072, 10256, 10181, 10177, 10121, 10079, 9796, 9707, 9496, 9272, 9197, 9163, 9105, 9045, 8701, 8621, 8643, 8580, 6655, 6565, 6456, 6341, 6232, 6138, 6057, 5939, 5836, 5668, 5588, 5522, 5435, 5298, 5030, 4658, 4248, 3994, 3552, 2891, 1146, 0, 0, 0, 0], \"yaxis\": \"y\"}, {\"hovertemplate\": \"Camp=Minidoka<br>Date=%{x}<br>Population=%{y}<extra></extra>\", \"legendgroup\": \"Minidoka\", \"line\": {\"color\": \"#B6E880\", \"dash\": \"solid\"}, \"mode\": \"lines\", \"name\": \"Minidoka\", \"orientation\": \"v\", \"showlegend\": true, \"type\": \"scatter\", \"x\": [\"1942-06-01T00:00:00\", \"1942-07-01T00:00:00\", \"1942-08-01T00:00:00\", \"1942-09-01T00:00:00\", \"1942-10-01T00:00:00\", \"1942-11-01T00:00:00\", \"1942-12-01T00:00:00\", \"1943-01-01T00:00:00\", \"1943-02-01T00:00:00\", \"1943-03-01T00:00:00\", \"1943-04-01T00:00:00\", \"1943-05-01T00:00:00\", \"1943-06-01T00:00:00\", \"1943-07-01T00:00:00\", \"1943-08-01T00:00:00\", \"1943-09-01T00:00:00\", \"1943-10-01T00:00:00\", \"1943-11-01T00:00:00\", \"1943-12-01T00:00:00\", \"1944-01-01T00:00:00\", \"1944-02-01T00:00:00\", \"1944-03-01T00:00:00\", \"1944-04-01T00:00:00\", \"1944-05-01T00:00:00\", \"1944-06-01T00:00:00\", \"1944-07-01T00:00:00\", \"1944-08-01T00:00:00\", \"1944-09-01T00:00:00\", \"1944-10-01T00:00:00\", \"1944-11-01T00:00:00\", \"1944-12-01T00:00:00\", \"1945-01-01T00:00:00\", \"1945-02-01T00:00:00\", \"1945-03-01T00:00:00\", \"1945-04-01T00:00:00\", \"1945-05-01T00:00:00\", \"1945-06-01T00:00:00\", \"1945-07-01T00:00:00\", \"1945-08-01T00:00:00\", \"1945-09-01T00:00:00\", \"1945-10-01T00:00:00\", \"1945-11-01T00:00:00\", \"1945-12-01T00:00:00\", \"1946-01-01T00:00:00\", \"1946-02-01T00:00:00\", \"1946-03-01T00:00:00\"], \"xaxis\": \"x\", \"y\": [0, 0, 0, 4840, 9200, 9846, 9849, 9861, 9814, 9924, 9772, 9401, 8989, 8752, 8556, 8325, 9530, 9419, 9492, 9461, 9374, 9288, 9027, 8856, 8514, 8335, 8160, 8099, 7972, 7976, 7867, 7770, 7574, 7373, 6851, 6382, 5615, 4937, 4330, 3218, 1482, 0, 0, 0, 0, 0], \"yaxis\": \"y\"}, {\"hovertemplate\": \"Camp=Rohwer<br>Date=%{x}<br>Population=%{y}<extra></extra>\", \"legendgroup\": \"Rohwer\", \"line\": {\"color\": \"#FF97FF\", \"dash\": \"solid\"}, \"mode\": \"lines\", \"name\": \"Rohwer\", \"orientation\": \"v\", \"showlegend\": true, \"type\": \"scatter\", \"x\": [\"1942-06-01T00:00:00\", \"1942-07-01T00:00:00\", \"1942-08-01T00:00:00\", \"1942-09-01T00:00:00\", \"1942-10-01T00:00:00\", \"1942-11-01T00:00:00\", \"1942-12-01T00:00:00\", \"1943-01-01T00:00:00\", \"1943-02-01T00:00:00\", \"1943-03-01T00:00:00\", \"1943-04-01T00:00:00\", \"1943-05-01T00:00:00\", \"1943-06-01T00:00:00\", \"1943-07-01T00:00:00\", \"1943-08-01T00:00:00\", \"1943-09-01T00:00:00\", \"1943-10-01T00:00:00\", \"1943-11-01T00:00:00\", \"1943-12-01T00:00:00\", \"1944-01-01T00:00:00\", \"1944-02-01T00:00:00\", \"1944-03-01T00:00:00\", \"1944-04-01T00:00:00\", \"1944-05-01T00:00:00\", \"1944-06-01T00:00:00\", \"1944-07-01T00:00:00\", \"1944-08-01T00:00:00\", \"1944-09-01T00:00:00\", \"1944-10-01T00:00:00\", \"1944-11-01T00:00:00\", \"1944-12-01T00:00:00\", \"1945-01-01T00:00:00\", \"1945-02-01T00:00:00\", \"1945-03-01T00:00:00\", \"1945-04-01T00:00:00\", \"1945-05-01T00:00:00\", \"1945-06-01T00:00:00\", \"1945-07-01T00:00:00\", \"1945-08-01T00:00:00\", \"1945-09-01T00:00:00\", \"1945-10-01T00:00:00\", \"1945-11-01T00:00:00\", \"1945-12-01T00:00:00\", \"1946-01-01T00:00:00\", \"1946-02-01T00:00:00\", \"1946-03-01T00:00:00\"], \"xaxis\": \"x\", \"y\": [0, 0, 0, 0, 2265, 8407, 8515, 8548, 8538, 8528, 8478, 8286, 8061, 7895, 7781, 7552, 7123, 6731, 6676, 6676, 6600, 6514, 6375, 6248, 5479, 7623, 7279, 6900, 6764, 6700, 6689, 6747, 6697, 6563, 6339, 5991, 5447, 4910, 4098, 3332, 2175, 1804, 0, 0, 0, 0], \"yaxis\": \"y\"}, {\"hovertemplate\": \"Camp=Tule Lake<br>Date=%{x}<br>Population=%{y}<extra></extra>\", \"legendgroup\": \"Tule Lake\", \"line\": {\"color\": \"#FECB52\", \"dash\": \"solid\"}, \"mode\": \"lines\", \"name\": \"Tule Lake\", \"orientation\": \"v\", \"showlegend\": true, \"type\": \"scatter\", \"x\": [\"1942-06-01T00:00:00\", \"1942-07-01T00:00:00\", \"1942-08-01T00:00:00\", \"1942-09-01T00:00:00\", \"1942-10-01T00:00:00\", \"1942-11-01T00:00:00\", \"1942-12-01T00:00:00\", \"1943-01-01T00:00:00\", \"1943-02-01T00:00:00\", \"1943-03-01T00:00:00\", \"1943-04-01T00:00:00\", \"1943-05-01T00:00:00\", \"1943-06-01T00:00:00\", \"1943-07-01T00:00:00\", \"1943-08-01T00:00:00\", \"1943-09-01T00:00:00\", \"1943-10-01T00:00:00\", \"1943-11-01T00:00:00\", \"1943-12-01T00:00:00\", \"1944-01-01T00:00:00\", \"1944-02-01T00:00:00\", \"1944-03-01T00:00:00\", \"1944-04-01T00:00:00\", \"1944-05-01T00:00:00\", \"1944-06-01T00:00:00\", \"1944-07-01T00:00:00\", \"1944-08-01T00:00:00\", \"1944-09-01T00:00:00\", \"1944-10-01T00:00:00\", \"1944-11-01T00:00:00\", \"1944-12-01T00:00:00\", \"1945-01-01T00:00:00\", \"1945-02-01T00:00:00\", \"1945-03-01T00:00:00\", \"1945-04-01T00:00:00\", \"1945-05-01T00:00:00\", \"1945-06-01T00:00:00\", \"1945-07-01T00:00:00\", \"1945-08-01T00:00:00\", \"1945-09-01T00:00:00\", \"1945-10-01T00:00:00\", \"1945-11-01T00:00:00\", \"1945-12-01T00:00:00\", \"1946-01-01T00:00:00\", \"1946-02-01T00:00:00\", \"1946-03-01T00:00:00\"], \"xaxis\": \"x\", \"y\": [446, 9038, 15020, 15181, 15277, 15393, 15311, 15369, 15274, 15219, 15124, 15015, 14828, 14630, 14484, 14185, 12183, 16012, 15671, 15630, 15625, 17492, 17580, 16964, 18652, 18678, 18709, 18726, 18728, 18718, 18770, 18734, 18593, 17953, 17864, 17886, 17879, 17466, 17366, 17286, 16740, 15450, 12628, 7303, 5046, 2808], \"yaxis\": \"y\"}],                        {\"legend\": {\"title\": {\"text\": \"Camp\"}, \"tracegroupgap\": 0}, \"template\": {\"data\": {\"bar\": [{\"error_x\": {\"color\": \"#2a3f5f\"}, \"error_y\": {\"color\": \"#2a3f5f\"}, \"marker\": {\"line\": {\"color\": \"#E5ECF6\", \"width\": 0.5}}, \"type\": \"bar\"}], \"barpolar\": [{\"marker\": {\"line\": {\"color\": \"#E5ECF6\", \"width\": 0.5}}, \"type\": \"barpolar\"}], \"carpet\": [{\"aaxis\": {\"endlinecolor\": \"#2a3f5f\", \"gridcolor\": \"white\", \"linecolor\": \"white\", \"minorgridcolor\": \"white\", \"startlinecolor\": \"#2a3f5f\"}, \"baxis\": {\"endlinecolor\": \"#2a3f5f\", \"gridcolor\": \"white\", \"linecolor\": \"white\", \"minorgridcolor\": \"white\", \"startlinecolor\": \"#2a3f5f\"}, \"type\": \"carpet\"}], \"choropleth\": [{\"colorbar\": {\"outlinewidth\": 0, \"ticks\": \"\"}, \"type\": \"choropleth\"}], \"contour\": [{\"colorbar\": {\"outlinewidth\": 0, \"ticks\": \"\"}, \"colorscale\": [[0.0, \"#0d0887\"], [0.1111111111111111, \"#46039f\"], [0.2222222222222222, \"#7201a8\"], [0.3333333333333333, \"#9c179e\"], [0.4444444444444444, \"#bd3786\"], [0.5555555555555556, \"#d8576b\"], [0.6666666666666666, \"#ed7953\"], [0.7777777777777778, \"#fb9f3a\"], [0.8888888888888888, \"#fdca26\"], [1.0, \"#f0f921\"]], \"type\": \"contour\"}], \"contourcarpet\": [{\"colorbar\": {\"outlinewidth\": 0, \"ticks\": \"\"}, \"type\": \"contourcarpet\"}], \"heatmap\": [{\"colorbar\": {\"outlinewidth\": 0, \"ticks\": \"\"}, \"colorscale\": [[0.0, \"#0d0887\"], [0.1111111111111111, \"#46039f\"], [0.2222222222222222, \"#7201a8\"], [0.3333333333333333, \"#9c179e\"], [0.4444444444444444, \"#bd3786\"], [0.5555555555555556, \"#d8576b\"], [0.6666666666666666, \"#ed7953\"], [0.7777777777777778, \"#fb9f3a\"], [0.8888888888888888, \"#fdca26\"], [1.0, \"#f0f921\"]], \"type\": \"heatmap\"}], \"heatmapgl\": [{\"colorbar\": {\"outlinewidth\": 0, \"ticks\": \"\"}, \"colorscale\": [[0.0, \"#0d0887\"], [0.1111111111111111, \"#46039f\"], [0.2222222222222222, \"#7201a8\"], [0.3333333333333333, \"#9c179e\"], [0.4444444444444444, \"#bd3786\"], [0.5555555555555556, \"#d8576b\"], [0.6666666666666666, \"#ed7953\"], [0.7777777777777778, \"#fb9f3a\"], [0.8888888888888888, \"#fdca26\"], [1.0, \"#f0f921\"]], \"type\": \"heatmapgl\"}], \"histogram\": [{\"marker\": {\"colorbar\": {\"outlinewidth\": 0, \"ticks\": \"\"}}, \"type\": \"histogram\"}], \"histogram2d\": [{\"colorbar\": {\"outlinewidth\": 0, \"ticks\": \"\"}, \"colorscale\": [[0.0, \"#0d0887\"], [0.1111111111111111, \"#46039f\"], [0.2222222222222222, \"#7201a8\"], [0.3333333333333333, \"#9c179e\"], [0.4444444444444444, \"#bd3786\"], [0.5555555555555556, \"#d8576b\"], [0.6666666666666666, \"#ed7953\"], [0.7777777777777778, \"#fb9f3a\"], [0.8888888888888888, \"#fdca26\"], [1.0, \"#f0f921\"]], \"type\": \"histogram2d\"}], \"histogram2dcontour\": [{\"colorbar\": {\"outlinewidth\": 0, \"ticks\": \"\"}, \"colorscale\": [[0.0, \"#0d0887\"], [0.1111111111111111, \"#46039f\"], [0.2222222222222222, \"#7201a8\"], [0.3333333333333333, \"#9c179e\"], [0.4444444444444444, \"#bd3786\"], [0.5555555555555556, \"#d8576b\"], [0.6666666666666666, \"#ed7953\"], [0.7777777777777778, \"#fb9f3a\"], [0.8888888888888888, \"#fdca26\"], [1.0, \"#f0f921\"]], \"type\": \"histogram2dcontour\"}], \"mesh3d\": [{\"colorbar\": {\"outlinewidth\": 0, \"ticks\": \"\"}, \"type\": \"mesh3d\"}], \"parcoords\": [{\"line\": {\"colorbar\": {\"outlinewidth\": 0, \"ticks\": \"\"}}, \"type\": \"parcoords\"}], \"pie\": [{\"automargin\": true, \"type\": \"pie\"}], \"scatter\": [{\"marker\": {\"colorbar\": {\"outlinewidth\": 0, \"ticks\": \"\"}}, \"type\": \"scatter\"}], \"scatter3d\": [{\"line\": {\"colorbar\": {\"outlinewidth\": 0, \"ticks\": \"\"}}, \"marker\": {\"colorbar\": {\"outlinewidth\": 0, \"ticks\": \"\"}}, \"type\": \"scatter3d\"}], \"scattercarpet\": [{\"marker\": {\"colorbar\": {\"outlinewidth\": 0, \"ticks\": \"\"}}, \"type\": \"scattercarpet\"}], \"scattergeo\": [{\"marker\": {\"colorbar\": {\"outlinewidth\": 0, \"ticks\": \"\"}}, \"type\": \"scattergeo\"}], \"scattergl\": [{\"marker\": {\"colorbar\": {\"outlinewidth\": 0, \"ticks\": \"\"}}, \"type\": \"scattergl\"}], \"scattermapbox\": [{\"marker\": {\"colorbar\": {\"outlinewidth\": 0, \"ticks\": \"\"}}, \"type\": \"scattermapbox\"}], \"scatterpolar\": [{\"marker\": {\"colorbar\": {\"outlinewidth\": 0, \"ticks\": \"\"}}, \"type\": \"scatterpolar\"}], \"scatterpolargl\": [{\"marker\": {\"colorbar\": {\"outlinewidth\": 0, \"ticks\": \"\"}}, \"type\": \"scatterpolargl\"}], \"scatterternary\": [{\"marker\": {\"colorbar\": {\"outlinewidth\": 0, \"ticks\": \"\"}}, \"type\": \"scatterternary\"}], \"surface\": [{\"colorbar\": {\"outlinewidth\": 0, \"ticks\": \"\"}, \"colorscale\": [[0.0, \"#0d0887\"], [0.1111111111111111, \"#46039f\"], [0.2222222222222222, \"#7201a8\"], [0.3333333333333333, \"#9c179e\"], [0.4444444444444444, \"#bd3786\"], [0.5555555555555556, \"#d8576b\"], [0.6666666666666666, \"#ed7953\"], [0.7777777777777778, \"#fb9f3a\"], [0.8888888888888888, \"#fdca26\"], [1.0, \"#f0f921\"]], \"type\": \"surface\"}], \"table\": [{\"cells\": {\"fill\": {\"color\": \"#EBF0F8\"}, \"line\": {\"color\": \"white\"}}, \"header\": {\"fill\": {\"color\": \"#C8D4E3\"}, \"line\": {\"color\": \"white\"}}, \"type\": \"table\"}]}, \"layout\": {\"annotationdefaults\": {\"arrowcolor\": \"#2a3f5f\", \"arrowhead\": 0, \"arrowwidth\": 1}, \"coloraxis\": {\"colorbar\": {\"outlinewidth\": 0, \"ticks\": \"\"}}, \"colorscale\": {\"diverging\": [[0, \"#8e0152\"], [0.1, \"#c51b7d\"], [0.2, \"#de77ae\"], [0.3, \"#f1b6da\"], [0.4, \"#fde0ef\"], [0.5, \"#f7f7f7\"], [0.6, \"#e6f5d0\"], [0.7, \"#b8e186\"], [0.8, \"#7fbc41\"], [0.9, \"#4d9221\"], [1, \"#276419\"]], \"sequential\": [[0.0, \"#0d0887\"], [0.1111111111111111, \"#46039f\"], [0.2222222222222222, \"#7201a8\"], [0.3333333333333333, \"#9c179e\"], [0.4444444444444444, \"#bd3786\"], [0.5555555555555556, \"#d8576b\"], [0.6666666666666666, \"#ed7953\"], [0.7777777777777778, \"#fb9f3a\"], [0.8888888888888888, \"#fdca26\"], [1.0, \"#f0f921\"]], \"sequentialminus\": [[0.0, \"#0d0887\"], [0.1111111111111111, \"#46039f\"], [0.2222222222222222, \"#7201a8\"], [0.3333333333333333, \"#9c179e\"], [0.4444444444444444, \"#bd3786\"], [0.5555555555555556, \"#d8576b\"], [0.6666666666666666, \"#ed7953\"], [0.7777777777777778, \"#fb9f3a\"], [0.8888888888888888, \"#fdca26\"], [1.0, \"#f0f921\"]]}, \"colorway\": [\"#636efa\", \"#EF553B\", \"#00cc96\", \"#ab63fa\", \"#FFA15A\", \"#19d3f3\", \"#FF6692\", \"#B6E880\", \"#FF97FF\", \"#FECB52\"], \"font\": {\"color\": \"#2a3f5f\"}, \"geo\": {\"bgcolor\": \"white\", \"lakecolor\": \"white\", \"landcolor\": \"#E5ECF6\", \"showlakes\": true, \"showland\": true, \"subunitcolor\": \"white\"}, \"hoverlabel\": {\"align\": \"left\"}, \"hovermode\": \"closest\", \"mapbox\": {\"style\": \"light\"}, \"paper_bgcolor\": \"white\", \"plot_bgcolor\": \"#E5ECF6\", \"polar\": {\"angularaxis\": {\"gridcolor\": \"white\", \"linecolor\": \"white\", \"ticks\": \"\"}, \"bgcolor\": \"#E5ECF6\", \"radialaxis\": {\"gridcolor\": \"white\", \"linecolor\": \"white\", \"ticks\": \"\"}}, \"scene\": {\"xaxis\": {\"backgroundcolor\": \"#E5ECF6\", \"gridcolor\": \"white\", \"gridwidth\": 2, \"linecolor\": \"white\", \"showbackground\": true, \"ticks\": \"\", \"zerolinecolor\": \"white\"}, \"yaxis\": {\"backgroundcolor\": \"#E5ECF6\", \"gridcolor\": \"white\", \"gridwidth\": 2, \"linecolor\": \"white\", \"showbackground\": true, \"ticks\": \"\", \"zerolinecolor\": \"white\"}, \"zaxis\": {\"backgroundcolor\": \"#E5ECF6\", \"gridcolor\": \"white\", \"gridwidth\": 2, \"linecolor\": \"white\", \"showbackground\": true, \"ticks\": \"\", \"zerolinecolor\": \"white\"}}, \"shapedefaults\": {\"line\": {\"color\": \"#2a3f5f\"}}, \"ternary\": {\"aaxis\": {\"gridcolor\": \"white\", \"linecolor\": \"white\", \"ticks\": \"\"}, \"baxis\": {\"gridcolor\": \"white\", \"linecolor\": \"white\", \"ticks\": \"\"}, \"bgcolor\": \"#E5ECF6\", \"caxis\": {\"gridcolor\": \"white\", \"linecolor\": \"white\", \"ticks\": \"\"}}, \"title\": {\"x\": 0.05}, \"xaxis\": {\"automargin\": true, \"gridcolor\": \"white\", \"linecolor\": \"white\", \"ticks\": \"\", \"title\": {\"standoff\": 15}, \"zerolinecolor\": \"white\", \"zerolinewidth\": 2}, \"yaxis\": {\"automargin\": true, \"gridcolor\": \"white\", \"linecolor\": \"white\", \"ticks\": \"\", \"title\": {\"standoff\": 15}, \"zerolinecolor\": \"white\", \"zerolinewidth\": 2}}}, \"title\": {\"text\": \"Camp Populations by Month\"}, \"xaxis\": {\"anchor\": \"y\", \"domain\": [0.0, 1.0], \"title\": {\"text\": \"Date\"}}, \"yaxis\": {\"anchor\": \"x\", \"domain\": [0.0, 1.0], \"title\": {\"text\": \"Population\"}}},                        {\"responsive\": true}                    ).then(function(){\n",
       "                            \n",
       "var gd = document.getElementById('4b68b464-c35a-4b37-b7d7-5c36eba16131');\n",
       "var x = new MutationObserver(function (mutations, observer) {{\n",
       "        var display = window.getComputedStyle(gd).display;\n",
       "        if (!display || display === 'none') {{\n",
       "            console.log([gd, 'removed!']);\n",
       "            Plotly.purge(gd);\n",
       "            observer.disconnect();\n",
       "        }}\n",
       "}});\n",
       "\n",
       "// Listen for the removal of the full notebook cells\n",
       "var notebookContainer = gd.closest('#notebook-container');\n",
       "if (notebookContainer) {{\n",
       "    x.observe(notebookContainer, {childList: true});\n",
       "}}\n",
       "\n",
       "// Listen for the clearing of the current output cell\n",
       "var outputEl = gd.closest('.output');\n",
       "if (outputEl) {{\n",
       "    x.observe(outputEl, {childList: true});\n",
       "}}\n",
       "\n",
       "                        })                };                });            </script>        </div>"
      ]
     },
     "metadata": {},
     "output_type": "display_data"
    }
   ],
   "source": [
    "pop_by_month2 = pop_by_month.drop(\"Total\", axis = 1)\n",
    "melted = pd.melt(pop_by_month2, id_vars = [\"Date\"], value_vars = pop_by_month2.columns[1:], var_name = 'Camp', value_name = \"Population\")\n",
    "fig = px.line(melted, x = 'Date', y = 'Population', color = 'Camp', title = 'Camp Populations by Month')\n",
    "fig.show();"
   ]
  },
  {
   "cell_type": "markdown",
   "metadata": {
    "#student": false
   },
   "source": [
    "We can see from this histogram that most people did not return to where they originally lived because the bin that is at 0 percent returned has the highest percentage (the bar is the highest closest to 0). "
   ]
  },
  {
   "cell_type": "code",
   "execution_count": 71,
   "metadata": {
    "#student": false
   },
   "outputs": [
    {
     "data": {
      "image/png": "[encoded data removed]",
      "text/plain": [
       "<Figure size 432x288 with 1 Axes>"
      ]
     },
     "metadata": {
      "needs_background": "light"
     },
     "output_type": "display_data"
    }
   ],
   "source": [
    "sns.distplot(population1940_1945['% returned'])\n",
    "plt.title(\"Percent Returned to Original County\");"
   ]
  },
  {
   "cell_type": "markdown",
   "metadata": {
    "#student": true
   },
   "source": [
    "\n",
    "**Question:** Visualizations allow us to picture how the numbers change and find abnormalities in the data set. What are some abnormalities that you see in the first plot? What are some possible explanations for these abnormalities?"
   ]
  },
  {
   "cell_type": "markdown",
   "metadata": {
    "#student": true
   },
   "source": [
    "\n",
    "**Answer:** YOUR ANSWER HERE"
   ]
  },
  {
   "cell_type": "markdown",
   "metadata": {
    "#student": false
   },
   "source": [
    "---"
   ]
  },
  {
   "cell_type": "markdown",
   "metadata": {
    "#student": false
   },
   "source": [
    "## Section 3: Assembly Centers and Internment Centers<a id='section 2'></a>"
   ]
  },
  {
   "cell_type": "markdown",
   "metadata": {
    "#student": false
   },
   "source": [
    "After Executive Order 9066 was signed and issued by President Franklin Roosevelt on February 19, 1942, which authorized the army to remove civilians from designated military exclusion zones spanning Washington, Oregon, California, and Arizona. Assembly centers were created to funnel Japanese Americans into internment camps. Through these maps, you can see how far people were forced to move from one location to another. Mapping data is a useful tool to visualize locations and provide context when we are given longitude and latitude data! \n",
    "<img src=\"images/Luggage_Japanese_American_internment.png\" width=\"400\">\n",
    "The luggage of the Japanese Americans who have arrived at a reception center.\n",
    "This image is available from the United States Library of Congress's Prints and Photographs division."
   ]
  },
  {
   "cell_type": "markdown",
   "metadata": {
    "#student": false
   },
   "source": [
    "### Assembly Centers\n",
    "Japanese Americans were transported from assembly centers to internment camps across the country and we can use mapping techniques to visualize the movement of Japanese Americans from their original homes, to assembly centers, to internment camps, and then to various locations afterwards. To zoom in and out on the map, you can press the + and - buttons or scroll up and down. Also, if you click a blue marker, the assembly center name with show up!"
   ]
  },
  {
   "cell_type": "code",
   "execution_count": 72,
   "metadata": {
    "#student": false,
    "scrolled": true
   },
   "outputs": [
    {
     "data": {
      "text/html": [
       "<div style=\"width:100%;\"><div style=\"position:relative;width:100%;height:0;padding-bottom:60%;\"><span style=\"color:#565656\">Make this Notebook Trusted to load map: File -> Trust Notebook</span><iframe src=\"about:blank\" style=\"position:absolute;width:100%;height:100%;left:0;top:0;border:none !important;\" data-html=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 onload=\"this.contentDocument.open();this.contentDocument.write(atob(this.getAttribute('data-html')));this.contentDocument.close();\" allowfullscreen webkitallowfullscreen mozallowfullscreen></iframe></div></div>"
      ],
      "text/plain": [
       "<folium.folium.Map at 0x11f080f10>"
      ]
     },
     "execution_count": 72,
     "metadata": {},
     "output_type": "execute_result"
    }
   ],
   "source": [
    "m = folium.Map(location=[36.733300, -100.766700], zoom_start=4)\n",
    "tooltip = 'Click me!'\n",
    "for i in range(0,len(assembly)):\n",
    "    folium.Marker(\n",
    "      location=(assembly.iloc[i]['Latitude'], assembly.iloc[i]['Longitude']),\n",
    "      popup=assembly.iloc[i]['Location'],\n",
    "      ).add_to(m)\n",
    "m"
   ]
  },
  {
   "cell_type": "markdown",
   "metadata": {
    "#student": false
   },
   "source": [
    "### Internment Camps\n"
   ]
  },
  {
   "cell_type": "code",
   "execution_count": 73,
   "metadata": {
    "#student": false,
    "scrolled": true
   },
   "outputs": [
    {
     "data": {
      "text/html": [
       "<div style=\"width:100%;\"><div style=\"position:relative;width:100%;height:0;padding-bottom:60%;\"><span style=\"color:#565656\">Make this Notebook Trusted to load map: File -> Trust Notebook</span><iframe src=\"about:blank\" style=\"position:absolute;width:100%;height:100%;left:0;top:0;border:none !important;\" data-html=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 onload=\"this.contentDocument.open();this.contentDocument.write(atob(this.getAttribute('data-html')));this.contentDocument.close();\" allowfullscreen webkitallowfullscreen mozallowfullscreen></iframe></div></div>"
      ],
      "text/plain": [
       "<folium.folium.Map at 0x11f080f40>"
      ]
     },
     "execution_count": 73,
     "metadata": {},
     "output_type": "execute_result"
    }
   ],
   "source": [
    "m = folium.Map(location=[36.733300, -100.766700], zoom_start=4)\n",
    "tooltip = 'Click me!'\n",
    "for i in range(0,len(camps)):\n",
    "    folium.Marker(\n",
    "      location=(camps.iloc[i]['Latitude'], camps.iloc[i]['Longitude']),\n",
    "      popup=camps.iloc[i]['Internment Camp Name'],\n",
    "      ).add_to(m)\n",
    "m"
   ]
  },
  {
   "cell_type": "markdown",
   "metadata": {
    "#student": false
   },
   "source": [
    "## Section 4: Mapping and Movement<a id='section 3'></a>"
   ]
  },
  {
   "cell_type": "markdown",
   "metadata": {
    "#student": false
   },
   "source": [
    "One of the consequences of the Japanese internment camps was the relocation after World War 2. Many of the Japanese Americans that lived on the West Coast of the United States did not return to their previous homes since land holdings and possessions were lost during the process. This map shows the populations of each county at the start of World War II, just before the Executive Order 9066 in 1942. Japanese Americans were largely concentrated on the West Coast, with the largest population in Los Angeles.\n",
    "\n",
    "<img src=\"images/Hayward_Friends_say_goodbye.png\" width=\"400\">\n",
    "Neighbors in Hayward, California saying goodbye.\n",
    "This image is available from the United States Library of Congress's Prints and Photographs division."
   ]
  },
  {
   "cell_type": "code",
   "execution_count": 74,
   "metadata": {
    "#student": false,
    "scrolled": false
   },
   "outputs": [
    {
     "data": {
      "text/html": [
       "<div style=\"width:100%;\"><div style=\"position:relative;width:100%;height:0;padding-bottom:60%;\"><span style=\"color:#565656\">Make this Notebook Trusted to load map: File -> Trust Notebook</span><iframe src=\"about:blank\" style=\"position:absolute;width:100%;height:100%;left:0;top:0;border:none !important;\" data-html=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 onload=\"this.contentDocument.open();this.contentDocument.write(atob(this.getAttribute('data-html')));this.contentDocument.close();\" allowfullscreen webkitallowfullscreen mozallowfullscreen></iframe></div></div>"
      ],
      "text/plain": [
       "<folium.folium.Map at 0x11f0bca30>"
      ]
     },
     "execution_count": 74,
     "metadata": {},
     "output_type": "execute_result"
    }
   ],
   "source": [
    "m = folium.Map(location=[36.733300, -100.766700], zoom_start=4)\n",
    "tooltip = 'Click me!'\n",
    "for i in range(0,len(population1940_1945)):\n",
    "    folium.Circle(\n",
    "      location = (population1940_1945.iloc[i]['Latitude'], population1940_1945.iloc[i]['Longitude']),\n",
    "      popup = population1940_1945.iloc[i]['County'],\n",
    "      radius = float(population1940_1945.iloc[i]['1940']) *12,\n",
    "      color = 'blue',\n",
    "      fill = True,\n",
    "      fill_color = 'crimson').add_to(m)\n",
    "m"
   ]
  },
  {
   "cell_type": "markdown",
   "metadata": {
    "#student": false
   },
   "source": [
    "This table shows the number of Japanese Americans in each county after the war. This data was self-reported by evacuees."
   ]
  },
  {
   "cell_type": "code",
   "execution_count": 75,
   "metadata": {
    "#student": false
   },
   "outputs": [
    {
     "data": {
      "text/html": [
       "<div>\n",
       "<style scoped>\n",
       "    .dataframe tbody tr th:only-of-type {\n",
       "        vertical-align: middle;\n",
       "    }\n",
       "\n",
       "    .dataframe tbody tr th {\n",
       "        vertical-align: top;\n",
       "    }\n",
       "\n",
       "    .dataframe thead th {\n",
       "        text-align: right;\n",
       "    }\n",
       "</style>\n",
       "<table border=\"1\" class=\"dataframe\">\n",
       "  <thead>\n",
       "    <tr style=\"text-align: right;\">\n",
       "      <th></th>\n",
       "      <th>City</th>\n",
       "      <th>State</th>\n",
       "      <th>People</th>\n",
       "      <th>Latitude</th>\n",
       "      <th>Longitude</th>\n",
       "    </tr>\n",
       "  </thead>\n",
       "  <tbody>\n",
       "    <tr>\n",
       "      <th>0</th>\n",
       "      <td>Glendale</td>\n",
       "      <td>AZ</td>\n",
       "      <td>487.0</td>\n",
       "      <td>34.142508</td>\n",
       "      <td>-118.255075</td>\n",
       "    </tr>\n",
       "    <tr>\n",
       "      <th>1</th>\n",
       "      <td>Alameda</td>\n",
       "      <td>CA</td>\n",
       "      <td>211.0</td>\n",
       "      <td>37.779872</td>\n",
       "      <td>-122.282185</td>\n",
       "    </tr>\n",
       "    <tr>\n",
       "      <th>2</th>\n",
       "      <td>Berkely</td>\n",
       "      <td>CA</td>\n",
       "      <td>844.0</td>\n",
       "      <td>37.871523</td>\n",
       "      <td>-122.273042</td>\n",
       "    </tr>\n",
       "    <tr>\n",
       "      <th>3</th>\n",
       "      <td>Burbank</td>\n",
       "      <td>CA</td>\n",
       "      <td>228.0</td>\n",
       "      <td>34.180839</td>\n",
       "      <td>-118.308966</td>\n",
       "    </tr>\n",
       "    <tr>\n",
       "      <th>4</th>\n",
       "      <td>Dinuba</td>\n",
       "      <td>CA</td>\n",
       "      <td>201.0</td>\n",
       "      <td>36.543284</td>\n",
       "      <td>-119.387066</td>\n",
       "    </tr>\n",
       "  </tbody>\n",
       "</table>\n",
       "</div>"
      ],
      "text/plain": [
       "       City State  People   Latitude   Longitude\n",
       "0  Glendale    AZ   487.0  34.142508 -118.255075\n",
       "1   Alameda    CA   211.0  37.779872 -122.282185\n",
       "2   Berkely    CA   844.0  37.871523 -122.273042\n",
       "3   Burbank    CA   228.0  34.180839 -118.308966\n",
       "4    Dinuba    CA   201.0  36.543284 -119.387066"
      ]
     },
     "execution_count": 75,
     "metadata": {},
     "output_type": "execute_result"
    }
   ],
   "source": [
    "reloc_cities = pd.read_csv('data/RelocationDestinations_Cities_LL.csv', error_bad_lines = False)\n",
    "reloc_cities['People'] = reloc_cities['People'].astype(float)\n",
    "reloc_cities.head()"
   ]
  },
  {
   "cell_type": "markdown",
   "metadata": {
    "#student": false
   },
   "source": [
    "This map shows the cities that people relocated after the war. It allows us to visualize the extent people had to relocate from their original homes which were mostly on the west coast of the U.S. We can see a large population moved to the midwest (Chicago area) as well as the east coast, Canada, and even Mexico City. "
   ]
  },
  {
   "cell_type": "code",
   "execution_count": 76,
   "metadata": {
    "#student": false
   },
   "outputs": [
    {
     "data": {
      "text/html": [
       "<div style=\"width:100%;\"><div style=\"position:relative;width:100%;height:0;padding-bottom:60%;\"><span style=\"color:#565656\">Make this Notebook Trusted to load map: File -> Trust Notebook</span><iframe src=\"about:blank\" style=\"position:absolute;width:100%;height:100%;left:0;top:0;border:none !important;\" data-html=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 onload=\"this.contentDocument.open();this.contentDocument.write(atob(this.getAttribute('data-html')));this.contentDocument.close();\" allowfullscreen webkitallowfullscreen mozallowfullscreen></iframe></div></div>"
      ],
      "text/plain": [
       "<folium.folium.Map at 0x11f1f2250>"
      ]
     },
     "execution_count": 76,
     "metadata": {},
     "output_type": "execute_result"
    }
   ],
   "source": [
    "m = folium.Map(location=[36.733300, -100.766700], zoom_start=4)\n",
    "tooltip = 'Click me!'\n",
    "for i in range(0,len(reloc_cities)):\n",
    "    folium.Circle(\n",
    "      location=(reloc_cities.iloc[i]['Latitude'], reloc_cities.iloc[i]['Longitude']),\n",
    "      popup=reloc_cities.iloc[i]['City'],\n",
    "      radius=reloc_cities.iloc[i]['People'] * 12,\n",
    "      color='blue',\n",
    "      fill=True,\n",
    "      fill_color='red').add_to(m)\n",
    "m"
   ]
  },
  {
   "cell_type": "markdown",
   "metadata": {
    "#student": false
   },
   "source": [
    "Below is the table comparing the pre- and post-internment population sizes for West Coast states. The table has been separated into the three states for easier readability. Look through the population size values and look for trends that may be interesting to study in a future research project. "
   ]
  },
  {
   "cell_type": "code",
   "execution_count": 77,
   "metadata": {
    "#student": false,
    "scrolled": false
   },
   "outputs": [
    {
     "data": {
      "text/html": [
       "<div>\n",
       "<style scoped>\n",
       "    .dataframe tbody tr th:only-of-type {\n",
       "        vertical-align: middle;\n",
       "    }\n",
       "\n",
       "    .dataframe tbody tr th {\n",
       "        vertical-align: top;\n",
       "    }\n",
       "\n",
       "    .dataframe thead th {\n",
       "        text-align: right;\n",
       "    }\n",
       "</style>\n",
       "<table border=\"1\" class=\"dataframe\">\n",
       "  <thead>\n",
       "    <tr style=\"text-align: right;\">\n",
       "      <th></th>\n",
       "      <th>County</th>\n",
       "      <th>State</th>\n",
       "      <th>1940</th>\n",
       "      <th>1945</th>\n",
       "      <th>% returned</th>\n",
       "      <th>Latitude</th>\n",
       "      <th>Longitude</th>\n",
       "    </tr>\n",
       "  </thead>\n",
       "  <tbody>\n",
       "    <tr>\n",
       "      <th>0</th>\n",
       "      <td>Alameda</td>\n",
       "      <td>CA</td>\n",
       "      <td>5167</td>\n",
       "      <td>2703</td>\n",
       "      <td>52.3</td>\n",
       "      <td>37.779872</td>\n",
       "      <td>-122.282185</td>\n",
       "    </tr>\n",
       "    <tr>\n",
       "      <th>1</th>\n",
       "      <td>Amador</td>\n",
       "      <td>CA</td>\n",
       "      <td>2</td>\n",
       "      <td>0</td>\n",
       "      <td>0.0</td>\n",
       "      <td>37.667910</td>\n",
       "      <td>-121.873914</td>\n",
       "    </tr>\n",
       "    <tr>\n",
       "      <th>2</th>\n",
       "      <td>Butte</td>\n",
       "      <td>CA</td>\n",
       "      <td>216</td>\n",
       "      <td>107</td>\n",
       "      <td>49.5</td>\n",
       "      <td>46.003823</td>\n",
       "      <td>-112.534777</td>\n",
       "    </tr>\n",
       "    <tr>\n",
       "      <th>3</th>\n",
       "      <td>Calaveras</td>\n",
       "      <td>CA</td>\n",
       "      <td>6</td>\n",
       "      <td>0</td>\n",
       "      <td>0.0</td>\n",
       "      <td>36.159706</td>\n",
       "      <td>-95.958341</td>\n",
       "    </tr>\n",
       "    <tr>\n",
       "      <th>4</th>\n",
       "      <td>Colusa</td>\n",
       "      <td>CA</td>\n",
       "      <td>155</td>\n",
       "      <td>48</td>\n",
       "      <td>31.0</td>\n",
       "      <td>39.214334</td>\n",
       "      <td>-122.009417</td>\n",
       "    </tr>\n",
       "    <tr>\n",
       "      <th>5</th>\n",
       "      <td>Contra Costa</td>\n",
       "      <td>CA</td>\n",
       "      <td>829</td>\n",
       "      <td>622</td>\n",
       "      <td>75.0</td>\n",
       "      <td>37.853409</td>\n",
       "      <td>-121.901795</td>\n",
       "    </tr>\n",
       "    <tr>\n",
       "      <th>6</th>\n",
       "      <td>El Dorado</td>\n",
       "      <td>CA</td>\n",
       "      <td>3</td>\n",
       "      <td>13</td>\n",
       "      <td>0.0</td>\n",
       "      <td>37.816756</td>\n",
       "      <td>-96.886996</td>\n",
       "    </tr>\n",
       "    <tr>\n",
       "      <th>7</th>\n",
       "      <td>Fresno</td>\n",
       "      <td>CA</td>\n",
       "      <td>4527</td>\n",
       "      <td>4296</td>\n",
       "      <td>94.9</td>\n",
       "      <td>36.737798</td>\n",
       "      <td>-119.787125</td>\n",
       "    </tr>\n",
       "    <tr>\n",
       "      <th>8</th>\n",
       "      <td>Glenn</td>\n",
       "      <td>CA</td>\n",
       "      <td>0</td>\n",
       "      <td>65</td>\n",
       "      <td>0.0</td>\n",
       "      <td>33.757020</td>\n",
       "      <td>-84.393041</td>\n",
       "    </tr>\n",
       "    <tr>\n",
       "      <th>9</th>\n",
       "      <td>Humboldt</td>\n",
       "      <td>CA</td>\n",
       "      <td>0</td>\n",
       "      <td>2</td>\n",
       "      <td>0.0</td>\n",
       "      <td>40.745005</td>\n",
       "      <td>-123.869509</td>\n",
       "    </tr>\n",
       "    <tr>\n",
       "      <th>10</th>\n",
       "      <td>Imperial</td>\n",
       "      <td>CA</td>\n",
       "      <td>1583</td>\n",
       "      <td>142</td>\n",
       "      <td>9.0</td>\n",
       "      <td>36.185074</td>\n",
       "      <td>-95.870191</td>\n",
       "    </tr>\n",
       "    <tr>\n",
       "      <th>11</th>\n",
       "      <td>Inyo</td>\n",
       "      <td>CA</td>\n",
       "      <td>1</td>\n",
       "      <td>1</td>\n",
       "      <td>0.0</td>\n",
       "      <td>36.309186</td>\n",
       "      <td>-117.549585</td>\n",
       "    </tr>\n",
       "    <tr>\n",
       "      <th>12</th>\n",
       "      <td>Kern</td>\n",
       "      <td>CA</td>\n",
       "      <td>756</td>\n",
       "      <td>187</td>\n",
       "      <td>24.7</td>\n",
       "      <td>35.493727</td>\n",
       "      <td>-118.859680</td>\n",
       "    </tr>\n",
       "    <tr>\n",
       "      <th>13</th>\n",
       "      <td>Kings</td>\n",
       "      <td>CA</td>\n",
       "      <td>508</td>\n",
       "      <td>209</td>\n",
       "      <td>41.1</td>\n",
       "      <td>37.919235</td>\n",
       "      <td>-95.408867</td>\n",
       "    </tr>\n",
       "    <tr>\n",
       "      <th>14</th>\n",
       "      <td>Lake</td>\n",
       "      <td>CA</td>\n",
       "      <td>1</td>\n",
       "      <td>0</td>\n",
       "      <td>0.0</td>\n",
       "      <td>37.162826</td>\n",
       "      <td>-95.691162</td>\n",
       "    </tr>\n",
       "    <tr>\n",
       "      <th>15</th>\n",
       "      <td>Los Angeles</td>\n",
       "      <td>CA</td>\n",
       "      <td>36866</td>\n",
       "      <td>17182</td>\n",
       "      <td>46.6</td>\n",
       "      <td>34.052234</td>\n",
       "      <td>-118.243685</td>\n",
       "    </tr>\n",
       "    <tr>\n",
       "      <th>16</th>\n",
       "      <td>Madera</td>\n",
       "      <td>CA</td>\n",
       "      <td>170</td>\n",
       "      <td>161</td>\n",
       "      <td>97.4</td>\n",
       "      <td>36.961336</td>\n",
       "      <td>-120.060718</td>\n",
       "    </tr>\n",
       "    <tr>\n",
       "      <th>17</th>\n",
       "      <td>Marin</td>\n",
       "      <td>CA</td>\n",
       "      <td>150</td>\n",
       "      <td>32</td>\n",
       "      <td>21.3</td>\n",
       "      <td>38.083403</td>\n",
       "      <td>-122.763304</td>\n",
       "    </tr>\n",
       "    <tr>\n",
       "      <th>18</th>\n",
       "      <td>Mendocino</td>\n",
       "      <td>CA</td>\n",
       "      <td>53</td>\n",
       "      <td>6</td>\n",
       "      <td>0.0</td>\n",
       "      <td>39.307674</td>\n",
       "      <td>-123.799459</td>\n",
       "    </tr>\n",
       "    <tr>\n",
       "      <th>19</th>\n",
       "      <td>Merced</td>\n",
       "      <td>CA</td>\n",
       "      <td>715</td>\n",
       "      <td>432</td>\n",
       "      <td>60.4</td>\n",
       "      <td>37.302163</td>\n",
       "      <td>-120.482968</td>\n",
       "    </tr>\n",
       "    <tr>\n",
       "      <th>20</th>\n",
       "      <td>Modoc</td>\n",
       "      <td>CA</td>\n",
       "      <td>4</td>\n",
       "      <td>19</td>\n",
       "      <td>0.0</td>\n",
       "      <td>41.456516</td>\n",
       "      <td>-120.629366</td>\n",
       "    </tr>\n",
       "    <tr>\n",
       "      <th>21</th>\n",
       "      <td>Monterey</td>\n",
       "      <td>CA</td>\n",
       "      <td>2247</td>\n",
       "      <td>616</td>\n",
       "      <td>27.4</td>\n",
       "      <td>36.600238</td>\n",
       "      <td>-121.894676</td>\n",
       "    </tr>\n",
       "    <tr>\n",
       "      <th>22</th>\n",
       "      <td>Napa</td>\n",
       "      <td>CA</td>\n",
       "      <td>54</td>\n",
       "      <td>52</td>\n",
       "      <td>0.0</td>\n",
       "      <td>36.756729</td>\n",
       "      <td>-95.937326</td>\n",
       "    </tr>\n",
       "    <tr>\n",
       "      <th>23</th>\n",
       "      <td>Nevada</td>\n",
       "      <td>CA</td>\n",
       "      <td>0</td>\n",
       "      <td>54</td>\n",
       "      <td>0.0</td>\n",
       "      <td>38.802610</td>\n",
       "      <td>-116.419389</td>\n",
       "    </tr>\n",
       "    <tr>\n",
       "      <th>24</th>\n",
       "      <td>Orange</td>\n",
       "      <td>CA</td>\n",
       "      <td>1855</td>\n",
       "      <td>572</td>\n",
       "      <td>30.8</td>\n",
       "      <td>33.787914</td>\n",
       "      <td>-117.853101</td>\n",
       "    </tr>\n",
       "    <tr>\n",
       "      <th>25</th>\n",
       "      <td>Placer</td>\n",
       "      <td>CA</td>\n",
       "      <td>1637</td>\n",
       "      <td>1057</td>\n",
       "      <td>64.6</td>\n",
       "      <td>39.091575</td>\n",
       "      <td>-120.803947</td>\n",
       "    </tr>\n",
       "    <tr>\n",
       "      <th>26</th>\n",
       "      <td>Plumas</td>\n",
       "      <td>CA</td>\n",
       "      <td>1</td>\n",
       "      <td>0</td>\n",
       "      <td>0.0</td>\n",
       "      <td>39.992683</td>\n",
       "      <td>-120.803947</td>\n",
       "    </tr>\n",
       "    <tr>\n",
       "      <th>27</th>\n",
       "      <td>Riverside</td>\n",
       "      <td>CA</td>\n",
       "      <td>552</td>\n",
       "      <td>397</td>\n",
       "      <td>71.9</td>\n",
       "      <td>33.980601</td>\n",
       "      <td>-117.375494</td>\n",
       "    </tr>\n",
       "    <tr>\n",
       "      <th>28</th>\n",
       "      <td>Sacramento</td>\n",
       "      <td>CA</td>\n",
       "      <td>6764</td>\n",
       "      <td>4304</td>\n",
       "      <td>63.6</td>\n",
       "      <td>38.581572</td>\n",
       "      <td>-121.494400</td>\n",
       "    </tr>\n",
       "    <tr>\n",
       "      <th>29</th>\n",
       "      <td>San Benito</td>\n",
       "      <td>CA</td>\n",
       "      <td>526</td>\n",
       "      <td>118</td>\n",
       "      <td>22.4</td>\n",
       "      <td>26.132576</td>\n",
       "      <td>-97.631101</td>\n",
       "    </tr>\n",
       "    <tr>\n",
       "      <th>30</th>\n",
       "      <td>San Bernardino</td>\n",
       "      <td>CA</td>\n",
       "      <td>346</td>\n",
       "      <td>188</td>\n",
       "      <td>54.3</td>\n",
       "      <td>34.108345</td>\n",
       "      <td>-117.289765</td>\n",
       "    </tr>\n",
       "    <tr>\n",
       "      <th>31</th>\n",
       "      <td>San Diego</td>\n",
       "      <td>CA</td>\n",
       "      <td>2076</td>\n",
       "      <td>934</td>\n",
       "      <td>45.0</td>\n",
       "      <td>32.715738</td>\n",
       "      <td>-117.161084</td>\n",
       "    </tr>\n",
       "    <tr>\n",
       "      <th>32</th>\n",
       "      <td>San Francisco</td>\n",
       "      <td>CA</td>\n",
       "      <td>5280</td>\n",
       "      <td>3280</td>\n",
       "      <td>62.1</td>\n",
       "      <td>37.774929</td>\n",
       "      <td>-122.419415</td>\n",
       "    </tr>\n",
       "    <tr>\n",
       "      <th>33</th>\n",
       "      <td>San Joaquin</td>\n",
       "      <td>CA</td>\n",
       "      <td>4484</td>\n",
       "      <td>2858</td>\n",
       "      <td>63.7</td>\n",
       "      <td>37.917594</td>\n",
       "      <td>-121.171039</td>\n",
       "    </tr>\n",
       "    <tr>\n",
       "      <th>34</th>\n",
       "      <td>San Luis Obispo</td>\n",
       "      <td>CA</td>\n",
       "      <td>925</td>\n",
       "      <td>154</td>\n",
       "      <td>16.6</td>\n",
       "      <td>35.282752</td>\n",
       "      <td>-120.659616</td>\n",
       "    </tr>\n",
       "    <tr>\n",
       "      <th>35</th>\n",
       "      <td>San Mateo</td>\n",
       "      <td>CA</td>\n",
       "      <td>1218</td>\n",
       "      <td>661</td>\n",
       "      <td>54.3</td>\n",
       "      <td>37.562992</td>\n",
       "      <td>-122.325525</td>\n",
       "    </tr>\n",
       "    <tr>\n",
       "      <th>36</th>\n",
       "      <td>Santa Barbara</td>\n",
       "      <td>CA</td>\n",
       "      <td>2187</td>\n",
       "      <td>834</td>\n",
       "      <td>38.1</td>\n",
       "      <td>34.420831</td>\n",
       "      <td>-119.698190</td>\n",
       "    </tr>\n",
       "    <tr>\n",
       "      <th>37</th>\n",
       "      <td>Santa Clara</td>\n",
       "      <td>CA</td>\n",
       "      <td>4049</td>\n",
       "      <td>3418</td>\n",
       "      <td>84.4</td>\n",
       "      <td>37.354108</td>\n",
       "      <td>-121.955236</td>\n",
       "    </tr>\n",
       "    <tr>\n",
       "      <th>38</th>\n",
       "      <td>Santa Cruz</td>\n",
       "      <td>CA</td>\n",
       "      <td>1301</td>\n",
       "      <td>434</td>\n",
       "      <td>33.4</td>\n",
       "      <td>36.974117</td>\n",
       "      <td>-122.030796</td>\n",
       "    </tr>\n",
       "    <tr>\n",
       "      <th>39</th>\n",
       "      <td>Shasta</td>\n",
       "      <td>CA</td>\n",
       "      <td>2</td>\n",
       "      <td>41</td>\n",
       "      <td>0.0</td>\n",
       "      <td>40.790886</td>\n",
       "      <td>-121.847449</td>\n",
       "    </tr>\n",
       "    <tr>\n",
       "      <th>40</th>\n",
       "      <td>Siskiyou</td>\n",
       "      <td>CA</td>\n",
       "      <td>7</td>\n",
       "      <td>67</td>\n",
       "      <td>0.0</td>\n",
       "      <td>41.774326</td>\n",
       "      <td>-122.577013</td>\n",
       "    </tr>\n",
       "    <tr>\n",
       "      <th>41</th>\n",
       "      <td>Solano</td>\n",
       "      <td>CA</td>\n",
       "      <td>906</td>\n",
       "      <td>178</td>\n",
       "      <td>19.6</td>\n",
       "      <td>38.310497</td>\n",
       "      <td>-121.901795</td>\n",
       "    </tr>\n",
       "    <tr>\n",
       "      <th>42</th>\n",
       "      <td>Sonoma</td>\n",
       "      <td>CA</td>\n",
       "      <td>758</td>\n",
       "      <td>395</td>\n",
       "      <td>52.1</td>\n",
       "      <td>38.291859</td>\n",
       "      <td>-122.458036</td>\n",
       "    </tr>\n",
       "    <tr>\n",
       "      <th>43</th>\n",
       "      <td>Stanislaus</td>\n",
       "      <td>CA</td>\n",
       "      <td>369</td>\n",
       "      <td>198</td>\n",
       "      <td>53.7</td>\n",
       "      <td>37.509071</td>\n",
       "      <td>-120.987632</td>\n",
       "    </tr>\n",
       "    <tr>\n",
       "      <th>44</th>\n",
       "      <td>Sutter</td>\n",
       "      <td>CA</td>\n",
       "      <td>423</td>\n",
       "      <td>91</td>\n",
       "      <td>21.5</td>\n",
       "      <td>38.935758</td>\n",
       "      <td>-94.743398</td>\n",
       "    </tr>\n",
       "    <tr>\n",
       "      <th>45</th>\n",
       "      <td>Tehama</td>\n",
       "      <td>CA</td>\n",
       "      <td>38</td>\n",
       "      <td>8</td>\n",
       "      <td>0.0</td>\n",
       "      <td>40.027102</td>\n",
       "      <td>-122.123323</td>\n",
       "    </tr>\n",
       "    <tr>\n",
       "      <th>46</th>\n",
       "      <td>Tulare</td>\n",
       "      <td>CA</td>\n",
       "      <td>1812</td>\n",
       "      <td>788</td>\n",
       "      <td>43.5</td>\n",
       "      <td>36.207729</td>\n",
       "      <td>-119.347338</td>\n",
       "    </tr>\n",
       "    <tr>\n",
       "      <th>47</th>\n",
       "      <td>Tuolumne</td>\n",
       "      <td>CA</td>\n",
       "      <td>0</td>\n",
       "      <td>6</td>\n",
       "      <td>0.0</td>\n",
       "      <td>38.029655</td>\n",
       "      <td>-119.974053</td>\n",
       "    </tr>\n",
       "    <tr>\n",
       "      <th>48</th>\n",
       "      <td>Ventura</td>\n",
       "      <td>CA</td>\n",
       "      <td>672</td>\n",
       "      <td>185</td>\n",
       "      <td>27.5</td>\n",
       "      <td>34.280492</td>\n",
       "      <td>-119.294520</td>\n",
       "    </tr>\n",
       "    <tr>\n",
       "      <th>49</th>\n",
       "      <td>Yolo</td>\n",
       "      <td>CA</td>\n",
       "      <td>1087</td>\n",
       "      <td>213</td>\n",
       "      <td>19.6</td>\n",
       "      <td>26.119639</td>\n",
       "      <td>-80.139728</td>\n",
       "    </tr>\n",
       "    <tr>\n",
       "      <th>50</th>\n",
       "      <td>Yuba</td>\n",
       "      <td>CA</td>\n",
       "      <td>429</td>\n",
       "      <td>276</td>\n",
       "      <td>64.3</td>\n",
       "      <td>39.254703</td>\n",
       "      <td>-73.990051</td>\n",
       "    </tr>\n",
       "  </tbody>\n",
       "</table>\n",
       "</div>"
      ],
      "text/plain": [
       "             County State   1940   1945  % returned   Latitude   Longitude\n",
       "0           Alameda    CA   5167   2703        52.3  37.779872 -122.282185\n",
       "1            Amador    CA      2      0         0.0  37.667910 -121.873914\n",
       "2             Butte    CA    216    107        49.5  46.003823 -112.534777\n",
       "3         Calaveras    CA      6      0         0.0  36.159706  -95.958341\n",
       "4            Colusa    CA    155     48        31.0  39.214334 -122.009417\n",
       "5      Contra Costa    CA    829    622        75.0  37.853409 -121.901795\n",
       "6         El Dorado    CA      3     13         0.0  37.816756  -96.886996\n",
       "7            Fresno    CA   4527   4296        94.9  36.737798 -119.787125\n",
       "8             Glenn    CA      0     65         0.0  33.757020  -84.393041\n",
       "9          Humboldt    CA      0      2         0.0  40.745005 -123.869509\n",
       "10         Imperial    CA   1583    142         9.0  36.185074  -95.870191\n",
       "11             Inyo    CA      1      1         0.0  36.309186 -117.549585\n",
       "12             Kern    CA    756    187        24.7  35.493727 -118.859680\n",
       "13            Kings    CA    508    209        41.1  37.919235  -95.408867\n",
       "14             Lake    CA      1      0         0.0  37.162826  -95.691162\n",
       "15      Los Angeles    CA  36866  17182        46.6  34.052234 -118.243685\n",
       "16           Madera    CA    170    161        97.4  36.961336 -120.060718\n",
       "17            Marin    CA    150     32        21.3  38.083403 -122.763304\n",
       "18        Mendocino    CA     53      6         0.0  39.307674 -123.799459\n",
       "19           Merced    CA    715    432        60.4  37.302163 -120.482968\n",
       "20            Modoc    CA      4     19         0.0  41.456516 -120.629366\n",
       "21         Monterey    CA   2247    616        27.4  36.600238 -121.894676\n",
       "22             Napa    CA     54     52         0.0  36.756729  -95.937326\n",
       "23           Nevada    CA      0     54         0.0  38.802610 -116.419389\n",
       "24           Orange    CA   1855    572        30.8  33.787914 -117.853101\n",
       "25           Placer    CA   1637   1057        64.6  39.091575 -120.803947\n",
       "26           Plumas    CA      1      0         0.0  39.992683 -120.803947\n",
       "27        Riverside    CA    552    397        71.9  33.980601 -117.375494\n",
       "28       Sacramento    CA   6764   4304        63.6  38.581572 -121.494400\n",
       "29       San Benito    CA    526    118        22.4  26.132576  -97.631101\n",
       "30   San Bernardino    CA    346    188        54.3  34.108345 -117.289765\n",
       "31        San Diego    CA   2076    934        45.0  32.715738 -117.161084\n",
       "32    San Francisco    CA   5280   3280        62.1  37.774929 -122.419415\n",
       "33      San Joaquin    CA   4484   2858        63.7  37.917594 -121.171039\n",
       "34  San Luis Obispo    CA    925    154        16.6  35.282752 -120.659616\n",
       "35        San Mateo    CA   1218    661        54.3  37.562992 -122.325525\n",
       "36    Santa Barbara    CA   2187    834        38.1  34.420831 -119.698190\n",
       "37      Santa Clara    CA   4049   3418        84.4  37.354108 -121.955236\n",
       "38       Santa Cruz    CA   1301    434        33.4  36.974117 -122.030796\n",
       "39           Shasta    CA      2     41         0.0  40.790886 -121.847449\n",
       "40         Siskiyou    CA      7     67         0.0  41.774326 -122.577013\n",
       "41           Solano    CA    906    178        19.6  38.310497 -121.901795\n",
       "42           Sonoma    CA    758    395        52.1  38.291859 -122.458036\n",
       "43       Stanislaus    CA    369    198        53.7  37.509071 -120.987632\n",
       "44           Sutter    CA    423     91        21.5  38.935758  -94.743398\n",
       "45           Tehama    CA     38      8         0.0  40.027102 -122.123323\n",
       "46           Tulare    CA   1812    788        43.5  36.207729 -119.347338\n",
       "47         Tuolumne    CA      0      6         0.0  38.029655 -119.974053\n",
       "48          Ventura    CA    672    185        27.5  34.280492 -119.294520\n",
       "49             Yolo    CA   1087    213        19.6  26.119639  -80.139728\n",
       "50             Yuba    CA    429    276        64.3  39.254703  -73.990051"
      ]
     },
     "execution_count": 77,
     "metadata": {},
     "output_type": "execute_result"
    }
   ],
   "source": [
    "population1940_1945[population1940_1945['State'] == 'CA']"
   ]
  },
  {
   "cell_type": "code",
   "execution_count": 78,
   "metadata": {
    "#student": false,
    "scrolled": false
   },
   "outputs": [
    {
     "data": {
      "text/html": [
       "<div>\n",
       "<style scoped>\n",
       "    .dataframe tbody tr th:only-of-type {\n",
       "        vertical-align: middle;\n",
       "    }\n",
       "\n",
       "    .dataframe tbody tr th {\n",
       "        vertical-align: top;\n",
       "    }\n",
       "\n",
       "    .dataframe thead th {\n",
       "        text-align: right;\n",
       "    }\n",
       "</style>\n",
       "<table border=\"1\" class=\"dataframe\">\n",
       "  <thead>\n",
       "    <tr style=\"text-align: right;\">\n",
       "      <th></th>\n",
       "      <th>County</th>\n",
       "      <th>State</th>\n",
       "      <th>1940</th>\n",
       "      <th>1945</th>\n",
       "      <th>% returned</th>\n",
       "      <th>Latitude</th>\n",
       "      <th>Longitude</th>\n",
       "    </tr>\n",
       "  </thead>\n",
       "  <tbody>\n",
       "    <tr>\n",
       "      <th>51</th>\n",
       "      <td>Clackamas</td>\n",
       "      <td>OR</td>\n",
       "      <td>163</td>\n",
       "      <td>56</td>\n",
       "      <td>34.4</td>\n",
       "      <td>45.407621</td>\n",
       "      <td>-122.570369</td>\n",
       "    </tr>\n",
       "    <tr>\n",
       "      <th>52</th>\n",
       "      <td>Clatsop</td>\n",
       "      <td>OR</td>\n",
       "      <td>98</td>\n",
       "      <td>2</td>\n",
       "      <td>0.0</td>\n",
       "      <td>46.021080</td>\n",
       "      <td>-123.765304</td>\n",
       "    </tr>\n",
       "    <tr>\n",
       "      <th>53</th>\n",
       "      <td>Columbia</td>\n",
       "      <td>OR</td>\n",
       "      <td>38</td>\n",
       "      <td>0</td>\n",
       "      <td>0.0</td>\n",
       "      <td>35.461166</td>\n",
       "      <td>-97.650246</td>\n",
       "    </tr>\n",
       "    <tr>\n",
       "      <th>54</th>\n",
       "      <td>Deschutes</td>\n",
       "      <td>OR</td>\n",
       "      <td>14</td>\n",
       "      <td>0</td>\n",
       "      <td>0.0</td>\n",
       "      <td>37.270590</td>\n",
       "      <td>-79.939353</td>\n",
       "    </tr>\n",
       "    <tr>\n",
       "      <th>55</th>\n",
       "      <td>Hood River</td>\n",
       "      <td>OR</td>\n",
       "      <td>462</td>\n",
       "      <td>186</td>\n",
       "      <td>40.3</td>\n",
       "      <td>45.706798</td>\n",
       "      <td>-121.528087</td>\n",
       "    </tr>\n",
       "    <tr>\n",
       "      <th>56</th>\n",
       "      <td>Jackson</td>\n",
       "      <td>OR</td>\n",
       "      <td>41</td>\n",
       "      <td>8</td>\n",
       "      <td>0.0</td>\n",
       "      <td>32.298757</td>\n",
       "      <td>-90.184810</td>\n",
       "    </tr>\n",
       "    <tr>\n",
       "      <th>57</th>\n",
       "      <td>Jefferson</td>\n",
       "      <td>OR</td>\n",
       "      <td>12</td>\n",
       "      <td>12</td>\n",
       "      <td>0.0</td>\n",
       "      <td>37.109584</td>\n",
       "      <td>-95.762571</td>\n",
       "    </tr>\n",
       "    <tr>\n",
       "      <th>58</th>\n",
       "      <td>Josephine</td>\n",
       "      <td>OR</td>\n",
       "      <td>0</td>\n",
       "      <td>17</td>\n",
       "      <td>0.0</td>\n",
       "      <td>36.126766</td>\n",
       "      <td>-86.789056</td>\n",
       "    </tr>\n",
       "    <tr>\n",
       "      <th>59</th>\n",
       "      <td>Klamath</td>\n",
       "      <td>OR</td>\n",
       "      <td>1</td>\n",
       "      <td>126</td>\n",
       "      <td>0.0</td>\n",
       "      <td>41.526509</td>\n",
       "      <td>-124.038407</td>\n",
       "    </tr>\n",
       "    <tr>\n",
       "      <th>60</th>\n",
       "      <td>Lane</td>\n",
       "      <td>OR</td>\n",
       "      <td>1</td>\n",
       "      <td>1</td>\n",
       "      <td>0.0</td>\n",
       "      <td>37.224866</td>\n",
       "      <td>-95.706484</td>\n",
       "    </tr>\n",
       "    <tr>\n",
       "      <th>61</th>\n",
       "      <td>Lincoln</td>\n",
       "      <td>OR</td>\n",
       "      <td>4</td>\n",
       "      <td>2</td>\n",
       "      <td>0.0</td>\n",
       "      <td>35.949526</td>\n",
       "      <td>-94.423548</td>\n",
       "    </tr>\n",
       "    <tr>\n",
       "      <th>62</th>\n",
       "      <td>Linn</td>\n",
       "      <td>OR</td>\n",
       "      <td>4</td>\n",
       "      <td>0</td>\n",
       "      <td>0.0</td>\n",
       "      <td>38.485875</td>\n",
       "      <td>-91.850452</td>\n",
       "    </tr>\n",
       "    <tr>\n",
       "      <th>63</th>\n",
       "      <td>Marion</td>\n",
       "      <td>OR</td>\n",
       "      <td>193</td>\n",
       "      <td>26</td>\n",
       "      <td>13.5</td>\n",
       "      <td>35.684013</td>\n",
       "      <td>-82.009275</td>\n",
       "    </tr>\n",
       "    <tr>\n",
       "      <th>64</th>\n",
       "      <td>Multnomah</td>\n",
       "      <td>OR</td>\n",
       "      <td>2390</td>\n",
       "      <td>1029</td>\n",
       "      <td>43.1</td>\n",
       "      <td>45.514566</td>\n",
       "      <td>-122.586321</td>\n",
       "    </tr>\n",
       "    <tr>\n",
       "      <th>65</th>\n",
       "      <td>Polk</td>\n",
       "      <td>OR</td>\n",
       "      <td>28</td>\n",
       "      <td>5</td>\n",
       "      <td>0.0</td>\n",
       "      <td>27.861735</td>\n",
       "      <td>-81.691156</td>\n",
       "    </tr>\n",
       "    <tr>\n",
       "      <th>66</th>\n",
       "      <td>Sherman</td>\n",
       "      <td>OR</td>\n",
       "      <td>3</td>\n",
       "      <td>0</td>\n",
       "      <td>0.0</td>\n",
       "      <td>33.635662</td>\n",
       "      <td>-96.608881</td>\n",
       "    </tr>\n",
       "    <tr>\n",
       "      <th>67</th>\n",
       "      <td>Wasco</td>\n",
       "      <td>OR</td>\n",
       "      <td>82</td>\n",
       "      <td>2</td>\n",
       "      <td>0.0</td>\n",
       "      <td>35.594124</td>\n",
       "      <td>-119.340946</td>\n",
       "    </tr>\n",
       "    <tr>\n",
       "      <th>68</th>\n",
       "      <td>Washington</td>\n",
       "      <td>OR</td>\n",
       "      <td>245</td>\n",
       "      <td>18</td>\n",
       "      <td>7.3</td>\n",
       "      <td>47.751074</td>\n",
       "      <td>-120.740139</td>\n",
       "    </tr>\n",
       "    <tr>\n",
       "      <th>69</th>\n",
       "      <td>Yamhill</td>\n",
       "      <td>OR</td>\n",
       "      <td>65</td>\n",
       "      <td>4</td>\n",
       "      <td>0.0</td>\n",
       "      <td>45.341504</td>\n",
       "      <td>-123.187824</td>\n",
       "    </tr>\n",
       "  </tbody>\n",
       "</table>\n",
       "</div>"
      ],
      "text/plain": [
       "        County State  1940  1945  % returned   Latitude   Longitude\n",
       "51   Clackamas    OR   163    56        34.4  45.407621 -122.570369\n",
       "52     Clatsop    OR    98     2         0.0  46.021080 -123.765304\n",
       "53    Columbia    OR    38     0         0.0  35.461166  -97.650246\n",
       "54   Deschutes    OR    14     0         0.0  37.270590  -79.939353\n",
       "55  Hood River    OR   462   186        40.3  45.706798 -121.528087\n",
       "56     Jackson    OR    41     8         0.0  32.298757  -90.184810\n",
       "57   Jefferson    OR    12    12         0.0  37.109584  -95.762571\n",
       "58   Josephine    OR     0    17         0.0  36.126766  -86.789056\n",
       "59     Klamath    OR     1   126         0.0  41.526509 -124.038407\n",
       "60        Lane    OR     1     1         0.0  37.224866  -95.706484\n",
       "61     Lincoln    OR     4     2         0.0  35.949526  -94.423548\n",
       "62        Linn    OR     4     0         0.0  38.485875  -91.850452\n",
       "63      Marion    OR   193    26        13.5  35.684013  -82.009275\n",
       "64   Multnomah    OR  2390  1029        43.1  45.514566 -122.586321\n",
       "65        Polk    OR    28     5         0.0  27.861735  -81.691156\n",
       "66     Sherman    OR     3     0         0.0  33.635662  -96.608881\n",
       "67       Wasco    OR    82     2         0.0  35.594124 -119.340946\n",
       "68  Washington    OR   245    18         7.3  47.751074 -120.740139\n",
       "69     Yamhill    OR    65     4         0.0  45.341504 -123.187824"
      ]
     },
     "execution_count": 78,
     "metadata": {},
     "output_type": "execute_result"
    }
   ],
   "source": [
    "population1940_1945[population1940_1945['State'] == 'OR']"
   ]
  },
  {
   "cell_type": "code",
   "execution_count": 79,
   "metadata": {
    "#student": false
   },
   "outputs": [
    {
     "data": {
      "text/html": [
       "<div>\n",
       "<style scoped>\n",
       "    .dataframe tbody tr th:only-of-type {\n",
       "        vertical-align: middle;\n",
       "    }\n",
       "\n",
       "    .dataframe tbody tr th {\n",
       "        vertical-align: top;\n",
       "    }\n",
       "\n",
       "    .dataframe thead th {\n",
       "        text-align: right;\n",
       "    }\n",
       "</style>\n",
       "<table border=\"1\" class=\"dataframe\">\n",
       "  <thead>\n",
       "    <tr style=\"text-align: right;\">\n",
       "      <th></th>\n",
       "      <th>County</th>\n",
       "      <th>State</th>\n",
       "      <th>1940</th>\n",
       "      <th>1945</th>\n",
       "      <th>% returned</th>\n",
       "      <th>Latitude</th>\n",
       "      <th>Longitude</th>\n",
       "    </tr>\n",
       "  </thead>\n",
       "  <tbody>\n",
       "    <tr>\n",
       "      <th>70</th>\n",
       "      <td>Benton</td>\n",
       "      <td>WA</td>\n",
       "      <td>69</td>\n",
       "      <td>0</td>\n",
       "      <td>0.0</td>\n",
       "      <td>34.564537</td>\n",
       "      <td>-92.586828</td>\n",
       "    </tr>\n",
       "    <tr>\n",
       "      <th>71</th>\n",
       "      <td>Chelan</td>\n",
       "      <td>WA</td>\n",
       "      <td>26</td>\n",
       "      <td>12</td>\n",
       "      <td>0.0</td>\n",
       "      <td>47.840832</td>\n",
       "      <td>-120.016808</td>\n",
       "    </tr>\n",
       "    <tr>\n",
       "      <th>72</th>\n",
       "      <td>Clallam</td>\n",
       "      <td>WA</td>\n",
       "      <td>17</td>\n",
       "      <td>0</td>\n",
       "      <td>0.0</td>\n",
       "      <td>48.040512</td>\n",
       "      <td>-124.016766</td>\n",
       "    </tr>\n",
       "    <tr>\n",
       "      <th>73</th>\n",
       "      <td>Clark</td>\n",
       "      <td>WA</td>\n",
       "      <td>110</td>\n",
       "      <td>22</td>\n",
       "      <td>20.0</td>\n",
       "      <td>37.223312</td>\n",
       "      <td>-95.702194</td>\n",
       "    </tr>\n",
       "    <tr>\n",
       "      <th>74</th>\n",
       "      <td>Grays Harbor</td>\n",
       "      <td>WA</td>\n",
       "      <td>2</td>\n",
       "      <td>6</td>\n",
       "      <td>0.0</td>\n",
       "      <td>46.995353</td>\n",
       "      <td>-123.701247</td>\n",
       "    </tr>\n",
       "    <tr>\n",
       "      <th>75</th>\n",
       "      <td>Jefferson</td>\n",
       "      <td>WA</td>\n",
       "      <td>37</td>\n",
       "      <td>14</td>\n",
       "      <td>0.0</td>\n",
       "      <td>37.109584</td>\n",
       "      <td>-95.762571</td>\n",
       "    </tr>\n",
       "    <tr>\n",
       "      <th>76</th>\n",
       "      <td>King</td>\n",
       "      <td>WA</td>\n",
       "      <td>9863</td>\n",
       "      <td>3411</td>\n",
       "      <td>34.6</td>\n",
       "      <td>37.037307</td>\n",
       "      <td>-95.616366</td>\n",
       "    </tr>\n",
       "    <tr>\n",
       "      <th>77</th>\n",
       "      <td>Kitsap</td>\n",
       "      <td>WA</td>\n",
       "      <td>345</td>\n",
       "      <td>75</td>\n",
       "      <td>21.7</td>\n",
       "      <td>47.647661</td>\n",
       "      <td>-122.641258</td>\n",
       "    </tr>\n",
       "    <tr>\n",
       "      <th>78</th>\n",
       "      <td>Kittitas</td>\n",
       "      <td>WA</td>\n",
       "      <td>9</td>\n",
       "      <td>0</td>\n",
       "      <td>0.0</td>\n",
       "      <td>46.983182</td>\n",
       "      <td>-120.417010</td>\n",
       "    </tr>\n",
       "    <tr>\n",
       "      <th>79</th>\n",
       "      <td>Klickitat</td>\n",
       "      <td>WA</td>\n",
       "      <td>121</td>\n",
       "      <td>37</td>\n",
       "      <td>30.6</td>\n",
       "      <td>45.817067</td>\n",
       "      <td>-121.152572</td>\n",
       "    </tr>\n",
       "    <tr>\n",
       "      <th>80</th>\n",
       "      <td>Lewis</td>\n",
       "      <td>WA</td>\n",
       "      <td>62</td>\n",
       "      <td>13</td>\n",
       "      <td>0.0</td>\n",
       "      <td>37.225597</td>\n",
       "      <td>-95.716234</td>\n",
       "    </tr>\n",
       "    <tr>\n",
       "      <th>81</th>\n",
       "      <td>Mason</td>\n",
       "      <td>WA</td>\n",
       "      <td>23</td>\n",
       "      <td>8</td>\n",
       "      <td>0.0</td>\n",
       "      <td>39.360059</td>\n",
       "      <td>-84.309939</td>\n",
       "    </tr>\n",
       "    <tr>\n",
       "      <th>82</th>\n",
       "      <td>Okanogan</td>\n",
       "      <td>WA</td>\n",
       "      <td>0</td>\n",
       "      <td>5</td>\n",
       "      <td>0.0</td>\n",
       "      <td>48.361262</td>\n",
       "      <td>-119.583387</td>\n",
       "    </tr>\n",
       "    <tr>\n",
       "      <th>83</th>\n",
       "      <td>Pacific</td>\n",
       "      <td>WA</td>\n",
       "      <td>94</td>\n",
       "      <td>2</td>\n",
       "      <td>0.0</td>\n",
       "      <td>-8.783195</td>\n",
       "      <td>-124.508523</td>\n",
       "    </tr>\n",
       "    <tr>\n",
       "      <th>84</th>\n",
       "      <td>Pierce</td>\n",
       "      <td>WA</td>\n",
       "      <td>2050</td>\n",
       "      <td>292</td>\n",
       "      <td>14.2</td>\n",
       "      <td>34.184460</td>\n",
       "      <td>-118.579152</td>\n",
       "    </tr>\n",
       "    <tr>\n",
       "      <th>85</th>\n",
       "      <td>San Juan</td>\n",
       "      <td>WA</td>\n",
       "      <td>2</td>\n",
       "      <td>0</td>\n",
       "      <td>0.0</td>\n",
       "      <td>18.465539</td>\n",
       "      <td>-66.105735</td>\n",
       "    </tr>\n",
       "    <tr>\n",
       "      <th>86</th>\n",
       "      <td>Skagit</td>\n",
       "      <td>WA</td>\n",
       "      <td>66</td>\n",
       "      <td>7</td>\n",
       "      <td>0.0</td>\n",
       "      <td>48.424196</td>\n",
       "      <td>-121.711436</td>\n",
       "    </tr>\n",
       "    <tr>\n",
       "      <th>87</th>\n",
       "      <td>Skamania</td>\n",
       "      <td>WA</td>\n",
       "      <td>4</td>\n",
       "      <td>0</td>\n",
       "      <td>0.0</td>\n",
       "      <td>45.617610</td>\n",
       "      <td>-122.048868</td>\n",
       "    </tr>\n",
       "    <tr>\n",
       "      <th>88</th>\n",
       "      <td>Snohomish</td>\n",
       "      <td>WA</td>\n",
       "      <td>57</td>\n",
       "      <td>2</td>\n",
       "      <td>0.0</td>\n",
       "      <td>47.912876</td>\n",
       "      <td>-122.098185</td>\n",
       "    </tr>\n",
       "    <tr>\n",
       "      <th>89</th>\n",
       "      <td>Thurston</td>\n",
       "      <td>WA</td>\n",
       "      <td>90</td>\n",
       "      <td>20</td>\n",
       "      <td>0.0</td>\n",
       "      <td>46.864575</td>\n",
       "      <td>-122.769599</td>\n",
       "    </tr>\n",
       "    <tr>\n",
       "      <th>90</th>\n",
       "      <td>Whatcom</td>\n",
       "      <td>WA</td>\n",
       "      <td>28</td>\n",
       "      <td>5</td>\n",
       "      <td>0.0</td>\n",
       "      <td>48.794689</td>\n",
       "      <td>-122.492743</td>\n",
       "    </tr>\n",
       "    <tr>\n",
       "      <th>91</th>\n",
       "      <td>Yakima</td>\n",
       "      <td>WA</td>\n",
       "      <td>814</td>\n",
       "      <td>108</td>\n",
       "      <td>13.3</td>\n",
       "      <td>46.602071</td>\n",
       "      <td>-120.505899</td>\n",
       "    </tr>\n",
       "  </tbody>\n",
       "</table>\n",
       "</div>"
      ],
      "text/plain": [
       "          County State  1940  1945  % returned   Latitude   Longitude\n",
       "70        Benton    WA    69     0         0.0  34.564537  -92.586828\n",
       "71        Chelan    WA    26    12         0.0  47.840832 -120.016808\n",
       "72       Clallam    WA    17     0         0.0  48.040512 -124.016766\n",
       "73         Clark    WA   110    22        20.0  37.223312  -95.702194\n",
       "74  Grays Harbor    WA     2     6         0.0  46.995353 -123.701247\n",
       "75     Jefferson    WA    37    14         0.0  37.109584  -95.762571\n",
       "76          King    WA  9863  3411        34.6  37.037307  -95.616366\n",
       "77        Kitsap    WA   345    75        21.7  47.647661 -122.641258\n",
       "78      Kittitas    WA     9     0         0.0  46.983182 -120.417010\n",
       "79     Klickitat    WA   121    37        30.6  45.817067 -121.152572\n",
       "80         Lewis    WA    62    13         0.0  37.225597  -95.716234\n",
       "81         Mason    WA    23     8         0.0  39.360059  -84.309939\n",
       "82      Okanogan    WA     0     5         0.0  48.361262 -119.583387\n",
       "83       Pacific    WA    94     2         0.0  -8.783195 -124.508523\n",
       "84        Pierce    WA  2050   292        14.2  34.184460 -118.579152\n",
       "85      San Juan    WA     2     0         0.0  18.465539  -66.105735\n",
       "86        Skagit    WA    66     7         0.0  48.424196 -121.711436\n",
       "87      Skamania    WA     4     0         0.0  45.617610 -122.048868\n",
       "88     Snohomish    WA    57     2         0.0  47.912876 -122.098185\n",
       "89      Thurston    WA    90    20         0.0  46.864575 -122.769599\n",
       "90       Whatcom    WA    28     5         0.0  48.794689 -122.492743\n",
       "91        Yakima    WA   814   108        13.3  46.602071 -120.505899"
      ]
     },
     "execution_count": 79,
     "metadata": {},
     "output_type": "execute_result"
    }
   ],
   "source": [
    "population1940_1945[population1940_1945['State'] == 'WA']"
   ]
  },
  {
   "cell_type": "markdown",
   "metadata": {
    "#student": true
   },
   "source": [
    "\n",
    "**Question:** Based on the tables and maps above, identify a research question that could be pursued further using other types of data than we have included here, such as personal narratives or news articles."
   ]
  },
  {
   "cell_type": "markdown",
   "metadata": {
    "#student": true
   },
   "source": [
    "\n",
    "**Answer:** YOUR ANSWER HERE"
   ]
  },
  {
   "cell_type": "markdown",
   "metadata": {
    "#student": false
   },
   "source": [
    "---\n",
    "\n",
    "**Make sure that you've answered both questions.**\n",
    "\n",
    "You are finished with this notebook! Please run the following cell to generate a download link for your submission file to submit on bCourses. ***It is very likely that this download link will not work. If the download link does not work, please use the alternate download method described below.***\n",
    "\n",
    "Alternate download instructions:\n",
    "- open a new tab and go to https://datahub.berkeley.edu\n",
    "- go to the `colwrit-r4b` folder\n",
    "- click the box next to `Japanese-Internment-notebook.pdf`\n",
    "- click the \"Download\" link below the menu bar\n",
    "\n",
    "**Check the PDF before submitting and make sure all of your answers are shown.**"
   ]
  },
  {
   "cell_type": "code",
   "execution_count": 81,
   "metadata": {
    "#student": false
   },
   "outputs": [],
   "source": [
    "#!pip install gsexport -q\n",
    "#import gsExport\n",
    "#gsExport.generateSubmission(\"Japanese-Internment-notebook.ipynb\")\n",
    "\n",
    "#from otter.export import export_notebook\n",
    "#from IPython.display import display, HTML # new\n",
    "\n",
    "#export_notebook(\"style.ipynb\", filtering=True, pagebreaks=True)\n",
    "#display(HTML(\"Save this notebook, then click <a href='style.pdf' download>here</a> to open the pdf.\")) # new"
   ]
  },
  {
   "cell_type": "markdown",
   "metadata": {
    "#student": false
   },
   "source": [
    "---\n",
    "Notebook developed by: Alleanna Clark, Aishah Mahmud, Monica Wilkinson\n",
    "\n",
    "Data Science Modules: http://data.berkeley.edu/education/modules\n"
   ]
  }
 ],
 "metadata": {
  "anaconda-cloud": {},
  "checksums": [
   "7d62f2d8fa9df9782dabafaf29f6be0b",
   "bf3feb850b5e1bd76ebcd7c07e4125a4",
   "9ccdd9fe0060bd3ab7328387f1a35413",
   "a22cdadfe7c74bd821ea894f242bab88",
   "3d3282284ee18c6a2fd069444fde3217",
   "c5063f438aba580d73b3fc8f015801be",
   "bb574c420b608257b5fc9f647c3eb81c",
   "2846119dbb959fc17c459eafab13dcb5",
   "e01f007aa5443efb9900bd44d13dd7c7",
   "b804469a98fe20f770090a7acc360a31",
   "a46e8d57f8644009ee6351df0927f2bf",
   "c9decc56cff48e3fd4fb28e48a7ba110",
   "1508a0313a4e1c0923287b9327cb6a80",
   "bdab940058951e88de397a485186a5de",
   "62c34e40515edab6c4225ccf15087052",
   "0fd80a084c06e3f7653144df829c2e3d",
   "5344dc57314f63d6ea2455f0c2a27d30",
   "6c521a0f63dbf362aaaf744085cf5b4d",
   "f7cbedf950e5a0393fa8414ec591073c",
   "690c6779b8184c6b3f7b44b28258a1c9",
   "a23b90f9b02415da624c64c700cd983c",
   "1a89c04b14ffca9f33ba99754b16bc05",
   "135645a8e6de40583293478107705afb",
   "4500e0043480e3b5ee091f37fa8c6f2b",
   "989ef4f9e0df1c73b2e59d8a21acdaa9",
   "e682d5808dd16a1e8e787c15da5093c0",
   "7a7210ab4f95ccb7a3ce5d78bb87b92b",
   "6fa6c6038ba08d3c2973c03c4f222cf3",
   "9efc314b65237d5d646e1b817372afc6",
   "6a1eee6a000db38bf48e3c7c8313c2ed",
   "99193259bf8cb447d9c11ef80a2d517a",
   "be412606d0ab971baafe92a2aceddabd",
   "1d93fa85a37e8a9a4ed56e0e42a5e388",
   "13c86accb3f14a7504c1443b3b85b17b",
   "8b8bd628f67be024162e121a028737d5",
   "deda54df303d85c87084d4c7934124f2",
   "343c55190c6e01f3a21869185435318b",
   "b9f9b50487bc24ced9e9be3181b107c8",
   "2c628b07d1bc8678a879f1b182dfea22",
   "40a3a18785bcf172b3f5bffc70e2204a",
   "1be47a1c3314182c8741fb78645afc4c",
   "1a4743083d499b807c0f310cf851dd3f",
   "9d45946f137dcbd9b0bb25635216ec88",
   "af1b20ba747adc76da8d13147e160754",
   "c45b863a08254980e2804d24899d6712",
   "659c5ba16081070bc38a02d0d963063f",
   "646d6bf77641e96b7cd5772a8d1a10ad",
   "6fa6c6038ba08d3c2973c03c4f222cf3",
   "4b7233c8a0f8c12db1a1fcd5a9b445fc",
   "6357eb980f2ec54eaebb96dc7e3e1f7b",
   "23b2e187b60113dbb89807ca8d37030a"
  ],
  "kernelspec": {
   "display_name": "Python 3",
   "language": "python",
   "name": "python3"
  },
  "language_info": {
   "codemirror_mode": {
    "name": "ipython",
    "version": 3
   },
   "file_extension": ".py",
   "mimetype": "text/x-python",
   "name": "python",
   "nbconvert_exporter": "python",
   "pygments_lexer": "ipython3",
   "version": "3.8.3"
  },
  "number_of_pagebreaks": 0
 },
 "nbformat": 4,
 "nbformat_minor": 1
}
