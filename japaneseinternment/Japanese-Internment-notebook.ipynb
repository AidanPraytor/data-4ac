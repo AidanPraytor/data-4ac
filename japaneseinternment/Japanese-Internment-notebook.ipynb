{
 "cells": [
  {
   "cell_type": "markdown",
   "metadata": {
    "#student": false
   },
   "source": [
    "# The Japanese American Internment and its Legacy\n",
    "\n",
    "\n",
    "---\n",
    "\n",
    "This notebook will explore data from the camps and provide context and techniques to analize the forced relocation of Japanese Americans during the 1940s.\n",
    "\n",
    "*Estimated Time: 90 minutes*\n",
    "\n",
    "---\n",
    "\n",
    "### Table of Contents\n",
    "1. [Section 1: The Data Science Lifecycle](#dslifecycle)\n",
    "2. [Section 2: The Data](#data)\n",
    "3. [Section 3: Data Exploration and Visualization](#Section-2:-Data-Exploration-and-Visualization)\n",
    "4. [Section 4: Assembly Centers and Internment Centers](#Section-3:-Assembly-Centers-and-Internment-Centers)\n",
    "5. [Section 5: Mapping and Movement](#Section-4:-Mapping-and-Movement)\n",
    "\n",
    "---\n",
    "\n",
    "## Context\n",
    "\n",
    "In this course, you've been studying the consequences of Japanese American internment. Through this data and subsequent analysis, you'll be able to visualize the forced movement of Japanese Americans, from the west coast, to scattered internment camps, and eventually to cities throughout the country."
   ]
  },
  {
   "cell_type": "code",
   "execution_count": 1,
   "metadata": {
    "#student": false
   },
   "outputs": [],
   "source": [
    "# Run this cell!\n",
    "from IPython.display import HTML\n",
    "import pandas as pd\n",
    "import numpy as np\n",
    "import matplotlib.pyplot as plt\n",
    "import seaborn as sns\n",
    "import folium\n",
    "import plotly.express as px\n",
    "import ipywidgets as widgets\n",
    "from ipywidgets import interact, interactive, fixed, interact_manual\n",
    "\n",
    "population1940_1945 = pd.read_csv(\"data/JapaneseAmericanPopulation_1940_1945_LL.csv\", error_bad_lines = False)\n",
    "relocations_cities = pd.read_csv(\"data/RelocationDestinations_Cities_LL.csv\", error_bad_lines = False)\n",
    "assembly = pd.read_csv('data/BehindBarbedWire_StoryMap_AssemblyCentersMap_Data.csv', error_bad_lines = False)"
   ]
  },
  {
   "cell_type": "markdown",
   "metadata": {
    "#student": false
   },
   "source": [
    "---\n",
    "\n",
    "## Section 1: The Data Science Lifecycle<a id='dslifecycle'></a>\n",
    "\n",
    "In data science, we utilize large and diverse datasets to make conclusions and predictions about the world we live in. Doing so involves a process called the **data science lifecycle**, which is a high-level description of the data science workflow. It is divided into four steps:\n",
    "1. Formulating a question or problem\n",
    "2. Acquiring and cleaning data\n",
    "3. Conducting exploratory data analysis\n",
    "4. Using prediction and inference to draw conclusions\n",
    "\n",
    "<img src=\"images/dslifecycle.png\" width=\"450\">\n",
    "Source: Data 100, Lecture 01\n",
    "<br><br>\n",
    "This process is often iterated as new questions and problems emerge after the last step to learn more characteristics and patterns of our world. In this notebook, we'll focus on step 3. We perform Exploratory Data Analysis (EDA) in order to understand patterns and trends occurring in the data, i.e. to understand the data. Note in the image that there are two distinct entry points, at \"ask a question\" and \"obtain data.\" We'll enter the lifecycle in the second entry point."
   ]
  },
  {
   "cell_type": "markdown",
   "metadata": {},
   "source": [
    "----\n",
    "\n",
    "## Section 2: The Data <a id='data'></a>\n",
    "\n",
    "We will be working with a dataset that was manually digitized from tables in *The Evacuated People: A Quantitative Description*, a report published by the War Relocation Authority (WRA) in 1946. The WRA was the government agency that oversaw the forced relocation of Japanese Americans and was first established via Executive Order 9102 on March 18, 1942.  *The Evacuated People* contains statistics and more than 100 tables concerning the 120,313 Japanese Americans that were under the authority of the WRA. \n",
    "\n",
    "The tables in this report required manual transcription because the results from automatic scraping contained too many errors. Thus, there may still be some human error. The datasets included contain the populations of each camp by month, the relocation destinations of those who were incarcerated, and the Japanese American population in America before and throughout the war. Take a look at the full dataset <a href = https://data.world/infinitecoop/japanese-internment-camps/> here</a>.\n",
    "\n",
    "The second dataset we're working with is from the story map \"Behind Barbed Wire,\" created by the Library of Congress. The data comes from newspapers that were produced by Japanese-American internees while they lived in the camps. You can access the data and read about the newspapers <a href = https://tinyurl.com/y4g5kq77> here</a>.\n",
    "\n",
    "<img src=\"images/Posted_Japanese_American_Exclusion_Order.png\" width=\"450\">\n",
    "This image is available from the United States Library of Congress's Prints and Photographs division.\n",
    "<br><br>\n",
    "Below, we are loading in two datasets and doing a bit of data cleaning."
   ]
  },
  {
   "cell_type": "code",
   "execution_count": 25,
   "metadata": {
    "#student": false
   },
   "outputs": [],
   "source": [
    "pop_by_month = pd.read_csv(\"data/CampPopulationsByMonth.csv\", error_bad_lines = False, thousands = ',')\n",
    "pop_by_month['Date']= pd.to_datetime(pop_by_month['Date']) \n",
    "camps = pd.read_csv('data/BehindBarbedWire_StoryMap_InternmentCampLocationsMap_Data.csv', error_bad_lines = False)\n",
    "camps[\"Maximum Population\"] = camps[\"Maximum Population\"].str.replace(',', '')\n",
    "camps['Maximum Population'] = camps['Maximum Population'].astype(float)"
   ]
  },
  {
   "cell_type": "markdown",
   "metadata": {
    "#student": false
   },
   "source": [
    "We'll first look at the `pop_by_month` table, which has the population of each of the ten camps at the start of every month."
   ]
  },
  {
   "cell_type": "code",
   "execution_count": 26,
   "metadata": {
    "#student": false
   },
   "outputs": [
    {
     "data": {
      "text/html": [
       "<div>\n",
       "<style scoped>\n",
       "    .dataframe tbody tr th:only-of-type {\n",
       "        vertical-align: middle;\n",
       "    }\n",
       "\n",
       "    .dataframe tbody tr th {\n",
       "        vertical-align: top;\n",
       "    }\n",
       "\n",
       "    .dataframe thead th {\n",
       "        text-align: right;\n",
       "    }\n",
       "</style>\n",
       "<table border=\"1\" class=\"dataframe\">\n",
       "  <thead>\n",
       "    <tr style=\"text-align: right;\">\n",
       "      <th></th>\n",
       "      <th>Date</th>\n",
       "      <th>Total</th>\n",
       "      <th>Topaz/Central Utah</th>\n",
       "      <th>Poston/Colorado River</th>\n",
       "      <th>Gila River</th>\n",
       "      <th>Granada</th>\n",
       "      <th>Heart Mountain</th>\n",
       "      <th>Jerome</th>\n",
       "      <th>Manzanar</th>\n",
       "      <th>Minidoka</th>\n",
       "      <th>Rohwer</th>\n",
       "      <th>Tule Lake</th>\n",
       "    </tr>\n",
       "  </thead>\n",
       "  <tbody>\n",
       "    <tr>\n",
       "      <td>0</td>\n",
       "      <td>1942-06-01</td>\n",
       "      <td>17393</td>\n",
       "      <td>0</td>\n",
       "      <td>7281</td>\n",
       "      <td>0</td>\n",
       "      <td>0</td>\n",
       "      <td>0</td>\n",
       "      <td>0</td>\n",
       "      <td>9666</td>\n",
       "      <td>0</td>\n",
       "      <td>0</td>\n",
       "      <td>446</td>\n",
       "    </tr>\n",
       "    <tr>\n",
       "      <td>1</td>\n",
       "      <td>1942-07-01</td>\n",
       "      <td>27633</td>\n",
       "      <td>0</td>\n",
       "      <td>8755</td>\n",
       "      <td>0</td>\n",
       "      <td>0</td>\n",
       "      <td>0</td>\n",
       "      <td>0</td>\n",
       "      <td>9840</td>\n",
       "      <td>0</td>\n",
       "      <td>0</td>\n",
       "      <td>9038</td>\n",
       "    </tr>\n",
       "    <tr>\n",
       "      <td>2</td>\n",
       "      <td>1942-08-01</td>\n",
       "      <td>40316</td>\n",
       "      <td>0</td>\n",
       "      <td>13262</td>\n",
       "      <td>2106</td>\n",
       "      <td>0</td>\n",
       "      <td>0</td>\n",
       "      <td>0</td>\n",
       "      <td>9928</td>\n",
       "      <td>0</td>\n",
       "      <td>0</td>\n",
       "      <td>15020</td>\n",
       "    </tr>\n",
       "    <tr>\n",
       "      <td>3</td>\n",
       "      <td>1942-09-01</td>\n",
       "      <td>63031</td>\n",
       "      <td>0</td>\n",
       "      <td>17818</td>\n",
       "      <td>9150</td>\n",
       "      <td>212</td>\n",
       "      <td>5758</td>\n",
       "      <td>0</td>\n",
       "      <td>10072</td>\n",
       "      <td>4840</td>\n",
       "      <td>0</td>\n",
       "      <td>15181</td>\n",
       "    </tr>\n",
       "    <tr>\n",
       "      <td>4</td>\n",
       "      <td>1942-10-01</td>\n",
       "      <td>90499</td>\n",
       "      <td>5806</td>\n",
       "      <td>17847</td>\n",
       "      <td>11555</td>\n",
       "      <td>7480</td>\n",
       "      <td>10813</td>\n",
       "      <td>0</td>\n",
       "      <td>10256</td>\n",
       "      <td>9200</td>\n",
       "      <td>2265</td>\n",
       "      <td>15277</td>\n",
       "    </tr>\n",
       "  </tbody>\n",
       "</table>\n",
       "</div>"
      ],
      "text/plain": [
       "        Date  Total  Topaz/Central Utah  Poston/Colorado River  Gila River  \\\n",
       "0 1942-06-01  17393                   0                   7281           0   \n",
       "1 1942-07-01  27633                   0                   8755           0   \n",
       "2 1942-08-01  40316                   0                  13262        2106   \n",
       "3 1942-09-01  63031                   0                  17818        9150   \n",
       "4 1942-10-01  90499                5806                  17847       11555   \n",
       "\n",
       "   Granada  Heart Mountain  Jerome  Manzanar  Minidoka  Rohwer  Tule Lake  \n",
       "0        0               0       0      9666         0       0        446  \n",
       "1        0               0       0      9840         0       0       9038  \n",
       "2        0               0       0      9928         0       0      15020  \n",
       "3      212            5758       0     10072      4840       0      15181  \n",
       "4     7480           10813       0     10256      9200    2265      15277  "
      ]
     },
     "execution_count": 26,
     "metadata": {},
     "output_type": "execute_result"
    }
   ],
   "source": [
    "pop_by_month.head()"
   ]
  },
  {
   "cell_type": "markdown",
   "metadata": {
    "#student": false
   },
   "source": [
    "The `camps` table from Behind the Barbed Wire contains the internment camps, their locations -- city, name, latitude, and longitude -- the dates of when they opened and closed, and their maximum populations."
   ]
  },
  {
   "cell_type": "code",
   "execution_count": 27,
   "metadata": {
    "#student": false,
    "scrolled": true
   },
   "outputs": [
    {
     "data": {
      "text/html": [
       "<div>\n",
       "<style scoped>\n",
       "    .dataframe tbody tr th:only-of-type {\n",
       "        vertical-align: middle;\n",
       "    }\n",
       "\n",
       "    .dataframe tbody tr th {\n",
       "        vertical-align: top;\n",
       "    }\n",
       "\n",
       "    .dataframe thead th {\n",
       "        text-align: right;\n",
       "    }\n",
       "</style>\n",
       "<table border=\"1\" class=\"dataframe\">\n",
       "  <thead>\n",
       "    <tr style=\"text-align: right;\">\n",
       "      <th></th>\n",
       "      <th>Internment Camp Name</th>\n",
       "      <th>Location</th>\n",
       "      <th>State</th>\n",
       "      <th>Latitude</th>\n",
       "      <th>Longitude</th>\n",
       "      <th>Opened</th>\n",
       "      <th>Closed</th>\n",
       "      <th>Maximum Population</th>\n",
       "    </tr>\n",
       "  </thead>\n",
       "  <tbody>\n",
       "    <tr>\n",
       "      <td>0</td>\n",
       "      <td>Gila River Relocation Center</td>\n",
       "      <td>Rivers</td>\n",
       "      <td>Arizona</td>\n",
       "      <td>33.065083</td>\n",
       "      <td>-111.830528</td>\n",
       "      <td>20-Jul-42</td>\n",
       "      <td>16-Nov-45</td>\n",
       "      <td>13348.0</td>\n",
       "    </tr>\n",
       "    <tr>\n",
       "      <td>1</td>\n",
       "      <td>Poston Relocation Center</td>\n",
       "      <td>Parker</td>\n",
       "      <td>Arizona</td>\n",
       "      <td>33.987500</td>\n",
       "      <td>-114.401111</td>\n",
       "      <td>2-Jun-42</td>\n",
       "      <td>28-Nov-45</td>\n",
       "      <td>17814.0</td>\n",
       "    </tr>\n",
       "    <tr>\n",
       "      <td>2</td>\n",
       "      <td>Jerome Relocation Center</td>\n",
       "      <td>Denson</td>\n",
       "      <td>Arkansas</td>\n",
       "      <td>33.411667</td>\n",
       "      <td>-91.461111</td>\n",
       "      <td>6-Oct-42</td>\n",
       "      <td>30-Jun-44</td>\n",
       "      <td>8497.0</td>\n",
       "    </tr>\n",
       "    <tr>\n",
       "      <td>3</td>\n",
       "      <td>Rohwer Relocation Center</td>\n",
       "      <td>McGehee</td>\n",
       "      <td>Arkansas</td>\n",
       "      <td>33.766297</td>\n",
       "      <td>-91.280158</td>\n",
       "      <td>18-Sep-42</td>\n",
       "      <td>30-Nov-45</td>\n",
       "      <td>8475.0</td>\n",
       "    </tr>\n",
       "    <tr>\n",
       "      <td>4</td>\n",
       "      <td>Manzanar Relocation Center</td>\n",
       "      <td>Manzanar</td>\n",
       "      <td>California</td>\n",
       "      <td>36.728333</td>\n",
       "      <td>-118.154444</td>\n",
       "      <td>2-Jun-42</td>\n",
       "      <td>21-Nov-45</td>\n",
       "      <td>10046.0</td>\n",
       "    </tr>\n",
       "    <tr>\n",
       "      <td>5</td>\n",
       "      <td>Tule Lake Relocation Center</td>\n",
       "      <td>Newell</td>\n",
       "      <td>California</td>\n",
       "      <td>41.889444</td>\n",
       "      <td>-121.374722</td>\n",
       "      <td>27-May-42</td>\n",
       "      <td>20-Mar-46</td>\n",
       "      <td>18789.0</td>\n",
       "    </tr>\n",
       "    <tr>\n",
       "      <td>6</td>\n",
       "      <td>Granada Relocation Center</td>\n",
       "      <td>Amache</td>\n",
       "      <td>Colorado</td>\n",
       "      <td>38.049444</td>\n",
       "      <td>-102.328611</td>\n",
       "      <td>27-Aug-42</td>\n",
       "      <td>15-Oct-45</td>\n",
       "      <td>7318.0</td>\n",
       "    </tr>\n",
       "    <tr>\n",
       "      <td>7</td>\n",
       "      <td>Minidoka Relocation Center</td>\n",
       "      <td>Hunt</td>\n",
       "      <td>Idaho</td>\n",
       "      <td>42.679000</td>\n",
       "      <td>-114.244000</td>\n",
       "      <td>10-Aug-42</td>\n",
       "      <td>28-Oct-45</td>\n",
       "      <td>9397.0</td>\n",
       "    </tr>\n",
       "    <tr>\n",
       "      <td>8</td>\n",
       "      <td>Topaz Relocation Center</td>\n",
       "      <td>Topaz</td>\n",
       "      <td>Utah</td>\n",
       "      <td>39.418336</td>\n",
       "      <td>-112.708750</td>\n",
       "      <td>11-Sep-42</td>\n",
       "      <td>31-Oct-45</td>\n",
       "      <td>8130.0</td>\n",
       "    </tr>\n",
       "    <tr>\n",
       "      <td>9</td>\n",
       "      <td>Heart Mountain Relocation Center</td>\n",
       "      <td>Heart Mountain</td>\n",
       "      <td>Wyoming</td>\n",
       "      <td>44.671667</td>\n",
       "      <td>-108.946389</td>\n",
       "      <td>12-Aug-42</td>\n",
       "      <td>10-Nov-45</td>\n",
       "      <td>343.0</td>\n",
       "    </tr>\n",
       "  </tbody>\n",
       "</table>\n",
       "</div>"
      ],
      "text/plain": [
       "               Internment Camp Name        Location       State   Latitude  \\\n",
       "0      Gila River Relocation Center          Rivers     Arizona  33.065083   \n",
       "1          Poston Relocation Center          Parker     Arizona  33.987500   \n",
       "2          Jerome Relocation Center          Denson    Arkansas  33.411667   \n",
       "3          Rohwer Relocation Center         McGehee    Arkansas  33.766297   \n",
       "4        Manzanar Relocation Center        Manzanar  California  36.728333   \n",
       "5       Tule Lake Relocation Center          Newell  California  41.889444   \n",
       "6         Granada Relocation Center          Amache    Colorado  38.049444   \n",
       "7        Minidoka Relocation Center            Hunt       Idaho  42.679000   \n",
       "8           Topaz Relocation Center           Topaz        Utah  39.418336   \n",
       "9  Heart Mountain Relocation Center  Heart Mountain     Wyoming  44.671667   \n",
       "\n",
       "    Longitude     Opened     Closed  Maximum Population  \n",
       "0 -111.830528  20-Jul-42  16-Nov-45             13348.0  \n",
       "1 -114.401111   2-Jun-42  28-Nov-45             17814.0  \n",
       "2  -91.461111   6-Oct-42  30-Jun-44              8497.0  \n",
       "3  -91.280158  18-Sep-42  30-Nov-45              8475.0  \n",
       "4 -118.154444   2-Jun-42  21-Nov-45             10046.0  \n",
       "5 -121.374722  27-May-42  20-Mar-46             18789.0  \n",
       "6 -102.328611  27-Aug-42  15-Oct-45              7318.0  \n",
       "7 -114.244000  10-Aug-42  28-Oct-45              9397.0  \n",
       "8 -112.708750  11-Sep-42  31-Oct-45              8130.0  \n",
       "9 -108.946389  12-Aug-42  10-Nov-45               343.0  "
      ]
     },
     "execution_count": 27,
     "metadata": {},
     "output_type": "execute_result"
    }
   ],
   "source": [
    "camps"
   ]
  },
  {
   "cell_type": "markdown",
   "metadata": {
    "#student": false
   },
   "source": [
    "The `assembly` table by Behind the Barbed Wire has the locations of each assembly center (city, state, latitude, and longitude), as well as the number of people that were processed through each one."
   ]
  },
  {
   "cell_type": "code",
   "execution_count": 28,
   "metadata": {
    "#student": false
   },
   "outputs": [
    {
     "data": {
      "text/html": [
       "<div>\n",
       "<style scoped>\n",
       "    .dataframe tbody tr th:only-of-type {\n",
       "        vertical-align: middle;\n",
       "    }\n",
       "\n",
       "    .dataframe tbody tr th {\n",
       "        vertical-align: top;\n",
       "    }\n",
       "\n",
       "    .dataframe thead th {\n",
       "        text-align: right;\n",
       "    }\n",
       "</style>\n",
       "<table border=\"1\" class=\"dataframe\">\n",
       "  <thead>\n",
       "    <tr style=\"text-align: right;\">\n",
       "      <th></th>\n",
       "      <th>Location</th>\n",
       "      <th>State</th>\n",
       "      <th>Number of People</th>\n",
       "      <th>Latitude</th>\n",
       "      <th>Longitude</th>\n",
       "    </tr>\n",
       "  </thead>\n",
       "  <tbody>\n",
       "    <tr>\n",
       "      <td>0</td>\n",
       "      <td>Sacramento (Walerga)</td>\n",
       "      <td>California</td>\n",
       "      <td>4598.0</td>\n",
       "      <td>38.566700</td>\n",
       "      <td>-121.483300</td>\n",
       "    </tr>\n",
       "    <tr>\n",
       "      <td>2</td>\n",
       "      <td>Manzanar (Up to 6/1/42)</td>\n",
       "      <td>California</td>\n",
       "      <td>9564.0</td>\n",
       "      <td>36.728333</td>\n",
       "      <td>-118.154444</td>\n",
       "    </tr>\n",
       "    <tr>\n",
       "      <td>3</td>\n",
       "      <td>Fresno</td>\n",
       "      <td>California</td>\n",
       "      <td>5069.0</td>\n",
       "      <td>36.733300</td>\n",
       "      <td>-119.766700</td>\n",
       "    </tr>\n",
       "    <tr>\n",
       "      <td>4</td>\n",
       "      <td>Marysville (Arboga)</td>\n",
       "      <td>California</td>\n",
       "      <td>2406.0</td>\n",
       "      <td>39.050000</td>\n",
       "      <td>-121.550050</td>\n",
       "    </tr>\n",
       "    <tr>\n",
       "      <td>5</td>\n",
       "      <td>Mayer</td>\n",
       "      <td>Arizona</td>\n",
       "      <td>249.0</td>\n",
       "      <td>34.383300</td>\n",
       "      <td>-112.233300</td>\n",
       "    </tr>\n",
       "    <tr>\n",
       "      <td>6</td>\n",
       "      <td>Merced</td>\n",
       "      <td>California</td>\n",
       "      <td>4081.0</td>\n",
       "      <td>37.300000</td>\n",
       "      <td>-120.466700</td>\n",
       "    </tr>\n",
       "    <tr>\n",
       "      <td>7</td>\n",
       "      <td>Pinedale</td>\n",
       "      <td>California</td>\n",
       "      <td>4664.0</td>\n",
       "      <td>36.840000</td>\n",
       "      <td>-119.800000</td>\n",
       "    </tr>\n",
       "    <tr>\n",
       "      <td>8</td>\n",
       "      <td>Pomona</td>\n",
       "      <td>California</td>\n",
       "      <td>5272.0</td>\n",
       "      <td>34.050000</td>\n",
       "      <td>-117.750000</td>\n",
       "    </tr>\n",
       "    <tr>\n",
       "      <td>9</td>\n",
       "      <td>Portland (Pacific Int. Exposition Ground)</td>\n",
       "      <td>Oregon</td>\n",
       "      <td>3667.0</td>\n",
       "      <td>45.516700</td>\n",
       "      <td>-122.666700</td>\n",
       "    </tr>\n",
       "    <tr>\n",
       "      <td>10</td>\n",
       "      <td>Puyallup</td>\n",
       "      <td>Washington</td>\n",
       "      <td>7348.0</td>\n",
       "      <td>47.183300</td>\n",
       "      <td>-122.283300</td>\n",
       "    </tr>\n",
       "    <tr>\n",
       "      <td>11</td>\n",
       "      <td>Salinas</td>\n",
       "      <td>California</td>\n",
       "      <td>3555.0</td>\n",
       "      <td>36.666700</td>\n",
       "      <td>-121.650000</td>\n",
       "    </tr>\n",
       "    <tr>\n",
       "      <td>12</td>\n",
       "      <td>Santa Anita</td>\n",
       "      <td>California</td>\n",
       "      <td>18424.0</td>\n",
       "      <td>34.133300</td>\n",
       "      <td>-118.033300</td>\n",
       "    </tr>\n",
       "    <tr>\n",
       "      <td>13</td>\n",
       "      <td>Stockton</td>\n",
       "      <td>California</td>\n",
       "      <td>4178.0</td>\n",
       "      <td>37.950000</td>\n",
       "      <td>-121.283300</td>\n",
       "    </tr>\n",
       "    <tr>\n",
       "      <td>14</td>\n",
       "      <td>Tanforan</td>\n",
       "      <td>California</td>\n",
       "      <td>7694.0</td>\n",
       "      <td>37.616700</td>\n",
       "      <td>-122.400000</td>\n",
       "    </tr>\n",
       "    <tr>\n",
       "      <td>15</td>\n",
       "      <td>Tulare</td>\n",
       "      <td>California</td>\n",
       "      <td>4915.0</td>\n",
       "      <td>36.200000</td>\n",
       "      <td>-119.333300</td>\n",
       "    </tr>\n",
       "    <tr>\n",
       "      <td>16</td>\n",
       "      <td>Turlock</td>\n",
       "      <td>California</td>\n",
       "      <td>3553.0</td>\n",
       "      <td>37.483300</td>\n",
       "      <td>-120.833300</td>\n",
       "    </tr>\n",
       "  </tbody>\n",
       "</table>\n",
       "</div>"
      ],
      "text/plain": [
       "                                     Location       State  Number of People  \\\n",
       "0                        Sacramento (Walerga)  California            4598.0   \n",
       "2                     Manzanar (Up to 6/1/42)  California            9564.0   \n",
       "3                                      Fresno  California            5069.0   \n",
       "4                         Marysville (Arboga)  California            2406.0   \n",
       "5                                       Mayer     Arizona             249.0   \n",
       "6                                      Merced  California            4081.0   \n",
       "7                                    Pinedale  California            4664.0   \n",
       "8                                      Pomona  California            5272.0   \n",
       "9   Portland (Pacific Int. Exposition Ground)      Oregon            3667.0   \n",
       "10                                   Puyallup  Washington            7348.0   \n",
       "11                                    Salinas  California            3555.0   \n",
       "12                                Santa Anita  California           18424.0   \n",
       "13                                   Stockton  California            4178.0   \n",
       "14                                   Tanforan  California            7694.0   \n",
       "15                                     Tulare  California            4915.0   \n",
       "16                                    Turlock  California            3553.0   \n",
       "\n",
       "     Latitude   Longitude  \n",
       "0   38.566700 -121.483300  \n",
       "2   36.728333 -118.154444  \n",
       "3   36.733300 -119.766700  \n",
       "4   39.050000 -121.550050  \n",
       "5   34.383300 -112.233300  \n",
       "6   37.300000 -120.466700  \n",
       "7   36.840000 -119.800000  \n",
       "8   34.050000 -117.750000  \n",
       "9   45.516700 -122.666700  \n",
       "10  47.183300 -122.283300  \n",
       "11  36.666700 -121.650000  \n",
       "12  34.133300 -118.033300  \n",
       "13  37.950000 -121.283300  \n",
       "14  37.616700 -122.400000  \n",
       "15  36.200000 -119.333300  \n",
       "16  37.483300 -120.833300  "
      ]
     },
     "execution_count": 28,
     "metadata": {},
     "output_type": "execute_result"
    }
   ],
   "source": [
    "assembly = assembly.dropna(subset=['Latitude', 'Longitude']).dropna(axis = 1)\n",
    "assembly['Number of People'] = assembly['Number of People'].astype(float)\n",
    "assembly"
   ]
  },
  {
   "cell_type": "markdown",
   "metadata": {
    "#student": false
   },
   "source": [
    "The `population1940_1945` table has a list of counties that Japanese Americans lived in in 1940 and 1945. A separate column calculates the percent that returned to the county that they were from."
   ]
  },
  {
   "cell_type": "code",
   "execution_count": 29,
   "metadata": {
    "#student": false
   },
   "outputs": [
    {
     "data": {
      "text/html": [
       "<div>\n",
       "<style scoped>\n",
       "    .dataframe tbody tr th:only-of-type {\n",
       "        vertical-align: middle;\n",
       "    }\n",
       "\n",
       "    .dataframe tbody tr th {\n",
       "        vertical-align: top;\n",
       "    }\n",
       "\n",
       "    .dataframe thead th {\n",
       "        text-align: right;\n",
       "    }\n",
       "</style>\n",
       "<table border=\"1\" class=\"dataframe\">\n",
       "  <thead>\n",
       "    <tr style=\"text-align: right;\">\n",
       "      <th></th>\n",
       "      <th>County</th>\n",
       "      <th>State</th>\n",
       "      <th>1940</th>\n",
       "      <th>1945</th>\n",
       "      <th>% returned</th>\n",
       "      <th>Latitude</th>\n",
       "      <th>Longitude</th>\n",
       "    </tr>\n",
       "  </thead>\n",
       "  <tbody>\n",
       "    <tr>\n",
       "      <td>0</td>\n",
       "      <td>Alameda</td>\n",
       "      <td>CA</td>\n",
       "      <td>5167</td>\n",
       "      <td>2703</td>\n",
       "      <td>52.3</td>\n",
       "      <td>37.779872</td>\n",
       "      <td>-122.282185</td>\n",
       "    </tr>\n",
       "    <tr>\n",
       "      <td>1</td>\n",
       "      <td>Amador</td>\n",
       "      <td>CA</td>\n",
       "      <td>2</td>\n",
       "      <td>0</td>\n",
       "      <td>0.0</td>\n",
       "      <td>37.667910</td>\n",
       "      <td>-121.873914</td>\n",
       "    </tr>\n",
       "    <tr>\n",
       "      <td>2</td>\n",
       "      <td>Butte</td>\n",
       "      <td>CA</td>\n",
       "      <td>216</td>\n",
       "      <td>107</td>\n",
       "      <td>49.5</td>\n",
       "      <td>46.003823</td>\n",
       "      <td>-112.534777</td>\n",
       "    </tr>\n",
       "    <tr>\n",
       "      <td>3</td>\n",
       "      <td>Calaveras</td>\n",
       "      <td>CA</td>\n",
       "      <td>6</td>\n",
       "      <td>0</td>\n",
       "      <td>0.0</td>\n",
       "      <td>36.159706</td>\n",
       "      <td>-95.958341</td>\n",
       "    </tr>\n",
       "    <tr>\n",
       "      <td>4</td>\n",
       "      <td>Colusa</td>\n",
       "      <td>CA</td>\n",
       "      <td>155</td>\n",
       "      <td>48</td>\n",
       "      <td>31.0</td>\n",
       "      <td>39.214334</td>\n",
       "      <td>-122.009417</td>\n",
       "    </tr>\n",
       "  </tbody>\n",
       "</table>\n",
       "</div>"
      ],
      "text/plain": [
       "      County State  1940  1945  % returned   Latitude   Longitude\n",
       "0    Alameda    CA  5167  2703        52.3  37.779872 -122.282185\n",
       "1     Amador    CA     2     0         0.0  37.667910 -121.873914\n",
       "2      Butte    CA   216   107        49.5  46.003823 -112.534777\n",
       "3  Calaveras    CA     6     0         0.0  36.159706  -95.958341\n",
       "4     Colusa    CA   155    48        31.0  39.214334 -122.009417"
      ]
     },
     "execution_count": 29,
     "metadata": {},
     "output_type": "execute_result"
    }
   ],
   "source": [
    "population1940_1945.head()"
   ]
  },
  {
   "cell_type": "markdown",
   "metadata": {
    "#student": false
   },
   "source": [
    "----\n",
    "# Section 3: Data Exploration and Visualization\n",
    "In this second, we will also be performing a step in the data science life cycle, understanding the data. Specifically, we will be performing exploratory data analysis through data visualizations.\n",
    "\n",
    "Sometimes numbers don't always add up. We have two separate tables with data about the internment camps, collected by two separate organizations. Say we try to compare the maximum population of the Manzanar camps from both tables."
   ]
  },
  {
   "cell_type": "code",
   "execution_count": 30,
   "metadata": {
    "#student": false
   },
   "outputs": [
    {
     "name": "stdout",
     "output_type": "stream",
     "text": [
      "Camps Data: 10046\n",
      "Population by Month Data: 10256\n"
     ]
    }
   ],
   "source": [
    "pop_by_month_max = pop_by_month['Manzanar'].max()\n",
    "camps_max = int(camps[camps['Internment Camp Name'] == 'Manzanar Relocation Center']['Maximum Population'])\n",
    "print('Camps Data:',  camps_max)\n",
    "print('Population by Month Data:' ,  pop_by_month_max)\n",
    "#Are the two numbers equal?"
   ]
  },
  {
   "cell_type": "markdown",
   "metadata": {
    "#student": false
   },
   "source": [
    "The two numbers don't match up. The `pop_by_month` table says that the maximum population of Manzanar was 10,256, while the camps table says that the maximum was 10,046 people. While this isn't a huge difference, it's important to remember that there can be error in your datasets, and not to take any one dataset as complete and total fact. \n",
    "\n",
    "Below we use an interactive dropdown widget to help us compare the populations given by the two different data sets `pop_by_month` and `camps`. This widget compares the barplots for the maximum population in `pop_by_month` and `camps`. We can use the dropdown menu to view the different internment camps included in these two datasets."
   ]
  },
  {
   "cell_type": "code",
   "execution_count": 31,
   "metadata": {
    "scrolled": true
   },
   "outputs": [
    {
     "data": {
      "application/vnd.jupyter.widget-view+json": {
       "model_id": "d2bc245b7ecf4b0ebd0d2d02bcaaf656",
       "version_major": 2,
       "version_minor": 0
      },
      "text/plain": [
       "interactive(children=(Dropdown(description='location', options=('Gila River Relocation Center', 'Poston Reloca…"
      ]
     },
     "metadata": {},
     "output_type": "display_data"
    }
   ],
   "source": [
    "location_dict = {'Topaz Relocation Center':'Topaz/Central Utah', \n",
    "                 'Poston Relocation Center':'Poston/Colorado River',\n",
    "                 'Gila River Relocation Center':'Gila River', \n",
    "                 'Granada Relocation Center': 'Granada', \n",
    "                 'Heart Mountain Relocation Center':'Heart Mountain', \n",
    "                 'Jerome Relocation Center':'Jerome', \n",
    "                 'Manzanar Relocation Center':'Manzanar',\n",
    "                 'Minidoka Relocation Center':'Minidoka', \n",
    "                 'Rohwer Relocation Center':'Rohwer', \n",
    "                 'Tule Lake Relocation Center':'Tule Lake'} \n",
    "def pop_diff(location):\n",
    "    plt.subplots(dpi=250)\n",
    "    sns.set(font_scale=.8)\n",
    "    pbm_max = pop_by_month[location_dict[location]].max()\n",
    "    camps_max = camps[camps['Internment Camp Name'] == location]['Maximum Population']\n",
    "    bar = sns.barplot(x =['camps df', 'pop_by_month df'], y=[camps_max, pbm_max]);\n",
    "    \n",
    "Location = interact(pop_diff, location=camps['Internment Camp Name'].values);"
   ]
  },
  {
   "cell_type": "markdown",
   "metadata": {},
   "source": [
    "### Discussion Question"
   ]
  },
  {
   "cell_type": "markdown",
   "metadata": {},
   "source": [
    "<font color = #d14d0f>**QUESTION 1**:</font> Consider the visualization above. Identify its primary flaw (if any) and give a recommendation on how to improve this barplot."
   ]
  },
  {
   "cell_type": "markdown",
   "metadata": {},
   "source": [
    "**Answer:** YOUR ANSWER HERE"
   ]
  },
  {
   "cell_type": "markdown",
   "metadata": {
    "#student": false
   },
   "source": [
    "<br>\n",
    "Now we can look at the data and start to see beyond the numbers. **This over-laid line plot compares the change in populations of the camps by month.** "
   ]
  },
  {
   "cell_type": "code",
   "execution_count": 32,
   "metadata": {
    "#student": false
   },
   "outputs": [
    {
     "data": {
      "application/vnd.plotly.v1+json": {
       "config": {
        "plotlyServerURL": "https://plot.ly"
       },
       "data": [
        {
         "hovertemplate": "Camp=Topaz/Central Utah<br>Date=%{x}<br>Population=%{y}<extra></extra>",
         "legendgroup": "Topaz/Central Utah",
         "line": {
          "color": "#636efa",
          "dash": "solid"
         },
         "mode": "lines",
         "name": "Topaz/Central Utah",
         "orientation": "v",
         "showlegend": true,
         "type": "scatter",
         "x": [
          "1942-06-01T00:00:00",
          "1942-07-01T00:00:00",
          "1942-08-01T00:00:00",
          "1942-09-01T00:00:00",
          "1942-10-01T00:00:00",
          "1942-11-01T00:00:00",
          "1942-12-01T00:00:00",
          "1943-01-01T00:00:00",
          "1943-02-01T00:00:00",
          "1943-03-01T00:00:00",
          "1943-04-01T00:00:00",
          "1943-05-01T00:00:00",
          "1943-06-01T00:00:00",
          "1943-07-01T00:00:00",
          "1943-08-01T00:00:00",
          "1943-09-01T00:00:00",
          "1943-10-01T00:00:00",
          "1943-11-01T00:00:00",
          "1943-12-01T00:00:00",
          "1944-01-01T00:00:00",
          "1944-02-01T00:00:00",
          "1944-03-01T00:00:00",
          "1944-04-01T00:00:00",
          "1944-05-01T00:00:00",
          "1944-06-01T00:00:00",
          "1944-07-01T00:00:00",
          "1944-08-01T00:00:00",
          "1944-09-01T00:00:00",
          "1944-10-01T00:00:00",
          "1944-11-01T00:00:00",
          "1944-12-01T00:00:00",
          "1945-01-01T00:00:00",
          "1945-02-01T00:00:00",
          "1945-03-01T00:00:00",
          "1945-04-01T00:00:00",
          "1945-05-01T00:00:00",
          "1945-06-01T00:00:00",
          "1945-07-01T00:00:00",
          "1945-08-01T00:00:00",
          "1945-09-01T00:00:00",
          "1945-10-01T00:00:00",
          "1945-11-01T00:00:00",
          "1945-12-01T00:00:00",
          "1946-01-01T00:00:00",
          "1946-02-01T00:00:00",
          "1946-03-01T00:00:00"
         ],
         "xaxis": "x",
         "y": [
          0,
          0,
          0,
          0,
          5806,
          8320,
          8294,
          8232,
          8214,
          8152,
          8332,
          8189,
          8018,
          7862,
          7809,
          7682,
          7608,
          7554,
          7585,
          7559,
          7438,
          7350,
          7227,
          7084,
          6879,
          6727,
          6621,
          6426,
          6280,
          6125,
          6026,
          5984,
          5883,
          5742,
          5589,
          5413,
          5165,
          4645,
          4176,
          3339,
          1899,
          0,
          0,
          0,
          0,
          0
         ],
         "yaxis": "y"
        },
        {
         "hovertemplate": "Camp=Poston/Colorado River<br>Date=%{x}<br>Population=%{y}<extra></extra>",
         "legendgroup": "Poston/Colorado River",
         "line": {
          "color": "#EF553B",
          "dash": "solid"
         },
         "mode": "lines",
         "name": "Poston/Colorado River",
         "orientation": "v",
         "showlegend": true,
         "type": "scatter",
         "x": [
          "1942-06-01T00:00:00",
          "1942-07-01T00:00:00",
          "1942-08-01T00:00:00",
          "1942-09-01T00:00:00",
          "1942-10-01T00:00:00",
          "1942-11-01T00:00:00",
          "1942-12-01T00:00:00",
          "1943-01-01T00:00:00",
          "1943-02-01T00:00:00",
          "1943-03-01T00:00:00",
          "1943-04-01T00:00:00",
          "1943-05-01T00:00:00",
          "1943-06-01T00:00:00",
          "1943-07-01T00:00:00",
          "1943-08-01T00:00:00",
          "1943-09-01T00:00:00",
          "1943-10-01T00:00:00",
          "1943-11-01T00:00:00",
          "1943-12-01T00:00:00",
          "1944-01-01T00:00:00",
          "1944-02-01T00:00:00",
          "1944-03-01T00:00:00",
          "1944-04-01T00:00:00",
          "1944-05-01T00:00:00",
          "1944-06-01T00:00:00",
          "1944-07-01T00:00:00",
          "1944-08-01T00:00:00",
          "1944-09-01T00:00:00",
          "1944-10-01T00:00:00",
          "1944-11-01T00:00:00",
          "1944-12-01T00:00:00",
          "1945-01-01T00:00:00",
          "1945-02-01T00:00:00",
          "1945-03-01T00:00:00",
          "1945-04-01T00:00:00",
          "1945-05-01T00:00:00",
          "1945-06-01T00:00:00",
          "1945-07-01T00:00:00",
          "1945-08-01T00:00:00",
          "1945-09-01T00:00:00",
          "1945-10-01T00:00:00",
          "1945-11-01T00:00:00",
          "1945-12-01T00:00:00",
          "1946-01-01T00:00:00",
          "1946-02-01T00:00:00",
          "1946-03-01T00:00:00"
         ],
         "xaxis": "x",
         "y": [
          7281,
          8755,
          13262,
          17818,
          17847,
          17877,
          17965,
          8039,
          18025,
          17984,
          17941,
          17741,
          17406,
          16995,
          16671,
          16279,
          16013,
          14470,
          14372,
          14295,
          14109,
          13876,
          13453,
          13241,
          13021,
          12725,
          12517,
          12152,
          12059,
          11881,
          11751,
          11710,
          11480,
          11251,
          10828,
          10421,
          9979,
          9386,
          8750,
          6828,
          2730,
          1088,
          0,
          0,
          0,
          0
         ],
         "yaxis": "y"
        },
        {
         "hovertemplate": "Camp=Gila River<br>Date=%{x}<br>Population=%{y}<extra></extra>",
         "legendgroup": "Gila River",
         "line": {
          "color": "#00cc96",
          "dash": "solid"
         },
         "mode": "lines",
         "name": "Gila River",
         "orientation": "v",
         "showlegend": true,
         "type": "scatter",
         "x": [
          "1942-06-01T00:00:00",
          "1942-07-01T00:00:00",
          "1942-08-01T00:00:00",
          "1942-09-01T00:00:00",
          "1942-10-01T00:00:00",
          "1942-11-01T00:00:00",
          "1942-12-01T00:00:00",
          "1943-01-01T00:00:00",
          "1943-02-01T00:00:00",
          "1943-03-01T00:00:00",
          "1943-04-01T00:00:00",
          "1943-05-01T00:00:00",
          "1943-06-01T00:00:00",
          "1943-07-01T00:00:00",
          "1943-08-01T00:00:00",
          "1943-09-01T00:00:00",
          "1943-10-01T00:00:00",
          "1943-11-01T00:00:00",
          "1943-12-01T00:00:00",
          "1944-01-01T00:00:00",
          "1944-02-01T00:00:00",
          "1944-03-01T00:00:00",
          "1944-04-01T00:00:00",
          "1944-05-01T00:00:00",
          "1944-06-01T00:00:00",
          "1944-07-01T00:00:00",
          "1944-08-01T00:00:00",
          "1944-09-01T00:00:00",
          "1944-10-01T00:00:00",
          "1944-11-01T00:00:00",
          "1944-12-01T00:00:00",
          "1945-01-01T00:00:00",
          "1945-02-01T00:00:00",
          "1945-03-01T00:00:00",
          "1945-04-01T00:00:00",
          "1945-05-01T00:00:00",
          "1945-06-01T00:00:00",
          "1945-07-01T00:00:00",
          "1945-08-01T00:00:00",
          "1945-09-01T00:00:00",
          "1945-10-01T00:00:00",
          "1945-11-01T00:00:00",
          "1945-12-01T00:00:00",
          "1946-01-01T00:00:00",
          "1946-02-01T00:00:00",
          "1946-03-01T00:00:00"
         ],
         "xaxis": "x",
         "y": [
          0,
          0,
          2106,
          9150,
          11555,
          13368,
          13368,
          13420,
          13411,
          13374,
          13372,
          13224,
          12954,
          12683,
          12542,
          12251,
          12056,
          10017,
          9898,
          9869,
          9800,
          9655,
          9419,
          9199,
          8788,
          10531,
          10291,
          9951,
          9651,
          9550,
          9534,
          9550,
          9432,
          9207,
          8988,
          8716,
          8319,
          7684,
          6765,
          5141,
          2760,
          754,
          0,
          0,
          0,
          0
         ],
         "yaxis": "y"
        },
        {
         "hovertemplate": "Camp=Granada<br>Date=%{x}<br>Population=%{y}<extra></extra>",
         "legendgroup": "Granada",
         "line": {
          "color": "#ab63fa",
          "dash": "solid"
         },
         "mode": "lines",
         "name": "Granada",
         "orientation": "v",
         "showlegend": true,
         "type": "scatter",
         "x": [
          "1942-06-01T00:00:00",
          "1942-07-01T00:00:00",
          "1942-08-01T00:00:00",
          "1942-09-01T00:00:00",
          "1942-10-01T00:00:00",
          "1942-11-01T00:00:00",
          "1942-12-01T00:00:00",
          "1943-01-01T00:00:00",
          "1943-02-01T00:00:00",
          "1943-03-01T00:00:00",
          "1943-04-01T00:00:00",
          "1943-05-01T00:00:00",
          "1943-06-01T00:00:00",
          "1943-07-01T00:00:00",
          "1943-08-01T00:00:00",
          "1943-09-01T00:00:00",
          "1943-10-01T00:00:00",
          "1943-11-01T00:00:00",
          "1943-12-01T00:00:00",
          "1944-01-01T00:00:00",
          "1944-02-01T00:00:00",
          "1944-03-01T00:00:00",
          "1944-04-01T00:00:00",
          "1944-05-01T00:00:00",
          "1944-06-01T00:00:00",
          "1944-07-01T00:00:00",
          "1944-08-01T00:00:00",
          "1944-09-01T00:00:00",
          "1944-10-01T00:00:00",
          "1944-11-01T00:00:00",
          "1944-12-01T00:00:00",
          "1945-01-01T00:00:00",
          "1945-02-01T00:00:00",
          "1945-03-01T00:00:00",
          "1945-04-01T00:00:00",
          "1945-05-01T00:00:00",
          "1945-06-01T00:00:00",
          "1945-07-01T00:00:00",
          "1945-08-01T00:00:00",
          "1945-09-01T00:00:00",
          "1945-10-01T00:00:00",
          "1945-11-01T00:00:00",
          "1945-12-01T00:00:00",
          "1946-01-01T00:00:00",
          "1946-02-01T00:00:00",
          "1946-03-01T00:00:00"
         ],
         "xaxis": "x",
         "y": [
          0,
          0,
          0,
          212,
          7480,
          7654,
          7651,
          7656,
          7622,
          7619,
          7476,
          7222,
          7016,
          6931,
          3876,
          6764,
          7494,
          7368,
          7393,
          7355,
          7176,
          6983,
          6786,
          6685,
          6424,
          6816,
          6664,
          6490,
          6403,
          6371,
          6311,
          6255,
          6177,
          6035,
          5805,
          5411,
          4980,
          4256,
          3758,
          3155,
          1379,
          0,
          0,
          0,
          0,
          0
         ],
         "yaxis": "y"
        },
        {
         "hovertemplate": "Camp=Heart Mountain<br>Date=%{x}<br>Population=%{y}<extra></extra>",
         "legendgroup": "Heart Mountain",
         "line": {
          "color": "#FFA15A",
          "dash": "solid"
         },
         "mode": "lines",
         "name": "Heart Mountain",
         "orientation": "v",
         "showlegend": true,
         "type": "scatter",
         "x": [
          "1942-06-01T00:00:00",
          "1942-07-01T00:00:00",
          "1942-08-01T00:00:00",
          "1942-09-01T00:00:00",
          "1942-10-01T00:00:00",
          "1942-11-01T00:00:00",
          "1942-12-01T00:00:00",
          "1943-01-01T00:00:00",
          "1943-02-01T00:00:00",
          "1943-03-01T00:00:00",
          "1943-04-01T00:00:00",
          "1943-05-01T00:00:00",
          "1943-06-01T00:00:00",
          "1943-07-01T00:00:00",
          "1943-08-01T00:00:00",
          "1943-09-01T00:00:00",
          "1943-10-01T00:00:00",
          "1943-11-01T00:00:00",
          "1943-12-01T00:00:00",
          "1944-01-01T00:00:00",
          "1944-02-01T00:00:00",
          "1944-03-01T00:00:00",
          "1944-04-01T00:00:00",
          "1944-05-01T00:00:00",
          "1944-06-01T00:00:00",
          "1944-07-01T00:00:00",
          "1944-08-01T00:00:00",
          "1944-09-01T00:00:00",
          "1944-10-01T00:00:00",
          "1944-11-01T00:00:00",
          "1944-12-01T00:00:00",
          "1945-01-01T00:00:00",
          "1945-02-01T00:00:00",
          "1945-03-01T00:00:00",
          "1945-04-01T00:00:00",
          "1945-05-01T00:00:00",
          "1945-06-01T00:00:00",
          "1945-07-01T00:00:00",
          "1945-08-01T00:00:00",
          "1945-09-01T00:00:00",
          "1945-10-01T00:00:00",
          "1945-11-01T00:00:00",
          "1945-12-01T00:00:00",
          "1946-01-01T00:00:00",
          "1946-02-01T00:00:00",
          "1946-03-01T00:00:00"
         ],
         "xaxis": "x",
         "y": [
          0,
          0,
          0,
          5758,
          10813,
          11107,
          11105,
          11062,
          11006,
          10959,
          10886,
          10724,
          10520,
          10307,
          10178,
          10073,
          10509,
          10426,
          10406,
          10388,
          10242,
          10112,
          9962,
          9760,
          9420,
          9712,
          9433,
          9241,
          9035,
          8886,
          8669,
          8537,
          8445,
          8213,
          7997,
          7556,
          7084,
          6325,
          5714,
          4611,
          3312,
          1156,
          0,
          0,
          0,
          0
         ],
         "yaxis": "y"
        },
        {
         "hovertemplate": "Camp=Jerome<br>Date=%{x}<br>Population=%{y}<extra></extra>",
         "legendgroup": "Jerome",
         "line": {
          "color": "#19d3f3",
          "dash": "solid"
         },
         "mode": "lines",
         "name": "Jerome",
         "orientation": "v",
         "showlegend": true,
         "type": "scatter",
         "x": [
          "1942-06-01T00:00:00",
          "1942-07-01T00:00:00",
          "1942-08-01T00:00:00",
          "1942-09-01T00:00:00",
          "1942-10-01T00:00:00",
          "1942-11-01T00:00:00",
          "1942-12-01T00:00:00",
          "1943-01-01T00:00:00",
          "1943-02-01T00:00:00",
          "1943-03-01T00:00:00",
          "1943-04-01T00:00:00",
          "1943-05-01T00:00:00",
          "1943-06-01T00:00:00",
          "1943-07-01T00:00:00",
          "1943-08-01T00:00:00",
          "1943-09-01T00:00:00",
          "1943-10-01T00:00:00",
          "1943-11-01T00:00:00",
          "1943-12-01T00:00:00",
          "1944-01-01T00:00:00",
          "1944-02-01T00:00:00",
          "1944-03-01T00:00:00",
          "1944-04-01T00:00:00",
          "1944-05-01T00:00:00",
          "1944-06-01T00:00:00",
          "1944-07-01T00:00:00",
          "1944-08-01T00:00:00",
          "1944-09-01T00:00:00",
          "1944-10-01T00:00:00",
          "1944-11-01T00:00:00",
          "1944-12-01T00:00:00",
          "1945-01-01T00:00:00",
          "1945-02-01T00:00:00",
          "1945-03-01T00:00:00",
          "1945-04-01T00:00:00",
          "1945-05-01T00:00:00",
          "1945-06-01T00:00:00",
          "1945-07-01T00:00:00",
          "1945-08-01T00:00:00",
          "1945-09-01T00:00:00",
          "1945-10-01T00:00:00",
          "1945-11-01T00:00:00",
          "1945-12-01T00:00:00",
          "1946-01-01T00:00:00",
          "1946-02-01T00:00:00",
          "1946-03-01T00:00:00"
         ],
         "xaxis": "x",
         "y": [
          0,
          0,
          0,
          0,
          0,
          7039,
          7925,
          7932,
          8354,
          8587,
          8526,
          8350,
          8182,
          7972,
          7808,
          7649,
          6899,
          6787,
          6726,
          6700,
          6632,
          6537,
          6529,
          6467,
          5601,
          4,
          4,
          4,
          3,
          3,
          3,
          3,
          2,
          2,
          0,
          0,
          0,
          0,
          0,
          0,
          0,
          0,
          0,
          0,
          0,
          0
         ],
         "yaxis": "y"
        },
        {
         "hovertemplate": "Camp=Manzanar<br>Date=%{x}<br>Population=%{y}<extra></extra>",
         "legendgroup": "Manzanar",
         "line": {
          "color": "#FF6692",
          "dash": "solid"
         },
         "mode": "lines",
         "name": "Manzanar",
         "orientation": "v",
         "showlegend": true,
         "type": "scatter",
         "x": [
          "1942-06-01T00:00:00",
          "1942-07-01T00:00:00",
          "1942-08-01T00:00:00",
          "1942-09-01T00:00:00",
          "1942-10-01T00:00:00",
          "1942-11-01T00:00:00",
          "1942-12-01T00:00:00",
          "1943-01-01T00:00:00",
          "1943-02-01T00:00:00",
          "1943-03-01T00:00:00",
          "1943-04-01T00:00:00",
          "1943-05-01T00:00:00",
          "1943-06-01T00:00:00",
          "1943-07-01T00:00:00",
          "1943-08-01T00:00:00",
          "1943-09-01T00:00:00",
          "1943-10-01T00:00:00",
          "1943-11-01T00:00:00",
          "1943-12-01T00:00:00",
          "1944-01-01T00:00:00",
          "1944-02-01T00:00:00",
          "1944-03-01T00:00:00",
          "1944-04-01T00:00:00",
          "1944-05-01T00:00:00",
          "1944-06-01T00:00:00",
          "1944-07-01T00:00:00",
          "1944-08-01T00:00:00",
          "1944-09-01T00:00:00",
          "1944-10-01T00:00:00",
          "1944-11-01T00:00:00",
          "1944-12-01T00:00:00",
          "1945-01-01T00:00:00",
          "1945-02-01T00:00:00",
          "1945-03-01T00:00:00",
          "1945-04-01T00:00:00",
          "1945-05-01T00:00:00",
          "1945-06-01T00:00:00",
          "1945-07-01T00:00:00",
          "1945-08-01T00:00:00",
          "1945-09-01T00:00:00",
          "1945-10-01T00:00:00",
          "1945-11-01T00:00:00",
          "1945-12-01T00:00:00",
          "1946-01-01T00:00:00",
          "1946-02-01T00:00:00",
          "1946-03-01T00:00:00"
         ],
         "xaxis": "x",
         "y": [
          9666,
          9840,
          9928,
          10072,
          10256,
          10181,
          10177,
          10121,
          10079,
          9796,
          9707,
          9496,
          9272,
          9197,
          9163,
          9105,
          9045,
          8701,
          8621,
          8643,
          8580,
          6655,
          6565,
          6456,
          6341,
          6232,
          6138,
          6057,
          5939,
          5836,
          5668,
          5588,
          5522,
          5435,
          5298,
          5030,
          4658,
          4248,
          3994,
          3552,
          2891,
          1146,
          0,
          0,
          0,
          0
         ],
         "yaxis": "y"
        },
        {
         "hovertemplate": "Camp=Minidoka<br>Date=%{x}<br>Population=%{y}<extra></extra>",
         "legendgroup": "Minidoka",
         "line": {
          "color": "#B6E880",
          "dash": "solid"
         },
         "mode": "lines",
         "name": "Minidoka",
         "orientation": "v",
         "showlegend": true,
         "type": "scatter",
         "x": [
          "1942-06-01T00:00:00",
          "1942-07-01T00:00:00",
          "1942-08-01T00:00:00",
          "1942-09-01T00:00:00",
          "1942-10-01T00:00:00",
          "1942-11-01T00:00:00",
          "1942-12-01T00:00:00",
          "1943-01-01T00:00:00",
          "1943-02-01T00:00:00",
          "1943-03-01T00:00:00",
          "1943-04-01T00:00:00",
          "1943-05-01T00:00:00",
          "1943-06-01T00:00:00",
          "1943-07-01T00:00:00",
          "1943-08-01T00:00:00",
          "1943-09-01T00:00:00",
          "1943-10-01T00:00:00",
          "1943-11-01T00:00:00",
          "1943-12-01T00:00:00",
          "1944-01-01T00:00:00",
          "1944-02-01T00:00:00",
          "1944-03-01T00:00:00",
          "1944-04-01T00:00:00",
          "1944-05-01T00:00:00",
          "1944-06-01T00:00:00",
          "1944-07-01T00:00:00",
          "1944-08-01T00:00:00",
          "1944-09-01T00:00:00",
          "1944-10-01T00:00:00",
          "1944-11-01T00:00:00",
          "1944-12-01T00:00:00",
          "1945-01-01T00:00:00",
          "1945-02-01T00:00:00",
          "1945-03-01T00:00:00",
          "1945-04-01T00:00:00",
          "1945-05-01T00:00:00",
          "1945-06-01T00:00:00",
          "1945-07-01T00:00:00",
          "1945-08-01T00:00:00",
          "1945-09-01T00:00:00",
          "1945-10-01T00:00:00",
          "1945-11-01T00:00:00",
          "1945-12-01T00:00:00",
          "1946-01-01T00:00:00",
          "1946-02-01T00:00:00",
          "1946-03-01T00:00:00"
         ],
         "xaxis": "x",
         "y": [
          0,
          0,
          0,
          4840,
          9200,
          9846,
          9849,
          9861,
          9814,
          9924,
          9772,
          9401,
          8989,
          8752,
          8556,
          8325,
          9530,
          9419,
          9492,
          9461,
          9374,
          9288,
          9027,
          8856,
          8514,
          8335,
          8160,
          8099,
          7972,
          7976,
          7867,
          7770,
          7574,
          7373,
          6851,
          6382,
          5615,
          4937,
          4330,
          3218,
          1482,
          0,
          0,
          0,
          0,
          0
         ],
         "yaxis": "y"
        },
        {
         "hovertemplate": "Camp=Rohwer<br>Date=%{x}<br>Population=%{y}<extra></extra>",
         "legendgroup": "Rohwer",
         "line": {
          "color": "#FF97FF",
          "dash": "solid"
         },
         "mode": "lines",
         "name": "Rohwer",
         "orientation": "v",
         "showlegend": true,
         "type": "scatter",
         "x": [
          "1942-06-01T00:00:00",
          "1942-07-01T00:00:00",
          "1942-08-01T00:00:00",
          "1942-09-01T00:00:00",
          "1942-10-01T00:00:00",
          "1942-11-01T00:00:00",
          "1942-12-01T00:00:00",
          "1943-01-01T00:00:00",
          "1943-02-01T00:00:00",
          "1943-03-01T00:00:00",
          "1943-04-01T00:00:00",
          "1943-05-01T00:00:00",
          "1943-06-01T00:00:00",
          "1943-07-01T00:00:00",
          "1943-08-01T00:00:00",
          "1943-09-01T00:00:00",
          "1943-10-01T00:00:00",
          "1943-11-01T00:00:00",
          "1943-12-01T00:00:00",
          "1944-01-01T00:00:00",
          "1944-02-01T00:00:00",
          "1944-03-01T00:00:00",
          "1944-04-01T00:00:00",
          "1944-05-01T00:00:00",
          "1944-06-01T00:00:00",
          "1944-07-01T00:00:00",
          "1944-08-01T00:00:00",
          "1944-09-01T00:00:00",
          "1944-10-01T00:00:00",
          "1944-11-01T00:00:00",
          "1944-12-01T00:00:00",
          "1945-01-01T00:00:00",
          "1945-02-01T00:00:00",
          "1945-03-01T00:00:00",
          "1945-04-01T00:00:00",
          "1945-05-01T00:00:00",
          "1945-06-01T00:00:00",
          "1945-07-01T00:00:00",
          "1945-08-01T00:00:00",
          "1945-09-01T00:00:00",
          "1945-10-01T00:00:00",
          "1945-11-01T00:00:00",
          "1945-12-01T00:00:00",
          "1946-01-01T00:00:00",
          "1946-02-01T00:00:00",
          "1946-03-01T00:00:00"
         ],
         "xaxis": "x",
         "y": [
          0,
          0,
          0,
          0,
          2265,
          8407,
          8515,
          8548,
          8538,
          8528,
          8478,
          8286,
          8061,
          7895,
          7781,
          7552,
          7123,
          6731,
          6676,
          6676,
          6600,
          6514,
          6375,
          6248,
          5479,
          7623,
          7279,
          6900,
          6764,
          6700,
          6689,
          6747,
          6697,
          6563,
          6339,
          5991,
          5447,
          4910,
          4098,
          3332,
          2175,
          1804,
          0,
          0,
          0,
          0
         ],
         "yaxis": "y"
        },
        {
         "hovertemplate": "Camp=Tule Lake<br>Date=%{x}<br>Population=%{y}<extra></extra>",
         "legendgroup": "Tule Lake",
         "line": {
          "color": "#FECB52",
          "dash": "solid"
         },
         "mode": "lines",
         "name": "Tule Lake",
         "orientation": "v",
         "showlegend": true,
         "type": "scatter",
         "x": [
          "1942-06-01T00:00:00",
          "1942-07-01T00:00:00",
          "1942-08-01T00:00:00",
          "1942-09-01T00:00:00",
          "1942-10-01T00:00:00",
          "1942-11-01T00:00:00",
          "1942-12-01T00:00:00",
          "1943-01-01T00:00:00",
          "1943-02-01T00:00:00",
          "1943-03-01T00:00:00",
          "1943-04-01T00:00:00",
          "1943-05-01T00:00:00",
          "1943-06-01T00:00:00",
          "1943-07-01T00:00:00",
          "1943-08-01T00:00:00",
          "1943-09-01T00:00:00",
          "1943-10-01T00:00:00",
          "1943-11-01T00:00:00",
          "1943-12-01T00:00:00",
          "1944-01-01T00:00:00",
          "1944-02-01T00:00:00",
          "1944-03-01T00:00:00",
          "1944-04-01T00:00:00",
          "1944-05-01T00:00:00",
          "1944-06-01T00:00:00",
          "1944-07-01T00:00:00",
          "1944-08-01T00:00:00",
          "1944-09-01T00:00:00",
          "1944-10-01T00:00:00",
          "1944-11-01T00:00:00",
          "1944-12-01T00:00:00",
          "1945-01-01T00:00:00",
          "1945-02-01T00:00:00",
          "1945-03-01T00:00:00",
          "1945-04-01T00:00:00",
          "1945-05-01T00:00:00",
          "1945-06-01T00:00:00",
          "1945-07-01T00:00:00",
          "1945-08-01T00:00:00",
          "1945-09-01T00:00:00",
          "1945-10-01T00:00:00",
          "1945-11-01T00:00:00",
          "1945-12-01T00:00:00",
          "1946-01-01T00:00:00",
          "1946-02-01T00:00:00",
          "1946-03-01T00:00:00"
         ],
         "xaxis": "x",
         "y": [
          446,
          9038,
          15020,
          15181,
          15277,
          15393,
          15311,
          15369,
          15274,
          15219,
          15124,
          15015,
          14828,
          14630,
          14484,
          14185,
          12183,
          16012,
          15671,
          15630,
          15625,
          17492,
          17580,
          16964,
          18652,
          18678,
          18709,
          18726,
          18728,
          18718,
          18770,
          18734,
          18593,
          17953,
          17864,
          17886,
          17879,
          17466,
          17366,
          17286,
          16740,
          15450,
          12628,
          7303,
          5046,
          2808
         ],
         "yaxis": "y"
        }
       ],
       "layout": {
        "legend": {
         "title": {
          "text": "Camp"
         },
         "tracegroupgap": 0
        },
        "template": {
         "data": {
          "bar": [
           {
            "error_x": {
             "color": "#2a3f5f"
            },
            "error_y": {
             "color": "#2a3f5f"
            },
            "marker": {
             "line": {
              "color": "#E5ECF6",
              "width": 0.5
             }
            },
            "type": "bar"
           }
          ],
          "barpolar": [
           {
            "marker": {
             "line": {
              "color": "#E5ECF6",
              "width": 0.5
             }
            },
            "type": "barpolar"
           }
          ],
          "carpet": [
           {
            "aaxis": {
             "endlinecolor": "#2a3f5f",
             "gridcolor": "white",
             "linecolor": "white",
             "minorgridcolor": "white",
             "startlinecolor": "#2a3f5f"
            },
            "baxis": {
             "endlinecolor": "#2a3f5f",
             "gridcolor": "white",
             "linecolor": "white",
             "minorgridcolor": "white",
             "startlinecolor": "#2a3f5f"
            },
            "type": "carpet"
           }
          ],
          "choropleth": [
           {
            "colorbar": {
             "outlinewidth": 0,
             "ticks": ""
            },
            "type": "choropleth"
           }
          ],
          "contour": [
           {
            "colorbar": {
             "outlinewidth": 0,
             "ticks": ""
            },
            "colorscale": [
             [
              0,
              "#0d0887"
             ],
             [
              0.1111111111111111,
              "#46039f"
             ],
             [
              0.2222222222222222,
              "#7201a8"
             ],
             [
              0.3333333333333333,
              "#9c179e"
             ],
             [
              0.4444444444444444,
              "#bd3786"
             ],
             [
              0.5555555555555556,
              "#d8576b"
             ],
             [
              0.6666666666666666,
              "#ed7953"
             ],
             [
              0.7777777777777778,
              "#fb9f3a"
             ],
             [
              0.8888888888888888,
              "#fdca26"
             ],
             [
              1,
              "#f0f921"
             ]
            ],
            "type": "contour"
           }
          ],
          "contourcarpet": [
           {
            "colorbar": {
             "outlinewidth": 0,
             "ticks": ""
            },
            "type": "contourcarpet"
           }
          ],
          "heatmap": [
           {
            "colorbar": {
             "outlinewidth": 0,
             "ticks": ""
            },
            "colorscale": [
             [
              0,
              "#0d0887"
             ],
             [
              0.1111111111111111,
              "#46039f"
             ],
             [
              0.2222222222222222,
              "#7201a8"
             ],
             [
              0.3333333333333333,
              "#9c179e"
             ],
             [
              0.4444444444444444,
              "#bd3786"
             ],
             [
              0.5555555555555556,
              "#d8576b"
             ],
             [
              0.6666666666666666,
              "#ed7953"
             ],
             [
              0.7777777777777778,
              "#fb9f3a"
             ],
             [
              0.8888888888888888,
              "#fdca26"
             ],
             [
              1,
              "#f0f921"
             ]
            ],
            "type": "heatmap"
           }
          ],
          "heatmapgl": [
           {
            "colorbar": {
             "outlinewidth": 0,
             "ticks": ""
            },
            "colorscale": [
             [
              0,
              "#0d0887"
             ],
             [
              0.1111111111111111,
              "#46039f"
             ],
             [
              0.2222222222222222,
              "#7201a8"
             ],
             [
              0.3333333333333333,
              "#9c179e"
             ],
             [
              0.4444444444444444,
              "#bd3786"
             ],
             [
              0.5555555555555556,
              "#d8576b"
             ],
             [
              0.6666666666666666,
              "#ed7953"
             ],
             [
              0.7777777777777778,
              "#fb9f3a"
             ],
             [
              0.8888888888888888,
              "#fdca26"
             ],
             [
              1,
              "#f0f921"
             ]
            ],
            "type": "heatmapgl"
           }
          ],
          "histogram": [
           {
            "marker": {
             "colorbar": {
              "outlinewidth": 0,
              "ticks": ""
             }
            },
            "type": "histogram"
           }
          ],
          "histogram2d": [
           {
            "colorbar": {
             "outlinewidth": 0,
             "ticks": ""
            },
            "colorscale": [
             [
              0,
              "#0d0887"
             ],
             [
              0.1111111111111111,
              "#46039f"
             ],
             [
              0.2222222222222222,
              "#7201a8"
             ],
             [
              0.3333333333333333,
              "#9c179e"
             ],
             [
              0.4444444444444444,
              "#bd3786"
             ],
             [
              0.5555555555555556,
              "#d8576b"
             ],
             [
              0.6666666666666666,
              "#ed7953"
             ],
             [
              0.7777777777777778,
              "#fb9f3a"
             ],
             [
              0.8888888888888888,
              "#fdca26"
             ],
             [
              1,
              "#f0f921"
             ]
            ],
            "type": "histogram2d"
           }
          ],
          "histogram2dcontour": [
           {
            "colorbar": {
             "outlinewidth": 0,
             "ticks": ""
            },
            "colorscale": [
             [
              0,
              "#0d0887"
             ],
             [
              0.1111111111111111,
              "#46039f"
             ],
             [
              0.2222222222222222,
              "#7201a8"
             ],
             [
              0.3333333333333333,
              "#9c179e"
             ],
             [
              0.4444444444444444,
              "#bd3786"
             ],
             [
              0.5555555555555556,
              "#d8576b"
             ],
             [
              0.6666666666666666,
              "#ed7953"
             ],
             [
              0.7777777777777778,
              "#fb9f3a"
             ],
             [
              0.8888888888888888,
              "#fdca26"
             ],
             [
              1,
              "#f0f921"
             ]
            ],
            "type": "histogram2dcontour"
           }
          ],
          "mesh3d": [
           {
            "colorbar": {
             "outlinewidth": 0,
             "ticks": ""
            },
            "type": "mesh3d"
           }
          ],
          "parcoords": [
           {
            "line": {
             "colorbar": {
              "outlinewidth": 0,
              "ticks": ""
             }
            },
            "type": "parcoords"
           }
          ],
          "pie": [
           {
            "automargin": true,
            "type": "pie"
           }
          ],
          "scatter": [
           {
            "marker": {
             "colorbar": {
              "outlinewidth": 0,
              "ticks": ""
             }
            },
            "type": "scatter"
           }
          ],
          "scatter3d": [
           {
            "line": {
             "colorbar": {
              "outlinewidth": 0,
              "ticks": ""
             }
            },
            "marker": {
             "colorbar": {
              "outlinewidth": 0,
              "ticks": ""
             }
            },
            "type": "scatter3d"
           }
          ],
          "scattercarpet": [
           {
            "marker": {
             "colorbar": {
              "outlinewidth": 0,
              "ticks": ""
             }
            },
            "type": "scattercarpet"
           }
          ],
          "scattergeo": [
           {
            "marker": {
             "colorbar": {
              "outlinewidth": 0,
              "ticks": ""
             }
            },
            "type": "scattergeo"
           }
          ],
          "scattergl": [
           {
            "marker": {
             "colorbar": {
              "outlinewidth": 0,
              "ticks": ""
             }
            },
            "type": "scattergl"
           }
          ],
          "scattermapbox": [
           {
            "marker": {
             "colorbar": {
              "outlinewidth": 0,
              "ticks": ""
             }
            },
            "type": "scattermapbox"
           }
          ],
          "scatterpolar": [
           {
            "marker": {
             "colorbar": {
              "outlinewidth": 0,
              "ticks": ""
             }
            },
            "type": "scatterpolar"
           }
          ],
          "scatterpolargl": [
           {
            "marker": {
             "colorbar": {
              "outlinewidth": 0,
              "ticks": ""
             }
            },
            "type": "scatterpolargl"
           }
          ],
          "scatterternary": [
           {
            "marker": {
             "colorbar": {
              "outlinewidth": 0,
              "ticks": ""
             }
            },
            "type": "scatterternary"
           }
          ],
          "surface": [
           {
            "colorbar": {
             "outlinewidth": 0,
             "ticks": ""
            },
            "colorscale": [
             [
              0,
              "#0d0887"
             ],
             [
              0.1111111111111111,
              "#46039f"
             ],
             [
              0.2222222222222222,
              "#7201a8"
             ],
             [
              0.3333333333333333,
              "#9c179e"
             ],
             [
              0.4444444444444444,
              "#bd3786"
             ],
             [
              0.5555555555555556,
              "#d8576b"
             ],
             [
              0.6666666666666666,
              "#ed7953"
             ],
             [
              0.7777777777777778,
              "#fb9f3a"
             ],
             [
              0.8888888888888888,
              "#fdca26"
             ],
             [
              1,
              "#f0f921"
             ]
            ],
            "type": "surface"
           }
          ],
          "table": [
           {
            "cells": {
             "fill": {
              "color": "#EBF0F8"
             },
             "line": {
              "color": "white"
             }
            },
            "header": {
             "fill": {
              "color": "#C8D4E3"
             },
             "line": {
              "color": "white"
             }
            },
            "type": "table"
           }
          ]
         },
         "layout": {
          "annotationdefaults": {
           "arrowcolor": "#2a3f5f",
           "arrowhead": 0,
           "arrowwidth": 1
          },
          "coloraxis": {
           "colorbar": {
            "outlinewidth": 0,
            "ticks": ""
           }
          },
          "colorscale": {
           "diverging": [
            [
             0,
             "#8e0152"
            ],
            [
             0.1,
             "#c51b7d"
            ],
            [
             0.2,
             "#de77ae"
            ],
            [
             0.3,
             "#f1b6da"
            ],
            [
             0.4,
             "#fde0ef"
            ],
            [
             0.5,
             "#f7f7f7"
            ],
            [
             0.6,
             "#e6f5d0"
            ],
            [
             0.7,
             "#b8e186"
            ],
            [
             0.8,
             "#7fbc41"
            ],
            [
             0.9,
             "#4d9221"
            ],
            [
             1,
             "#276419"
            ]
           ],
           "sequential": [
            [
             0,
             "#0d0887"
            ],
            [
             0.1111111111111111,
             "#46039f"
            ],
            [
             0.2222222222222222,
             "#7201a8"
            ],
            [
             0.3333333333333333,
             "#9c179e"
            ],
            [
             0.4444444444444444,
             "#bd3786"
            ],
            [
             0.5555555555555556,
             "#d8576b"
            ],
            [
             0.6666666666666666,
             "#ed7953"
            ],
            [
             0.7777777777777778,
             "#fb9f3a"
            ],
            [
             0.8888888888888888,
             "#fdca26"
            ],
            [
             1,
             "#f0f921"
            ]
           ],
           "sequentialminus": [
            [
             0,
             "#0d0887"
            ],
            [
             0.1111111111111111,
             "#46039f"
            ],
            [
             0.2222222222222222,
             "#7201a8"
            ],
            [
             0.3333333333333333,
             "#9c179e"
            ],
            [
             0.4444444444444444,
             "#bd3786"
            ],
            [
             0.5555555555555556,
             "#d8576b"
            ],
            [
             0.6666666666666666,
             "#ed7953"
            ],
            [
             0.7777777777777778,
             "#fb9f3a"
            ],
            [
             0.8888888888888888,
             "#fdca26"
            ],
            [
             1,
             "#f0f921"
            ]
           ]
          },
          "colorway": [
           "#636efa",
           "#EF553B",
           "#00cc96",
           "#ab63fa",
           "#FFA15A",
           "#19d3f3",
           "#FF6692",
           "#B6E880",
           "#FF97FF",
           "#FECB52"
          ],
          "font": {
           "color": "#2a3f5f"
          },
          "geo": {
           "bgcolor": "white",
           "lakecolor": "white",
           "landcolor": "#E5ECF6",
           "showlakes": true,
           "showland": true,
           "subunitcolor": "white"
          },
          "hoverlabel": {
           "align": "left"
          },
          "hovermode": "closest",
          "mapbox": {
           "style": "light"
          },
          "paper_bgcolor": "white",
          "plot_bgcolor": "#E5ECF6",
          "polar": {
           "angularaxis": {
            "gridcolor": "white",
            "linecolor": "white",
            "ticks": ""
           },
           "bgcolor": "#E5ECF6",
           "radialaxis": {
            "gridcolor": "white",
            "linecolor": "white",
            "ticks": ""
           }
          },
          "scene": {
           "xaxis": {
            "backgroundcolor": "#E5ECF6",
            "gridcolor": "white",
            "gridwidth": 2,
            "linecolor": "white",
            "showbackground": true,
            "ticks": "",
            "zerolinecolor": "white"
           },
           "yaxis": {
            "backgroundcolor": "#E5ECF6",
            "gridcolor": "white",
            "gridwidth": 2,
            "linecolor": "white",
            "showbackground": true,
            "ticks": "",
            "zerolinecolor": "white"
           },
           "zaxis": {
            "backgroundcolor": "#E5ECF6",
            "gridcolor": "white",
            "gridwidth": 2,
            "linecolor": "white",
            "showbackground": true,
            "ticks": "",
            "zerolinecolor": "white"
           }
          },
          "shapedefaults": {
           "line": {
            "color": "#2a3f5f"
           }
          },
          "ternary": {
           "aaxis": {
            "gridcolor": "white",
            "linecolor": "white",
            "ticks": ""
           },
           "baxis": {
            "gridcolor": "white",
            "linecolor": "white",
            "ticks": ""
           },
           "bgcolor": "#E5ECF6",
           "caxis": {
            "gridcolor": "white",
            "linecolor": "white",
            "ticks": ""
           }
          },
          "title": {
           "x": 0.05
          },
          "xaxis": {
           "automargin": true,
           "gridcolor": "white",
           "linecolor": "white",
           "ticks": "",
           "title": {
            "standoff": 15
           },
           "zerolinecolor": "white",
           "zerolinewidth": 2
          },
          "yaxis": {
           "automargin": true,
           "gridcolor": "white",
           "linecolor": "white",
           "ticks": "",
           "title": {
            "standoff": 15
           },
           "zerolinecolor": "white",
           "zerolinewidth": 2
          }
         }
        },
        "title": {
         "text": "Camp Populations by Month"
        },
        "xaxis": {
         "anchor": "y",
         "domain": [
          0,
          1
         ],
         "title": {
          "text": "Date"
         }
        },
        "yaxis": {
         "anchor": "x",
         "domain": [
          0,
          1
         ],
         "title": {
          "text": "Population"
         }
        }
       }
      },
      "text/html": [
       "<div>                            <div id=\"c16f3743-88ac-49e2-90ed-48813a766dab\" class=\"plotly-graph-div\" style=\"height:525px; width:100%;\"></div>            <script type=\"text/javascript\">                require([\"plotly\"], function(Plotly) {                    window.PLOTLYENV=window.PLOTLYENV || {};                                    if (document.getElementById(\"c16f3743-88ac-49e2-90ed-48813a766dab\")) {                    Plotly.newPlot(                        \"c16f3743-88ac-49e2-90ed-48813a766dab\",                        [{\"hovertemplate\": \"Camp=Topaz/Central Utah<br>Date=%{x}<br>Population=%{y}<extra></extra>\", \"legendgroup\": \"Topaz/Central Utah\", \"line\": {\"color\": \"#636efa\", \"dash\": \"solid\"}, \"mode\": \"lines\", \"name\": \"Topaz/Central Utah\", \"orientation\": \"v\", \"showlegend\": true, \"type\": \"scatter\", \"x\": [\"1942-06-01T00:00:00\", \"1942-07-01T00:00:00\", \"1942-08-01T00:00:00\", \"1942-09-01T00:00:00\", \"1942-10-01T00:00:00\", \"1942-11-01T00:00:00\", \"1942-12-01T00:00:00\", \"1943-01-01T00:00:00\", \"1943-02-01T00:00:00\", \"1943-03-01T00:00:00\", \"1943-04-01T00:00:00\", \"1943-05-01T00:00:00\", \"1943-06-01T00:00:00\", \"1943-07-01T00:00:00\", \"1943-08-01T00:00:00\", \"1943-09-01T00:00:00\", \"1943-10-01T00:00:00\", \"1943-11-01T00:00:00\", \"1943-12-01T00:00:00\", \"1944-01-01T00:00:00\", \"1944-02-01T00:00:00\", \"1944-03-01T00:00:00\", \"1944-04-01T00:00:00\", \"1944-05-01T00:00:00\", \"1944-06-01T00:00:00\", \"1944-07-01T00:00:00\", \"1944-08-01T00:00:00\", \"1944-09-01T00:00:00\", \"1944-10-01T00:00:00\", \"1944-11-01T00:00:00\", \"1944-12-01T00:00:00\", \"1945-01-01T00:00:00\", \"1945-02-01T00:00:00\", \"1945-03-01T00:00:00\", \"1945-04-01T00:00:00\", \"1945-05-01T00:00:00\", \"1945-06-01T00:00:00\", \"1945-07-01T00:00:00\", \"1945-08-01T00:00:00\", \"1945-09-01T00:00:00\", \"1945-10-01T00:00:00\", \"1945-11-01T00:00:00\", \"1945-12-01T00:00:00\", \"1946-01-01T00:00:00\", \"1946-02-01T00:00:00\", \"1946-03-01T00:00:00\"], \"xaxis\": \"x\", \"y\": [0, 0, 0, 0, 5806, 8320, 8294, 8232, 8214, 8152, 8332, 8189, 8018, 7862, 7809, 7682, 7608, 7554, 7585, 7559, 7438, 7350, 7227, 7084, 6879, 6727, 6621, 6426, 6280, 6125, 6026, 5984, 5883, 5742, 5589, 5413, 5165, 4645, 4176, 3339, 1899, 0, 0, 0, 0, 0], \"yaxis\": \"y\"}, {\"hovertemplate\": \"Camp=Poston/Colorado River<br>Date=%{x}<br>Population=%{y}<extra></extra>\", \"legendgroup\": \"Poston/Colorado River\", \"line\": {\"color\": \"#EF553B\", \"dash\": \"solid\"}, \"mode\": \"lines\", \"name\": \"Poston/Colorado River\", \"orientation\": \"v\", \"showlegend\": true, \"type\": \"scatter\", \"x\": [\"1942-06-01T00:00:00\", \"1942-07-01T00:00:00\", \"1942-08-01T00:00:00\", \"1942-09-01T00:00:00\", \"1942-10-01T00:00:00\", \"1942-11-01T00:00:00\", \"1942-12-01T00:00:00\", \"1943-01-01T00:00:00\", \"1943-02-01T00:00:00\", \"1943-03-01T00:00:00\", \"1943-04-01T00:00:00\", \"1943-05-01T00:00:00\", \"1943-06-01T00:00:00\", \"1943-07-01T00:00:00\", \"1943-08-01T00:00:00\", \"1943-09-01T00:00:00\", \"1943-10-01T00:00:00\", \"1943-11-01T00:00:00\", \"1943-12-01T00:00:00\", \"1944-01-01T00:00:00\", \"1944-02-01T00:00:00\", \"1944-03-01T00:00:00\", \"1944-04-01T00:00:00\", \"1944-05-01T00:00:00\", \"1944-06-01T00:00:00\", \"1944-07-01T00:00:00\", \"1944-08-01T00:00:00\", \"1944-09-01T00:00:00\", \"1944-10-01T00:00:00\", \"1944-11-01T00:00:00\", \"1944-12-01T00:00:00\", \"1945-01-01T00:00:00\", \"1945-02-01T00:00:00\", \"1945-03-01T00:00:00\", \"1945-04-01T00:00:00\", \"1945-05-01T00:00:00\", \"1945-06-01T00:00:00\", \"1945-07-01T00:00:00\", \"1945-08-01T00:00:00\", \"1945-09-01T00:00:00\", \"1945-10-01T00:00:00\", \"1945-11-01T00:00:00\", \"1945-12-01T00:00:00\", \"1946-01-01T00:00:00\", \"1946-02-01T00:00:00\", \"1946-03-01T00:00:00\"], \"xaxis\": \"x\", \"y\": [7281, 8755, 13262, 17818, 17847, 17877, 17965, 8039, 18025, 17984, 17941, 17741, 17406, 16995, 16671, 16279, 16013, 14470, 14372, 14295, 14109, 13876, 13453, 13241, 13021, 12725, 12517, 12152, 12059, 11881, 11751, 11710, 11480, 11251, 10828, 10421, 9979, 9386, 8750, 6828, 2730, 1088, 0, 0, 0, 0], \"yaxis\": \"y\"}, {\"hovertemplate\": \"Camp=Gila River<br>Date=%{x}<br>Population=%{y}<extra></extra>\", \"legendgroup\": \"Gila River\", \"line\": {\"color\": \"#00cc96\", \"dash\": \"solid\"}, \"mode\": \"lines\", \"name\": \"Gila River\", \"orientation\": \"v\", \"showlegend\": true, \"type\": \"scatter\", \"x\": [\"1942-06-01T00:00:00\", \"1942-07-01T00:00:00\", \"1942-08-01T00:00:00\", \"1942-09-01T00:00:00\", \"1942-10-01T00:00:00\", \"1942-11-01T00:00:00\", \"1942-12-01T00:00:00\", \"1943-01-01T00:00:00\", \"1943-02-01T00:00:00\", \"1943-03-01T00:00:00\", \"1943-04-01T00:00:00\", \"1943-05-01T00:00:00\", \"1943-06-01T00:00:00\", \"1943-07-01T00:00:00\", \"1943-08-01T00:00:00\", \"1943-09-01T00:00:00\", \"1943-10-01T00:00:00\", \"1943-11-01T00:00:00\", \"1943-12-01T00:00:00\", \"1944-01-01T00:00:00\", \"1944-02-01T00:00:00\", \"1944-03-01T00:00:00\", \"1944-04-01T00:00:00\", \"1944-05-01T00:00:00\", \"1944-06-01T00:00:00\", \"1944-07-01T00:00:00\", \"1944-08-01T00:00:00\", \"1944-09-01T00:00:00\", \"1944-10-01T00:00:00\", \"1944-11-01T00:00:00\", \"1944-12-01T00:00:00\", \"1945-01-01T00:00:00\", \"1945-02-01T00:00:00\", \"1945-03-01T00:00:00\", \"1945-04-01T00:00:00\", \"1945-05-01T00:00:00\", \"1945-06-01T00:00:00\", \"1945-07-01T00:00:00\", \"1945-08-01T00:00:00\", \"1945-09-01T00:00:00\", \"1945-10-01T00:00:00\", \"1945-11-01T00:00:00\", \"1945-12-01T00:00:00\", \"1946-01-01T00:00:00\", \"1946-02-01T00:00:00\", \"1946-03-01T00:00:00\"], \"xaxis\": \"x\", \"y\": [0, 0, 2106, 9150, 11555, 13368, 13368, 13420, 13411, 13374, 13372, 13224, 12954, 12683, 12542, 12251, 12056, 10017, 9898, 9869, 9800, 9655, 9419, 9199, 8788, 10531, 10291, 9951, 9651, 9550, 9534, 9550, 9432, 9207, 8988, 8716, 8319, 7684, 6765, 5141, 2760, 754, 0, 0, 0, 0], \"yaxis\": \"y\"}, {\"hovertemplate\": \"Camp=Granada<br>Date=%{x}<br>Population=%{y}<extra></extra>\", \"legendgroup\": \"Granada\", \"line\": {\"color\": \"#ab63fa\", \"dash\": \"solid\"}, \"mode\": \"lines\", \"name\": \"Granada\", \"orientation\": \"v\", \"showlegend\": true, \"type\": \"scatter\", \"x\": [\"1942-06-01T00:00:00\", \"1942-07-01T00:00:00\", \"1942-08-01T00:00:00\", \"1942-09-01T00:00:00\", \"1942-10-01T00:00:00\", \"1942-11-01T00:00:00\", \"1942-12-01T00:00:00\", \"1943-01-01T00:00:00\", \"1943-02-01T00:00:00\", \"1943-03-01T00:00:00\", \"1943-04-01T00:00:00\", \"1943-05-01T00:00:00\", \"1943-06-01T00:00:00\", \"1943-07-01T00:00:00\", \"1943-08-01T00:00:00\", \"1943-09-01T00:00:00\", \"1943-10-01T00:00:00\", \"1943-11-01T00:00:00\", \"1943-12-01T00:00:00\", \"1944-01-01T00:00:00\", \"1944-02-01T00:00:00\", \"1944-03-01T00:00:00\", \"1944-04-01T00:00:00\", \"1944-05-01T00:00:00\", \"1944-06-01T00:00:00\", \"1944-07-01T00:00:00\", \"1944-08-01T00:00:00\", \"1944-09-01T00:00:00\", \"1944-10-01T00:00:00\", \"1944-11-01T00:00:00\", \"1944-12-01T00:00:00\", \"1945-01-01T00:00:00\", \"1945-02-01T00:00:00\", \"1945-03-01T00:00:00\", \"1945-04-01T00:00:00\", \"1945-05-01T00:00:00\", \"1945-06-01T00:00:00\", \"1945-07-01T00:00:00\", \"1945-08-01T00:00:00\", \"1945-09-01T00:00:00\", \"1945-10-01T00:00:00\", \"1945-11-01T00:00:00\", \"1945-12-01T00:00:00\", \"1946-01-01T00:00:00\", \"1946-02-01T00:00:00\", \"1946-03-01T00:00:00\"], \"xaxis\": \"x\", \"y\": [0, 0, 0, 212, 7480, 7654, 7651, 7656, 7622, 7619, 7476, 7222, 7016, 6931, 3876, 6764, 7494, 7368, 7393, 7355, 7176, 6983, 6786, 6685, 6424, 6816, 6664, 6490, 6403, 6371, 6311, 6255, 6177, 6035, 5805, 5411, 4980, 4256, 3758, 3155, 1379, 0, 0, 0, 0, 0], \"yaxis\": \"y\"}, {\"hovertemplate\": \"Camp=Heart Mountain<br>Date=%{x}<br>Population=%{y}<extra></extra>\", \"legendgroup\": \"Heart Mountain\", \"line\": {\"color\": \"#FFA15A\", \"dash\": \"solid\"}, \"mode\": \"lines\", \"name\": \"Heart Mountain\", \"orientation\": \"v\", \"showlegend\": true, \"type\": \"scatter\", \"x\": [\"1942-06-01T00:00:00\", \"1942-07-01T00:00:00\", \"1942-08-01T00:00:00\", \"1942-09-01T00:00:00\", \"1942-10-01T00:00:00\", \"1942-11-01T00:00:00\", \"1942-12-01T00:00:00\", \"1943-01-01T00:00:00\", \"1943-02-01T00:00:00\", \"1943-03-01T00:00:00\", \"1943-04-01T00:00:00\", \"1943-05-01T00:00:00\", \"1943-06-01T00:00:00\", \"1943-07-01T00:00:00\", \"1943-08-01T00:00:00\", \"1943-09-01T00:00:00\", \"1943-10-01T00:00:00\", \"1943-11-01T00:00:00\", \"1943-12-01T00:00:00\", \"1944-01-01T00:00:00\", \"1944-02-01T00:00:00\", \"1944-03-01T00:00:00\", \"1944-04-01T00:00:00\", \"1944-05-01T00:00:00\", \"1944-06-01T00:00:00\", \"1944-07-01T00:00:00\", \"1944-08-01T00:00:00\", \"1944-09-01T00:00:00\", \"1944-10-01T00:00:00\", \"1944-11-01T00:00:00\", \"1944-12-01T00:00:00\", \"1945-01-01T00:00:00\", \"1945-02-01T00:00:00\", \"1945-03-01T00:00:00\", \"1945-04-01T00:00:00\", \"1945-05-01T00:00:00\", \"1945-06-01T00:00:00\", \"1945-07-01T00:00:00\", \"1945-08-01T00:00:00\", \"1945-09-01T00:00:00\", \"1945-10-01T00:00:00\", \"1945-11-01T00:00:00\", \"1945-12-01T00:00:00\", \"1946-01-01T00:00:00\", \"1946-02-01T00:00:00\", \"1946-03-01T00:00:00\"], \"xaxis\": \"x\", \"y\": [0, 0, 0, 5758, 10813, 11107, 11105, 11062, 11006, 10959, 10886, 10724, 10520, 10307, 10178, 10073, 10509, 10426, 10406, 10388, 10242, 10112, 9962, 9760, 9420, 9712, 9433, 9241, 9035, 8886, 8669, 8537, 8445, 8213, 7997, 7556, 7084, 6325, 5714, 4611, 3312, 1156, 0, 0, 0, 0], \"yaxis\": \"y\"}, {\"hovertemplate\": \"Camp=Jerome<br>Date=%{x}<br>Population=%{y}<extra></extra>\", \"legendgroup\": \"Jerome\", \"line\": {\"color\": \"#19d3f3\", \"dash\": \"solid\"}, \"mode\": \"lines\", \"name\": \"Jerome\", \"orientation\": \"v\", \"showlegend\": true, \"type\": \"scatter\", \"x\": [\"1942-06-01T00:00:00\", \"1942-07-01T00:00:00\", \"1942-08-01T00:00:00\", \"1942-09-01T00:00:00\", \"1942-10-01T00:00:00\", \"1942-11-01T00:00:00\", \"1942-12-01T00:00:00\", \"1943-01-01T00:00:00\", \"1943-02-01T00:00:00\", \"1943-03-01T00:00:00\", \"1943-04-01T00:00:00\", \"1943-05-01T00:00:00\", \"1943-06-01T00:00:00\", \"1943-07-01T00:00:00\", \"1943-08-01T00:00:00\", \"1943-09-01T00:00:00\", \"1943-10-01T00:00:00\", \"1943-11-01T00:00:00\", \"1943-12-01T00:00:00\", \"1944-01-01T00:00:00\", \"1944-02-01T00:00:00\", \"1944-03-01T00:00:00\", \"1944-04-01T00:00:00\", \"1944-05-01T00:00:00\", \"1944-06-01T00:00:00\", \"1944-07-01T00:00:00\", \"1944-08-01T00:00:00\", \"1944-09-01T00:00:00\", \"1944-10-01T00:00:00\", \"1944-11-01T00:00:00\", \"1944-12-01T00:00:00\", \"1945-01-01T00:00:00\", \"1945-02-01T00:00:00\", \"1945-03-01T00:00:00\", \"1945-04-01T00:00:00\", \"1945-05-01T00:00:00\", \"1945-06-01T00:00:00\", \"1945-07-01T00:00:00\", \"1945-08-01T00:00:00\", \"1945-09-01T00:00:00\", \"1945-10-01T00:00:00\", \"1945-11-01T00:00:00\", \"1945-12-01T00:00:00\", \"1946-01-01T00:00:00\", \"1946-02-01T00:00:00\", \"1946-03-01T00:00:00\"], \"xaxis\": \"x\", \"y\": [0, 0, 0, 0, 0, 7039, 7925, 7932, 8354, 8587, 8526, 8350, 8182, 7972, 7808, 7649, 6899, 6787, 6726, 6700, 6632, 6537, 6529, 6467, 5601, 4, 4, 4, 3, 3, 3, 3, 2, 2, 0, 0, 0, 0, 0, 0, 0, 0, 0, 0, 0, 0], \"yaxis\": \"y\"}, {\"hovertemplate\": \"Camp=Manzanar<br>Date=%{x}<br>Population=%{y}<extra></extra>\", \"legendgroup\": \"Manzanar\", \"line\": {\"color\": \"#FF6692\", \"dash\": \"solid\"}, \"mode\": \"lines\", \"name\": \"Manzanar\", \"orientation\": \"v\", \"showlegend\": true, \"type\": \"scatter\", \"x\": [\"1942-06-01T00:00:00\", \"1942-07-01T00:00:00\", \"1942-08-01T00:00:00\", \"1942-09-01T00:00:00\", \"1942-10-01T00:00:00\", \"1942-11-01T00:00:00\", \"1942-12-01T00:00:00\", \"1943-01-01T00:00:00\", \"1943-02-01T00:00:00\", \"1943-03-01T00:00:00\", \"1943-04-01T00:00:00\", \"1943-05-01T00:00:00\", \"1943-06-01T00:00:00\", \"1943-07-01T00:00:00\", \"1943-08-01T00:00:00\", \"1943-09-01T00:00:00\", \"1943-10-01T00:00:00\", \"1943-11-01T00:00:00\", \"1943-12-01T00:00:00\", \"1944-01-01T00:00:00\", \"1944-02-01T00:00:00\", \"1944-03-01T00:00:00\", \"1944-04-01T00:00:00\", \"1944-05-01T00:00:00\", \"1944-06-01T00:00:00\", \"1944-07-01T00:00:00\", \"1944-08-01T00:00:00\", \"1944-09-01T00:00:00\", \"1944-10-01T00:00:00\", \"1944-11-01T00:00:00\", \"1944-12-01T00:00:00\", \"1945-01-01T00:00:00\", \"1945-02-01T00:00:00\", \"1945-03-01T00:00:00\", \"1945-04-01T00:00:00\", \"1945-05-01T00:00:00\", \"1945-06-01T00:00:00\", \"1945-07-01T00:00:00\", \"1945-08-01T00:00:00\", \"1945-09-01T00:00:00\", \"1945-10-01T00:00:00\", \"1945-11-01T00:00:00\", \"1945-12-01T00:00:00\", \"1946-01-01T00:00:00\", \"1946-02-01T00:00:00\", \"1946-03-01T00:00:00\"], \"xaxis\": \"x\", \"y\": [9666, 9840, 9928, 10072, 10256, 10181, 10177, 10121, 10079, 9796, 9707, 9496, 9272, 9197, 9163, 9105, 9045, 8701, 8621, 8643, 8580, 6655, 6565, 6456, 6341, 6232, 6138, 6057, 5939, 5836, 5668, 5588, 5522, 5435, 5298, 5030, 4658, 4248, 3994, 3552, 2891, 1146, 0, 0, 0, 0], \"yaxis\": \"y\"}, {\"hovertemplate\": \"Camp=Minidoka<br>Date=%{x}<br>Population=%{y}<extra></extra>\", \"legendgroup\": \"Minidoka\", \"line\": {\"color\": \"#B6E880\", \"dash\": \"solid\"}, \"mode\": \"lines\", \"name\": \"Minidoka\", \"orientation\": \"v\", \"showlegend\": true, \"type\": \"scatter\", \"x\": [\"1942-06-01T00:00:00\", \"1942-07-01T00:00:00\", \"1942-08-01T00:00:00\", \"1942-09-01T00:00:00\", \"1942-10-01T00:00:00\", \"1942-11-01T00:00:00\", \"1942-12-01T00:00:00\", \"1943-01-01T00:00:00\", \"1943-02-01T00:00:00\", \"1943-03-01T00:00:00\", \"1943-04-01T00:00:00\", \"1943-05-01T00:00:00\", \"1943-06-01T00:00:00\", \"1943-07-01T00:00:00\", \"1943-08-01T00:00:00\", \"1943-09-01T00:00:00\", \"1943-10-01T00:00:00\", \"1943-11-01T00:00:00\", \"1943-12-01T00:00:00\", \"1944-01-01T00:00:00\", \"1944-02-01T00:00:00\", \"1944-03-01T00:00:00\", \"1944-04-01T00:00:00\", \"1944-05-01T00:00:00\", \"1944-06-01T00:00:00\", \"1944-07-01T00:00:00\", \"1944-08-01T00:00:00\", \"1944-09-01T00:00:00\", \"1944-10-01T00:00:00\", \"1944-11-01T00:00:00\", \"1944-12-01T00:00:00\", \"1945-01-01T00:00:00\", \"1945-02-01T00:00:00\", \"1945-03-01T00:00:00\", \"1945-04-01T00:00:00\", \"1945-05-01T00:00:00\", \"1945-06-01T00:00:00\", \"1945-07-01T00:00:00\", \"1945-08-01T00:00:00\", \"1945-09-01T00:00:00\", \"1945-10-01T00:00:00\", \"1945-11-01T00:00:00\", \"1945-12-01T00:00:00\", \"1946-01-01T00:00:00\", \"1946-02-01T00:00:00\", \"1946-03-01T00:00:00\"], \"xaxis\": \"x\", \"y\": [0, 0, 0, 4840, 9200, 9846, 9849, 9861, 9814, 9924, 9772, 9401, 8989, 8752, 8556, 8325, 9530, 9419, 9492, 9461, 9374, 9288, 9027, 8856, 8514, 8335, 8160, 8099, 7972, 7976, 7867, 7770, 7574, 7373, 6851, 6382, 5615, 4937, 4330, 3218, 1482, 0, 0, 0, 0, 0], \"yaxis\": \"y\"}, {\"hovertemplate\": \"Camp=Rohwer<br>Date=%{x}<br>Population=%{y}<extra></extra>\", \"legendgroup\": \"Rohwer\", \"line\": {\"color\": \"#FF97FF\", \"dash\": \"solid\"}, \"mode\": \"lines\", \"name\": \"Rohwer\", \"orientation\": \"v\", \"showlegend\": true, \"type\": \"scatter\", \"x\": [\"1942-06-01T00:00:00\", \"1942-07-01T00:00:00\", \"1942-08-01T00:00:00\", \"1942-09-01T00:00:00\", \"1942-10-01T00:00:00\", \"1942-11-01T00:00:00\", \"1942-12-01T00:00:00\", \"1943-01-01T00:00:00\", \"1943-02-01T00:00:00\", \"1943-03-01T00:00:00\", \"1943-04-01T00:00:00\", \"1943-05-01T00:00:00\", \"1943-06-01T00:00:00\", \"1943-07-01T00:00:00\", \"1943-08-01T00:00:00\", \"1943-09-01T00:00:00\", \"1943-10-01T00:00:00\", \"1943-11-01T00:00:00\", \"1943-12-01T00:00:00\", \"1944-01-01T00:00:00\", \"1944-02-01T00:00:00\", \"1944-03-01T00:00:00\", \"1944-04-01T00:00:00\", \"1944-05-01T00:00:00\", \"1944-06-01T00:00:00\", \"1944-07-01T00:00:00\", \"1944-08-01T00:00:00\", \"1944-09-01T00:00:00\", \"1944-10-01T00:00:00\", \"1944-11-01T00:00:00\", \"1944-12-01T00:00:00\", \"1945-01-01T00:00:00\", \"1945-02-01T00:00:00\", \"1945-03-01T00:00:00\", \"1945-04-01T00:00:00\", \"1945-05-01T00:00:00\", \"1945-06-01T00:00:00\", \"1945-07-01T00:00:00\", \"1945-08-01T00:00:00\", \"1945-09-01T00:00:00\", \"1945-10-01T00:00:00\", \"1945-11-01T00:00:00\", \"1945-12-01T00:00:00\", \"1946-01-01T00:00:00\", \"1946-02-01T00:00:00\", \"1946-03-01T00:00:00\"], \"xaxis\": \"x\", \"y\": [0, 0, 0, 0, 2265, 8407, 8515, 8548, 8538, 8528, 8478, 8286, 8061, 7895, 7781, 7552, 7123, 6731, 6676, 6676, 6600, 6514, 6375, 6248, 5479, 7623, 7279, 6900, 6764, 6700, 6689, 6747, 6697, 6563, 6339, 5991, 5447, 4910, 4098, 3332, 2175, 1804, 0, 0, 0, 0], \"yaxis\": \"y\"}, {\"hovertemplate\": \"Camp=Tule Lake<br>Date=%{x}<br>Population=%{y}<extra></extra>\", \"legendgroup\": \"Tule Lake\", \"line\": {\"color\": \"#FECB52\", \"dash\": \"solid\"}, \"mode\": \"lines\", \"name\": \"Tule Lake\", \"orientation\": \"v\", \"showlegend\": true, \"type\": \"scatter\", \"x\": [\"1942-06-01T00:00:00\", \"1942-07-01T00:00:00\", \"1942-08-01T00:00:00\", \"1942-09-01T00:00:00\", \"1942-10-01T00:00:00\", \"1942-11-01T00:00:00\", \"1942-12-01T00:00:00\", \"1943-01-01T00:00:00\", \"1943-02-01T00:00:00\", \"1943-03-01T00:00:00\", \"1943-04-01T00:00:00\", \"1943-05-01T00:00:00\", \"1943-06-01T00:00:00\", \"1943-07-01T00:00:00\", \"1943-08-01T00:00:00\", \"1943-09-01T00:00:00\", \"1943-10-01T00:00:00\", \"1943-11-01T00:00:00\", \"1943-12-01T00:00:00\", \"1944-01-01T00:00:00\", \"1944-02-01T00:00:00\", \"1944-03-01T00:00:00\", \"1944-04-01T00:00:00\", \"1944-05-01T00:00:00\", \"1944-06-01T00:00:00\", \"1944-07-01T00:00:00\", \"1944-08-01T00:00:00\", \"1944-09-01T00:00:00\", \"1944-10-01T00:00:00\", \"1944-11-01T00:00:00\", \"1944-12-01T00:00:00\", \"1945-01-01T00:00:00\", \"1945-02-01T00:00:00\", \"1945-03-01T00:00:00\", \"1945-04-01T00:00:00\", \"1945-05-01T00:00:00\", \"1945-06-01T00:00:00\", \"1945-07-01T00:00:00\", \"1945-08-01T00:00:00\", \"1945-09-01T00:00:00\", \"1945-10-01T00:00:00\", \"1945-11-01T00:00:00\", \"1945-12-01T00:00:00\", \"1946-01-01T00:00:00\", \"1946-02-01T00:00:00\", \"1946-03-01T00:00:00\"], \"xaxis\": \"x\", \"y\": [446, 9038, 15020, 15181, 15277, 15393, 15311, 15369, 15274, 15219, 15124, 15015, 14828, 14630, 14484, 14185, 12183, 16012, 15671, 15630, 15625, 17492, 17580, 16964, 18652, 18678, 18709, 18726, 18728, 18718, 18770, 18734, 18593, 17953, 17864, 17886, 17879, 17466, 17366, 17286, 16740, 15450, 12628, 7303, 5046, 2808], \"yaxis\": \"y\"}],                        {\"legend\": {\"title\": {\"text\": \"Camp\"}, \"tracegroupgap\": 0}, \"template\": {\"data\": {\"bar\": [{\"error_x\": {\"color\": \"#2a3f5f\"}, \"error_y\": {\"color\": \"#2a3f5f\"}, \"marker\": {\"line\": {\"color\": \"#E5ECF6\", \"width\": 0.5}}, \"type\": \"bar\"}], \"barpolar\": [{\"marker\": {\"line\": {\"color\": \"#E5ECF6\", \"width\": 0.5}}, \"type\": \"barpolar\"}], \"carpet\": [{\"aaxis\": {\"endlinecolor\": \"#2a3f5f\", \"gridcolor\": \"white\", \"linecolor\": \"white\", \"minorgridcolor\": \"white\", \"startlinecolor\": \"#2a3f5f\"}, \"baxis\": {\"endlinecolor\": \"#2a3f5f\", \"gridcolor\": \"white\", \"linecolor\": \"white\", \"minorgridcolor\": \"white\", \"startlinecolor\": \"#2a3f5f\"}, \"type\": \"carpet\"}], \"choropleth\": [{\"colorbar\": {\"outlinewidth\": 0, \"ticks\": \"\"}, \"type\": \"choropleth\"}], \"contour\": [{\"colorbar\": {\"outlinewidth\": 0, \"ticks\": \"\"}, \"colorscale\": [[0.0, \"#0d0887\"], [0.1111111111111111, \"#46039f\"], [0.2222222222222222, \"#7201a8\"], [0.3333333333333333, \"#9c179e\"], [0.4444444444444444, \"#bd3786\"], [0.5555555555555556, \"#d8576b\"], [0.6666666666666666, \"#ed7953\"], [0.7777777777777778, \"#fb9f3a\"], [0.8888888888888888, \"#fdca26\"], [1.0, \"#f0f921\"]], \"type\": \"contour\"}], \"contourcarpet\": [{\"colorbar\": {\"outlinewidth\": 0, \"ticks\": \"\"}, \"type\": \"contourcarpet\"}], \"heatmap\": [{\"colorbar\": {\"outlinewidth\": 0, \"ticks\": \"\"}, \"colorscale\": [[0.0, \"#0d0887\"], [0.1111111111111111, \"#46039f\"], [0.2222222222222222, \"#7201a8\"], [0.3333333333333333, \"#9c179e\"], [0.4444444444444444, \"#bd3786\"], [0.5555555555555556, \"#d8576b\"], [0.6666666666666666, \"#ed7953\"], [0.7777777777777778, \"#fb9f3a\"], [0.8888888888888888, \"#fdca26\"], [1.0, \"#f0f921\"]], \"type\": \"heatmap\"}], \"heatmapgl\": [{\"colorbar\": {\"outlinewidth\": 0, \"ticks\": \"\"}, \"colorscale\": [[0.0, \"#0d0887\"], [0.1111111111111111, \"#46039f\"], [0.2222222222222222, \"#7201a8\"], [0.3333333333333333, \"#9c179e\"], [0.4444444444444444, \"#bd3786\"], [0.5555555555555556, \"#d8576b\"], [0.6666666666666666, \"#ed7953\"], [0.7777777777777778, \"#fb9f3a\"], [0.8888888888888888, \"#fdca26\"], [1.0, \"#f0f921\"]], \"type\": \"heatmapgl\"}], \"histogram\": [{\"marker\": {\"colorbar\": {\"outlinewidth\": 0, \"ticks\": \"\"}}, \"type\": \"histogram\"}], \"histogram2d\": [{\"colorbar\": {\"outlinewidth\": 0, \"ticks\": \"\"}, \"colorscale\": [[0.0, \"#0d0887\"], [0.1111111111111111, \"#46039f\"], [0.2222222222222222, \"#7201a8\"], [0.3333333333333333, \"#9c179e\"], [0.4444444444444444, \"#bd3786\"], [0.5555555555555556, \"#d8576b\"], [0.6666666666666666, \"#ed7953\"], [0.7777777777777778, \"#fb9f3a\"], [0.8888888888888888, \"#fdca26\"], [1.0, \"#f0f921\"]], \"type\": \"histogram2d\"}], \"histogram2dcontour\": [{\"colorbar\": {\"outlinewidth\": 0, \"ticks\": \"\"}, \"colorscale\": [[0.0, \"#0d0887\"], [0.1111111111111111, \"#46039f\"], [0.2222222222222222, \"#7201a8\"], [0.3333333333333333, \"#9c179e\"], [0.4444444444444444, \"#bd3786\"], [0.5555555555555556, \"#d8576b\"], [0.6666666666666666, \"#ed7953\"], [0.7777777777777778, \"#fb9f3a\"], [0.8888888888888888, \"#fdca26\"], [1.0, \"#f0f921\"]], \"type\": \"histogram2dcontour\"}], \"mesh3d\": [{\"colorbar\": {\"outlinewidth\": 0, \"ticks\": \"\"}, \"type\": \"mesh3d\"}], \"parcoords\": [{\"line\": {\"colorbar\": {\"outlinewidth\": 0, \"ticks\": \"\"}}, \"type\": \"parcoords\"}], \"pie\": [{\"automargin\": true, \"type\": \"pie\"}], \"scatter\": [{\"marker\": {\"colorbar\": {\"outlinewidth\": 0, \"ticks\": \"\"}}, \"type\": \"scatter\"}], \"scatter3d\": [{\"line\": {\"colorbar\": {\"outlinewidth\": 0, \"ticks\": \"\"}}, \"marker\": {\"colorbar\": {\"outlinewidth\": 0, \"ticks\": \"\"}}, \"type\": \"scatter3d\"}], \"scattercarpet\": [{\"marker\": {\"colorbar\": {\"outlinewidth\": 0, \"ticks\": \"\"}}, \"type\": \"scattercarpet\"}], \"scattergeo\": [{\"marker\": {\"colorbar\": {\"outlinewidth\": 0, \"ticks\": \"\"}}, \"type\": \"scattergeo\"}], \"scattergl\": [{\"marker\": {\"colorbar\": {\"outlinewidth\": 0, \"ticks\": \"\"}}, \"type\": \"scattergl\"}], \"scattermapbox\": [{\"marker\": {\"colorbar\": {\"outlinewidth\": 0, \"ticks\": \"\"}}, \"type\": \"scattermapbox\"}], \"scatterpolar\": [{\"marker\": {\"colorbar\": {\"outlinewidth\": 0, \"ticks\": \"\"}}, \"type\": \"scatterpolar\"}], \"scatterpolargl\": [{\"marker\": {\"colorbar\": {\"outlinewidth\": 0, \"ticks\": \"\"}}, \"type\": \"scatterpolargl\"}], \"scatterternary\": [{\"marker\": {\"colorbar\": {\"outlinewidth\": 0, \"ticks\": \"\"}}, \"type\": \"scatterternary\"}], \"surface\": [{\"colorbar\": {\"outlinewidth\": 0, \"ticks\": \"\"}, \"colorscale\": [[0.0, \"#0d0887\"], [0.1111111111111111, \"#46039f\"], [0.2222222222222222, \"#7201a8\"], [0.3333333333333333, \"#9c179e\"], [0.4444444444444444, \"#bd3786\"], [0.5555555555555556, \"#d8576b\"], [0.6666666666666666, \"#ed7953\"], [0.7777777777777778, \"#fb9f3a\"], [0.8888888888888888, \"#fdca26\"], [1.0, \"#f0f921\"]], \"type\": \"surface\"}], \"table\": [{\"cells\": {\"fill\": {\"color\": \"#EBF0F8\"}, \"line\": {\"color\": \"white\"}}, \"header\": {\"fill\": {\"color\": \"#C8D4E3\"}, \"line\": {\"color\": \"white\"}}, \"type\": \"table\"}]}, \"layout\": {\"annotationdefaults\": {\"arrowcolor\": \"#2a3f5f\", \"arrowhead\": 0, \"arrowwidth\": 1}, \"coloraxis\": {\"colorbar\": {\"outlinewidth\": 0, \"ticks\": \"\"}}, \"colorscale\": {\"diverging\": [[0, \"#8e0152\"], [0.1, \"#c51b7d\"], [0.2, \"#de77ae\"], [0.3, \"#f1b6da\"], [0.4, \"#fde0ef\"], [0.5, \"#f7f7f7\"], [0.6, \"#e6f5d0\"], [0.7, \"#b8e186\"], [0.8, \"#7fbc41\"], [0.9, \"#4d9221\"], [1, \"#276419\"]], \"sequential\": [[0.0, \"#0d0887\"], [0.1111111111111111, \"#46039f\"], [0.2222222222222222, \"#7201a8\"], [0.3333333333333333, \"#9c179e\"], [0.4444444444444444, \"#bd3786\"], [0.5555555555555556, \"#d8576b\"], [0.6666666666666666, \"#ed7953\"], [0.7777777777777778, \"#fb9f3a\"], [0.8888888888888888, \"#fdca26\"], [1.0, \"#f0f921\"]], \"sequentialminus\": [[0.0, \"#0d0887\"], [0.1111111111111111, \"#46039f\"], [0.2222222222222222, \"#7201a8\"], [0.3333333333333333, \"#9c179e\"], [0.4444444444444444, \"#bd3786\"], [0.5555555555555556, \"#d8576b\"], [0.6666666666666666, \"#ed7953\"], [0.7777777777777778, \"#fb9f3a\"], [0.8888888888888888, \"#fdca26\"], [1.0, \"#f0f921\"]]}, \"colorway\": [\"#636efa\", \"#EF553B\", \"#00cc96\", \"#ab63fa\", \"#FFA15A\", \"#19d3f3\", \"#FF6692\", \"#B6E880\", \"#FF97FF\", \"#FECB52\"], \"font\": {\"color\": \"#2a3f5f\"}, \"geo\": {\"bgcolor\": \"white\", \"lakecolor\": \"white\", \"landcolor\": \"#E5ECF6\", \"showlakes\": true, \"showland\": true, \"subunitcolor\": \"white\"}, \"hoverlabel\": {\"align\": \"left\"}, \"hovermode\": \"closest\", \"mapbox\": {\"style\": \"light\"}, \"paper_bgcolor\": \"white\", \"plot_bgcolor\": \"#E5ECF6\", \"polar\": {\"angularaxis\": {\"gridcolor\": \"white\", \"linecolor\": \"white\", \"ticks\": \"\"}, \"bgcolor\": \"#E5ECF6\", \"radialaxis\": {\"gridcolor\": \"white\", \"linecolor\": \"white\", \"ticks\": \"\"}}, \"scene\": {\"xaxis\": {\"backgroundcolor\": \"#E5ECF6\", \"gridcolor\": \"white\", \"gridwidth\": 2, \"linecolor\": \"white\", \"showbackground\": true, \"ticks\": \"\", \"zerolinecolor\": \"white\"}, \"yaxis\": {\"backgroundcolor\": \"#E5ECF6\", \"gridcolor\": \"white\", \"gridwidth\": 2, \"linecolor\": \"white\", \"showbackground\": true, \"ticks\": \"\", \"zerolinecolor\": \"white\"}, \"zaxis\": {\"backgroundcolor\": \"#E5ECF6\", \"gridcolor\": \"white\", \"gridwidth\": 2, \"linecolor\": \"white\", \"showbackground\": true, \"ticks\": \"\", \"zerolinecolor\": \"white\"}}, \"shapedefaults\": {\"line\": {\"color\": \"#2a3f5f\"}}, \"ternary\": {\"aaxis\": {\"gridcolor\": \"white\", \"linecolor\": \"white\", \"ticks\": \"\"}, \"baxis\": {\"gridcolor\": \"white\", \"linecolor\": \"white\", \"ticks\": \"\"}, \"bgcolor\": \"#E5ECF6\", \"caxis\": {\"gridcolor\": \"white\", \"linecolor\": \"white\", \"ticks\": \"\"}}, \"title\": {\"x\": 0.05}, \"xaxis\": {\"automargin\": true, \"gridcolor\": \"white\", \"linecolor\": \"white\", \"ticks\": \"\", \"title\": {\"standoff\": 15}, \"zerolinecolor\": \"white\", \"zerolinewidth\": 2}, \"yaxis\": {\"automargin\": true, \"gridcolor\": \"white\", \"linecolor\": \"white\", \"ticks\": \"\", \"title\": {\"standoff\": 15}, \"zerolinecolor\": \"white\", \"zerolinewidth\": 2}}}, \"title\": {\"text\": \"Camp Populations by Month\"}, \"xaxis\": {\"anchor\": \"y\", \"domain\": [0.0, 1.0], \"title\": {\"text\": \"Date\"}}, \"yaxis\": {\"anchor\": \"x\", \"domain\": [0.0, 1.0], \"title\": {\"text\": \"Population\"}}},                        {\"responsive\": true}                    ).then(function(){\n",
       "                            \n",
       "var gd = document.getElementById('c16f3743-88ac-49e2-90ed-48813a766dab');\n",
       "var x = new MutationObserver(function (mutations, observer) {{\n",
       "        var display = window.getComputedStyle(gd).display;\n",
       "        if (!display || display === 'none') {{\n",
       "            console.log([gd, 'removed!']);\n",
       "            Plotly.purge(gd);\n",
       "            observer.disconnect();\n",
       "        }}\n",
       "}});\n",
       "\n",
       "// Listen for the removal of the full notebook cells\n",
       "var notebookContainer = gd.closest('#notebook-container');\n",
       "if (notebookContainer) {{\n",
       "    x.observe(notebookContainer, {childList: true});\n",
       "}}\n",
       "\n",
       "// Listen for the clearing of the current output cell\n",
       "var outputEl = gd.closest('.output');\n",
       "if (outputEl) {{\n",
       "    x.observe(outputEl, {childList: true});\n",
       "}}\n",
       "\n",
       "                        })                };                });            </script>        </div>"
      ]
     },
     "metadata": {},
     "output_type": "display_data"
    }
   ],
   "source": [
    "pop_by_month2 = pop_by_month.drop(\"Total\", axis = 1)\n",
    "melted = pd.melt(pop_by_month2, id_vars = [\"Date\"], value_vars = pop_by_month2.columns[1:], var_name = 'Camp', value_name = \"Population\")\n",
    "fig = px.line(melted, x = 'Date', y = 'Population', color = 'Camp', title = 'Camp Populations by Month')\n",
    "fig.show();"
   ]
  },
  {
   "cell_type": "markdown",
   "metadata": {
    "#student": false
   },
   "source": [
    "The histogram above displays a general downwards trend that indicates a steady decrease in camp population over time. \n",
    "Aside from a handful of camps whose population increased between July of 1943 and July of 1944, all the camps follow this general trend. **Reseach reason behind the spike in population between 1943 & 1944?**\n"
   ]
  },
  {
   "cell_type": "code",
   "execution_count": 33,
   "metadata": {
    "#student": false
   },
   "outputs": [
    {
     "data": {
      "image/png": "[encoded data removed]",
      "text/plain": [
       "<Figure size 432x288 with 1 Axes>"
      ]
     },
     "metadata": {},
     "output_type": "display_data"
    }
   ],
   "source": [
    "sns.distplot(population1940_1945['% returned'])\n",
    "plt.title(\"Percent Returned to Original County\");"
   ]
  },
  {
   "cell_type": "markdown",
   "metadata": {},
   "source": [
    "This histogram shows that a vast majority of the individuals that were held in internment camps did not return to the location where they originally lived. The bin that indicated that 0% return to original location hold the most weight."
   ]
  },
  {
   "cell_type": "markdown",
   "metadata": {},
   "source": [
    "### Discussion Question"
   ]
  },
  {
   "cell_type": "markdown",
   "metadata": {
    "#student": true
   },
   "source": [
    "\n",
    "<font color = #d14d0f>**QUESTION 2**:</font> Visualizations allow us to picture how the numbers change and find abnormalities in the data set. What are some abnormalities that you see in the first plot? What are some possible explanations for these abnormalities?"
   ]
  },
  {
   "cell_type": "markdown",
   "metadata": {
    "#student": true
   },
   "source": [
    "\n",
    "**Answer:** YOUR ANSWER HERE"
   ]
  },
  {
   "cell_type": "markdown",
   "metadata": {
    "#student": false
   },
   "source": [
    "---"
   ]
  },
  {
   "cell_type": "markdown",
   "metadata": {
    "#student": false
   },
   "source": [
    "## Section 4: Assembly Centers and Internment Centers<a id='#Section-4:-Assembly-Centers-and-Internment-Centers'></a>"
   ]
  },
  {
   "cell_type": "markdown",
   "metadata": {
    "#student": false
   },
   "source": [
    "Executive Order 9066 was signed and issued by President Franklin Roosevelt on February 19, 1942. This order gave the army authorization to evacuate any individual considered a threat to national security from designated military exclusion zones along the west coast to internment camps further inland. The passing of this executive order began the process of funneling Japanese Americans into intermediate assembly centers and finally permanent internment centers. \n",
    "\n",
    "The maps below show how far people were forced to move from one location to another. Mapping data is a useful tool to visualize locations and provide context when we are given longitude and latitude data.\n",
    "\n",
    "<img src=\"images/Luggage_Japanese_American_internment.png\" width=\"400\">\n",
    "\n",
    "The luggage of the Japanese Americans who have arrived at a reception center.\n",
    "This image is available from the United States Library of Congress's Prints and Photographs division."
   ]
  },
  {
   "cell_type": "markdown",
   "metadata": {
    "#student": false
   },
   "source": [
    "### Assembly Centers\n",
    "\n",
    "Japanese Americans were uprooted from their homes and transported from assembly centers to internment camps all across the country. Assembly centers served as temporary internment centers for internees to stop at before being transported to their permanent internment center. The map below displays the geological location of the assembly centers created after the passing of the Executive Order 9066.\n",
    "\n",
    "\n",
    "To zoom in and out on the map, press the + and - buttons or scroll up and down. Also, click on the blue marker to see the assembly center name. "
   ]
  },
  {
   "cell_type": "code",
   "execution_count": 34,
   "metadata": {
    "#student": false,
    "scrolled": true
   },
   "outputs": [
    {
     "data": {
      "text/html": [
       "<div style=\"width:100%;\"><div style=\"position:relative;width:100%;height:0;padding-bottom:60%;\"><span style=\"color:#565656\">Make this Notebook Trusted to load map: File -> Trust Notebook</span><iframe src=\"about:blank\" style=\"position:absolute;width:100%;height:100%;left:0;top:0;border:none !important;\" data-html=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 onload=\"this.contentDocument.open();this.contentDocument.write(atob(this.getAttribute('data-html')));this.contentDocument.close();\" allowfullscreen webkitallowfullscreen mozallowfullscreen></iframe></div></div>"
      ],
      "text/plain": [
       "<folium.folium.Map at 0x7f99cf0c4e50>"
      ]
     },
     "execution_count": 34,
     "metadata": {},
     "output_type": "execute_result"
    }
   ],
   "source": [
    "m = folium.Map(location=[36.733300, -100.766700], zoom_start=4)\n",
    "tooltip = 'Click me!'\n",
    "for i in range(0,len(assembly)):\n",
    "    folium.Marker(\n",
    "      location=(assembly.iloc[i]['Latitude'], assembly.iloc[i]['Longitude']),\n",
    "      popup=assembly.iloc[i]['Location'],\n",
    "      ).add_to(m)\n",
    "m"
   ]
  },
  {
   "cell_type": "markdown",
   "metadata": {
    "#student": false
   },
   "source": [
    "### Internment Camps\n"
   ]
  },
  {
   "cell_type": "markdown",
   "metadata": {},
   "source": [
    "The map below shows the location of internment centers across the country. Notice that the internment centers are located further inland that assembly centers. This is because a majority of the Japanese Americans that were held in internment camps were originally from the west coast. After the order passed, these Japanese Americans were relocated to nearby assembly centers as authorities prepared to relocate them to further internment centers. "
   ]
  },
  {
   "cell_type": "code",
   "execution_count": 35,
   "metadata": {
    "#student": false,
    "scrolled": true
   },
   "outputs": [
    {
     "data": {
      "text/html": [
       "<div style=\"width:100%;\"><div style=\"position:relative;width:100%;height:0;padding-bottom:60%;\"><span style=\"color:#565656\">Make this Notebook Trusted to load map: File -> Trust Notebook</span><iframe src=\"about:blank\" style=\"position:absolute;width:100%;height:100%;left:0;top:0;border:none !important;\" data-html=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 onload=\"this.contentDocument.open();this.contentDocument.write(atob(this.getAttribute('data-html')));this.contentDocument.close();\" allowfullscreen webkitallowfullscreen mozallowfullscreen></iframe></div></div>"
      ],
      "text/plain": [
       "<folium.folium.Map at 0x7f99cf0d8610>"
      ]
     },
     "execution_count": 35,
     "metadata": {},
     "output_type": "execute_result"
    }
   ],
   "source": [
    "m = folium.Map(location=[36.733300, -100.766700], zoom_start=4)\n",
    "tooltip = 'Click me!'\n",
    "for i in range(0,len(camps)):\n",
    "    folium.Marker(\n",
    "      location=(camps.iloc[i]['Latitude'], camps.iloc[i]['Longitude']),\n",
    "      popup=camps.iloc[i]['Internment Camp Name'],\n",
    "      ).add_to(m)\n",
    "m"
   ]
  },
  {
   "cell_type": "markdown",
   "metadata": {
    "#student": false
   },
   "source": [
    "---\n",
    "<br>\n",
    "\n",
    "## Section 5: Mapping and Movement<a id='section 5'></a>"
   ]
  },
  {
   "cell_type": "markdown",
   "metadata": {
    "#student": false
   },
   "source": [
    "The abrupt relocation of countless Japanese Americans during World War II resulted in a lasting change in the location of many of these Japanese American families even after the war ended. During the relocation process many families were forced to quickly sell their possessions, businesses and land holdings. Those who did not, often came back to find their possessions gone and homes vandalized. As a result, many internees that lived on the West Coast of the United States did not return to their previous homes after the war. \n",
    "\n",
    "<img src=\"images/Hayward_Friends_say_goodbye.png\" width=\"400\">\n",
    "Neighbors in Hayward, California saying goodbye.\n",
    "This image is available from the United States Library of Congress's Prints and Photographs division."
   ]
  },
  {
   "cell_type": "markdown",
   "metadata": {},
   "source": [
    "\n",
    "### Location of Evacuees Before Relocation"
   ]
  },
  {
   "cell_type": "markdown",
   "metadata": {},
   "source": [
    "The map below shows the population of each county at the start of World War II in 1940, just before the Executive Order 9066 in 1942. Japanese Americans were largely concentrated on the West Coast, with the largest population in Los Angeles."
   ]
  },
  {
   "cell_type": "code",
   "execution_count": 36,
   "metadata": {
    "#student": false,
    "scrolled": true
   },
   "outputs": [
    {
     "data": {
      "text/html": [
       "<div style=\"width:100%;\"><div style=\"position:relative;width:100%;height:0;padding-bottom:60%;\"><span style=\"color:#565656\">Make this Notebook Trusted to load map: File -> Trust Notebook</span><iframe src=\"about:blank\" style=\"position:absolute;width:100%;height:100%;left:0;top:0;border:none !important;\" data-html=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 onload=\"this.contentDocument.open();this.contentDocument.write(atob(this.getAttribute('data-html')));this.contentDocument.close();\" allowfullscreen webkitallowfullscreen mozallowfullscreen></iframe></div></div>"
      ],
      "text/plain": [
       "<folium.folium.Map at 0x7f99cf105150>"
      ]
     },
     "execution_count": 36,
     "metadata": {},
     "output_type": "execute_result"
    }
   ],
   "source": [
    "m = folium.Map(location=[36.733300, -100.766700], zoom_start=4)\n",
    "tooltip = 'Click me!'\n",
    "for i in range(0,len(population1940_1945)):\n",
    "    folium.Circle(\n",
    "      location = (population1940_1945.iloc[i]['Latitude'], population1940_1945.iloc[i]['Longitude']),\n",
    "      popup = population1940_1945.iloc[i]['County'],\n",
    "      radius = float(population1940_1945.iloc[i]['1940']) *12,\n",
    "      color = 'blue',\n",
    "      fill = True,\n",
    "      fill_color = 'crimson').add_to(m)\n",
    "m"
   ]
  },
  {
   "cell_type": "code",
   "execution_count": 37,
   "metadata": {},
   "outputs": [
    {
     "data": {
      "text/html": [
       "<div style=\"width:100%;\"><div style=\"position:relative;width:100%;height:0;padding-bottom:60%;\"><span style=\"color:#565656\">Make this Notebook Trusted to load map: File -> Trust Notebook</span><iframe src=\"about:blank\" style=\"position:absolute;width:100%;height:100%;left:0;top:0;border:none !important;\" data-html=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 onload=\"this.contentDocument.open();this.contentDocument.write(atob(this.getAttribute('data-html')));this.contentDocument.close();\" allowfullscreen webkitallowfullscreen mozallowfullscreen></iframe></div></div>"
      ],
      "text/plain": [
       "<folium.folium.Map at 0x7f99ce84cb10>"
      ]
     },
     "execution_count": 37,
     "metadata": {},
     "output_type": "execute_result"
    }
   ],
   "source": [
    "m = folium.Map(location=[36.733300, -100.766700], zoom_start=4)\n",
    "tooltip = 'Click me!'\n",
    "\n",
    "def color(pop): \n",
    "    if pop in range(0,1000): \n",
    "        col = 'green'\n",
    "    elif pop in range(1001,4999): \n",
    "        col = 'blue'\n",
    "    elif pop in range(5000,10000): \n",
    "        col = 'orange'\n",
    "    else: \n",
    "        col='red'\n",
    "    return col \n",
    "\n",
    "population1940_1945['marker_color'] = [color(pop) for pop in population1940_1945['1940'].tolist()]\n",
    "\n",
    "for i in range(0,len(population1940_1945)):\n",
    "    folium.CircleMarker(\n",
    "        location = (population1940_1945.iloc[i]['Latitude'], population1940_1945.iloc[i]['Longitude']),\n",
    "        radius = 1,\n",
    "        popup = population1940_1945.iloc[i]['County'],\n",
    "        color = population1940_1945.iloc[i]['marker_color'],\n",
    "    ).add_to(m)\n",
    "m\n",
    "\n"
   ]
  },
  {
   "cell_type": "markdown",
   "metadata": {},
   "source": [
    "### Discussion Question"
   ]
  },
  {
   "cell_type": "markdown",
   "metadata": {},
   "source": [
    "<font color = #d14d0f>**QUESTION 3**:</font> The two visualizations above map the same data. What are the differences between the two maps? What are the advantages and disadvantages of each?"
   ]
  },
  {
   "cell_type": "markdown",
   "metadata": {},
   "source": [
    "**Answer:** YOUR ANSWER HERE \n",
    "\n",
    "*Potential Answer: The first map indicates population by size of the circle where as the second map indicates by color. A disadvantage of the first map is that the circles begin to overlap and cloud the overall view of the map. An advantage of the first map is that it is very easy to tell where large populations lie on the map. A disadvantage of the second map is that one must consult the legend to understand what the map is displaying. An advantage of the second map is that each marker is clearly visible and they do not overlap.*"
   ]
  },
  {
   "cell_type": "markdown",
   "metadata": {},
   "source": [
    "\n",
    "\n",
    "### Location of Evacuees After the War"
   ]
  },
  {
   "cell_type": "markdown",
   "metadata": {
    "#student": false
   },
   "source": [
    "This table shows the number of Japanese Americans in each county after the war. This data was self-reported by evacuees."
   ]
  },
  {
   "cell_type": "code",
   "execution_count": 38,
   "metadata": {
    "#student": false
   },
   "outputs": [
    {
     "data": {
      "text/html": [
       "<div>\n",
       "<style scoped>\n",
       "    .dataframe tbody tr th:only-of-type {\n",
       "        vertical-align: middle;\n",
       "    }\n",
       "\n",
       "    .dataframe tbody tr th {\n",
       "        vertical-align: top;\n",
       "    }\n",
       "\n",
       "    .dataframe thead th {\n",
       "        text-align: right;\n",
       "    }\n",
       "</style>\n",
       "<table border=\"1\" class=\"dataframe\">\n",
       "  <thead>\n",
       "    <tr style=\"text-align: right;\">\n",
       "      <th></th>\n",
       "      <th>City</th>\n",
       "      <th>State</th>\n",
       "      <th>People</th>\n",
       "      <th>Latitude</th>\n",
       "      <th>Longitude</th>\n",
       "    </tr>\n",
       "  </thead>\n",
       "  <tbody>\n",
       "    <tr>\n",
       "      <td>0</td>\n",
       "      <td>Glendale</td>\n",
       "      <td>AZ</td>\n",
       "      <td>487.0</td>\n",
       "      <td>34.142508</td>\n",
       "      <td>-118.255075</td>\n",
       "    </tr>\n",
       "    <tr>\n",
       "      <td>1</td>\n",
       "      <td>Alameda</td>\n",
       "      <td>CA</td>\n",
       "      <td>211.0</td>\n",
       "      <td>37.779872</td>\n",
       "      <td>-122.282185</td>\n",
       "    </tr>\n",
       "    <tr>\n",
       "      <td>2</td>\n",
       "      <td>Berkely</td>\n",
       "      <td>CA</td>\n",
       "      <td>844.0</td>\n",
       "      <td>37.871523</td>\n",
       "      <td>-122.273042</td>\n",
       "    </tr>\n",
       "    <tr>\n",
       "      <td>3</td>\n",
       "      <td>Burbank</td>\n",
       "      <td>CA</td>\n",
       "      <td>228.0</td>\n",
       "      <td>34.180839</td>\n",
       "      <td>-118.308966</td>\n",
       "    </tr>\n",
       "    <tr>\n",
       "      <td>4</td>\n",
       "      <td>Dinuba</td>\n",
       "      <td>CA</td>\n",
       "      <td>201.0</td>\n",
       "      <td>36.543284</td>\n",
       "      <td>-119.387066</td>\n",
       "    </tr>\n",
       "  </tbody>\n",
       "</table>\n",
       "</div>"
      ],
      "text/plain": [
       "       City State  People   Latitude   Longitude\n",
       "0  Glendale    AZ   487.0  34.142508 -118.255075\n",
       "1   Alameda    CA   211.0  37.779872 -122.282185\n",
       "2   Berkely    CA   844.0  37.871523 -122.273042\n",
       "3   Burbank    CA   228.0  34.180839 -118.308966\n",
       "4    Dinuba    CA   201.0  36.543284 -119.387066"
      ]
     },
     "execution_count": 38,
     "metadata": {},
     "output_type": "execute_result"
    }
   ],
   "source": [
    "reloc_cities = pd.read_csv('data/RelocationDestinations_Cities_LL.csv', error_bad_lines = False)\n",
    "reloc_cities['People'] = reloc_cities['People'].astype(float)\n",
    "reloc_cities.head()"
   ]
  },
  {
   "cell_type": "markdown",
   "metadata": {
    "#student": false
   },
   "source": [
    "This map shows the cities that people relocated after the war. It allows us to visualize the extent people had to relocate from their original homes which were mostly on the west coast of the U.S. We can see a large population moved to the midwest (Chicago area) as well as the east coast, Canada, and even Mexico City. "
   ]
  },
  {
   "cell_type": "code",
   "execution_count": 39,
   "metadata": {
    "#student": false
   },
   "outputs": [
    {
     "data": {
      "text/html": [
       "<div style=\"width:100%;\"><div style=\"position:relative;width:100%;height:0;padding-bottom:60%;\"><span style=\"color:#565656\">Make this Notebook Trusted to load map: File -> Trust Notebook</span><iframe src=\"about:blank\" style=\"position:absolute;width:100%;height:100%;left:0;top:0;border:none !important;\" data-html=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 onload=\"this.contentDocument.open();this.contentDocument.write(atob(this.getAttribute('data-html')));this.contentDocument.close();\" allowfullscreen webkitallowfullscreen mozallowfullscreen></iframe></div></div>"
      ],
      "text/plain": [
       "<folium.folium.Map at 0x7f99ce9498d0>"
      ]
     },
     "execution_count": 39,
     "metadata": {},
     "output_type": "execute_result"
    }
   ],
   "source": [
    "m = folium.Map(location=[36.733300, -100.766700], zoom_start=4)\n",
    "tooltip = 'Click me!'\n",
    "for i in range(0,len(reloc_cities)):\n",
    "    folium.Circle(\n",
    "      location=(reloc_cities.iloc[i]['Latitude'], reloc_cities.iloc[i]['Longitude']),\n",
    "      popup=reloc_cities.iloc[i]['City'],\n",
    "      radius=reloc_cities.iloc[i]['People'] * 12,\n",
    "      color='blue',\n",
    "      fill=True,\n",
    "      fill_color='red').add_to(m)\n",
    "m"
   ]
  },
  {
   "cell_type": "markdown",
   "metadata": {},
   "source": [
    "### Discussion Question"
   ]
  },
  {
   "cell_type": "markdown",
   "metadata": {},
   "source": [
    "<font color = #d14d0f>**QUESTION 4**:</font> As was mentioned above, this data is self reported by evacuees. What effect does the fact that the data is self-reported have on the data collected and the conclusions made? "
   ]
  },
  {
   "cell_type": "markdown",
   "metadata": {},
   "source": [
    "**Answer:** YOUR ANSWER HERE\n",
    "\n",
    "*Potential Answer: The fact that the data is self reported indicates that the data might have an underlying bias due to the people who chose to report and those who did not. The data might not be representative of all the evacuees.*"
   ]
  },
  {
   "cell_type": "markdown",
   "metadata": {},
   "source": [
    "\n",
    "\n",
    "### State Population Size Before & After the War"
   ]
  },
  {
   "cell_type": "markdown",
   "metadata": {
    "#student": false
   },
   "source": [
    "\n",
    "Below is the table comparing the pre- and post-internment population sizes for West Coast states. The table has been separated into the three states for easier readability. Look through the population size values and look for interesting trends."
   ]
  },
  {
   "cell_type": "code",
   "execution_count": 40,
   "metadata": {
    "#student": false
   },
   "outputs": [
    {
     "data": {
      "text/html": [
       "<div>\n",
       "<style scoped>\n",
       "    .dataframe tbody tr th:only-of-type {\n",
       "        vertical-align: middle;\n",
       "    }\n",
       "\n",
       "    .dataframe tbody tr th {\n",
       "        vertical-align: top;\n",
       "    }\n",
       "\n",
       "    .dataframe thead th {\n",
       "        text-align: right;\n",
       "    }\n",
       "</style>\n",
       "<table border=\"1\" class=\"dataframe\">\n",
       "  <thead>\n",
       "    <tr style=\"text-align: right;\">\n",
       "      <th></th>\n",
       "      <th>County</th>\n",
       "      <th>State</th>\n",
       "      <th>1940</th>\n",
       "      <th>1945</th>\n",
       "      <th>% returned</th>\n",
       "      <th>Latitude</th>\n",
       "      <th>Longitude</th>\n",
       "      <th>marker_color</th>\n",
       "    </tr>\n",
       "  </thead>\n",
       "  <tbody>\n",
       "    <tr>\n",
       "      <td>0</td>\n",
       "      <td>Alameda</td>\n",
       "      <td>CA</td>\n",
       "      <td>5167</td>\n",
       "      <td>2703</td>\n",
       "      <td>52.3</td>\n",
       "      <td>37.779872</td>\n",
       "      <td>-122.282185</td>\n",
       "      <td>orange</td>\n",
       "    </tr>\n",
       "    <tr>\n",
       "      <td>1</td>\n",
       "      <td>Amador</td>\n",
       "      <td>CA</td>\n",
       "      <td>2</td>\n",
       "      <td>0</td>\n",
       "      <td>0.0</td>\n",
       "      <td>37.667910</td>\n",
       "      <td>-121.873914</td>\n",
       "      <td>green</td>\n",
       "    </tr>\n",
       "    <tr>\n",
       "      <td>2</td>\n",
       "      <td>Butte</td>\n",
       "      <td>CA</td>\n",
       "      <td>216</td>\n",
       "      <td>107</td>\n",
       "      <td>49.5</td>\n",
       "      <td>46.003823</td>\n",
       "      <td>-112.534777</td>\n",
       "      <td>green</td>\n",
       "    </tr>\n",
       "    <tr>\n",
       "      <td>3</td>\n",
       "      <td>Calaveras</td>\n",
       "      <td>CA</td>\n",
       "      <td>6</td>\n",
       "      <td>0</td>\n",
       "      <td>0.0</td>\n",
       "      <td>36.159706</td>\n",
       "      <td>-95.958341</td>\n",
       "      <td>green</td>\n",
       "    </tr>\n",
       "    <tr>\n",
       "      <td>4</td>\n",
       "      <td>Colusa</td>\n",
       "      <td>CA</td>\n",
       "      <td>155</td>\n",
       "      <td>48</td>\n",
       "      <td>31.0</td>\n",
       "      <td>39.214334</td>\n",
       "      <td>-122.009417</td>\n",
       "      <td>green</td>\n",
       "    </tr>\n",
       "    <tr>\n",
       "      <td>5</td>\n",
       "      <td>Contra Costa</td>\n",
       "      <td>CA</td>\n",
       "      <td>829</td>\n",
       "      <td>622</td>\n",
       "      <td>75.0</td>\n",
       "      <td>37.853409</td>\n",
       "      <td>-121.901795</td>\n",
       "      <td>green</td>\n",
       "    </tr>\n",
       "    <tr>\n",
       "      <td>6</td>\n",
       "      <td>El Dorado</td>\n",
       "      <td>CA</td>\n",
       "      <td>3</td>\n",
       "      <td>13</td>\n",
       "      <td>0.0</td>\n",
       "      <td>37.816756</td>\n",
       "      <td>-96.886996</td>\n",
       "      <td>green</td>\n",
       "    </tr>\n",
       "    <tr>\n",
       "      <td>7</td>\n",
       "      <td>Fresno</td>\n",
       "      <td>CA</td>\n",
       "      <td>4527</td>\n",
       "      <td>4296</td>\n",
       "      <td>94.9</td>\n",
       "      <td>36.737798</td>\n",
       "      <td>-119.787125</td>\n",
       "      <td>blue</td>\n",
       "    </tr>\n",
       "    <tr>\n",
       "      <td>8</td>\n",
       "      <td>Glenn</td>\n",
       "      <td>CA</td>\n",
       "      <td>0</td>\n",
       "      <td>65</td>\n",
       "      <td>0.0</td>\n",
       "      <td>33.757020</td>\n",
       "      <td>-84.393041</td>\n",
       "      <td>green</td>\n",
       "    </tr>\n",
       "    <tr>\n",
       "      <td>9</td>\n",
       "      <td>Humboldt</td>\n",
       "      <td>CA</td>\n",
       "      <td>0</td>\n",
       "      <td>2</td>\n",
       "      <td>0.0</td>\n",
       "      <td>40.745005</td>\n",
       "      <td>-123.869509</td>\n",
       "      <td>green</td>\n",
       "    </tr>\n",
       "    <tr>\n",
       "      <td>10</td>\n",
       "      <td>Imperial</td>\n",
       "      <td>CA</td>\n",
       "      <td>1583</td>\n",
       "      <td>142</td>\n",
       "      <td>9.0</td>\n",
       "      <td>36.185074</td>\n",
       "      <td>-95.870191</td>\n",
       "      <td>blue</td>\n",
       "    </tr>\n",
       "    <tr>\n",
       "      <td>11</td>\n",
       "      <td>Inyo</td>\n",
       "      <td>CA</td>\n",
       "      <td>1</td>\n",
       "      <td>1</td>\n",
       "      <td>0.0</td>\n",
       "      <td>36.309186</td>\n",
       "      <td>-117.549585</td>\n",
       "      <td>green</td>\n",
       "    </tr>\n",
       "    <tr>\n",
       "      <td>12</td>\n",
       "      <td>Kern</td>\n",
       "      <td>CA</td>\n",
       "      <td>756</td>\n",
       "      <td>187</td>\n",
       "      <td>24.7</td>\n",
       "      <td>35.493727</td>\n",
       "      <td>-118.859680</td>\n",
       "      <td>green</td>\n",
       "    </tr>\n",
       "    <tr>\n",
       "      <td>13</td>\n",
       "      <td>Kings</td>\n",
       "      <td>CA</td>\n",
       "      <td>508</td>\n",
       "      <td>209</td>\n",
       "      <td>41.1</td>\n",
       "      <td>37.919235</td>\n",
       "      <td>-95.408867</td>\n",
       "      <td>green</td>\n",
       "    </tr>\n",
       "    <tr>\n",
       "      <td>14</td>\n",
       "      <td>Lake</td>\n",
       "      <td>CA</td>\n",
       "      <td>1</td>\n",
       "      <td>0</td>\n",
       "      <td>0.0</td>\n",
       "      <td>37.162826</td>\n",
       "      <td>-95.691162</td>\n",
       "      <td>green</td>\n",
       "    </tr>\n",
       "    <tr>\n",
       "      <td>15</td>\n",
       "      <td>Los Angeles</td>\n",
       "      <td>CA</td>\n",
       "      <td>36866</td>\n",
       "      <td>17182</td>\n",
       "      <td>46.6</td>\n",
       "      <td>34.052234</td>\n",
       "      <td>-118.243685</td>\n",
       "      <td>red</td>\n",
       "    </tr>\n",
       "    <tr>\n",
       "      <td>16</td>\n",
       "      <td>Madera</td>\n",
       "      <td>CA</td>\n",
       "      <td>170</td>\n",
       "      <td>161</td>\n",
       "      <td>97.4</td>\n",
       "      <td>36.961336</td>\n",
       "      <td>-120.060718</td>\n",
       "      <td>green</td>\n",
       "    </tr>\n",
       "    <tr>\n",
       "      <td>17</td>\n",
       "      <td>Marin</td>\n",
       "      <td>CA</td>\n",
       "      <td>150</td>\n",
       "      <td>32</td>\n",
       "      <td>21.3</td>\n",
       "      <td>38.083403</td>\n",
       "      <td>-122.763304</td>\n",
       "      <td>green</td>\n",
       "    </tr>\n",
       "    <tr>\n",
       "      <td>18</td>\n",
       "      <td>Mendocino</td>\n",
       "      <td>CA</td>\n",
       "      <td>53</td>\n",
       "      <td>6</td>\n",
       "      <td>0.0</td>\n",
       "      <td>39.307674</td>\n",
       "      <td>-123.799459</td>\n",
       "      <td>green</td>\n",
       "    </tr>\n",
       "    <tr>\n",
       "      <td>19</td>\n",
       "      <td>Merced</td>\n",
       "      <td>CA</td>\n",
       "      <td>715</td>\n",
       "      <td>432</td>\n",
       "      <td>60.4</td>\n",
       "      <td>37.302163</td>\n",
       "      <td>-120.482968</td>\n",
       "      <td>green</td>\n",
       "    </tr>\n",
       "    <tr>\n",
       "      <td>20</td>\n",
       "      <td>Modoc</td>\n",
       "      <td>CA</td>\n",
       "      <td>4</td>\n",
       "      <td>19</td>\n",
       "      <td>0.0</td>\n",
       "      <td>41.456516</td>\n",
       "      <td>-120.629366</td>\n",
       "      <td>green</td>\n",
       "    </tr>\n",
       "    <tr>\n",
       "      <td>21</td>\n",
       "      <td>Monterey</td>\n",
       "      <td>CA</td>\n",
       "      <td>2247</td>\n",
       "      <td>616</td>\n",
       "      <td>27.4</td>\n",
       "      <td>36.600238</td>\n",
       "      <td>-121.894676</td>\n",
       "      <td>blue</td>\n",
       "    </tr>\n",
       "    <tr>\n",
       "      <td>22</td>\n",
       "      <td>Napa</td>\n",
       "      <td>CA</td>\n",
       "      <td>54</td>\n",
       "      <td>52</td>\n",
       "      <td>0.0</td>\n",
       "      <td>36.756729</td>\n",
       "      <td>-95.937326</td>\n",
       "      <td>green</td>\n",
       "    </tr>\n",
       "    <tr>\n",
       "      <td>23</td>\n",
       "      <td>Nevada</td>\n",
       "      <td>CA</td>\n",
       "      <td>0</td>\n",
       "      <td>54</td>\n",
       "      <td>0.0</td>\n",
       "      <td>38.802610</td>\n",
       "      <td>-116.419389</td>\n",
       "      <td>green</td>\n",
       "    </tr>\n",
       "    <tr>\n",
       "      <td>24</td>\n",
       "      <td>Orange</td>\n",
       "      <td>CA</td>\n",
       "      <td>1855</td>\n",
       "      <td>572</td>\n",
       "      <td>30.8</td>\n",
       "      <td>33.787914</td>\n",
       "      <td>-117.853101</td>\n",
       "      <td>blue</td>\n",
       "    </tr>\n",
       "    <tr>\n",
       "      <td>25</td>\n",
       "      <td>Placer</td>\n",
       "      <td>CA</td>\n",
       "      <td>1637</td>\n",
       "      <td>1057</td>\n",
       "      <td>64.6</td>\n",
       "      <td>39.091575</td>\n",
       "      <td>-120.803947</td>\n",
       "      <td>blue</td>\n",
       "    </tr>\n",
       "    <tr>\n",
       "      <td>26</td>\n",
       "      <td>Plumas</td>\n",
       "      <td>CA</td>\n",
       "      <td>1</td>\n",
       "      <td>0</td>\n",
       "      <td>0.0</td>\n",
       "      <td>39.992683</td>\n",
       "      <td>-120.803947</td>\n",
       "      <td>green</td>\n",
       "    </tr>\n",
       "    <tr>\n",
       "      <td>27</td>\n",
       "      <td>Riverside</td>\n",
       "      <td>CA</td>\n",
       "      <td>552</td>\n",
       "      <td>397</td>\n",
       "      <td>71.9</td>\n",
       "      <td>33.980601</td>\n",
       "      <td>-117.375494</td>\n",
       "      <td>green</td>\n",
       "    </tr>\n",
       "    <tr>\n",
       "      <td>28</td>\n",
       "      <td>Sacramento</td>\n",
       "      <td>CA</td>\n",
       "      <td>6764</td>\n",
       "      <td>4304</td>\n",
       "      <td>63.6</td>\n",
       "      <td>38.581572</td>\n",
       "      <td>-121.494400</td>\n",
       "      <td>orange</td>\n",
       "    </tr>\n",
       "    <tr>\n",
       "      <td>29</td>\n",
       "      <td>San Benito</td>\n",
       "      <td>CA</td>\n",
       "      <td>526</td>\n",
       "      <td>118</td>\n",
       "      <td>22.4</td>\n",
       "      <td>26.132576</td>\n",
       "      <td>-97.631101</td>\n",
       "      <td>green</td>\n",
       "    </tr>\n",
       "    <tr>\n",
       "      <td>30</td>\n",
       "      <td>San Bernardino</td>\n",
       "      <td>CA</td>\n",
       "      <td>346</td>\n",
       "      <td>188</td>\n",
       "      <td>54.3</td>\n",
       "      <td>34.108345</td>\n",
       "      <td>-117.289765</td>\n",
       "      <td>green</td>\n",
       "    </tr>\n",
       "    <tr>\n",
       "      <td>31</td>\n",
       "      <td>San Diego</td>\n",
       "      <td>CA</td>\n",
       "      <td>2076</td>\n",
       "      <td>934</td>\n",
       "      <td>45.0</td>\n",
       "      <td>32.715738</td>\n",
       "      <td>-117.161084</td>\n",
       "      <td>blue</td>\n",
       "    </tr>\n",
       "    <tr>\n",
       "      <td>32</td>\n",
       "      <td>San Francisco</td>\n",
       "      <td>CA</td>\n",
       "      <td>5280</td>\n",
       "      <td>3280</td>\n",
       "      <td>62.1</td>\n",
       "      <td>37.774929</td>\n",
       "      <td>-122.419415</td>\n",
       "      <td>orange</td>\n",
       "    </tr>\n",
       "    <tr>\n",
       "      <td>33</td>\n",
       "      <td>San Joaquin</td>\n",
       "      <td>CA</td>\n",
       "      <td>4484</td>\n",
       "      <td>2858</td>\n",
       "      <td>63.7</td>\n",
       "      <td>37.917594</td>\n",
       "      <td>-121.171039</td>\n",
       "      <td>blue</td>\n",
       "    </tr>\n",
       "    <tr>\n",
       "      <td>34</td>\n",
       "      <td>San Luis Obispo</td>\n",
       "      <td>CA</td>\n",
       "      <td>925</td>\n",
       "      <td>154</td>\n",
       "      <td>16.6</td>\n",
       "      <td>35.282752</td>\n",
       "      <td>-120.659616</td>\n",
       "      <td>green</td>\n",
       "    </tr>\n",
       "    <tr>\n",
       "      <td>35</td>\n",
       "      <td>San Mateo</td>\n",
       "      <td>CA</td>\n",
       "      <td>1218</td>\n",
       "      <td>661</td>\n",
       "      <td>54.3</td>\n",
       "      <td>37.562992</td>\n",
       "      <td>-122.325525</td>\n",
       "      <td>blue</td>\n",
       "    </tr>\n",
       "    <tr>\n",
       "      <td>36</td>\n",
       "      <td>Santa Barbara</td>\n",
       "      <td>CA</td>\n",
       "      <td>2187</td>\n",
       "      <td>834</td>\n",
       "      <td>38.1</td>\n",
       "      <td>34.420831</td>\n",
       "      <td>-119.698190</td>\n",
       "      <td>blue</td>\n",
       "    </tr>\n",
       "    <tr>\n",
       "      <td>37</td>\n",
       "      <td>Santa Clara</td>\n",
       "      <td>CA</td>\n",
       "      <td>4049</td>\n",
       "      <td>3418</td>\n",
       "      <td>84.4</td>\n",
       "      <td>37.354108</td>\n",
       "      <td>-121.955236</td>\n",
       "      <td>blue</td>\n",
       "    </tr>\n",
       "    <tr>\n",
       "      <td>38</td>\n",
       "      <td>Santa Cruz</td>\n",
       "      <td>CA</td>\n",
       "      <td>1301</td>\n",
       "      <td>434</td>\n",
       "      <td>33.4</td>\n",
       "      <td>36.974117</td>\n",
       "      <td>-122.030796</td>\n",
       "      <td>blue</td>\n",
       "    </tr>\n",
       "    <tr>\n",
       "      <td>39</td>\n",
       "      <td>Shasta</td>\n",
       "      <td>CA</td>\n",
       "      <td>2</td>\n",
       "      <td>41</td>\n",
       "      <td>0.0</td>\n",
       "      <td>40.790886</td>\n",
       "      <td>-121.847449</td>\n",
       "      <td>green</td>\n",
       "    </tr>\n",
       "    <tr>\n",
       "      <td>40</td>\n",
       "      <td>Siskiyou</td>\n",
       "      <td>CA</td>\n",
       "      <td>7</td>\n",
       "      <td>67</td>\n",
       "      <td>0.0</td>\n",
       "      <td>41.774326</td>\n",
       "      <td>-122.577013</td>\n",
       "      <td>green</td>\n",
       "    </tr>\n",
       "    <tr>\n",
       "      <td>41</td>\n",
       "      <td>Solano</td>\n",
       "      <td>CA</td>\n",
       "      <td>906</td>\n",
       "      <td>178</td>\n",
       "      <td>19.6</td>\n",
       "      <td>38.310497</td>\n",
       "      <td>-121.901795</td>\n",
       "      <td>green</td>\n",
       "    </tr>\n",
       "    <tr>\n",
       "      <td>42</td>\n",
       "      <td>Sonoma</td>\n",
       "      <td>CA</td>\n",
       "      <td>758</td>\n",
       "      <td>395</td>\n",
       "      <td>52.1</td>\n",
       "      <td>38.291859</td>\n",
       "      <td>-122.458036</td>\n",
       "      <td>green</td>\n",
       "    </tr>\n",
       "    <tr>\n",
       "      <td>43</td>\n",
       "      <td>Stanislaus</td>\n",
       "      <td>CA</td>\n",
       "      <td>369</td>\n",
       "      <td>198</td>\n",
       "      <td>53.7</td>\n",
       "      <td>37.509071</td>\n",
       "      <td>-120.987632</td>\n",
       "      <td>green</td>\n",
       "    </tr>\n",
       "    <tr>\n",
       "      <td>44</td>\n",
       "      <td>Sutter</td>\n",
       "      <td>CA</td>\n",
       "      <td>423</td>\n",
       "      <td>91</td>\n",
       "      <td>21.5</td>\n",
       "      <td>38.935758</td>\n",
       "      <td>-94.743398</td>\n",
       "      <td>green</td>\n",
       "    </tr>\n",
       "    <tr>\n",
       "      <td>45</td>\n",
       "      <td>Tehama</td>\n",
       "      <td>CA</td>\n",
       "      <td>38</td>\n",
       "      <td>8</td>\n",
       "      <td>0.0</td>\n",
       "      <td>40.027102</td>\n",
       "      <td>-122.123323</td>\n",
       "      <td>green</td>\n",
       "    </tr>\n",
       "    <tr>\n",
       "      <td>46</td>\n",
       "      <td>Tulare</td>\n",
       "      <td>CA</td>\n",
       "      <td>1812</td>\n",
       "      <td>788</td>\n",
       "      <td>43.5</td>\n",
       "      <td>36.207729</td>\n",
       "      <td>-119.347338</td>\n",
       "      <td>blue</td>\n",
       "    </tr>\n",
       "    <tr>\n",
       "      <td>47</td>\n",
       "      <td>Tuolumne</td>\n",
       "      <td>CA</td>\n",
       "      <td>0</td>\n",
       "      <td>6</td>\n",
       "      <td>0.0</td>\n",
       "      <td>38.029655</td>\n",
       "      <td>-119.974053</td>\n",
       "      <td>green</td>\n",
       "    </tr>\n",
       "    <tr>\n",
       "      <td>48</td>\n",
       "      <td>Ventura</td>\n",
       "      <td>CA</td>\n",
       "      <td>672</td>\n",
       "      <td>185</td>\n",
       "      <td>27.5</td>\n",
       "      <td>34.280492</td>\n",
       "      <td>-119.294520</td>\n",
       "      <td>green</td>\n",
       "    </tr>\n",
       "    <tr>\n",
       "      <td>49</td>\n",
       "      <td>Yolo</td>\n",
       "      <td>CA</td>\n",
       "      <td>1087</td>\n",
       "      <td>213</td>\n",
       "      <td>19.6</td>\n",
       "      <td>26.119639</td>\n",
       "      <td>-80.139728</td>\n",
       "      <td>blue</td>\n",
       "    </tr>\n",
       "    <tr>\n",
       "      <td>50</td>\n",
       "      <td>Yuba</td>\n",
       "      <td>CA</td>\n",
       "      <td>429</td>\n",
       "      <td>276</td>\n",
       "      <td>64.3</td>\n",
       "      <td>39.254703</td>\n",
       "      <td>-73.990051</td>\n",
       "      <td>green</td>\n",
       "    </tr>\n",
       "  </tbody>\n",
       "</table>\n",
       "</div>"
      ],
      "text/plain": [
       "             County State   1940   1945  % returned   Latitude   Longitude  \\\n",
       "0           Alameda    CA   5167   2703        52.3  37.779872 -122.282185   \n",
       "1            Amador    CA      2      0         0.0  37.667910 -121.873914   \n",
       "2             Butte    CA    216    107        49.5  46.003823 -112.534777   \n",
       "3         Calaveras    CA      6      0         0.0  36.159706  -95.958341   \n",
       "4            Colusa    CA    155     48        31.0  39.214334 -122.009417   \n",
       "5      Contra Costa    CA    829    622        75.0  37.853409 -121.901795   \n",
       "6         El Dorado    CA      3     13         0.0  37.816756  -96.886996   \n",
       "7            Fresno    CA   4527   4296        94.9  36.737798 -119.787125   \n",
       "8             Glenn    CA      0     65         0.0  33.757020  -84.393041   \n",
       "9          Humboldt    CA      0      2         0.0  40.745005 -123.869509   \n",
       "10         Imperial    CA   1583    142         9.0  36.185074  -95.870191   \n",
       "11             Inyo    CA      1      1         0.0  36.309186 -117.549585   \n",
       "12             Kern    CA    756    187        24.7  35.493727 -118.859680   \n",
       "13            Kings    CA    508    209        41.1  37.919235  -95.408867   \n",
       "14             Lake    CA      1      0         0.0  37.162826  -95.691162   \n",
       "15      Los Angeles    CA  36866  17182        46.6  34.052234 -118.243685   \n",
       "16           Madera    CA    170    161        97.4  36.961336 -120.060718   \n",
       "17            Marin    CA    150     32        21.3  38.083403 -122.763304   \n",
       "18        Mendocino    CA     53      6         0.0  39.307674 -123.799459   \n",
       "19           Merced    CA    715    432        60.4  37.302163 -120.482968   \n",
       "20            Modoc    CA      4     19         0.0  41.456516 -120.629366   \n",
       "21         Monterey    CA   2247    616        27.4  36.600238 -121.894676   \n",
       "22             Napa    CA     54     52         0.0  36.756729  -95.937326   \n",
       "23           Nevada    CA      0     54         0.0  38.802610 -116.419389   \n",
       "24           Orange    CA   1855    572        30.8  33.787914 -117.853101   \n",
       "25           Placer    CA   1637   1057        64.6  39.091575 -120.803947   \n",
       "26           Plumas    CA      1      0         0.0  39.992683 -120.803947   \n",
       "27        Riverside    CA    552    397        71.9  33.980601 -117.375494   \n",
       "28       Sacramento    CA   6764   4304        63.6  38.581572 -121.494400   \n",
       "29       San Benito    CA    526    118        22.4  26.132576  -97.631101   \n",
       "30   San Bernardino    CA    346    188        54.3  34.108345 -117.289765   \n",
       "31        San Diego    CA   2076    934        45.0  32.715738 -117.161084   \n",
       "32    San Francisco    CA   5280   3280        62.1  37.774929 -122.419415   \n",
       "33      San Joaquin    CA   4484   2858        63.7  37.917594 -121.171039   \n",
       "34  San Luis Obispo    CA    925    154        16.6  35.282752 -120.659616   \n",
       "35        San Mateo    CA   1218    661        54.3  37.562992 -122.325525   \n",
       "36    Santa Barbara    CA   2187    834        38.1  34.420831 -119.698190   \n",
       "37      Santa Clara    CA   4049   3418        84.4  37.354108 -121.955236   \n",
       "38       Santa Cruz    CA   1301    434        33.4  36.974117 -122.030796   \n",
       "39           Shasta    CA      2     41         0.0  40.790886 -121.847449   \n",
       "40         Siskiyou    CA      7     67         0.0  41.774326 -122.577013   \n",
       "41           Solano    CA    906    178        19.6  38.310497 -121.901795   \n",
       "42           Sonoma    CA    758    395        52.1  38.291859 -122.458036   \n",
       "43       Stanislaus    CA    369    198        53.7  37.509071 -120.987632   \n",
       "44           Sutter    CA    423     91        21.5  38.935758  -94.743398   \n",
       "45           Tehama    CA     38      8         0.0  40.027102 -122.123323   \n",
       "46           Tulare    CA   1812    788        43.5  36.207729 -119.347338   \n",
       "47         Tuolumne    CA      0      6         0.0  38.029655 -119.974053   \n",
       "48          Ventura    CA    672    185        27.5  34.280492 -119.294520   \n",
       "49             Yolo    CA   1087    213        19.6  26.119639  -80.139728   \n",
       "50             Yuba    CA    429    276        64.3  39.254703  -73.990051   \n",
       "\n",
       "   marker_color  \n",
       "0        orange  \n",
       "1         green  \n",
       "2         green  \n",
       "3         green  \n",
       "4         green  \n",
       "5         green  \n",
       "6         green  \n",
       "7          blue  \n",
       "8         green  \n",
       "9         green  \n",
       "10         blue  \n",
       "11        green  \n",
       "12        green  \n",
       "13        green  \n",
       "14        green  \n",
       "15          red  \n",
       "16        green  \n",
       "17        green  \n",
       "18        green  \n",
       "19        green  \n",
       "20        green  \n",
       "21         blue  \n",
       "22        green  \n",
       "23        green  \n",
       "24         blue  \n",
       "25         blue  \n",
       "26        green  \n",
       "27        green  \n",
       "28       orange  \n",
       "29        green  \n",
       "30        green  \n",
       "31         blue  \n",
       "32       orange  \n",
       "33         blue  \n",
       "34        green  \n",
       "35         blue  \n",
       "36         blue  \n",
       "37         blue  \n",
       "38         blue  \n",
       "39        green  \n",
       "40        green  \n",
       "41        green  \n",
       "42        green  \n",
       "43        green  \n",
       "44        green  \n",
       "45        green  \n",
       "46         blue  \n",
       "47        green  \n",
       "48        green  \n",
       "49         blue  \n",
       "50        green  "
      ]
     },
     "execution_count": 40,
     "metadata": {},
     "output_type": "execute_result"
    }
   ],
   "source": [
    "population1940_1945[population1940_1945['State'] == 'CA']"
   ]
  },
  {
   "cell_type": "code",
   "execution_count": 41,
   "metadata": {
    "#student": false
   },
   "outputs": [
    {
     "data": {
      "text/html": [
       "<div>\n",
       "<style scoped>\n",
       "    .dataframe tbody tr th:only-of-type {\n",
       "        vertical-align: middle;\n",
       "    }\n",
       "\n",
       "    .dataframe tbody tr th {\n",
       "        vertical-align: top;\n",
       "    }\n",
       "\n",
       "    .dataframe thead th {\n",
       "        text-align: right;\n",
       "    }\n",
       "</style>\n",
       "<table border=\"1\" class=\"dataframe\">\n",
       "  <thead>\n",
       "    <tr style=\"text-align: right;\">\n",
       "      <th></th>\n",
       "      <th>County</th>\n",
       "      <th>State</th>\n",
       "      <th>1940</th>\n",
       "      <th>1945</th>\n",
       "      <th>% returned</th>\n",
       "      <th>Latitude</th>\n",
       "      <th>Longitude</th>\n",
       "      <th>marker_color</th>\n",
       "    </tr>\n",
       "  </thead>\n",
       "  <tbody>\n",
       "    <tr>\n",
       "      <td>51</td>\n",
       "      <td>Clackamas</td>\n",
       "      <td>OR</td>\n",
       "      <td>163</td>\n",
       "      <td>56</td>\n",
       "      <td>34.4</td>\n",
       "      <td>45.407621</td>\n",
       "      <td>-122.570369</td>\n",
       "      <td>green</td>\n",
       "    </tr>\n",
       "    <tr>\n",
       "      <td>52</td>\n",
       "      <td>Clatsop</td>\n",
       "      <td>OR</td>\n",
       "      <td>98</td>\n",
       "      <td>2</td>\n",
       "      <td>0.0</td>\n",
       "      <td>46.021080</td>\n",
       "      <td>-123.765304</td>\n",
       "      <td>green</td>\n",
       "    </tr>\n",
       "    <tr>\n",
       "      <td>53</td>\n",
       "      <td>Columbia</td>\n",
       "      <td>OR</td>\n",
       "      <td>38</td>\n",
       "      <td>0</td>\n",
       "      <td>0.0</td>\n",
       "      <td>35.461166</td>\n",
       "      <td>-97.650246</td>\n",
       "      <td>green</td>\n",
       "    </tr>\n",
       "    <tr>\n",
       "      <td>54</td>\n",
       "      <td>Deschutes</td>\n",
       "      <td>OR</td>\n",
       "      <td>14</td>\n",
       "      <td>0</td>\n",
       "      <td>0.0</td>\n",
       "      <td>37.270590</td>\n",
       "      <td>-79.939353</td>\n",
       "      <td>green</td>\n",
       "    </tr>\n",
       "    <tr>\n",
       "      <td>55</td>\n",
       "      <td>Hood River</td>\n",
       "      <td>OR</td>\n",
       "      <td>462</td>\n",
       "      <td>186</td>\n",
       "      <td>40.3</td>\n",
       "      <td>45.706798</td>\n",
       "      <td>-121.528087</td>\n",
       "      <td>green</td>\n",
       "    </tr>\n",
       "    <tr>\n",
       "      <td>56</td>\n",
       "      <td>Jackson</td>\n",
       "      <td>OR</td>\n",
       "      <td>41</td>\n",
       "      <td>8</td>\n",
       "      <td>0.0</td>\n",
       "      <td>32.298757</td>\n",
       "      <td>-90.184810</td>\n",
       "      <td>green</td>\n",
       "    </tr>\n",
       "    <tr>\n",
       "      <td>57</td>\n",
       "      <td>Jefferson</td>\n",
       "      <td>OR</td>\n",
       "      <td>12</td>\n",
       "      <td>12</td>\n",
       "      <td>0.0</td>\n",
       "      <td>37.109584</td>\n",
       "      <td>-95.762571</td>\n",
       "      <td>green</td>\n",
       "    </tr>\n",
       "    <tr>\n",
       "      <td>58</td>\n",
       "      <td>Josephine</td>\n",
       "      <td>OR</td>\n",
       "      <td>0</td>\n",
       "      <td>17</td>\n",
       "      <td>0.0</td>\n",
       "      <td>36.126766</td>\n",
       "      <td>-86.789056</td>\n",
       "      <td>green</td>\n",
       "    </tr>\n",
       "    <tr>\n",
       "      <td>59</td>\n",
       "      <td>Klamath</td>\n",
       "      <td>OR</td>\n",
       "      <td>1</td>\n",
       "      <td>126</td>\n",
       "      <td>0.0</td>\n",
       "      <td>41.526509</td>\n",
       "      <td>-124.038407</td>\n",
       "      <td>green</td>\n",
       "    </tr>\n",
       "    <tr>\n",
       "      <td>60</td>\n",
       "      <td>Lane</td>\n",
       "      <td>OR</td>\n",
       "      <td>1</td>\n",
       "      <td>1</td>\n",
       "      <td>0.0</td>\n",
       "      <td>37.224866</td>\n",
       "      <td>-95.706484</td>\n",
       "      <td>green</td>\n",
       "    </tr>\n",
       "    <tr>\n",
       "      <td>61</td>\n",
       "      <td>Lincoln</td>\n",
       "      <td>OR</td>\n",
       "      <td>4</td>\n",
       "      <td>2</td>\n",
       "      <td>0.0</td>\n",
       "      <td>35.949526</td>\n",
       "      <td>-94.423548</td>\n",
       "      <td>green</td>\n",
       "    </tr>\n",
       "    <tr>\n",
       "      <td>62</td>\n",
       "      <td>Linn</td>\n",
       "      <td>OR</td>\n",
       "      <td>4</td>\n",
       "      <td>0</td>\n",
       "      <td>0.0</td>\n",
       "      <td>38.485875</td>\n",
       "      <td>-91.850452</td>\n",
       "      <td>green</td>\n",
       "    </tr>\n",
       "    <tr>\n",
       "      <td>63</td>\n",
       "      <td>Marion</td>\n",
       "      <td>OR</td>\n",
       "      <td>193</td>\n",
       "      <td>26</td>\n",
       "      <td>13.5</td>\n",
       "      <td>35.684013</td>\n",
       "      <td>-82.009275</td>\n",
       "      <td>green</td>\n",
       "    </tr>\n",
       "    <tr>\n",
       "      <td>64</td>\n",
       "      <td>Multnomah</td>\n",
       "      <td>OR</td>\n",
       "      <td>2390</td>\n",
       "      <td>1029</td>\n",
       "      <td>43.1</td>\n",
       "      <td>45.514566</td>\n",
       "      <td>-122.586321</td>\n",
       "      <td>blue</td>\n",
       "    </tr>\n",
       "    <tr>\n",
       "      <td>65</td>\n",
       "      <td>Polk</td>\n",
       "      <td>OR</td>\n",
       "      <td>28</td>\n",
       "      <td>5</td>\n",
       "      <td>0.0</td>\n",
       "      <td>27.861735</td>\n",
       "      <td>-81.691156</td>\n",
       "      <td>green</td>\n",
       "    </tr>\n",
       "    <tr>\n",
       "      <td>66</td>\n",
       "      <td>Sherman</td>\n",
       "      <td>OR</td>\n",
       "      <td>3</td>\n",
       "      <td>0</td>\n",
       "      <td>0.0</td>\n",
       "      <td>33.635662</td>\n",
       "      <td>-96.608881</td>\n",
       "      <td>green</td>\n",
       "    </tr>\n",
       "    <tr>\n",
       "      <td>67</td>\n",
       "      <td>Wasco</td>\n",
       "      <td>OR</td>\n",
       "      <td>82</td>\n",
       "      <td>2</td>\n",
       "      <td>0.0</td>\n",
       "      <td>35.594124</td>\n",
       "      <td>-119.340946</td>\n",
       "      <td>green</td>\n",
       "    </tr>\n",
       "    <tr>\n",
       "      <td>68</td>\n",
       "      <td>Washington</td>\n",
       "      <td>OR</td>\n",
       "      <td>245</td>\n",
       "      <td>18</td>\n",
       "      <td>7.3</td>\n",
       "      <td>47.751074</td>\n",
       "      <td>-120.740139</td>\n",
       "      <td>green</td>\n",
       "    </tr>\n",
       "    <tr>\n",
       "      <td>69</td>\n",
       "      <td>Yamhill</td>\n",
       "      <td>OR</td>\n",
       "      <td>65</td>\n",
       "      <td>4</td>\n",
       "      <td>0.0</td>\n",
       "      <td>45.341504</td>\n",
       "      <td>-123.187824</td>\n",
       "      <td>green</td>\n",
       "    </tr>\n",
       "  </tbody>\n",
       "</table>\n",
       "</div>"
      ],
      "text/plain": [
       "        County State  1940  1945  % returned   Latitude   Longitude  \\\n",
       "51   Clackamas    OR   163    56        34.4  45.407621 -122.570369   \n",
       "52     Clatsop    OR    98     2         0.0  46.021080 -123.765304   \n",
       "53    Columbia    OR    38     0         0.0  35.461166  -97.650246   \n",
       "54   Deschutes    OR    14     0         0.0  37.270590  -79.939353   \n",
       "55  Hood River    OR   462   186        40.3  45.706798 -121.528087   \n",
       "56     Jackson    OR    41     8         0.0  32.298757  -90.184810   \n",
       "57   Jefferson    OR    12    12         0.0  37.109584  -95.762571   \n",
       "58   Josephine    OR     0    17         0.0  36.126766  -86.789056   \n",
       "59     Klamath    OR     1   126         0.0  41.526509 -124.038407   \n",
       "60        Lane    OR     1     1         0.0  37.224866  -95.706484   \n",
       "61     Lincoln    OR     4     2         0.0  35.949526  -94.423548   \n",
       "62        Linn    OR     4     0         0.0  38.485875  -91.850452   \n",
       "63      Marion    OR   193    26        13.5  35.684013  -82.009275   \n",
       "64   Multnomah    OR  2390  1029        43.1  45.514566 -122.586321   \n",
       "65        Polk    OR    28     5         0.0  27.861735  -81.691156   \n",
       "66     Sherman    OR     3     0         0.0  33.635662  -96.608881   \n",
       "67       Wasco    OR    82     2         0.0  35.594124 -119.340946   \n",
       "68  Washington    OR   245    18         7.3  47.751074 -120.740139   \n",
       "69     Yamhill    OR    65     4         0.0  45.341504 -123.187824   \n",
       "\n",
       "   marker_color  \n",
       "51        green  \n",
       "52        green  \n",
       "53        green  \n",
       "54        green  \n",
       "55        green  \n",
       "56        green  \n",
       "57        green  \n",
       "58        green  \n",
       "59        green  \n",
       "60        green  \n",
       "61        green  \n",
       "62        green  \n",
       "63        green  \n",
       "64         blue  \n",
       "65        green  \n",
       "66        green  \n",
       "67        green  \n",
       "68        green  \n",
       "69        green  "
      ]
     },
     "execution_count": 41,
     "metadata": {},
     "output_type": "execute_result"
    }
   ],
   "source": [
    "population1940_1945[population1940_1945['State'] == 'OR']"
   ]
  },
  {
   "cell_type": "code",
   "execution_count": 42,
   "metadata": {
    "#student": false
   },
   "outputs": [
    {
     "data": {
      "text/html": [
       "<div>\n",
       "<style scoped>\n",
       "    .dataframe tbody tr th:only-of-type {\n",
       "        vertical-align: middle;\n",
       "    }\n",
       "\n",
       "    .dataframe tbody tr th {\n",
       "        vertical-align: top;\n",
       "    }\n",
       "\n",
       "    .dataframe thead th {\n",
       "        text-align: right;\n",
       "    }\n",
       "</style>\n",
       "<table border=\"1\" class=\"dataframe\">\n",
       "  <thead>\n",
       "    <tr style=\"text-align: right;\">\n",
       "      <th></th>\n",
       "      <th>County</th>\n",
       "      <th>State</th>\n",
       "      <th>1940</th>\n",
       "      <th>1945</th>\n",
       "      <th>% returned</th>\n",
       "      <th>Latitude</th>\n",
       "      <th>Longitude</th>\n",
       "      <th>marker_color</th>\n",
       "    </tr>\n",
       "  </thead>\n",
       "  <tbody>\n",
       "    <tr>\n",
       "      <td>70</td>\n",
       "      <td>Benton</td>\n",
       "      <td>WA</td>\n",
       "      <td>69</td>\n",
       "      <td>0</td>\n",
       "      <td>0.0</td>\n",
       "      <td>34.564537</td>\n",
       "      <td>-92.586828</td>\n",
       "      <td>green</td>\n",
       "    </tr>\n",
       "    <tr>\n",
       "      <td>71</td>\n",
       "      <td>Chelan</td>\n",
       "      <td>WA</td>\n",
       "      <td>26</td>\n",
       "      <td>12</td>\n",
       "      <td>0.0</td>\n",
       "      <td>47.840832</td>\n",
       "      <td>-120.016808</td>\n",
       "      <td>green</td>\n",
       "    </tr>\n",
       "    <tr>\n",
       "      <td>72</td>\n",
       "      <td>Clallam</td>\n",
       "      <td>WA</td>\n",
       "      <td>17</td>\n",
       "      <td>0</td>\n",
       "      <td>0.0</td>\n",
       "      <td>48.040512</td>\n",
       "      <td>-124.016766</td>\n",
       "      <td>green</td>\n",
       "    </tr>\n",
       "    <tr>\n",
       "      <td>73</td>\n",
       "      <td>Clark</td>\n",
       "      <td>WA</td>\n",
       "      <td>110</td>\n",
       "      <td>22</td>\n",
       "      <td>20.0</td>\n",
       "      <td>37.223312</td>\n",
       "      <td>-95.702194</td>\n",
       "      <td>green</td>\n",
       "    </tr>\n",
       "    <tr>\n",
       "      <td>74</td>\n",
       "      <td>Grays Harbor</td>\n",
       "      <td>WA</td>\n",
       "      <td>2</td>\n",
       "      <td>6</td>\n",
       "      <td>0.0</td>\n",
       "      <td>46.995353</td>\n",
       "      <td>-123.701247</td>\n",
       "      <td>green</td>\n",
       "    </tr>\n",
       "    <tr>\n",
       "      <td>75</td>\n",
       "      <td>Jefferson</td>\n",
       "      <td>WA</td>\n",
       "      <td>37</td>\n",
       "      <td>14</td>\n",
       "      <td>0.0</td>\n",
       "      <td>37.109584</td>\n",
       "      <td>-95.762571</td>\n",
       "      <td>green</td>\n",
       "    </tr>\n",
       "    <tr>\n",
       "      <td>76</td>\n",
       "      <td>King</td>\n",
       "      <td>WA</td>\n",
       "      <td>9863</td>\n",
       "      <td>3411</td>\n",
       "      <td>34.6</td>\n",
       "      <td>37.037307</td>\n",
       "      <td>-95.616366</td>\n",
       "      <td>orange</td>\n",
       "    </tr>\n",
       "    <tr>\n",
       "      <td>77</td>\n",
       "      <td>Kitsap</td>\n",
       "      <td>WA</td>\n",
       "      <td>345</td>\n",
       "      <td>75</td>\n",
       "      <td>21.7</td>\n",
       "      <td>47.647661</td>\n",
       "      <td>-122.641258</td>\n",
       "      <td>green</td>\n",
       "    </tr>\n",
       "    <tr>\n",
       "      <td>78</td>\n",
       "      <td>Kittitas</td>\n",
       "      <td>WA</td>\n",
       "      <td>9</td>\n",
       "      <td>0</td>\n",
       "      <td>0.0</td>\n",
       "      <td>46.983182</td>\n",
       "      <td>-120.417010</td>\n",
       "      <td>green</td>\n",
       "    </tr>\n",
       "    <tr>\n",
       "      <td>79</td>\n",
       "      <td>Klickitat</td>\n",
       "      <td>WA</td>\n",
       "      <td>121</td>\n",
       "      <td>37</td>\n",
       "      <td>30.6</td>\n",
       "      <td>45.817067</td>\n",
       "      <td>-121.152572</td>\n",
       "      <td>green</td>\n",
       "    </tr>\n",
       "    <tr>\n",
       "      <td>80</td>\n",
       "      <td>Lewis</td>\n",
       "      <td>WA</td>\n",
       "      <td>62</td>\n",
       "      <td>13</td>\n",
       "      <td>0.0</td>\n",
       "      <td>37.225597</td>\n",
       "      <td>-95.716234</td>\n",
       "      <td>green</td>\n",
       "    </tr>\n",
       "    <tr>\n",
       "      <td>81</td>\n",
       "      <td>Mason</td>\n",
       "      <td>WA</td>\n",
       "      <td>23</td>\n",
       "      <td>8</td>\n",
       "      <td>0.0</td>\n",
       "      <td>39.360059</td>\n",
       "      <td>-84.309939</td>\n",
       "      <td>green</td>\n",
       "    </tr>\n",
       "    <tr>\n",
       "      <td>82</td>\n",
       "      <td>Okanogan</td>\n",
       "      <td>WA</td>\n",
       "      <td>0</td>\n",
       "      <td>5</td>\n",
       "      <td>0.0</td>\n",
       "      <td>48.361262</td>\n",
       "      <td>-119.583387</td>\n",
       "      <td>green</td>\n",
       "    </tr>\n",
       "    <tr>\n",
       "      <td>83</td>\n",
       "      <td>Pacific</td>\n",
       "      <td>WA</td>\n",
       "      <td>94</td>\n",
       "      <td>2</td>\n",
       "      <td>0.0</td>\n",
       "      <td>-8.783195</td>\n",
       "      <td>-124.508523</td>\n",
       "      <td>green</td>\n",
       "    </tr>\n",
       "    <tr>\n",
       "      <td>84</td>\n",
       "      <td>Pierce</td>\n",
       "      <td>WA</td>\n",
       "      <td>2050</td>\n",
       "      <td>292</td>\n",
       "      <td>14.2</td>\n",
       "      <td>34.184460</td>\n",
       "      <td>-118.579152</td>\n",
       "      <td>blue</td>\n",
       "    </tr>\n",
       "    <tr>\n",
       "      <td>85</td>\n",
       "      <td>San Juan</td>\n",
       "      <td>WA</td>\n",
       "      <td>2</td>\n",
       "      <td>0</td>\n",
       "      <td>0.0</td>\n",
       "      <td>18.465539</td>\n",
       "      <td>-66.105735</td>\n",
       "      <td>green</td>\n",
       "    </tr>\n",
       "    <tr>\n",
       "      <td>86</td>\n",
       "      <td>Skagit</td>\n",
       "      <td>WA</td>\n",
       "      <td>66</td>\n",
       "      <td>7</td>\n",
       "      <td>0.0</td>\n",
       "      <td>48.424196</td>\n",
       "      <td>-121.711436</td>\n",
       "      <td>green</td>\n",
       "    </tr>\n",
       "    <tr>\n",
       "      <td>87</td>\n",
       "      <td>Skamania</td>\n",
       "      <td>WA</td>\n",
       "      <td>4</td>\n",
       "      <td>0</td>\n",
       "      <td>0.0</td>\n",
       "      <td>45.617610</td>\n",
       "      <td>-122.048868</td>\n",
       "      <td>green</td>\n",
       "    </tr>\n",
       "    <tr>\n",
       "      <td>88</td>\n",
       "      <td>Snohomish</td>\n",
       "      <td>WA</td>\n",
       "      <td>57</td>\n",
       "      <td>2</td>\n",
       "      <td>0.0</td>\n",
       "      <td>47.912876</td>\n",
       "      <td>-122.098185</td>\n",
       "      <td>green</td>\n",
       "    </tr>\n",
       "    <tr>\n",
       "      <td>89</td>\n",
       "      <td>Thurston</td>\n",
       "      <td>WA</td>\n",
       "      <td>90</td>\n",
       "      <td>20</td>\n",
       "      <td>0.0</td>\n",
       "      <td>46.864575</td>\n",
       "      <td>-122.769599</td>\n",
       "      <td>green</td>\n",
       "    </tr>\n",
       "    <tr>\n",
       "      <td>90</td>\n",
       "      <td>Whatcom</td>\n",
       "      <td>WA</td>\n",
       "      <td>28</td>\n",
       "      <td>5</td>\n",
       "      <td>0.0</td>\n",
       "      <td>48.794689</td>\n",
       "      <td>-122.492743</td>\n",
       "      <td>green</td>\n",
       "    </tr>\n",
       "    <tr>\n",
       "      <td>91</td>\n",
       "      <td>Yakima</td>\n",
       "      <td>WA</td>\n",
       "      <td>814</td>\n",
       "      <td>108</td>\n",
       "      <td>13.3</td>\n",
       "      <td>46.602071</td>\n",
       "      <td>-120.505899</td>\n",
       "      <td>green</td>\n",
       "    </tr>\n",
       "  </tbody>\n",
       "</table>\n",
       "</div>"
      ],
      "text/plain": [
       "          County State  1940  1945  % returned   Latitude   Longitude  \\\n",
       "70        Benton    WA    69     0         0.0  34.564537  -92.586828   \n",
       "71        Chelan    WA    26    12         0.0  47.840832 -120.016808   \n",
       "72       Clallam    WA    17     0         0.0  48.040512 -124.016766   \n",
       "73         Clark    WA   110    22        20.0  37.223312  -95.702194   \n",
       "74  Grays Harbor    WA     2     6         0.0  46.995353 -123.701247   \n",
       "75     Jefferson    WA    37    14         0.0  37.109584  -95.762571   \n",
       "76          King    WA  9863  3411        34.6  37.037307  -95.616366   \n",
       "77        Kitsap    WA   345    75        21.7  47.647661 -122.641258   \n",
       "78      Kittitas    WA     9     0         0.0  46.983182 -120.417010   \n",
       "79     Klickitat    WA   121    37        30.6  45.817067 -121.152572   \n",
       "80         Lewis    WA    62    13         0.0  37.225597  -95.716234   \n",
       "81         Mason    WA    23     8         0.0  39.360059  -84.309939   \n",
       "82      Okanogan    WA     0     5         0.0  48.361262 -119.583387   \n",
       "83       Pacific    WA    94     2         0.0  -8.783195 -124.508523   \n",
       "84        Pierce    WA  2050   292        14.2  34.184460 -118.579152   \n",
       "85      San Juan    WA     2     0         0.0  18.465539  -66.105735   \n",
       "86        Skagit    WA    66     7         0.0  48.424196 -121.711436   \n",
       "87      Skamania    WA     4     0         0.0  45.617610 -122.048868   \n",
       "88     Snohomish    WA    57     2         0.0  47.912876 -122.098185   \n",
       "89      Thurston    WA    90    20         0.0  46.864575 -122.769599   \n",
       "90       Whatcom    WA    28     5         0.0  48.794689 -122.492743   \n",
       "91        Yakima    WA   814   108        13.3  46.602071 -120.505899   \n",
       "\n",
       "   marker_color  \n",
       "70        green  \n",
       "71        green  \n",
       "72        green  \n",
       "73        green  \n",
       "74        green  \n",
       "75        green  \n",
       "76       orange  \n",
       "77        green  \n",
       "78        green  \n",
       "79        green  \n",
       "80        green  \n",
       "81        green  \n",
       "82        green  \n",
       "83        green  \n",
       "84         blue  \n",
       "85        green  \n",
       "86        green  \n",
       "87        green  \n",
       "88        green  \n",
       "89        green  \n",
       "90        green  \n",
       "91        green  "
      ]
     },
     "execution_count": 42,
     "metadata": {},
     "output_type": "execute_result"
    }
   ],
   "source": [
    "population1940_1945[population1940_1945['State'] == 'WA']"
   ]
  },
  {
   "cell_type": "markdown",
   "metadata": {},
   "source": [
    "### Discussion Question"
   ]
  },
  {
   "cell_type": "markdown",
   "metadata": {
    "#student": true
   },
   "source": [
    "\n",
    "<font color = #d14d0f>**QUESTION 5**:</font> Based on the tables and maps above, identify an interesting aspect of the data that could be pursued further."
   ]
  },
  {
   "cell_type": "markdown",
   "metadata": {
    "#student": true
   },
   "source": [
    "\n",
    "**Answer:** YOUR ANSWER HERE"
   ]
  },
  {
   "cell_type": "markdown",
   "metadata": {
    "#student": false
   },
   "source": [
    "---\n",
    "\n",
    "**Make sure that you've answered all the questions. There are five in total.**\n",
    "\n",
    "You are finished with this notebook! Please run the following cell to generate a download link for your submission file to submit on bCourses. ***It is very likely that this download link will not work. If the download link does not work, please use the alternate download method described below.***\n",
    "\n",
    "Alternate download instructions:\n",
    "- open a new tab and go to https://datahub.berkeley.edu\n",
    "- go to the `colwrit-r4b` folder\n",
    "- click the box next to `Japanese-Internment-notebook.pdf`\n",
    "- click the \"Download\" link below the menu bar\n",
    "\n",
    "**Check the PDF before submitting and make sure all of your answers are shown.**"
   ]
  },
  {
   "cell_type": "code",
   "execution_count": 43,
   "metadata": {
    "#student": false
   },
   "outputs": [],
   "source": [
    "#!pip install gsexport -q\n",
    "#import gsExport\n",
    "#gsExport.generateSubmission(\"Japanese-Internment-notebook.ipynb\")\n",
    "\n",
    "#from otter.export import export_notebook\n",
    "#from IPython.display import display, HTML # new\n",
    "\n",
    "#export_notebook(\"style.ipynb\", filtering=True, pagebreaks=True)\n",
    "#display(HTML(\"Save this notebook, then click <a href='style.pdf' download>here</a> to open the pdf.\")) # new"
   ]
  },
  {
   "cell_type": "markdown",
   "metadata": {
    "#student": false
   },
   "source": [
    "---\n",
    "Notebook developed by: Alleanna Clark, Aishah Mahmud, Monica Wilkinson\n",
    "\n",
    "Data Science Modules: http://data.berkeley.edu/education/modules\n"
   ]
  }
 ],
 "metadata": {
  "anaconda-cloud": {},
  "checksums": [
   "7d62f2d8fa9df9782dabafaf29f6be0b",
   "bf3feb850b5e1bd76ebcd7c07e4125a4",
   "9ccdd9fe0060bd3ab7328387f1a35413",
   "a22cdadfe7c74bd821ea894f242bab88",
   "3d3282284ee18c6a2fd069444fde3217",
   "c5063f438aba580d73b3fc8f015801be",
   "bb574c420b608257b5fc9f647c3eb81c",
   "2846119dbb959fc17c459eafab13dcb5",
   "e01f007aa5443efb9900bd44d13dd7c7",
   "b804469a98fe20f770090a7acc360a31",
   "a46e8d57f8644009ee6351df0927f2bf",
   "c9decc56cff48e3fd4fb28e48a7ba110",
   "1508a0313a4e1c0923287b9327cb6a80",
   "bdab940058951e88de397a485186a5de",
   "62c34e40515edab6c4225ccf15087052",
   "0fd80a084c06e3f7653144df829c2e3d",
   "5344dc57314f63d6ea2455f0c2a27d30",
   "6c521a0f63dbf362aaaf744085cf5b4d",
   "f7cbedf950e5a0393fa8414ec591073c",
   "690c6779b8184c6b3f7b44b28258a1c9",
   "a23b90f9b02415da624c64c700cd983c",
   "1a89c04b14ffca9f33ba99754b16bc05",
   "135645a8e6de40583293478107705afb",
   "4500e0043480e3b5ee091f37fa8c6f2b",
   "989ef4f9e0df1c73b2e59d8a21acdaa9",
   "e682d5808dd16a1e8e787c15da5093c0",
   "7a7210ab4f95ccb7a3ce5d78bb87b92b",
   "6fa6c6038ba08d3c2973c03c4f222cf3",
   "9efc314b65237d5d646e1b817372afc6",
   "6a1eee6a000db38bf48e3c7c8313c2ed",
   "99193259bf8cb447d9c11ef80a2d517a",
   "be412606d0ab971baafe92a2aceddabd",
   "1d93fa85a37e8a9a4ed56e0e42a5e388",
   "13c86accb3f14a7504c1443b3b85b17b",
   "8b8bd628f67be024162e121a028737d5",
   "deda54df303d85c87084d4c7934124f2",
   "343c55190c6e01f3a21869185435318b",
   "b9f9b50487bc24ced9e9be3181b107c8",
   "2c628b07d1bc8678a879f1b182dfea22",
   "40a3a18785bcf172b3f5bffc70e2204a",
   "1be47a1c3314182c8741fb78645afc4c",
   "1a4743083d499b807c0f310cf851dd3f",
   "9d45946f137dcbd9b0bb25635216ec88",
   "af1b20ba747adc76da8d13147e160754",
   "c45b863a08254980e2804d24899d6712",
   "659c5ba16081070bc38a02d0d963063f",
   "646d6bf77641e96b7cd5772a8d1a10ad",
   "6fa6c6038ba08d3c2973c03c4f222cf3",
   "4b7233c8a0f8c12db1a1fcd5a9b445fc",
   "6357eb980f2ec54eaebb96dc7e3e1f7b",
   "23b2e187b60113dbb89807ca8d37030a"
  ],
  "kernelspec": {
   "display_name": "Python 3",
   "language": "python",
   "name": "python3"
  },
  "language_info": {
   "codemirror_mode": {
    "name": "ipython",
    "version": 3
   },
   "file_extension": ".py",
   "mimetype": "text/x-python",
   "name": "python",
   "nbconvert_exporter": "python",
   "pygments_lexer": "ipython3",
   "version": "3.7.3"
  },
  "number_of_pagebreaks": 0
 },
 "nbformat": 4,
 "nbformat_minor": 4
}
