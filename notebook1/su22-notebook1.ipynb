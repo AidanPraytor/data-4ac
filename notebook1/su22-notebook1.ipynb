{
 "cells": [
  {
   "cell_type": "markdown",
   "metadata": {
    "cell_id": "00001-eedf9a46-cb0c-42bc-a90f-96265663c0d3",
    "deepnote_cell_type": "markdown",
    "tags": [
     "ignore"
    ]
   },
   "source": [
    "## Notebook 1: Introduction to Jupyter Notebooks and Python\n",
    "\n",
    "## **Jupyter Notebooks**\n",
    "\n",
    "Welcome to a Jupyter Notebook! **Notebooks** are documents that support interactive computing in which code is interwoven with text, visualizations, and more.\n",
    "\n",
    "The way notebooks are formatted encourages **exploration**, allowing users to iteratively update code and document the results. In use cases such as **data exploration and communication**, notebooks excel. Science (and computational work in general) has become quite sophisticated: models are built upon experiments that are conducted on large swaths of data, methods and results are abstracted away into symbols, and papers are full of technical jargon. *A static document like a paper might not be sufficient to both effectively communicate a new discovery and allow someone else to discover it for themselves*."
   ]
  },
  {
   "cell_type": "markdown",
   "metadata": {},
   "source": [
    "### Learning Outcomes\n",
    "Working through this notebook, you will learn about:\n",
    "1. The history behind **Jupyter notebooks** and why they are used in computing\n",
    "2. How a Jupyter notebook is **structured** and how to use them\n",
    "3. Python fundamentals and working with **tabular data**"
   ]
  },
  {
   "cell_type": "markdown",
   "metadata": {},
   "source": [
    "<hr style=\"border: 2px solid #003262\">\n",
    "<hr style=\"border: 2px solid #C9B676\">"
   ]
  },
  {
   "cell_type": "markdown",
   "metadata": {
    "cell_id": "00003-a9cd1167-2276-4e0f-85b6-43d803731627",
    "deepnote_cell_type": "markdown",
    "tags": []
   },
   "source": [
    "### A Brief History\n",
    "The Jupyter Notebook is an _interactive computational environment_ that supports over **40** different programming languages, but was first released as a web-based interface for IPython in 2011. [Fernando Perez](https://bids.berkeley.edu/people/fernando-p%C3%A9rez), a professor in the Statistics department here at UC Berkeley, created [IPython](https://bids.berkeley.edu/research/ipython) as a graduate student in 2001 and co-founded [Project Jupyter](https://bids.berkeley.edu/research/project-jupyter) in 2014. \n",
    "\n",
    "Project Jupyter's name is a reference to the three core programming languages supported by Jupyter, which are `Julia`, `Python` and `R` (`\"ju\"` from `\"Julia\"`, `\"pyt\"` from `\"Python\"`, and `\"er\"` from `\"R\"`; all together you get `\"ju\" + \"pyt\" + \"er\" = \"jupyter\"`). \n",
    "\n",
    "The word notebook is an homage to Galileo's notebooks in which he documents his discovery of the the moons of Jupiter (the planet).\n",
    "\n",
    "Though the Jupyter Notebook interface has been around only about a decade, the first notebook interface, [Mathematica](https://www.mathematica.org/), was released over 30 years ago in 1988. Other notebook interfaces have been released since then, but none have gained as much traction as Jupyter Notebooks have. Starting in the early 2000s, open-source scientific tools were becoming more and more popular and with the widespread popularity of Jupyter, it's well on its way to becoming a standard for sharing research methodology and results.\n",
    "\n",
    "<center><img src=\"assets/mathematica.png\" alt=\"Early Mathematica Interface\" style=\"width: 350px;\"/><br>\n",
    "The early Mathematica Interface.</center>"
   ]
  },
  {
   "cell_type": "markdown",
   "metadata": {
    "cell_id": "00004-6505161d-0615-4da6-bdf1-11b7204319a9",
    "deepnote_cell_type": "markdown",
    "tags": []
   },
   "source": [
    "### Why (Jupyter) Notebooks?\n",
    "Notebooks are used for [*literate programming*](https://en.wikipedia.org/wiki/Literate_programming), a programming paradigm introduced by [Donald Knuth](https://en.wikipedia.org/wiki/Donald_Knuth) in 1984, in which a programming language is accompanied with a documentation language, or a natural language. In other words, the computer program has an explanation in a natural language. \n",
    "\n",
    "This approach to programming effectively treats software as works of literature ([Knuth](http://www.literateprogramming.com/knuthweb.pdf), \"Literate Programming\"). _It supports people to have a strong conceptual map of what is happening in the code and also to have clarity on the flow and logic of the code/program, which is helpful for both the writer and the reader_.\n",
    "\n",
    "Jupyter leverages this idea and enables users to create and share documents that combine code, visualizations, narrative text, equations, and rich media. Notebooks are multipurpose and can be used in any discipline. The notebook is like a laboratory notebook, but for computing. \n",
    "\n",
    "Researchers can write code to work with their data while supplementing their methods with explanations, analysis, or hypotheses. Notebooks are also used in education because they enable students to engage with content presented in different forms, experience computation with no prior experience, and practice programming in a scaffolded way. \n",
    "\n",
    "<blockquote>\n",
    "    <div class=\"alert alert-success\">\n",
    "In our class, we'll be using Jupyter Notebooks to introduce you to how data scientists work with data, to learn about issues of justice using real-world data sets, and to also learn how to reason about the human choices embedded in the practice of data science and their significance.\n",
    "    </div>\n",
    "</blockquote>"
   ]
  },
  {
   "cell_type": "markdown",
   "metadata": {},
   "source": [
    "<hr style=\"border: 2px solid #003262\">\n",
    "<hr style=\"border: 2px solid #C9B676\">"
   ]
  },
  {
   "cell_type": "markdown",
   "metadata": {
    "cell_id": "00003-058e2913-9587-45ac-8c2f-f284333ac4f3",
    "deepnote_cell_type": "markdown"
   },
   "source": [
    "### Notebook Structure\n",
    "\n",
    "#### Cell Types\n",
    "A notebook is composed of rectangular sections called **cells**. There are 2 kinds of cells: markdown and code. \n",
    "- A **markdown cell**, such as this one, contains text. \n",
    "- A **code cell** contains code in Python, a programming language that we will be using with all of our data science modules in this class. You can select any cell by clicking it once.\n",
    "    - Code cells can also contain code in other languages like Julia, or R: both of which can also be used in data analysis\n",
    "\n",
    "#### Running Cells\n",
    "To \"run\" a code cell (i.e. tell the computer to perform the programmed instructions in the cell), select it and then,\n",
    "- Press `Shift` + `Enter` to run the cell and move to the following cell\n",
    "- Press `Command/Control` + `Enter` to run the cell but stay on the same cell\n",
    "    - This can be used repeatedley to re-run the same process\n",
    "- Click the Run button in the toolbar at the top of the screen. \n",
    "\n",
    "#### Results and Outputs of a Cell\n",
    "When you run a code cell, a number of things can happen, depending on the type and contents of the cell:\n",
    "1. If the cell is a markdown cell, the text will be rendered according to the structure (_Markdown_, _HTML_, etc.)\n",
    "2. If the cell is a code cell, the result of the last line in the cell will be shown\n",
    "    - This output may be text, a number, a picture, or a visualization\n",
    "\n",
    "If a code cell is running, you will see an asterisk (\\*) appear in the square brackets to the left of the cell. Once the cell has finished running, a number will replace the asterisk and any output from the code will appear under the cell.\n",
    "\n",
    "Let's try it! **Run the cell below to see the output.** Feel free to play around with the code -- try changing 'World' to your name."
   ]
  },
  {
   "cell_type": "code",
   "execution_count": 56,
   "metadata": {
    "cell_id": "00004-a9f5f74b-a641-44a7-8dd5-2f9f58c10236",
    "deepnote_cell_type": "code",
    "execution": {
     "iopub.execute_input": "2022-08-03T09:02:40.079967Z",
     "iopub.status.busy": "2022-08-03T09:02:40.079000Z",
     "iopub.status.idle": "2022-08-03T09:02:40.118322Z",
     "shell.execute_reply": "2022-08-03T09:02:40.117260Z",
     "shell.execute_reply.started": "2022-08-03T09:02:40.079911Z"
    },
    "tags": [
     "ignore"
    ]
   },
   "outputs": [
    {
     "name": "stdout",
     "output_type": "stream",
     "text": [
      "Hello World!\n"
     ]
    }
   ],
   "source": [
    "print(\"Hello World!\") # Run the cell by using one of the methods we mentioned above!"
   ]
  },
  {
   "cell_type": "markdown",
   "metadata": {
    "cell_id": "00005-7327a678-bcb7-4a12-b09a-a4054660c9af",
    "deepnote_cell_type": "markdown",
    "tags": [
     "ignore"
    ]
   },
   "source": [
    "#### Comments\n",
    "You'll notice that many code cells contain lines of blue text that start with a `#`. These are ***comments***. Comments often contain helpful information about what the code does or what you are supposed to do in the cell. The leading `#` tells the computer to ignore whatever text follows it."
   ]
  },
  {
   "cell_type": "markdown",
   "metadata": {},
   "source": [
    "<hr style=\"border: 2px solid #003262\">\n",
    "<hr style=\"border: 2px solid #C9B676\">"
   ]
  },
  {
   "cell_type": "markdown",
   "metadata": {
    "cell_id": "00006-dadd2623-2173-4cdb-8c95-207741ecc765",
    "deepnote_cell_type": "markdown",
    "tags": [
     "ignore"
    ]
   },
   "source": [
    "### Editing the Notebook\n",
    "\n",
    "You can change the text in a markdown cell by clicking it twice. Text in markdown cells is written in [**Markdown**](https://daringfireball.net/projects/markdown/), a formatting language for plain text, so you may see some funky symbols should you try and edit a markdown cell we've already written. Once you've made changes to a markdown cell, you can exit editing mode by running the cell the same way you'd run a code cell.\n",
    "\n",
    "<blockquote>\n",
    "    <div class=\"alert alert-warning\">\n",
    "        <b>\n",
    "            Try double-clicking on this text to see what some Markdown formatting looks like.\n",
    "        </b>\n",
    "    </div>\n",
    "</blockquote>"
   ]
  },
  {
   "cell_type": "markdown",
   "metadata": {
    "cell_id": "00007-068d7862-911b-48aa-aa89-fe1376726a4f",
    "deepnote_cell_type": "markdown",
    "tags": [
     "ignore"
    ]
   },
   "source": [
    "#### Manipulating Cells\n",
    "\n",
    "Another feature of Jupyter Notebooks is the ability to add and delete cells, whether that be code or markdown. You can add cells by pressing the plus sign icon in the menu bar. This will add (by default) a code cell immediately below your current highlighted cell.\n",
    "\n",
    "To convert a cell to markdown, you can press 'Cell' in the menu bar, select 'Cell Type', and finally pick the desired option. This works the other way around too!\n",
    "\n",
    "To delete a cell, simply press the scissors icon in the menu bar. A common fear is deleting a cell that you needed -- but don't worry! This can be undone using 'Edit' > 'Undo Delete Cells'! If you accidentally delete content in a cell, you can use `Ctrl` + `Z` to undo."
   ]
  },
  {
   "cell_type": "markdown",
   "metadata": {},
   "source": [
    "#### Shortcuts\n",
    "<div class=\"alert alert-info\">\n",
    "Select a cell by clicking on the empty space to the left of the text (there will be a blue bar to the left of the cell at this point)\n",
    "    <ul>\n",
    "    <li>To <b>add a cell <i>below</i></b> the selected one, press the <code>b</code> key (<i>b for below</i>) </li>\n",
    "    <li>To <b>add a cell <i>above</i></b> the selected one, press the <code>a</code> key (<i>a for above</i>) </li>\n",
    "    <li>To <b>delete a cell</b>, press the <code>d</code> key (<i>d for delete</i>) </li>\n",
    "    <li>To <b>copy a cell</b>, press the <code>c</code> key (<i>c for copy</i>) </li>\n",
    "    <li>To <b>cut a cell</b>, press the <code>x</code> key (<i>same as the general cut text command</i>) </li>\n",
    "    <li>To <b>delete a cell</b>, press the <code>d</code> key <b><i>twice</i></b> (<i>d for delete, twice to ensure the action</i>) </li>\n",
    "    <li>To <b>paste a cell</b>, press the <code>v</code> key (<i>same as the general paste text command</i>) </li>\n",
    "    <li>To <b>convert a cell to a markdown cell</b>, press the <code>m</code> key (<i>m for markdown</i>) </li>\n",
    "    <li>To <b>convert a cell to a code cell</b>, press the <code>y</code> key </li>\n",
    "    </ul>\n",
    "<div>"
   ]
  },
  {
   "cell_type": "markdown",
   "metadata": {
    "cell_id": "00008-50df70cb-c544-42c2-8146-20897007051c",
    "deepnote_cell_type": "markdown",
    "tags": [
     "ignore"
    ]
   },
   "source": [
    "#### Saving and Loading\n",
    "\n",
    "Your notebook will automatically save your text and code edits, as well as any graphs you generate or any calculations you make. However, you can also manually save the notebook in its current state by using `Ctrl` + `S`, clicking the floppy disk icon in the toolbar at the top of the page, or by going to the 'File' menu and selecting 'Save and Checkpoint'.\n",
    "\n",
    "Next time you open your notebook, it will look the same as when you last saved it!\n",
    "\n",
    "<blockquote>\n",
    "    <div class=\"alert alert-info\">\n",
    "        <b>Note:</b> When you load a notebook you will see all the outputs from your last saved session (such as graphs, computations, etc.) but you won't be able to use any of the variables you assigned in your code without running it again.\n",
    "    </div>\n",
    "</blockquote>\n",
    "\n",
    "An easy way to \"catch up\" to the last work you did is to highlight the cell you left off on and click \"Run all above\" under the Cell tab in the menu at the top of the screen."
   ]
  },
  {
   "cell_type": "markdown",
   "metadata": {},
   "source": [
    "<hr style=\"border: 2px solid #003262\">\n",
    "<hr style=\"border: 2px solid #C9B676\">"
   ]
  },
  {
   "cell_type": "markdown",
   "metadata": {},
   "source": [
    "### Python Basics <a id='subsectionpy'></a>\n",
    "[**Python**](https://www.python.org/) is a programming language – a way for us to communicate with the computer and give it instructions.\n",
    "\n",
    "Just like any language, Python has a set vocabulary made up of words it can understand, and a syntax which provides the rules for how to structure our commands and give instructions."
   ]
  },
  {
   "cell_type": "markdown",
   "metadata": {},
   "source": [
    "#### Math\n",
    "Python is a great language for math, as it is easy to understand, and looks very similar to what it would look like in a regular scientific calculator!\n",
    "\n",
    "- `+` Acts as the addition operator\n",
    "- `-` Acts as the subtraction operator and can also act as a negative sign if next to a number (e.g., `-2` vs `- 2`)\n",
    "- `*` Acts as the multiplication operator\n",
    "- `**` Acts as the exponentiation operator\n",
    "- `/` Acts as the division operator\n",
    "- `()` Acts as the grouping operator\n",
    "\n",
    "There are two types of numbers in python: Integers, also known as `int`, (e.g., `4`, `7`, `15`, `2354`) and decimal numbers, aka `float` (e.g., `13.0`, `14.5`, `2.731`, `3.1415`). \n",
    "\n",
    "When using the `/` operator, even if the result is a whole number, the result will be a `float`. For example, `10 / 5` is `2.0`, not `2`.\n",
    "\n",
    "> There are other, more advanced operators such as [floor division](https://www.pythontutorial.net/advanced-python/python-floor-division/) and [modulo](https://realpython.com/python-modulo-operator/), however, we won't be using those for the time being, so feel free to explore if you'd like, but this is very out of scope for this material\n",
    "\n",
    "Let's look at some examples of using these operators. As usual, feel free to play artound with these cells or even add new ones to explore how these operations work!"
   ]
  },
  {
   "cell_type": "code",
   "execution_count": null,
   "metadata": {},
   "outputs": [],
   "source": [
    "1 + 3"
   ]
  },
  {
   "cell_type": "code",
   "execution_count": null,
   "metadata": {},
   "outputs": [],
   "source": [
    "1 + 3 - 4 + 5"
   ]
  },
  {
   "cell_type": "code",
   "execution_count": null,
   "metadata": {},
   "outputs": [],
   "source": [
    "1 + 10 / 2 + 7"
   ]
  },
  {
   "cell_type": "code",
   "execution_count": null,
   "metadata": {},
   "outputs": [],
   "source": [
    "3 * 4"
   ]
  },
  {
   "cell_type": "code",
   "execution_count": 68,
   "metadata": {
    "execution": {
     "iopub.execute_input": "2022-08-03T09:59:56.480883Z",
     "iopub.status.busy": "2022-08-03T09:59:56.480486Z",
     "iopub.status.idle": "2022-08-03T09:59:56.490422Z",
     "shell.execute_reply": "2022-08-03T09:59:56.489698Z",
     "shell.execute_reply.started": "2022-08-03T09:59:56.480853Z"
    }
   },
   "outputs": [
    {
     "data": {
      "text/plain": [
       "25"
      ]
     },
     "execution_count": 68,
     "metadata": {},
     "output_type": "execute_result"
    }
   ],
   "source": [
    "5 ** 2"
   ]
  },
  {
   "cell_type": "code",
   "execution_count": 69,
   "metadata": {
    "execution": {
     "iopub.execute_input": "2022-08-03T10:00:04.963271Z",
     "iopub.status.busy": "2022-08-03T10:00:04.962795Z",
     "iopub.status.idle": "2022-08-03T10:00:04.976298Z",
     "shell.execute_reply": "2022-08-03T10:00:04.974251Z",
     "shell.execute_reply.started": "2022-08-03T10:00:04.963234Z"
    }
   },
   "outputs": [
    {
     "data": {
      "text/plain": [
       "8"
      ]
     },
     "execution_count": 69,
     "metadata": {},
     "output_type": "execute_result"
    }
   ],
   "source": [
    "2 ** 3"
   ]
  },
  {
   "cell_type": "code",
   "execution_count": 70,
   "metadata": {
    "execution": {
     "iopub.execute_input": "2022-08-03T10:00:16.629885Z",
     "iopub.status.busy": "2022-08-03T10:00:16.629327Z",
     "iopub.status.idle": "2022-08-03T10:00:16.641667Z",
     "shell.execute_reply": "2022-08-03T10:00:16.640691Z",
     "shell.execute_reply.started": "2022-08-03T10:00:16.629849Z"
    }
   },
   "outputs": [
    {
     "data": {
      "text/plain": [
       "2.0"
      ]
     },
     "execution_count": 70,
     "metadata": {},
     "output_type": "execute_result"
    }
   ],
   "source": [
    "4 ** .5"
   ]
  },
  {
   "cell_type": "code",
   "execution_count": null,
   "metadata": {
    "tags": []
   },
   "outputs": [],
   "source": [
    "6 + 4 * 2 - 15"
   ]
  },
  {
   "cell_type": "code",
   "execution_count": null,
   "metadata": {},
   "outputs": [],
   "source": [
    "(6 + 4) * 2 - 15"
   ]
  },
  {
   "cell_type": "code",
   "execution_count": null,
   "metadata": {},
   "outputs": [],
   "source": [
    "5 * 10 / 10"
   ]
  },
  {
   "cell_type": "code",
   "execution_count": null,
   "metadata": {
    "tags": []
   },
   "outputs": [],
   "source": [
    "2 - 100 * -2"
   ]
  },
  {
   "cell_type": "markdown",
   "metadata": {},
   "source": [
    "#### Strings\n",
    "Strings are what we call words or text in Python. A string is surrounded in either single ('') or double (\"\") quotes. Here are some examples of strings"
   ]
  },
  {
   "cell_type": "code",
   "execution_count": null,
   "metadata": {},
   "outputs": [],
   "source": [
    "\"This is a string\""
   ]
  },
  {
   "cell_type": "code",
   "execution_count": null,
   "metadata": {},
   "outputs": [],
   "source": [
    "'This is too'"
   ]
  },
  {
   "cell_type": "code",
   "execution_count": null,
   "metadata": {},
   "outputs": [],
   "source": [
    "\"eVeNtHiSiSaStRiNg\""
   ]
  },
  {
   "cell_type": "markdown",
   "metadata": {},
   "source": [
    "You can even do math with strings!"
   ]
  },
  {
   "cell_type": "code",
   "execution_count": null,
   "metadata": {
    "tags": []
   },
   "outputs": [],
   "source": [
    "'Ha' * 10"
   ]
  },
  {
   "cell_type": "code",
   "execution_count": null,
   "metadata": {
    "tags": []
   },
   "outputs": [],
   "source": [
    "\"Ha\" + \" \" + \"Ha\" + \"     \" + \"Ha\""
   ]
  },
  {
   "cell_type": "markdown",
   "metadata": {
    "cell_id": "00012-b219d532-3d18-4f5b-8c0b-8300087fd4fc",
    "deepnote_cell_type": "markdown",
    "tags": [
     "ignore"
    ]
   },
   "source": [
    "#### Errors\n",
    "Errors in programming are common and totally okay! Don't be afraid when you see an error because more likely than not the solution lies in the error code itself! Let's see what an error looks like. **Run the cell below to see the output.**"
   ]
  },
  {
   "cell_type": "code",
   "execution_count": null,
   "metadata": {
    "cell_id": "00013-eb788b09-06e6-46f1-b6fd-5f63d3beaf17",
    "deepnote_cell_type": "code",
    "tags": [
     "ignore"
    ]
   },
   "outputs": [],
   "source": [
    "print('This line is missing something.' #we are missing a closing parentheses here!"
   ]
  },
  {
   "cell_type": "markdown",
   "metadata": {
    "cell_id": "00014-7e39cbe6-b521-4466-8200-3a4f652750f9",
    "deepnote_cell_type": "markdown",
    "tags": [
     "ignore"
    ]
   },
   "source": [
    "The last line of the error output attempts to tell you what went wrong. \n",
    "\n",
    "The *syntax* of a language is its structure, and this `SyntaxError` tells you that you have created an illegal structure.  \n",
    "\n",
    "`EOF` means \"End of File,\" so the message is saying Python expected you to write something more (in this case, a right parenthesis) before finishing the cell.\n",
    "\n",
    "There's a lot of terminology in programming languages, but you don't need to know it all in order to program effectively. If you see a cryptic message like this, you can often get by without deciphering it.  (Of course, if you're frustrated, you can usually find out by searching for the error message online.)"
   ]
  },
  {
   "cell_type": "markdown",
   "metadata": {
    "cell_id": "00015-6798c00d-6c61-4fb9-9db5-391b056d479c",
    "deepnote_cell_type": "markdown",
    "tags": [
     "ignore"
    ]
   },
   "source": [
    "#### Variables\n",
    "\n",
    "As we mentioned before, in this Jupyter Notebook you will be assigning data, figures, numbers, text, or other objects to **variables**. \n",
    "\n",
    "You can even assign graph output or functions to variables, but that is out of scope for this assignment so don't worry about it for now! \n",
    "\n",
    "Variables are stored in a computer's memory and you can use it over and over again in future calculations!\n",
    "\n",
    "Sometimes, instead of trying to work with raw information all the time in a long calculation you will want to store it as a **variable** for easy access in future calculations. **Check out how we can use variables to our advantage below!**"
   ]
  },
  {
   "cell_type": "markdown",
   "metadata": {},
   "source": [
    "### Assignment Statements\n",
    "Here is an example of what we call an _assignment statement_, what we use to create a variable. Here is an example of an assignment statement:"
   ]
  },
  {
   "cell_type": "code",
   "execution_count": 36,
   "metadata": {
    "execution": {
     "iopub.execute_input": "2022-08-03T08:17:30.594949Z",
     "iopub.status.busy": "2022-08-03T08:17:30.594085Z",
     "iopub.status.idle": "2022-08-03T08:17:30.617549Z",
     "shell.execute_reply": "2022-08-03T08:17:30.616312Z",
     "shell.execute_reply.started": "2022-08-03T08:17:30.594868Z"
    }
   },
   "outputs": [],
   "source": [
    "x = 1 + 2 + 3 + 4 "
   ]
  },
  {
   "cell_type": "markdown",
   "metadata": {},
   "source": [
    "The first part of the statment is the **variable name**, in this case `x`. Then we write an equals sign (`=`). The final part is the left hand side, **the value** is the value of the variable, in this case it is `1 + 2 + 3 + 4`. \n",
    "\n",
    "Also, notice that there was no output; an assignment statement has no output value! But, if we run a cell with the variable name itself, we can see the output, which is the value of `x`."
   ]
  },
  {
   "cell_type": "code",
   "execution_count": 40,
   "metadata": {
    "execution": {
     "iopub.execute_input": "2022-08-03T08:23:41.528689Z",
     "iopub.status.busy": "2022-08-03T08:23:41.527499Z",
     "iopub.status.idle": "2022-08-03T08:23:41.539992Z",
     "shell.execute_reply": "2022-08-03T08:23:41.537221Z",
     "shell.execute_reply.started": "2022-08-03T08:23:41.528645Z"
    },
    "tags": []
   },
   "outputs": [
    {
     "data": {
      "text/plain": [
       "10"
      ]
     },
     "execution_count": 40,
     "metadata": {},
     "output_type": "execute_result"
    }
   ],
   "source": [
    "x #just run this cell"
   ]
  },
  {
   "cell_type": "markdown",
   "metadata": {},
   "source": [
    "You can also chain variable assignments, as follows:"
   ]
  },
  {
   "cell_type": "code",
   "execution_count": 41,
   "metadata": {
    "execution": {
     "iopub.execute_input": "2022-08-03T08:24:33.065858Z",
     "iopub.status.busy": "2022-08-03T08:24:33.065177Z",
     "iopub.status.idle": "2022-08-03T08:24:33.075613Z",
     "shell.execute_reply": "2022-08-03T08:24:33.074196Z",
     "shell.execute_reply.started": "2022-08-03T08:24:33.065827Z"
    }
   },
   "outputs": [
    {
     "data": {
      "text/plain": [
       "100"
      ]
     },
     "execution_count": 41,
     "metadata": {},
     "output_type": "execute_result"
    }
   ],
   "source": [
    "y = (x + 3 + x + 2) * 4\n",
    "y"
   ]
  },
  {
   "cell_type": "markdown",
   "metadata": {},
   "source": [
    "#### Variable Examples\n",
    "Let's look at a couple examples of when using variables can help us immensely!"
   ]
  },
  {
   "cell_type": "markdown",
   "metadata": {},
   "source": [
    "##### Example 1: Seconds in a Year\n",
    "Let's say we want to find out how many seconds are in a year. We could calcluate it raw as following: $$60 \\cdot 60 \\cdot 24 \\cdot 365$$ However, someone reading this may not understand it, and we might want to use this information for further calculations. Let's see how we can do this using variables!"
   ]
  },
  {
   "cell_type": "code",
   "execution_count": 34,
   "metadata": {
    "execution": {
     "iopub.execute_input": "2022-08-03T07:54:27.082259Z",
     "iopub.status.busy": "2022-08-03T07:54:27.081135Z",
     "iopub.status.idle": "2022-08-03T07:54:27.102518Z",
     "shell.execute_reply": "2022-08-03T07:54:27.101314Z",
     "shell.execute_reply.started": "2022-08-03T07:54:27.082189Z"
    },
    "tags": []
   },
   "outputs": [
    {
     "data": {
      "text/plain": [
       "31536000"
      ]
     },
     "execution_count": 34,
     "metadata": {},
     "output_type": "execute_result"
    }
   ],
   "source": [
    "days = 365 #the days in a year\n",
    "hours = 24 #the hours in a day\n",
    "minutes = 60 #the minutes in an hour\n",
    "seconds = 60 #the seconds in a minute\n",
    "seconds_per_year = days * hours * minutes * seconds #the seconds in one year\n",
    "seconds_per_year"
   ]
  },
  {
   "cell_type": "markdown",
   "metadata": {},
   "source": [
    "This method is far easier to understand, and we can use our new variable `seconds_per_year` to answer other questions! Lets say we wanted to find the number of seconds in half a year, $7$ years, $234$ years, or even $3.1415$ years as follows!"
   ]
  },
  {
   "cell_type": "code",
   "execution_count": 35,
   "metadata": {
    "execution": {
     "iopub.execute_input": "2022-08-03T07:59:27.315915Z",
     "iopub.status.busy": "2022-08-03T07:59:27.315103Z",
     "iopub.status.idle": "2022-08-03T07:59:27.336676Z",
     "shell.execute_reply": "2022-08-03T07:59:27.335485Z",
     "shell.execute_reply.started": "2022-08-03T07:59:27.315867Z"
    }
   },
   "outputs": [
    {
     "name": "stdout",
     "output_type": "stream",
     "text": [
      "Seconds in half a year: 15768000.0\n",
      "Seconds in seven years: 220752000\n",
      "Seconds in two hundred and thirty-four years: 7663248000\n",
      "Seconds in 3.1415 years: 99070344.0\n"
     ]
    }
   ],
   "source": [
    "print(\"Seconds in half a year:\", seconds_per_year / 2)\n",
    "print(\"Seconds in seven years:\", seconds_per_year * 7)\n",
    "print(\"Seconds in two hundred and thirty-four years:\", seconds_per_year * 243)\n",
    "print(\"Seconds in 3.1415 years:\", seconds_per_year * 3.1415)"
   ]
  },
  {
   "cell_type": "markdown",
   "metadata": {},
   "source": [
    "As you can see, we don't need to re-do the problem four times to get all the results, we just need to use the result we already calculated! (Cool right?)"
   ]
  },
  {
   "cell_type": "markdown",
   "metadata": {},
   "source": [
    "##### Example 2: Quadratic Equation\n",
    "If you haven't done algebra in a while, for reference, the quadratic forumula is $$\\frac{-b\\pm\\sqrt{b^{2} - 4 \\cdot a \\cdot c}}{2a}$$"
   ]
  },
  {
   "cell_type": "code",
   "execution_count": 75,
   "metadata": {
    "execution": {
     "iopub.execute_input": "2022-08-03T10:08:23.865077Z",
     "iopub.status.busy": "2022-08-03T10:08:23.864265Z",
     "iopub.status.idle": "2022-08-03T10:08:23.873910Z",
     "shell.execute_reply": "2022-08-03T10:08:23.873007Z",
     "shell.execute_reply.started": "2022-08-03T10:08:23.865046Z"
    },
    "tags": []
   },
   "outputs": [
    {
     "data": {
      "text/plain": [
       "(-0.7320508075688772, 2.732050807568877)"
      ]
     },
     "execution_count": 75,
     "metadata": {},
     "output_type": "execute_result"
    }
   ],
   "source": [
    "a = -1\n",
    "b = 2\n",
    "c = 2\n",
    "denominator = 2 * a #bottom of fraction\n",
    "radical_first = b ** 2 #first term under the radical\n",
    "radical_second = 4 * a * c #second term under the radical\n",
    "under_radical = radical_first - radical_second #all under the radical\n",
    "numerator_second = under_radical ** .5 #square root of what is under the radical\n",
    "numerator_first = -b #first term in the radical\n",
    "numerator_plus = numerator_first + numerator_second #numerator in the plus condition\n",
    "numerator_minus = numerator_first - numerator_second #numerator in the minus condition\n",
    "plus_solution = numerator_plus / denominator #solution in the plus condition\n",
    "minus_solution = numerator_minus / denominator #solution in the minus condition\n",
    "plus_solution, minus_solution #solutions in both the plus and minus conditions"
   ]
  },
  {
   "cell_type": "markdown",
   "metadata": {},
   "source": [
    "#### Lists\n",
    "Variable values may be more sophisticated. We can store multiple numbers under a single name if we make the value a list. The following cell stores 3 numbers in a list:"
   ]
  },
  {
   "cell_type": "code",
   "execution_count": null,
   "metadata": {},
   "outputs": [],
   "source": [
    "y = [4,9,16]"
   ]
  },
  {
   "cell_type": "markdown",
   "metadata": {
    "cell_id": "00022-ad81de6d-4f04-4922-8b42-b54b01daeb8c",
    "deepnote_cell_type": "markdown",
    "tags": []
   },
   "source": [
    "### Functions <a id='subsection 1c'></a>\n",
    "We've seen that values can have names (often called **variables**), but operations may also have names. A named operation is called a **function**. Python has some functions built into it."
   ]
  },
  {
   "cell_type": "code",
   "execution_count": null,
   "metadata": {
    "cell_id": "00023-7a1ac018-a44a-4e08-a681-2479fd06afed",
    "deepnote_cell_type": "code",
    "tags": []
   },
   "outputs": [],
   "source": [
    "round # a built-in function "
   ]
  },
  {
   "cell_type": "markdown",
   "metadata": {
    "cell_id": "00024-61af2610-4945-4252-86a1-a4f67e1cf4ce",
    "deepnote_cell_type": "markdown",
    "tags": []
   },
   "source": [
    "Functions get used in *call expressions*, where a function is named and given values to operate on inside a set of parentheses. The `round` function returns the number it was given, rounded to the nearest whole number."
   ]
  },
  {
   "cell_type": "code",
   "execution_count": null,
   "metadata": {
    "cell_id": "00025-ddd3aeb9-2868-4a79-8404-5c5052baab1b",
    "deepnote_cell_type": "code",
    "tags": []
   },
   "outputs": [],
   "source": [
    "round(1988.74699) # a call expression using round"
   ]
  },
  {
   "cell_type": "markdown",
   "metadata": {
    "cell_id": "00027-27b5ba99-fd19-4093-9b69-1d42154c979f",
    "deepnote_cell_type": "markdown",
    "tags": []
   },
   "source": [
    "A function may also be called on more than one value (called *arguments*). For instance, the `min` function takes however many arguments you'd like and returns the smallest. Multiple arguments are separated by commas."
   ]
  },
  {
   "cell_type": "code",
   "execution_count": 67,
   "metadata": {
    "cell_id": "00027-26d2e33c-79e0-44b3-aad9-59361b3dba09",
    "deepnote_cell_type": "code",
    "execution": {
     "iopub.execute_input": "2022-08-03T09:54:18.699414Z",
     "iopub.status.busy": "2022-08-03T09:54:18.698910Z",
     "iopub.status.idle": "2022-08-03T09:54:18.709577Z",
     "shell.execute_reply": "2022-08-03T09:54:18.708588Z",
     "shell.execute_reply.started": "2022-08-03T09:54:18.699388Z"
    },
    "tags": []
   },
   "outputs": [
    {
     "data": {
      "text/plain": [
       "-34"
      ]
     },
     "execution_count": 67,
     "metadata": {},
     "output_type": "execute_result"
    }
   ],
   "source": [
    "min(9, -34, 0, 99)"
   ]
  },
  {
   "cell_type": "markdown",
   "metadata": {
    "cell_id": "00028-85d551d0-1121-4f0d-9b6d-da0049cad3e7",
    "deepnote_cell_type": "markdown",
    "tags": []
   },
   "source": [
    "<div class=\"alert alert-warning\">\n",
    "<b>Practice</b>\n",
    "<ul>\n",
    "    <li>The `abs` function takes one argument (just like `round`)</li>\n",
    "    <li>The `max` function takes one or more arguments (just like `min`)</li>\n",
    "</ul>\n",
    "\n",
    "\n",
    "Try calling `abs` and `max` in the cell below. What does each function do?\n",
    "\n",
    "Also try calling each function *incorrectly*, such as with the wrong number of arguments. What kinds of error messages do you see?\n",
    "</div>"
   ]
  },
  {
   "cell_type": "code",
   "execution_count": null,
   "metadata": {
    "cell_id": "00029-ba5cb6d4-659b-4236-87ba-a1cddd93da6f",
    "deepnote_cell_type": "code",
    "tags": []
   },
   "outputs": [],
   "source": [
    "... # replace the ... with calls to abs and max"
   ]
  },
  {
   "cell_type": "markdown",
   "metadata": {},
   "source": [
    "<hr style=\"border: 2px solid #003262\">\n",
    "<hr style=\"border: 2px solid #C9B676\">"
   ]
  },
  {
   "cell_type": "markdown",
   "metadata": {
    "cell_id": "00009-52f60190-e21f-4107-99a9-d42ab128df40",
    "deepnote_cell_type": "markdown",
    "tags": [
     "ignore"
    ]
   },
   "source": [
    "### Getting Started setting up an Environment\n",
    "\n",
    "Now that we've covered our bases with regards to the platform we'll be working on for this assignment, let's load some **libraries** we need to explore the data we are working with. Python **libraries** are extra packages we can load to help use tools that are not otherwise available. These can include visualization libraries such as `matplotlib` or numerical tools like `numpy`. You can see how we load these libraries below:"
   ]
  },
  {
   "cell_type": "markdown",
   "metadata": {},
   "source": [
    "# Import Stuff\n",
    "\n",
    "Import Libraries and Their Aliases\n",
    "Here we will import many of the industry-standard libraries including NumPy, Pandas, MatPlotLib, and Plotly. Feel free to find these packages on the Python Package Index!\n",
    "\n",
    "For your reference, we'll break down one line of the large cell below. In this line:\n",
    "\n",
    "import pandas as pd\n",
    "We import the pandas library. Essentially, we're telling python that we want to use a specific set of functions that has been named \"pandas\". We then use the as keyword to specify that we want to use some other name to refer to \"pandas\"; in this context we told python we want to call it \"pd\".\n",
    "\n",
    "Lets say we want to use the pandas.notnull() function (this checks if any values in an array or list are None). Because we imported \"pandas\" as \"pd\", we could now call pd.notnull()\n",
    "\n",
    "Note: We name pandas as \"pd\" because it is the standard name in the industry, however we could have said:\n",
    "\n",
    "import pandas as harrystyles\n",
    "Which would've allowed us to run Harry_Styles.notnull(). This would be confusing for a reader, so its considered best practice to use standard names such as \"pd\" for \"pandas\" or \"np\" for \"numpy\".\n",
    "\n",
    "The cell below runs what we just talked about. Feel free to play around and try things out!\n",
    "\n",
    "```python\n",
    "import pandas as pd \n",
    "import pandas as harrystyles\n",
    "print(\"Harry Styles is a Panda?\", harrystyles == pd)\n",
    "truth = [1, 2, 3, None, 4, harrystyles,\n",
    "         \"Harry Styles\", None, None, \n",
    "         5 * 2 - 1 / 1e-20, 1]\n",
    "print(harrystyles.notnull(truth))\n",
    "print(pd.notnull(truth))\n",
    "\n",
    "# these lines delete the two imports we just made\n",
    "del harrystyles\n",
    "del pd\n",
    "```"
   ]
  },
  {
   "cell_type": "code",
   "execution_count": 2,
   "metadata": {
    "cell_id": "00010-be6eaa80-c135-4a5e-b17e-afa03953823b",
    "deepnote_cell_type": "code",
    "tags": [
     "ignore"
    ]
   },
   "outputs": [],
   "source": [
    "from datascience import * # This loads tools from the datascience library\n",
    "import numpy as np # Loads numerical methods\n",
    "import math\n",
    "import random\n",
    "#This is so we can get a clean export PDF to turn in\n",
    "import otter\n",
    "generator = otter.Notebook()"
   ]
  },
  {
   "cell_type": "markdown",
   "metadata": {
    "cell_id": "00030-114d6671-9eff-4835-a25c-11b521f0f643",
    "deepnote_cell_type": "markdown",
    "tags": []
   },
   "source": [
    "#### Dot Notation\n",
    "Python has a lot of [built-in functions](https://docs.python.org/3/library/functions.html) (that is, functions that are already named and defined in Python), but even more functions are stored in collections called *modules*. Earlier, we imported the `math` module so we could use it later. Once a module is imported, you can use its functions by typing the name of the module, then the name of the function you want from it, separated with a `.`."
   ]
  },
  {
   "cell_type": "code",
   "execution_count": null,
   "metadata": {
    "cell_id": "00031-9b6fdd99-2357-45c8-a6b2-ba29f6dfc470",
    "deepnote_cell_type": "code",
    "tags": []
   },
   "outputs": [],
   "source": [
    "# a call expression with the factorial function from the math module\n",
    "math.factorial(5)"
   ]
  },
  {
   "cell_type": "markdown",
   "metadata": {},
   "source": [
    "Many math operations can be applied to lists. Try calling math.sqrt on y which you saved as the list [4, 9, 16].\n",
    "\n",
    "Operations like math.sqrt output a list of the same length as the input. Some reduce a list to a single number: try calling sum() on [4,9,16]."
   ]
  },
  {
   "cell_type": "markdown",
   "metadata": {
    "cell_id": "00032-6d349935-df0f-4c4d-96de-7d0769f50c3f",
    "deepnote_cell_type": "markdown",
    "tags": []
   },
   "source": [
    "<!-- BEGIN QUESTION -->\n",
    "\n",
    "<div class=\"alert alert-info\">\n",
    "<b>Question 1:</b>\n",
    "`math` also has a function called `sqrt` that takes one argument and returns the square root. Call `sqrt` on 16 in the next cell.\n",
    "</div>\n",
    "\n",
    "<!--\n",
    "BEGIN QUESTION\n",
    "name: q1\n",
    "points: 1\n",
    "manual: true\n",
    "-->"
   ]
  },
  {
   "cell_type": "code",
   "execution_count": null,
   "metadata": {
    "cell_id": "00032-5c32dfa7-9a29-4971-8c65-9c69c87abd56",
    "deepnote_cell_type": "code",
    "execution_millis": 0,
    "execution_start": 1605740158098,
    "output_cleared": false,
    "source_hash": "a311e606",
    "tags": []
   },
   "outputs": [],
   "source": [
    "# Replace the ...with the call to use math.sqrt() to get the square root of 16\n",
    "..."
   ]
  },
  {
   "cell_type": "markdown",
   "metadata": {},
   "source": [
    "**Answer here** *Double click to edit this markdown cell with your answer*"
   ]
  },
  {
   "cell_type": "markdown",
   "metadata": {},
   "source": [
    "<!-- END QUESTION -->\n",
    "\n",
    "### Random numbers and sampling\n",
    "Random sampling plays a key role in data science. The random module implements functions for random sampling and random number generation. For example, the cell below generates a random integer between 1 and 50 \n",
    "\n",
    "`random.randint(1,50)`\n",
    "\n",
    "Note that any whole number between 1 and 50 has an equal probability of being selected --- the sampling probabilities are uniform."
   ]
  },
  {
   "cell_type": "markdown",
   "metadata": {
    "cell_id": "00021-9acaedfa-35c8-4480-9195-ff3f525895da",
    "deepnote_cell_type": "markdown",
    "tags": [
     "ignore"
    ]
   },
   "source": [
    "\n",
    "\n",
    "## Tables\n",
    "\n",
    "In most cases, when interacting with data you will be working with **tables**. In this section, we will cover how to examine and manipulate data using Python. \n",
    "\n",
    "**Tables** are the fundamental way we organize and display data. \n",
    "**Run the cell below to load a dataset.** We'll be working with this data in a future notebook."
   ]
  },
  {
   "cell_type": "code",
   "execution_count": null,
   "metadata": {
    "cell_id": "00022-14a2205d-e83b-4c2a-96c2-b7501ff12f0a",
    "deepnote_cell_type": "code",
    "partialCollapse": true,
    "tags": [
     "ignore"
    ]
   },
   "outputs": [],
   "source": [
    "# Below we see an assignment statement.\n",
    "# We are telling the computer to create a Table and read in some data.\n",
    "\n",
    "prisons = Table().read_table(\"./data/monthly_cdcr.csv\")\n",
    "\n",
    "# This next command will display the top 5 entries. You can change the number\n",
    "# to view a different amount of entries at time.\n",
    "prisons.show(5)"
   ]
  },
  {
   "cell_type": "markdown",
   "metadata": {
    "cell_id": "00023-b637dc20-fcb7-42c5-870f-622525214c86",
    "deepnote_cell_type": "markdown",
    "tags": [
     "ignore"
    ]
   },
   "source": [
    "This table is organized into **columns**, one for each category of information collected. You can also think about the table in terms of its rows, where each row represents all the information collected about a particular instance, in this case, different state prisons. By default only the first 10 rows are shown, but as you can see in the code we ran, we changed it to 5.\n",
    "\n",
    "**Table Attributes**\n",
    "\n",
    "Every table has **attributes** that give information about the table, such as the number of rows and the number of columns. Attributes you'll use frequently include `num_rows` and `num_columns`, which give the number of rows and columns in the table, respectively. These are accessed using something called **dot notation** which means we won't be using any parentheses like in our print statement (Hello World!) earlier."
   ]
  },
  {
   "cell_type": "code",
   "execution_count": null,
   "metadata": {
    "cell_id": "00024-091f5f30-458c-4e85-8849-95aa1cad6cef",
    "deepnote_cell_type": "code",
    "tags": [
     "ignore"
    ]
   },
   "outputs": [],
   "source": [
    "# Get the number of columns\n",
    "prisons.num_columns"
   ]
  },
  {
   "cell_type": "code",
   "execution_count": null,
   "metadata": {
    "cell_id": "00025-381b6bb9-ff4a-4e83-8246-2de7e57405e8",
    "deepnote_cell_type": "code",
    "tags": [
     "ignore"
    ]
   },
   "outputs": [],
   "source": [
    "# Get the number of rows\n",
    "prisons.num_rows"
   ]
  },
  {
   "cell_type": "markdown",
   "metadata": {
    "cell_id": "00026-2e8333db-5536-4fdf-baae-ce481cd4cde1",
    "deepnote_cell_type": "markdown",
    "tags": [
     "include"
    ]
   },
   "source": [
    "<!-- BEGIN QUESTION -->\n",
    "\n",
    "<div class=\"alert alert-info\">\n",
    "<b>Question 2:</b>\n",
    "Observe the output of the cell above. How many state prisons are included in our data set?\n",
    "</div>\n",
    "\n",
    "<!--\n",
    "BEGIN QUESTION\n",
    "name: Q2\n",
    "points: 1\n",
    "manual: true\n",
    "-->"
   ]
  },
  {
   "cell_type": "markdown",
   "metadata": {},
   "source": [
    "**Answer here** *Double click to edit this markdown cell with your answer*"
   ]
  },
  {
   "cell_type": "markdown",
   "metadata": {
    "cell_id": "00028-e7bb87b6-8935-4c5b-a6bf-9a27a890b69b",
    "deepnote_cell_type": "markdown",
    "tags": [
     "ignore"
    ]
   },
   "source": [
    "<!-- END QUESTION -->\n",
    "\n",
    "In other situations, we will want to sort, filter, or group our data. In order to manipulate our data stored in a table, we will be using various table functions. These will be explained as we go through them as to not overwhelm you!\n",
    "\n",
    "#### Note on Tables\n",
    "\n",
    "In this notebook, we worked with the [datascience](http://data8.org/datascience/) library to work with tables (which is also used in Data-8). In future courses (such as Data-100) and in industry, you'll most likely use [pandas](https://pandas.pydata.org/) to manipulate tabular data. Using the datascience library is more friendly syntax-wise, but pandas is more powerful overall. In this course, we'll use both.\n",
    "\n",
    "-----\n",
    "\n",
    "Now that you have a basic grasp on Python and the kinds of information we'll be working with, we can move on to where our data came from and how to interact with it.\n",
    "\n",
    "Congrats on finishing the Jupyter Notebook and Python overview!"
   ]
  },
  {
   "cell_type": "markdown",
   "metadata": {
    "cell_id": "00033-cdd8d4fd-d181-4b60-84c6-53fce944a344",
    "deepnote_cell_type": "markdown"
   },
   "source": [
    "------\n",
    "\n",
    "## Notebooks in Practice\n",
    "\n",
    "With proprietary software like Mathematica, users are supposed to trust the results returned and are unable to check the code. In contrast, Jupyter fosters transparency and hence encourages reproducibility, which refers to the ability to reproduce the results of a scientific study. Not only is the code behind the software available for anyone to inspect or tinker with, but code in the notebooks can also be examined or re-run to reproduce the results. Theodore Gray, the co-founder of Wolfram Research who was also involved in creating the Mathematica interface, said about Jupyter, \"I think what they have is acceptance from the scientific community as a tool that is considered to be universal.\" In other words, Jupyter Notebooks support the computational work of researchers from different fields, from astronomy to psychology to literature, and therefore enable new ways for researchers in very different domains to share research tools, methods, and learn from one another.\n",
    "\n",
    "The versatility of the  Notebook also has important consequences for data science and the workflows that are involved when working with data in settings other than research, such as for education and community science projects. The process of working with data can be messy and nonlinear, which a Jupyter notebook can handle well because of its flexibility (though this messiness is often reflected in the resulting notebook!). The power of the notebook lies in its ability to include a variety of media with the computation as a means to maintain accountability, integrity, and transparency for both the author of the notebook and the audiences that you share your work with. In a  world in which algorithms and data analysis inform many aspects of life and where computation is getting more and more abstract, the ability to understand and reason about computational work is more important than ever."
   ]
  },
  {
   "cell_type": "markdown",
   "metadata": {},
   "source": [
    "<!-- BEGIN QUESTION -->\n",
    "\n",
    "<div class=\"alert alert-block alert-info\">\n",
    "<b>Question 3:</b> As we mentioned above, notebooks are used to make programming easier to read by interleaving code with text and other media types. Just as literature allows for creativity and supports multiple interpretations, we can treat notebooks as a medium that lets us tell complex stories that incorporate programming. What does that imply about notebooks as a medium and us as readers? Can you think of ways to incorporate them into justice projects?\n",
    "</div>\n",
    "\n",
    "\n",
    "<!--\n",
    "BEGIN QUESTION\n",
    "name: q3\n",
    "points: 1\n",
    "manual: true\n",
    "-->\n"
   ]
  },
  {
   "cell_type": "markdown",
   "metadata": {},
   "source": [
    "**Answer here** *Double click to edit this markdown cell with your answer*"
   ]
  },
  {
   "cell_type": "markdown",
   "metadata": {},
   "source": [
    "<!-- END QUESTION -->\n",
    "\n",
    "<!-- BEGIN QUESTION -->\n",
    "\n",
    "<div class=\"alert alert-block alert-info\">\n",
    "<b>Labor Question:</b> How much time did you spend completing this module? Did you find outside resources that helped you? if so what were they?\n",
    "</div>\n",
    "\n",
    "\n",
    "<!--\n",
    "BEGIN QUESTION\n",
    "name: q4\n",
    "points: 1\n",
    "manual: true\n",
    "-->\n"
   ]
  },
  {
   "cell_type": "markdown",
   "metadata": {},
   "source": [
    "**Answer here** *Double click to edit this markdown cell with your answer*"
   ]
  },
  {
   "cell_type": "markdown",
   "metadata": {},
   "source": [
    "<!-- END QUESTION -->\n",
    "\n",
    "#### Feedback Survey\n",
    "Please consider filling out this [survey](https://docs.google.com/forms/d/e/1FAIpQLScd1q8VqvOMuVvLfhbVswckYKg1HFVwVu_bTF5NWbVZr4qWhw/viewform?usp=sf_link) to help us improve this module.\n",
    "\n"
   ]
  },
  {
   "cell_type": "code",
   "execution_count": null,
   "metadata": {},
   "outputs": [],
   "source": [
    "# Save your notebook first, then run this cell to export your submission.\n",
    "# Download the zip file, which contains a copy of your notebook and your written responses.\n",
    "generator.export(\"notebook1.ipynb\")"
   ]
  }
 ],
 "metadata": {
  "deepnote_execution_queue": [],
  "deepnote_notebook_id": "693e9760-244f-475b-aa3d-f49b62665db0",
  "kernelspec": {
   "display_name": "Python 3 (ipykernel)",
   "language": "python",
   "name": "python3"
  },
  "language_info": {
   "codemirror_mode": {
    "name": "ipython",
    "version": 3
   },
   "file_extension": ".py",
   "mimetype": "text/x-python",
   "name": "python",
   "nbconvert_exporter": "python",
   "pygments_lexer": "ipython3",
   "version": "3.10.1"
  },
  "widgets": {
   "application/vnd.jupyter.widget-state+json": {
    "state": {},
    "version_major": 2,
    "version_minor": 0
   }
  }
 },
 "nbformat": 4,
 "nbformat_minor": 4
}
