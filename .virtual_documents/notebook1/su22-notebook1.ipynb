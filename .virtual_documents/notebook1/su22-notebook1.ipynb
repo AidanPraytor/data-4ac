print("Hello World!") # Run the cell by using one of the methods we mentioned above!


1 + 3


1 + 3 - 4 + 5


1 + 10 / 2 + 7


3 * 4


5 ** 2


2 ** 3


4 ** .5


6 + 4 * 2 - 15


(6 + 4) * 2 - 15


5 * 10 / 10


2 - 100 * -2


"This is a string"


'This is too'


"eVeNtHiSiSaStRiNg"


'Ha' * 10


"Ha" + " " + "Ha" + "     " + "Ha"


print('This line is missing something.' #we are missing a closing parentheses here!


x = 1 + 2 + 3 + 4 


x #just run this cell


y = (x + 3 + x + 2) * 4
y


days = 365 #the days in a year
hours = 24 #the hours in a day
minutes = 60 #the minutes in an hour
seconds = 60 #the seconds in a minute
seconds_per_year = days * hours * minutes * seconds #the seconds in one year
seconds_per_year


print("Seconds in half a year:", seconds_per_year / 2)
print("Seconds in seven years:", seconds_per_year * 7)
print("Seconds in two hundred and thirty-four years:", seconds_per_year * 243)
print("Seconds in 3.1415 years:", seconds_per_year * 3.1415)


m = 1 #the slope
b = 5 #the intercept
x = 4 # try changing this value to see how the output changes!
y = m * x + b
print(f"On the line y = {m}x + {b}, at x = {x}, y is equal to {y}")


y = [4,9,16]


running_totals = [1]
running_totals = running_totals + [sum(running_totals)]
running_totals = running_totals + [sum(running_totals)]
running_totals = running_totals + [sum(running_totals)]
running_totals = running_totals + [sum(running_totals)]
running_totals = running_totals + [sum(running_totals)]
running_totals = running_totals + [sum(running_totals)]
running_totals


running_totals = [1]
for _ in range(6): #do the intented action 6 times
    running_totals = running_totals + [sum(running_totals)]
running_totals


round # a built-in function 


get_ipython().run_line_magic('pinfo',  'round')


round(1988.74699) # a call expression using round


min(9, -34, 0, 99)


def seconds(x):
    """Returns the number of seconds in `x` years"""
    days = 365
    hours = 24
    minutes = 60
    seconds = 60
    per_year = days * hours * minutes * seconds
    return per_year * x


seconds


get_ipython().run_line_magic('pinfo',  'seconds')


print("Seconds in one year:", seconds(1))
print("Seconds in 57 years:", seconds(57))
print("Seconds in 6.022 years:", round(seconds(6.022)))
print("Seconds since Berkeley was founded (the year 1868):", seconds(2022-1868))


... # replace the ... with calls to abs and max


from datascience import * # This loads tools from the datascience library
import numpy as np # Loads numerical methods
import math, random #Loads math and random functions

import otter #This is so we can get a clean export PDF to turn in
generator = otter.Notebook()


import numpy as harrystyles
print("Harry Styles is NumPy?", harrystyles == np)
numbers = [1, 2, 3, 4, 5, 6, 7, 8]
print(f"Harry Styles' mean of {numbers}:", harrystyles.mean(numbers))
print(f"NumPy's mean of {numbers}:", np.mean(numbers))

# this line delete the silly import of `harrystyles` that we just made
del harrystyles


math.factorial(5) # a call expression with the factorial function from the math module


... # Replace the ...with the call to use math.sqrt() to get the square root of 16


random.randint(1,50)


prisions = Table.read_table("data/monthly_cdcr.csv") #Here we see an assignment statement
prisions


prisons.num_columns # Get the number of columns


prisons.num_rows # Get the number of rows


# Save your notebook first, then run this cell to export your submission.
# Download the zip file, which contains a copy of your notebook and your written responses.
generator.export("notebook1.ipynb")
